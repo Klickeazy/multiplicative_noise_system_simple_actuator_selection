{
 "cells": [
  {
   "cell_type": "markdown",
   "id": "b8884add-8cba-4cce-9ef8-fefe3ca7a214",
   "metadata": {},
   "source": [
    "# Model and Code Test"
   ]
  },
  {
   "cell_type": "markdown",
   "id": "2dff0363-bc0c-46f4-986d-bbad17d8ae3c",
   "metadata": {
    "tags": []
   },
   "source": [
    "##### Py Packages"
   ]
  },
  {
   "cell_type": "code",
   "execution_count": null,
   "id": "f0b0ea71-696b-4c8d-bca0-a0f807e1b042",
   "metadata": {
    "tags": []
   },
   "outputs": [],
   "source": [
    "import numpy as np\n",
    "from copy import deepcopy as dc\n",
    "\n",
    "from functionfile_system_definition import sys_from_file\n",
    "from functionfile_system_mplcost import cost_function_1, initial_values_init, actuator_selection_cost_1"
   ]
  },
  {
   "cell_type": "markdown",
   "id": "aca5dae9-3d07-4198-8be4-325e37b7b836",
   "metadata": {},
   "source": [
    "## Code"
   ]
  },
  {
   "cell_type": "code",
   "execution_count": null,
   "id": "ee35a5f9-1ccb-47cd-ae2e-0d6dd03db657",
   "metadata": {},
   "outputs": [],
   "source": [
    "sys_model = 'System Model 1'\n",
    "S = sys_from_file(sys_model)"
   ]
  },
  {
   "cell_type": "code",
   "execution_count": null,
   "id": "f8d2ef1f-1bcc-4abb-b7d3-1220c842e734",
   "metadata": {},
   "outputs": [],
   "source": [
    "ret1 = cost_function_1(S)\n",
    "print(ret1)"
   ]
  },
  {
   "cell_type": "code",
   "execution_count": null,
   "id": "145957cf-5171-40a8-af01-3570ba0e4025",
   "metadata": {},
   "outputs": [],
   "source": [
    "# ret2 = actuator_selection_cost_1"
   ]
  }
 ],
 "metadata": {
  "kernelspec": {
   "display_name": "Python 3",
   "language": "python",
   "name": "python3"
  },
  "language_info": {
   "codemirror_mode": {
    "name": "ipython",
    "version": 3
   },
   "file_extension": ".py",
   "mimetype": "text/x-python",
   "name": "python",
   "nbconvert_exporter": "python",
   "pygments_lexer": "ipython3",
   "version": "3.9.6"
  }
 },
 "nbformat": 4,
 "nbformat_minor": 5
}
