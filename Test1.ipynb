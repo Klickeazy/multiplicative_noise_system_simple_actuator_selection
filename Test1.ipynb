{
 "cells": [
  {
   "cell_type": "markdown",
   "id": "b8884add-8cba-4cce-9ef8-fefe3ca7a214",
   "metadata": {},
   "source": [
    "# Model and Code Test"
   ]
  },
  {
   "cell_type": "code",
   "execution_count": 1,
   "id": "f0b0ea71-696b-4c8d-bca0-a0f807e1b042",
   "metadata": {},
   "outputs": [],
   "source": [
    "import numpy as np\n",
    "from copy import deepcopy as dc\n",
    "\n",
    "from functionfile_system_definition import sys_from_file\n",
    "from functionfile_system_mplcost import cost_function_1, initial_values_init, actuator_selection_cost_1"
   ]
  },
  {
   "cell_type": "code",
   "execution_count": 2,
   "id": "ee35a5f9-1ccb-47cd-ae2e-0d6dd03db657",
   "metadata": {},
   "outputs": [
    {
     "name": "stdout",
     "output_type": "stream",
     "text": [
      "System read from file @ system_model/System Model 1.pickle\n"
     ]
    }
   ],
   "source": [
    "sys_model = 'System Model 1'\n",
    "S = sys_from_file(sys_model)"
   ]
  },
  {
   "cell_type": "code",
   "execution_count": 3,
   "id": "f8d2ef1f-1bcc-4abb-b7d3-1220c842e734",
   "metadata": {},
   "outputs": [
    {
     "name": "stdout",
     "output_type": "stream",
     "text": [
      "{'P_mat': array([[ 1.89145585e+00,  6.46607499e-01,  3.21108199e-01,\n",
      "         2.91158733e-02, -1.47600824e-02, -2.22101461e-02,\n",
      "         4.13840420e-04,  4.57544369e-02,  3.29314782e-01,\n",
      "         6.48400935e-01],\n",
      "       [ 6.46607499e-01,  1.63212563e+00,  3.75331262e-01,\n",
      "         1.26265152e-01,  2.91158733e-02,  5.27803344e-03,\n",
      "         1.16335795e-03,  2.25625605e-02,  1.35420611e-01,\n",
      "         4.12505477e-01],\n",
      "       [ 3.21108199e-01,  3.75331262e-01,  1.49739936e+00,\n",
      "         3.75331262e-01,  3.21108199e-01,  1.28276020e-01,\n",
      "         5.34749184e-02,  1.39231904e-02,  5.34749184e-02,\n",
      "         1.28276020e-01],\n",
      "       [ 2.91158733e-02,  1.26265152e-01,  3.75331262e-01,\n",
      "         1.63212563e+00,  6.46607499e-01,  4.12505477e-01,\n",
      "         1.35420611e-01,  2.25625605e-02,  1.16335795e-03,\n",
      "         5.27803344e-03],\n",
      "       [-1.47600824e-02,  2.91158733e-02,  3.21108199e-01,\n",
      "         6.46607499e-01,  1.89145585e+00,  6.48400935e-01,\n",
      "         3.29314782e-01,  4.57544369e-02,  4.13840420e-04,\n",
      "        -2.22101461e-02],\n",
      "       [-2.22101461e-02,  5.27803344e-03,  1.28276020e-01,\n",
      "         4.12505477e-01,  6.48400935e-01,  1.63363066e+00,\n",
      "         3.74879262e-01,  1.20030466e-01,  1.56183665e-02,\n",
      "        -1.69547643e-02],\n",
      "       [ 4.13840420e-04,  1.16335795e-03,  5.34749184e-02,\n",
      "         1.35420611e-01,  3.29314782e-01,  3.74879262e-01,\n",
      "         1.45538380e+00,  2.69112023e-01,  1.80930254e-01,\n",
      "         1.56183665e-02],\n",
      "       [ 4.57544369e-02,  2.25625605e-02,  1.39231904e-02,\n",
      "         2.25625605e-02,  4.57544369e-02,  1.20030466e-01,\n",
      "         2.69112023e-01,  1.32424730e+00,  2.69112023e-01,\n",
      "         1.20030466e-01],\n",
      "       [ 3.29314782e-01,  1.35420611e-01,  5.34749184e-02,\n",
      "         1.16335795e-03,  4.13840420e-04,  1.56183665e-02,\n",
      "         1.80930254e-01,  2.69112023e-01,  1.45538380e+00,\n",
      "         3.74879262e-01],\n",
      "       [ 6.48400935e-01,  4.12505477e-01,  1.28276020e-01,\n",
      "         5.27803344e-03, -2.22101461e-02, -1.69547643e-02,\n",
      "         1.56183665e-02,  1.20030466e-01,  3.74879262e-01,\n",
      "         1.63363066e+00]]), 'J': 16.046838525404517, 't': 33, 'P_check': 0}\n"
     ]
    }
   ],
   "source": [
    "ret1 = cost_function_1(S)\n",
    "print(ret1)"
   ]
  },
  {
   "cell_type": "code",
   "execution_count": null,
   "id": "145957cf-5171-40a8-af01-3570ba0e4025",
   "metadata": {},
   "outputs": [],
   "source": [
    "ret2 = actuator_selection_cost_1"
   ]
  }
 ],
 "metadata": {
  "kernelspec": {
   "display_name": "Python 3",
   "language": "python",
   "name": "python3"
  },
  "language_info": {
   "codemirror_mode": {
    "name": "ipython",
    "version": 3
   },
   "file_extension": ".py",
   "mimetype": "text/x-python",
   "name": "python",
   "nbconvert_exporter": "python",
   "pygments_lexer": "ipython3",
   "version": "3.9.6"
  }
 },
 "nbformat": 4,
 "nbformat_minor": 5
}
