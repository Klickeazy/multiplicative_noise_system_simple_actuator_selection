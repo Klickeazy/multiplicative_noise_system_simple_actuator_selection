{
 "cells": [
  {
   "cell_type": "markdown",
   "id": "d15c0028-0931-4a86-98dc-fa140cd2f192",
   "metadata": {},
   "source": [
    "# Benefit of Multiplicative Models of Systems\n",
    "\n",
    "Testing actuator selection and feedback of MPL models on simulations of True system\n",
    "- Comparison to Nominal Model\n",
    "- Comparison of MPL models"
   ]
  },
  {
   "cell_type": "markdown",
   "id": "1d8fa32e-f769-4877-8c78-a500b0824240",
   "metadata": {
    "tags": []
   },
   "source": [
    "##### Py Packages"
   ]
  },
  {
   "cell_type": "code",
   "execution_count": 1,
   "id": "3f7cda21-fb90-4786-a674-eb1f07ad7870",
   "metadata": {
    "tags": []
   },
   "outputs": [],
   "source": [
    "import numpy as np\n",
    "from copy import deepcopy as dc\n",
    "# %matplotlib widget\n",
    "\n",
    "from functionfile_system_definition import sys_from_file, system_display_matrix\n",
    "from functionfile_system_mplcost import simulation_model_comparison, plot_simulation_comparison1, plot_simulation_comparison2, actuator_comparison, cost_comparison_print"
   ]
  },
  {
   "cell_type": "markdown",
   "id": "12c8fd3e-bcea-4fdc-ae00-4fee714c2f21",
   "metadata": {
    "tags": []
   },
   "source": [
    "## Code"
   ]
  },
  {
   "cell_type": "code",
   "execution_count": 2,
   "id": "ef074208-1882-4702-b019-2c94f78c5899",
   "metadata": {
    "tags": []
   },
   "outputs": [
    {
     "name": "stdout",
     "output_type": "stream",
     "text": [
      "System read from file @ system_model/System Model 7 C.pickle \n",
      "\n",
      "System read from file @ system_model/System Model 7 B.pickle \n",
      "\n",
      "System read from file @ system_model/System Model 7 A.pickle \n",
      "\n"
     ]
    }
   ],
   "source": [
    "test_set = 'System Model 7'\n",
    "S_True = sys_from_file(test_set + ' C')\n",
    "S_MPL = sys_from_file(test_set + ' B')\n",
    "S_Nom = sys_from_file(test_set + ' A')"
   ]
  },
  {
   "cell_type": "code",
   "execution_count": 3,
   "id": "4bca6910-9d66-48ca-a466-a1e0780315e1",
   "metadata": {
    "tags": []
   },
   "outputs": [
    {
     "name": "stdout",
     "output_type": "stream",
     "text": [
      "====> Breaking current simulation at t= 32 as cumulative cost magnitude exceed 1e+08\n",
      "====> Breaking current simulation at t= 56 as cumulative cost magnitude exceed 1e+08\n",
      "====> Breaking current simulation at t= 88 as cumulative cost magnitude exceed 1e+08\n",
      "====> Breaking current simulation at t= 145 as cumulative cost magnitude exceed 1e+08\n",
      "====> Breaking current simulation at t= 43 as cumulative cost magnitude exceed 1e+08\n"
     ]
    }
   ],
   "source": [
    "ret_sim = simulation_model_comparison(S_Nom, S_MPL, S_True)"
   ]
  },
  {
   "cell_type": "markdown",
   "id": "63555e58-9444-4628-92b6-473c25d46c0b",
   "metadata": {
    "tags": []
   },
   "source": [
    "## Output"
   ]
  },
  {
   "cell_type": "markdown",
   "id": "71de3af0-3dc3-44b5-ab11-c2e70e23d954",
   "metadata": {
    "tags": []
   },
   "source": [
    "#### System Models"
   ]
  },
  {
   "cell_type": "markdown",
   "id": "66b25313-55d6-468d-a12f-eb9681919d41",
   "metadata": {},
   "source": [
    "##### System C - True System"
   ]
  },
  {
   "cell_type": "code",
   "execution_count": 4,
   "id": "61d0f1ea-a13e-4da1-ac02-4da3b60c9b20",
   "metadata": {
    "jupyter": {
     "source_hidden": true
    },
    "tags": []
   },
   "outputs": [
    {
     "name": "stdout",
     "output_type": "stream",
     "text": [
      "max(abs(eigvals(A)))= 0.8000\n"
     ]
    },
    {
     "data": {
      "image/png": "[encoded data removed]",
      "text/plain": [
       "<Figure size 432x288 with 9 Axes>"
      ]
     },
     "metadata": {
      "needs_background": "light"
     },
     "output_type": "display_data"
    }
   ],
   "source": [
    "print('max(abs(eigvals(A)))= %.4f' % (np.max(np.abs(np.linalg.eigvals(S_True['A'])))))\n",
    "system_display_matrix(S_True)"
   ]
  },
  {
   "cell_type": "markdown",
   "id": "1bfd5b9b-d72d-42df-b275-e7abd45b56fa",
   "metadata": {},
   "source": [
    "##### System A"
   ]
  },
  {
   "cell_type": "code",
   "execution_count": 5,
   "id": "92cf2e95-5607-4fa5-863a-5ebc1f12a4fa",
   "metadata": {
    "jupyter": {
     "source_hidden": true
    },
    "tags": []
   },
   "outputs": [
    {
     "name": "stdout",
     "output_type": "stream",
     "text": [
      "max(abs(eigvals(A)))= 0.8000\n"
     ]
    },
    {
     "data": {
      "image/png": "[encoded data removed]",
      "text/plain": [
       "<Figure size 432x288 with 8 Axes>"
      ]
     },
     "metadata": {
      "needs_background": "light"
     },
     "output_type": "display_data"
    }
   ],
   "source": [
    "print('max(abs(eigvals(A)))= %.4f' % (np.max(np.abs(np.linalg.eigvals(ret_sim['system_A']['A'])))))\n",
    "system_display_matrix(ret_sim['system_A'])"
   ]
  },
  {
   "cell_type": "markdown",
   "id": "c71a5d78-44fb-4b98-8adc-3bd3e9ba5da6",
   "metadata": {},
   "source": [
    "##### System B"
   ]
  },
  {
   "cell_type": "code",
   "execution_count": null,
   "id": "4d1a6987-7a85-4ca0-9857-18a40a9f1c99",
   "metadata": {
    "jupyter": {
     "source_hidden": true
    },
    "tags": []
   },
   "outputs": [
    {
     "name": "stdout",
     "output_type": "stream",
     "text": [
      "max(abs(eigvals(A)))= 0.8000\n"
     ]
    }
   ],
   "source": [
    "print('max(abs(eigvals(A)))= %.4f' % (np.max(np.abs(np.linalg.eigvals(ret_sim['system_B']['A'])))))\n",
    "system_display_matrix(ret_sim['system_B'])"
   ]
  },
  {
   "cell_type": "markdown",
   "id": "dc54e575-6072-4d6b-beee-32dfd23bddd8",
   "metadata": {},
   "source": [
    "#### Simulation - Trajectory, Control Input and Costs"
   ]
  },
  {
   "cell_type": "code",
   "execution_count": null,
   "id": "ad5cc482-d5f5-4d71-9bbe-3482fe5629f6",
   "metadata": {
    "jupyter": {
     "source_hidden": true
    },
    "tags": []
   },
   "outputs": [],
   "source": [
    "plot_simulation_comparison1(ret_sim)"
   ]
  },
  {
   "cell_type": "markdown",
   "id": "14f6a4cb-e89a-435d-8189-f3e1c7e10895",
   "metadata": {},
   "source": [
    "#### Actuator set comparison"
   ]
  },
  {
   "cell_type": "code",
   "execution_count": null,
   "id": "d80ad9c5-be24-4bdd-9ca7-57ee3517b9c1",
   "metadata": {
    "jupyter": {
     "source_hidden": true
    },
    "tags": []
   },
   "outputs": [],
   "source": [
    "actuator_comparison(ret_sim['system_B'], ret_sim['system_A'], disptext=True, figplt=True);"
   ]
  },
  {
   "cell_type": "markdown",
   "id": "d67e8565-745b-4fce-b61e-ad842a65983a",
   "metadata": {
    "tags": []
   },
   "source": [
    "#### Simulated costs"
   ]
  },
  {
   "cell_type": "code",
   "execution_count": null,
   "id": "992563af-292a-4b5d-9d0c-1e0cf3d9756b",
   "metadata": {
    "jupyter": {
     "source_hidden": true
    },
    "tags": []
   },
   "outputs": [],
   "source": [
    "cost_comparison_print(ret_sim)"
   ]
  },
  {
   "cell_type": "code",
   "execution_count": null,
   "id": "7b821fa4-d7b6-4435-9bee-fbebad72f7e8",
   "metadata": {
    "jupyter": {
     "source_hidden": true
    },
    "tags": []
   },
   "outputs": [],
   "source": [
    "plot_simulation_comparison2(ret_sim)"
   ]
  },
  {
   "cell_type": "markdown",
   "id": "d422ae8f-819e-4b79-9a7b-655dbc346bbc",
   "metadata": {},
   "source": [
    "## Run Complete"
   ]
  },
  {
   "cell_type": "code",
   "execution_count": null,
   "id": "969467ff-85a3-4c48-9b93-d7d27621d54d",
   "metadata": {
    "jupyter": {
     "source_hidden": true
    },
    "tags": []
   },
   "outputs": [],
   "source": [
    "print('Run Complete')"
   ]
  }
 ],
 "metadata": {
  "kernelspec": {
   "display_name": "Python 3 (ipykernel)",
   "language": "python",
   "name": "python3"
  },
  "language_info": {
   "codemirror_mode": {
    "name": "ipython",
    "version": 3
   },
   "file_extension": ".py",
   "mimetype": "text/x-python",
   "name": "python",
   "nbconvert_exporter": "python",
   "pygments_lexer": "ipython3",
   "version": "3.9.6"
  }
 },
 "nbformat": 4,
 "nbformat_minor": 5
}
