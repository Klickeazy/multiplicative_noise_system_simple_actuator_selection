{
 "cells": [
  {
   "cell_type": "markdown",
   "id": "3db21af8-9605-4332-8bfb-6ca59fc60486",
   "metadata": {},
   "source": [
    "# Comparison of control gain 'K' for different state-mpl for same actuator set 'B'"
   ]
  },
  {
   "cell_type": "markdown",
   "id": "5901b7f1-b3bf-418e-8efc-4f1f85d448e3",
   "metadata": {
    "tags": []
   },
   "source": [
    "##### Py Packages"
   ]
  },
  {
   "cell_type": "code",
   "execution_count": 1,
   "id": "daa81f34-6526-47f0-811d-2050ca92aa9e",
   "metadata": {},
   "outputs": [],
   "source": [
    "import numpy as np\n",
    "from copy import deepcopy as dc\n",
    "\n",
    "from functionfile_system_definition import sys_from_file, system_display_matrix\n",
    "from functionfile_system_mplcost import cost_function_1, initial_values_init, actuator_selection_cost_1, plot_actuator_selection_1, simulation_actuator_selection, plot_simulation"
   ]
  },
  {
   "cell_type": "markdown",
   "id": "120532c4-8662-489f-bdab-cc0d035dd6ea",
   "metadata": {
    "tags": []
   },
   "source": [
    "## Code"
   ]
  },
  {
   "cell_type": "code",
   "execution_count": 2,
   "id": "5073df09-5fe8-4fee-a754-4b2605c22d97",
   "metadata": {},
   "outputs": [],
   "source": [
    "sys_model = 'System Model 2' # Comparing A and B"
   ]
  },
  {
   "cell_type": "markdown",
   "id": "c674a362-6bae-4dde-8b99-91685ad35515",
   "metadata": {
    "tags": []
   },
   "source": [
    "### Model A"
   ]
  },
  {
   "cell_type": "markdown",
   "id": "34ab160a-0dac-4044-a37d-3ffbf7c83061",
   "metadata": {
    "tags": []
   },
   "source": [
    "##### Code"
   ]
  },
  {
   "cell_type": "code",
   "execution_count": 3,
   "id": "69d1c7ff-e9cd-4d91-8909-7d81c9185fa3",
   "metadata": {
    "tags": []
   },
   "outputs": [
    {
     "name": "stdout",
     "output_type": "stream",
     "text": [
      "System read from file @ system_model/System Model 2A.pickle \n",
      "\n",
      "Generating random sample of initial state from given distribution for simulation\n"
     ]
    }
   ],
   "source": [
    "S_A = sys_from_file(sys_model+'A')\n",
    "initial_values = initial_values_init(S_A)"
   ]
  },
  {
   "cell_type": "code",
   "execution_count": 4,
   "id": "b8e6aaf1-8dab-4317-8ad3-c45adb2ab48c",
   "metadata": {},
   "outputs": [],
   "source": [
    "ret1_A = cost_function_1(S_A, initial_values)"
   ]
  },
  {
   "cell_type": "markdown",
   "id": "d475b728-d18c-4834-a206-9e276b86d9ae",
   "metadata": {
    "tags": []
   },
   "source": [
    "##### Output"
   ]
  },
  {
   "cell_type": "code",
   "execution_count": 5,
   "id": "f87e640c-2e89-4e18-9df0-1b29d06c86c4",
   "metadata": {},
   "outputs": [
    {
     "data": {
      "image/png": "[encoded data removed]",
      "text/plain": [
       "<Figure size 640x480 with 9 Axes>"
      ]
     },
     "metadata": {},
     "output_type": "display_data"
    },
    {
     "name": "stdout",
     "output_type": "stream",
     "text": [
      "\n",
      " P_mat:\n",
      " [[7.53088277 6.33442032 6.03062006 5.7268198  5.65256585 5.7268198\n",
      "  6.03062006 6.33442032]\n",
      " [6.33442032 7.53088277 6.33442032 6.03062006 5.7268198  5.65256585\n",
      "  5.7268198  6.03062006]\n",
      " [6.03062006 6.33442032 7.53088277 6.33442032 6.03062006 5.7268198\n",
      "  5.65256585 5.7268198 ]\n",
      " [5.7268198  6.03062006 6.33442032 7.53088277 6.33442032 6.03062006\n",
      "  5.7268198  5.65256585]\n",
      " [5.65256585 5.7268198  6.03062006 6.33442032 7.53088277 6.33442032\n",
      "  6.03062006 5.7268198 ]\n",
      " [5.7268198  5.65256585 5.7268198  6.03062006 6.33442032 7.53088277\n",
      "  6.33442032 6.03062006]\n",
      " [6.03062006 5.7268198  5.65256585 5.7268198  6.03062006 6.33442032\n",
      "  7.53088277 6.33442032]\n",
      " [6.33442032 6.03062006 5.7268198  5.65256585 5.7268198  6.03062006\n",
      "  6.33442032 7.53088277]]\n",
      "\n",
      " Gain K:\n",
      " [[0. 0. 0. 0. 0. 0. 0. 0.]\n",
      " [0. 0. 0. 0. 0. 0. 0. 0.]\n",
      " [0. 0. 0. 0. 0. 0. 0. 0.]\n",
      " [0. 0. 0. 0. 0. 0. 0. 0.]\n",
      " [0. 0. 0. 0. 0. 0. 0. 0.]\n",
      " [0. 0. 0. 0. 0. 0. 0. 0.]\n",
      " [0. 0. 0. 0. 0. 0. 0. 0.]\n",
      " [0. 0. 0. 0. 0. 0. 0. 0.]]\n"
     ]
    }
   ],
   "source": [
    "system_display_matrix(S_A)\n",
    "print('\\n P_mat:\\n', ret1_A['P_mat'])\n",
    "print('\\n Gain K:\\n', ret1_A['K'])"
   ]
  },
  {
   "cell_type": "markdown",
   "id": "a60f6594-adb5-4353-95d5-61a5598b4069",
   "metadata": {
    "tags": []
   },
   "source": [
    "### Model B"
   ]
  },
  {
   "cell_type": "markdown",
   "id": "c22fb428-ebe6-415c-a3ac-ea33fa4d3035",
   "metadata": {
    "jp-MarkdownHeadingCollapsed": true,
    "tags": []
   },
   "source": [
    "##### Code"
   ]
  },
  {
   "cell_type": "code",
   "execution_count": 6,
   "id": "95d130d0-0d9e-44cf-9a35-a721992b48c6",
   "metadata": {
    "tags": []
   },
   "outputs": [
    {
     "name": "stdout",
     "output_type": "stream",
     "text": [
      "System read from file @ system_model/System Model 2B.pickle \n",
      "\n",
      "Generating random sample of initial state from given distribution for simulation\n"
     ]
    }
   ],
   "source": [
    "S_B = sys_from_file(sys_model+'B')\n",
    "initial_values = initial_values_init(S_B)"
   ]
  },
  {
   "cell_type": "code",
   "execution_count": 7,
   "id": "7907fc1f-88d1-4cec-923c-6224cd7a999f",
   "metadata": {},
   "outputs": [],
   "source": [
    "ret1_B = cost_function_1(S_B, initial_values)"
   ]
  },
  {
   "cell_type": "markdown",
   "id": "dd1b4557-3a96-4e49-9b9a-ccf8004b1c71",
   "metadata": {},
   "source": [
    "##### Output"
   ]
  },
  {
   "cell_type": "code",
   "execution_count": 8,
   "id": "97ce40c2-fc59-4c73-b034-5238e26658b8",
   "metadata": {},
   "outputs": [
    {
     "data": {
      "image/png": "[encoded data removed]",
      "text/plain": [
       "<Figure size 640x480 with 9 Axes>"
      ]
     },
     "metadata": {},
     "output_type": "display_data"
    },
    {
     "name": "stdout",
     "output_type": "stream",
     "text": [
      "\n",
      " P_mat:\n",
      " [[ 2.77039958  2.95960897  3.52001114  3.58353899  3.36953613  2.83568277\n",
      "   2.04764775  1.07244122]\n",
      " [ 2.95960897  6.29041072  6.54314796  6.88954727  6.41922176  5.41718388\n",
      "   3.90812399  2.04764775]\n",
      " [ 3.52001114  6.54314796  9.65994685  9.37883073  8.93719502  7.49166298\n",
      "   5.41718388  2.83568277]\n",
      " [ 3.58353899  6.88954727  9.37883073 11.7075946  10.45127195  8.93719502\n",
      "   6.41922176  3.36953613]\n",
      " [ 3.36953613  6.41922176  8.93719502 10.45127195 11.7075946   9.37883073\n",
      "   6.88954727  3.58353899]\n",
      " [ 2.83568277  5.41718388  7.49166298  8.93719502  9.37883073  9.65994685\n",
      "   6.54314796  3.52001114]\n",
      " [ 2.04764775  3.90812399  5.41718388  6.41922176  6.88954727  6.54314796\n",
      "   6.29041072  2.95960897]\n",
      " [ 1.07244122  2.04764775  2.83568277  3.36953613  3.58353899  3.52001114\n",
      "   2.95960897  2.77039958]]\n",
      "\n",
      " Gain K:\n",
      " [[0. 0. 0. 0. 0. 0. 0. 0.]\n",
      " [0. 0. 0. 0. 0. 0. 0. 0.]\n",
      " [0. 0. 0. 0. 0. 0. 0. 0.]\n",
      " [0. 0. 0. 0. 0. 0. 0. 0.]\n",
      " [0. 0. 0. 0. 0. 0. 0. 0.]\n",
      " [0. 0. 0. 0. 0. 0. 0. 0.]\n",
      " [0. 0. 0. 0. 0. 0. 0. 0.]\n",
      " [0. 0. 0. 0. 0. 0. 0. 0.]]\n"
     ]
    }
   ],
   "source": [
    "system_display_matrix(S_B)\n",
    "print('\\n P_mat:\\n', ret1_B['P_mat'])\n",
    "print('\\n Gain K:\\n', ret1_B['K'])"
   ]
  },
  {
   "cell_type": "markdown",
   "id": "aa5f14be-1713-4498-b3ed-e0c5e504440e",
   "metadata": {
    "tags": []
   },
   "source": [
    "### Comparison"
   ]
  },
  {
   "cell_type": "code",
   "execution_count": 9,
   "id": "64da514a-7bbc-46e2-aa06-81f16b6f9642",
   "metadata": {},
   "outputs": [
    {
     "name": "stdout",
     "output_type": "stream",
     "text": [
      "Cost matrices are different\n",
      "Both gains are close/equal\n"
     ]
    }
   ],
   "source": [
    "if np.allclose(ret1_A['P_mat'], ret1_B['P_mat']):\n",
    "    print('Both cost matrices are close/equal')\n",
    "else:\n",
    "    print('Cost matrices are different')\n",
    "\n",
    "if np.allclose(ret1_A['K'], ret1_B['K']):\n",
    "    print('Both gains are close/equal')\n",
    "else:\n",
    "    print('Gains are different')\n"
   ]
  },
  {
   "cell_type": "code",
   "execution_count": null,
   "id": "6c22333e-8d19-41d7-9e4f-9fa549f3ed50",
   "metadata": {},
   "outputs": [],
   "source": []
  }
 ],
 "metadata": {
  "kernelspec": {
   "display_name": "Python 3",
   "language": "python",
   "name": "python3"
  },
  "language_info": {
   "codemirror_mode": {
    "name": "ipython",
    "version": 3
   },
   "file_extension": ".py",
   "mimetype": "text/x-python",
   "name": "python",
   "nbconvert_exporter": "python",
   "pygments_lexer": "ipython3",
   "version": "3.9.6"
  }
 },
 "nbformat": 4,
 "nbformat_minor": 5
}
