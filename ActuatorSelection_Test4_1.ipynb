{
 "cells": [
  {
   "cell_type": "markdown",
   "id": "d79564f8-88c6-457b-9b8d-ffd3d7da9951",
   "metadata": {},
   "source": [
    "# Benefits of MPL Modeling for Actuator Selection - Random Graph (Erdos-Renyi) analysis\n",
    "\n",
    "Statistics on the benefits of multiplicative noise modelling for actuator selection over N realizations of Erdos-Renyi random graphs"
   ]
  },
  {
   "cell_type": "markdown",
   "id": "589bddc2-af1a-4461-a8f5-d2b2d110b43f",
   "metadata": {
    "tags": []
   },
   "source": [
    "##### Py Packages"
   ]
  },
  {
   "cell_type": "code",
   "execution_count": 1,
   "id": "671509d8-0cdb-4e16-952e-ad6fa8b88ff7",
   "metadata": {
    "tags": []
   },
   "outputs": [],
   "source": [
    "import numpy as np\n",
    "from copy import deepcopy as dc\n",
    "# %matplotlib widget\n",
    "\n",
    "from functionfile_system_definition import create_graph, system_package, system_check\n",
    "from functionfile_system_mplcost import simulation_nom_vs_mpl, actuator_comparison"
   ]
  },
  {
   "cell_type": "markdown",
   "id": "a5f1edf0-3933-4183-a1b9-b3ec8af4eca1",
   "metadata": {},
   "source": [
    "### Test Parameters"
   ]
  },
  {
   "cell_type": "code",
   "execution_count": 2,
   "id": "ed9c0ecb-b5df-47e7-9d5a-f783aa2476e5",
   "metadata": {},
   "outputs": [],
   "source": [
    "# Number of test iterations\n",
    "N_test = 1\n",
    "\n",
    "# Edge probability\n",
    "edge_probability = 0.3\n",
    "\n",
    "# Network parameters\n",
    "nx = 20     # Number of nodes\n",
    "rho = 0.95     # Open-loop stability (unsigned magnitude of largest eigenvalue of dynamics matrix)\n",
    "alphai = [0.3]    # Covariance on state-dependent multiplicative noise\n",
    "\n",
    "# Initial state - realization of distribution given mean and covariance \n",
    "X0_cov = 10*np.identity(nx)\n",
    "X0_mean = np.zeros(nx)\n",
    "X0 = np.random.default_rng().multivariate_normal(mean=X0_mean, cov=X0_cov)\n"
   ]
  },
  {
   "cell_type": "code",
   "execution_count": 3,
   "id": "5082d9e3-4f98-4819-8136-06f55d8985d2",
   "metadata": {},
   "outputs": [
    {
     "name": "stdout",
     "output_type": "stream",
     "text": [
      "Control input matrix not given - assumed no controller\n",
      "Control noise matrix not specified - assumed 0\n",
      "Initial state vector specified\n"
     ]
    },
    {
     "ename": "NameError",
     "evalue": "name 'system_check' is not defined",
     "output_type": "error",
     "traceback": [
      "\u001b[1;31m---------------------------------------------------------------------------\u001b[0m",
      "\u001b[1;31mNameError\u001b[0m                                 Traceback (most recent call last)",
      "\u001b[1;32mC:\\Users\\KXG161~1\\AppData\\Local\\Temp/ipykernel_10916/4176002300.py\u001b[0m in \u001b[0;36m<module>\u001b[1;34m\u001b[0m\n\u001b[0;32m      6\u001b[0m \u001b[1;33m\u001b[0m\u001b[0m\n\u001b[0;32m      7\u001b[0m     \u001b[0mS_MPL\u001b[0m \u001b[1;33m=\u001b[0m \u001b[0msystem_package\u001b[0m\u001b[1;33m(\u001b[0m\u001b[0mA_in\u001b[0m\u001b[1;33m=\u001b[0m\u001b[0mrho\u001b[0m\u001b[1;33m*\u001b[0m\u001b[0mER1\u001b[0m\u001b[1;33m[\u001b[0m\u001b[1;34m'A'\u001b[0m\u001b[1;33m]\u001b[0m\u001b[1;33m,\u001b[0m \u001b[0malphai_in\u001b[0m\u001b[1;33m=\u001b[0m\u001b[0malphai\u001b[0m\u001b[1;33m,\u001b[0m \u001b[0mAi_in\u001b[0m\u001b[1;33m=\u001b[0m\u001b[0mER2\u001b[0m\u001b[1;33m[\u001b[0m\u001b[1;34m'A'\u001b[0m\u001b[1;33m]\u001b[0m\u001b[1;33m,\u001b[0m \u001b[0mX0_in\u001b[0m\u001b[1;33m=\u001b[0m\u001b[0mX0\u001b[0m\u001b[1;33m,\u001b[0m \u001b[0mlabel_in\u001b[0m\u001b[1;33m=\u001b[0m\u001b[1;34m'System MPL'\u001b[0m\u001b[1;33m)\u001b[0m\u001b[1;33m\u001b[0m\u001b[1;33m\u001b[0m\u001b[0m\n\u001b[1;32m----> 8\u001b[1;33m     \u001b[1;32mif\u001b[0m \u001b[1;32mnot\u001b[0m \u001b[0msystem_check\u001b[0m\u001b[1;33m(\u001b[0m\u001b[0mS_MPL\u001b[0m\u001b[1;33m)\u001b[0m\u001b[1;33m[\u001b[0m\u001b[1;34m'check'\u001b[0m\u001b[1;33m]\u001b[0m\u001b[1;33m:\u001b[0m\u001b[1;33m\u001b[0m\u001b[1;33m\u001b[0m\u001b[0m\n\u001b[0m\u001b[0;32m      9\u001b[0m         \u001b[0mprint\u001b[0m\u001b[1;33m(\u001b[0m\u001b[1;34m'MPL System Error'\u001b[0m\u001b[1;33m)\u001b[0m\u001b[1;33m\u001b[0m\u001b[1;33m\u001b[0m\u001b[0m\n\u001b[0;32m     10\u001b[0m \u001b[1;33m\u001b[0m\u001b[0m\n",
      "\u001b[1;31mNameError\u001b[0m: name 'system_check' is not defined"
     ]
    }
   ],
   "source": [
    "for iter in range(0, N_test):\n",
    "\n",
    "    ER1 = create_graph(nx, type='ER', p=edge_probability)\n",
    "    ER2 = create_graph(nx, type='ER', p=edge_probability)\n",
    "    ER3 = create_graph(nx, type='ER', p=edge_probability)\n",
    "\n",
    "    S_MPL = system_package(A_in=rho*ER1['A'], alphai_in=alphai, Ai_in=ER2['A'], X0_in=X0, label_in='System MPL')\n",
    "    if not system_check(S_MPL)['check']:\n",
    "        print('MPL System Error')\n",
    "\n",
    "    S_Nom = system_package(A_in=rho*ER1['A'], X0_in=X0, label_in='System Nominal')\n",
    "    if not system_check(S)['check']:\n",
    "        print('Nominal System Error')\n",
    "\n",
    "    S_True = system_package(A_in=rho*ER3['A'], X0_in=X0, label_in='System True')\n",
    "    if not system_check(S)['check']:\n",
    "        print('True System Error')\n",
    "    \n",
    "    ret_sim = simulation_nom_vs_mpl(S_Nom, S_MPL, S_True)\n",
    "    \n",
    "    print(ret_sim)\n",
    "    "
   ]
  }
 ],
 "metadata": {
  "kernelspec": {
   "display_name": "Python 3 (ipykernel)",
   "language": "python",
   "name": "python3"
  },
  "language_info": {
   "codemirror_mode": {
    "name": "ipython",
    "version": 3
   },
   "file_extension": ".py",
   "mimetype": "text/x-python",
   "name": "python",
   "nbconvert_exporter": "python",
   "pygments_lexer": "ipython3",
   "version": "3.9.6"
  }
 },
 "nbformat": 4,
 "nbformat_minor": 5
}
