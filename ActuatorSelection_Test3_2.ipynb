{
 "cells": [
  {
   "cell_type": "markdown",
   "id": "d15c0028-0931-4a86-98dc-fa140cd2f192",
   "metadata": {},
   "source": [
    "# Benefit of MPL System Modelling\n",
    "True, Nominal, MPL model testing"
   ]
  },
  {
   "cell_type": "markdown",
   "id": "1d8fa32e-f769-4877-8c78-a500b0824240",
   "metadata": {
    "jp-MarkdownHeadingCollapsed": true,
    "tags": []
   },
   "source": [
    "##### Py Packages"
   ]
  },
  {
   "cell_type": "code",
   "execution_count": 1,
   "id": "3f7cda21-fb90-4786-a674-eb1f07ad7870",
   "metadata": {},
   "outputs": [],
   "source": [
    "import numpy as np\n",
    "from copy import deepcopy as dc\n",
    "%matplotlib widget\n",
    "\n",
    "from functionfile_system_definition import sys_from_file\n",
    "from functionfile_system_mplcost import simulation_nom_vs_mpl, plot_simulation_nom_vs_mpl_1, plot_simulation_nom_vs_mpl_2, actuator_comparison"
   ]
  },
  {
   "cell_type": "markdown",
   "id": "12c8fd3e-bcea-4fdc-ae00-4fee714c2f21",
   "metadata": {
    "tags": []
   },
   "source": [
    "## Code"
   ]
  },
  {
   "cell_type": "code",
   "execution_count": 2,
   "id": "ef074208-1882-4702-b019-2c94f78c5899",
   "metadata": {
    "tags": []
   },
   "outputs": [
    {
     "name": "stdout",
     "output_type": "stream",
     "text": [
      "System read from file @ system_model/System Model 1 True.pickle \n",
      "\n",
      "System read from file @ system_model/System Model 1 MPL.pickle \n",
      "\n",
      "System read from file @ system_model/System Model 1 Nominal.pickle \n",
      "\n"
     ]
    }
   ],
   "source": [
    "test_set = 'System Model 1'\n",
    "S_True = sys_from_file(test_set + ' True')\n",
    "S_MPL = sys_from_file(test_set + ' MPL')\n",
    "S_Nom = sys_from_file(test_set + ' Nominal')"
   ]
  },
  {
   "cell_type": "code",
   "execution_count": 3,
   "id": "4bca6910-9d66-48ca-a466-a1e0780315e1",
   "metadata": {},
   "outputs": [],
   "source": [
    "ret_sim = simulation_nom_vs_mpl(S_Nom, S_MPL, S_True)"
   ]
  },
  {
   "cell_type": "markdown",
   "id": "63555e58-9444-4628-92b6-473c25d46c0b",
   "metadata": {},
   "source": [
    "## Output"
   ]
  },
  {
   "cell_type": "code",
   "execution_count": 4,
   "id": "ad5cc482-d5f5-4d71-9bbe-3482fe5629f6",
   "metadata": {
    "jupyter": {
     "source_hidden": true
    },
    "tags": []
   },
   "outputs": [
    {
     "data": {
      "application/vnd.jupyter.widget-view+json": {
       "model_id": "80fe94d7b2e04b1891eba7e200095ca9",
       "version_major": 2,
       "version_minor": 0
      },
      "text/plain": [
       "Canvas(toolbar=Toolbar(toolitems=[('Home', 'Reset original view', 'home', 'home'), ('Back', 'Back to previous …"
      ]
     },
     "metadata": {},
     "output_type": "display_data"
    }
   ],
   "source": [
    "plot_simulation_nom_vs_mpl_1(ret_sim)"
   ]
  },
  {
   "cell_type": "code",
   "execution_count": 5,
   "id": "d80ad9c5-be24-4bdd-9ca7-57ee3517b9c1",
   "metadata": {
    "jupyter": {
     "source_hidden": true
    },
    "tags": []
   },
   "outputs": [
    {
     "name": "stdout",
     "output_type": "stream",
     "text": [
      "Control sets are different\n"
     ]
    },
    {
     "data": {
      "application/vnd.jupyter.widget-view+json": {
       "model_id": "ef9658599cf1443db295d5c8dfe0d040",
       "version_major": 2,
       "version_minor": 0
      },
      "text/plain": [
       "Canvas(toolbar=Toolbar(toolitems=[('Home', 'Reset original view', 'home', 'home'), ('Back', 'Back to previous …"
      ]
     },
     "metadata": {},
     "output_type": "display_data"
    }
   ],
   "source": [
    "actuator_comparison(ret_sim['system_mpl'], ret_sim['system_nom']);\n",
    "# if ret_sim['act_check']:\n",
    "#     print('Actuator sets are different')\n",
    "#     print('Nominal B:\\n', ret_sim['B_Nom'])\n",
    "#     print('MPL B:\\n', ret_sim['B_MPL'])\n",
    "#     print('B diff (Nom - MPL):\\n', ret_sim['B_Nom'] - ret_sim['B_MPL'])\n",
    "# else:\n",
    "#     print('Same actuator sets')\n",
    "#     print('Nominal B = MPL B:\\n', ret_sim['B_MPL'])"
   ]
  },
  {
   "cell_type": "code",
   "execution_count": 6,
   "id": "992563af-292a-4b5d-9d0c-1e0cf3d9756b",
   "metadata": {
    "jupyter": {
     "source_hidden": true
    },
    "tags": []
   },
   "outputs": [
    {
     "name": "stdout",
     "output_type": "stream",
     "text": [
      "True simulation cost with <___> feedback (4decimal approx)\n",
      "|S|: 1 | Nom: 26291.6224 | MPL: 26277.5096 | Diff (Nom-MPL) 14.1129\n",
      "|S|: 2 | Nom: 19728.3951 | MPL: 19678.8618 | Diff (Nom-MPL) 49.5333\n",
      "|S|: 3 | Nom: 15758.2399 | MPL: 14833.1283 | Diff (Nom-MPL) 925.1116\n",
      "|S|: 4 | Nom: 15037.7818 | MPL: 13434.0968 | Diff (Nom-MPL) 1603.6850\n",
      "|S|: 5 | Nom: 13415.9116 | MPL: 12664.6753 | Diff (Nom-MPL) 751.2363\n",
      "|S|: 6 | Nom: 12206.0345 | MPL: 11895.9663 | Diff (Nom-MPL) 310.0682\n",
      "|S|: 7 | Nom: 11791.6587 | MPL: 11431.4561 | Diff (Nom-MPL) 360.2026\n",
      "|S|: 8 | Nom: 11410.6990 | MPL: 11018.8946 | Diff (Nom-MPL) 391.8044\n",
      "|S|: 9 | Nom: 10753.7986 | MPL: 10624.2851 | Diff (Nom-MPL) 129.5135\n",
      "|S|: 10 | Nom: 10298.4039 | MPL: 10220.3008 | Diff (Nom-MPL) 78.1031\n"
     ]
    }
   ],
   "source": [
    "print('True simulation cost with <___> feedback (4decimal approx)')\n",
    "for key in ret_sim['T_Nom']['costs']:\n",
    "    print (\"|S|: %s | Nom: %.4f | MPL: %.4f | Diff (Nom-MPL) %.4f\" % (key, ret_sim['T_Nom']['costs'][key][-1], ret_sim['T_MPL']['costs'][key][-1], ret_sim['T_Nom']['costs'][key][-1]-ret_sim['T_MPL']['costs'][key][-1]))\n",
    "#     print('|S|:', key, '| Nom:', ret_sim['T_Nom']['costs'][key][-1], '| MPL:', ret_sim['T_MPL']['costs'][key][-1], ' | Diff (Nom-MPL):', ret_sim['T_Nom']['costs'][key][-1]-ret_sim['T_MPL']['costs'][key][-1])"
   ]
  },
  {
   "cell_type": "code",
   "execution_count": 7,
   "id": "7b821fa4-d7b6-4435-9bee-fbebad72f7e8",
   "metadata": {
    "jupyter": {
     "source_hidden": true
    },
    "tags": []
   },
   "outputs": [
    {
     "data": {
      "application/vnd.jupyter.widget-view+json": {
       "model_id": "a349a3ad07d844ccaa5b649c63592b72",
       "version_major": 2,
       "version_minor": 0
      },
      "text/plain": [
       "Canvas(toolbar=Toolbar(toolitems=[('Home', 'Reset original view', 'home', 'home'), ('Back', 'Back to previous …"
      ]
     },
     "metadata": {},
     "output_type": "display_data"
    }
   ],
   "source": [
    "plot_simulation_nom_vs_mpl_2(ret_sim)"
   ]
  },
  {
   "cell_type": "markdown",
   "id": "d422ae8f-819e-4b79-9a7b-655dbc346bbc",
   "metadata": {},
   "source": [
    "## Run Complete"
   ]
  },
  {
   "cell_type": "code",
   "execution_count": 8,
   "id": "969467ff-85a3-4c48-9b93-d7d27621d54d",
   "metadata": {
    "jupyter": {
     "source_hidden": true
    },
    "tags": []
   },
   "outputs": [
    {
     "name": "stdout",
     "output_type": "stream",
     "text": [
      "Run Complete\n"
     ]
    }
   ],
   "source": [
    "print('Run Complete')"
   ]
  }
 ],
 "metadata": {
  "kernelspec": {
   "display_name": "Python 3 (ipykernel)",
   "language": "python",
   "name": "python3"
  },
  "language_info": {
   "codemirror_mode": {
    "name": "ipython",
    "version": 3
   },
   "file_extension": ".py",
   "mimetype": "text/x-python",
   "name": "python",
   "nbconvert_exporter": "python",
   "pygments_lexer": "ipython3",
   "version": "3.9.6"
  }
 },
 "nbformat": 4,
 "nbformat_minor": 5
}
