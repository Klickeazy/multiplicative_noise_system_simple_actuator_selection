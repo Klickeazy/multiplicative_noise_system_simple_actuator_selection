{
 "cells": [
  {
   "cell_type": "markdown",
   "id": "9e99fa4b-617b-4b79-8611-bed47c87d00f",
   "metadata": {},
   "source": [
    "# Actuator Selection - Comparison based on state-mpl differences\n",
    "Model A vs B testing"
   ]
  },
  {
   "cell_type": "markdown",
   "id": "44f38131-adfd-4bb9-b3c6-c11babbb9460",
   "metadata": {
    "tags": []
   },
   "source": [
    "##### Py Packages"
   ]
  },
  {
   "cell_type": "code",
   "execution_count": 1,
   "id": "c0bab3cb-840a-40e6-85f2-adcf47440ee4",
   "metadata": {
    "tags": []
   },
   "outputs": [],
   "source": [
    "import warnings\n",
    "import numpy as np\n",
    "from copy import deepcopy as dc\n",
    "%matplotlib widget\n",
    "\n",
    "from functionfile_system_definition import sys_from_file, system_display_matrix\n",
    "from functionfile_system_mplcost import initial_values_init, actuator_selection_cost_1, estimation_actuator_selection, plot_actuator_selection_2, plot_actuator_selection_comparison_1"
   ]
  },
  {
   "cell_type": "markdown",
   "id": "9ed13d90-42eb-4647-8a22-899d9dca3708",
   "metadata": {
    "tags": []
   },
   "source": [
    "## Code"
   ]
  },
  {
   "cell_type": "code",
   "execution_count": 2,
   "id": "0be0249e-179a-44cb-9fb7-513d232b5a66",
   "metadata": {},
   "outputs": [],
   "source": [
    "sys_model = 'System Model 5' # Comparing A and B"
   ]
  },
  {
   "cell_type": "markdown",
   "id": "fabde72d-e81e-4226-9a44-0aa07d964448",
   "metadata": {
    "tags": []
   },
   "source": [
    "***\n",
    "### Model A"
   ]
  },
  {
   "cell_type": "markdown",
   "id": "b1c56793-343a-495b-a39c-7729e7657691",
   "metadata": {
    "jp-MarkdownHeadingCollapsed": true,
    "tags": []
   },
   "source": [
    "##### Code"
   ]
  },
  {
   "cell_type": "code",
   "execution_count": 3,
   "id": "4117eefe-4195-45d6-9092-2c5070edc55b",
   "metadata": {
    "tags": []
   },
   "outputs": [
    {
     "name": "stdout",
     "output_type": "stream",
     "text": [
      "System read from file @ system_model/System Model 5A.pickle \n",
      "\n"
     ]
    }
   ],
   "source": [
    "S_A = sys_from_file(sys_model+'A')\n",
    "initial_values = initial_values_init(S_A)"
   ]
  },
  {
   "cell_type": "code",
   "execution_count": 4,
   "id": "98e3496b-714a-4bd4-a523-9787364af3f3",
   "metadata": {
    "tags": []
   },
   "outputs": [],
   "source": [
    "ret1_A = actuator_selection_cost_1(S_A)\n",
    "S1_A = ret1_A['system']\n",
    "ret2_A = estimation_actuator_selection(S1_A, initial_values=initial_values)"
   ]
  },
  {
   "cell_type": "markdown",
   "id": "3b3da282-1564-4df7-a200-49708b59658d",
   "metadata": {
    "tags": []
   },
   "source": [
    "##### Output"
   ]
  },
  {
   "cell_type": "code",
   "execution_count": 5,
   "id": "9001beae-0b94-48eb-9c91-83382515f016",
   "metadata": {
    "jupyter": {
     "source_hidden": true
    },
    "tags": []
   },
   "outputs": [
    {
     "data": {
      "application/vnd.jupyter.widget-view+json": {
       "model_id": "516c1c0c8f394f76b3b120df6fc8796e",
       "version_major": 2,
       "version_minor": 0
      },
      "text/plain": [
       "Canvas(toolbar=Toolbar(toolitems=[('Home', 'Reset original view', 'home', 'home'), ('Back', 'Back to previous …"
      ]
     },
     "metadata": {},
     "output_type": "display_data"
    },
    {
     "data": {
      "application/vnd.jupyter.widget-view+json": {
       "model_id": "3f1b7033bd9e4745b74e93bcd4c75bbf",
       "version_major": 2,
       "version_minor": 0
      },
      "text/plain": [
       "Canvas(toolbar=Toolbar(toolitems=[('Home', 'Reset original view', 'home', 'home'), ('Back', 'Back to previous …"
      ]
     },
     "metadata": {},
     "output_type": "display_data"
    }
   ],
   "source": [
    "system_display_matrix(S1_A)\n",
    "plot_actuator_selection_2(ret2_A)"
   ]
  },
  {
   "cell_type": "markdown",
   "id": "da75f119-5c03-40c9-9b47-3d852b537529",
   "metadata": {
    "tags": []
   },
   "source": [
    "***\n",
    "### Model B"
   ]
  },
  {
   "cell_type": "markdown",
   "id": "5a1c0cc4-80fa-4f22-b614-d7875cd6f838",
   "metadata": {
    "jp-MarkdownHeadingCollapsed": true,
    "tags": []
   },
   "source": [
    "##### Code"
   ]
  },
  {
   "cell_type": "code",
   "execution_count": 6,
   "id": "a8379a75-1e55-4bbc-a84b-af0ea363541b",
   "metadata": {
    "tags": []
   },
   "outputs": [
    {
     "name": "stdout",
     "output_type": "stream",
     "text": [
      "System read from file @ system_model/System Model 5B.pickle \n",
      "\n"
     ]
    }
   ],
   "source": [
    "S_B = sys_from_file(sys_model+'B')\n",
    "initial_values = initial_values_init(S_B)"
   ]
  },
  {
   "cell_type": "code",
   "execution_count": 7,
   "id": "b8e61ce2-8d8c-42e9-bf9d-b19db5517a78",
   "metadata": {
    "tags": []
   },
   "outputs": [],
   "source": [
    "ret1_B = actuator_selection_cost_1(S_B)\n",
    "S1_B = ret1_B['system']\n",
    "ret2_B = estimation_actuator_selection(S1_B, initial_values=initial_values)"
   ]
  },
  {
   "cell_type": "markdown",
   "id": "e936e136-40e8-4975-aa38-5fc6aeca1da7",
   "metadata": {
    "tags": []
   },
   "source": [
    "##### Output"
   ]
  },
  {
   "cell_type": "code",
   "execution_count": 8,
   "id": "82607364-d790-4827-a035-b91bfffac9ee",
   "metadata": {
    "jupyter": {
     "source_hidden": true
    },
    "tags": []
   },
   "outputs": [
    {
     "data": {
      "application/vnd.jupyter.widget-view+json": {
       "model_id": "8d497fdb5dc0495884a60e81f10d1659",
       "version_major": 2,
       "version_minor": 0
      },
      "text/plain": [
       "Canvas(toolbar=Toolbar(toolitems=[('Home', 'Reset original view', 'home', 'home'), ('Back', 'Back to previous …"
      ]
     },
     "metadata": {},
     "output_type": "display_data"
    },
    {
     "data": {
      "application/vnd.jupyter.widget-view+json": {
       "model_id": "89db296a4d48454db1e68c71f35713ce",
       "version_major": 2,
       "version_minor": 0
      },
      "text/plain": [
       "Canvas(toolbar=Toolbar(toolitems=[('Home', 'Reset original view', 'home', 'home'), ('Back', 'Back to previous …"
      ]
     },
     "metadata": {},
     "output_type": "display_data"
    }
   ],
   "source": [
    "system_display_matrix(S1_B)\n",
    "plot_actuator_selection_2(ret2_B)"
   ]
  },
  {
   "cell_type": "markdown",
   "id": "6c94f4e2-1de0-4e71-bb90-7be38ede70a4",
   "metadata": {},
   "source": [
    "***\n",
    "## Cost and Actuator Selection comparison"
   ]
  },
  {
   "cell_type": "markdown",
   "id": "d6be1c94-f97d-4e9a-a073-06735b91f5eb",
   "metadata": {},
   "source": [
    "##### Costs"
   ]
  },
  {
   "cell_type": "code",
   "execution_count": 9,
   "id": "0b9eb347-6c7a-4766-8b2a-ab64c7697609",
   "metadata": {
    "jupyter": {
     "source_hidden": true
    },
    "tags": []
   },
   "outputs": [
    {
     "name": "stdout",
     "output_type": "stream",
     "text": [
      "System Model 5A\n",
      "|S|: 0  | cost: 5112790221.3527355  | time: 60  | check: 3\n",
      "|S|: 1  | cost: 555.5788384150108  | time: 136  | check: 0\n",
      "|S|: 2  | cost: 168.53730550266002  | time: 69  | check: 0\n",
      "|S|: 3  | cost: 145.90138480706204  | time: 67  | check: 0\n",
      "|S|: 4  | cost: 129.20286821041134  | time: 64  | check: 0\n",
      "|S|: 5  | cost: 119.93212982091696  | time: 64  | check: 0\n",
      "|S|: 6  | cost: 118.39009193010018  | time: 61  | check: 0\n",
      "|S|: 7  | cost: 116.66017446826153  | time: 60  | check: 0\n",
      "|S|: 8  | cost: 116.29587855319791  | time: 60  | check: 0\n"
     ]
    }
   ],
   "source": [
    "print(sys_model+'A')\n",
    "with warnings.catch_warnings():\n",
    "    warnings.simplefilter(action='ignore', category=FutureWarning)\n",
    "    for key in ret2_A:\n",
    "        if 'cost' in ret2_A[key]:\n",
    "            print('|S|:', key, ' | cost:', ret2_A[key]['cost'], ' | time:', ret2_A[key]['time'], ' | check:', ret2_A[key]['check'])"
   ]
  },
  {
   "cell_type": "code",
   "execution_count": 10,
   "id": "1c8d3ede-d27e-493b-a411-5dbf1993f5ed",
   "metadata": {
    "jupyter": {
     "source_hidden": true
    },
    "tags": []
   },
   "outputs": [
    {
     "name": "stdout",
     "output_type": "stream",
     "text": [
      "System Model 5B\n",
      "|S|: 0  | cost: 128.65501196612576  | time: 49  | check: 0\n",
      "|S|: 1  | cost: 95.68768435562724  | time: 39  | check: 0\n",
      "|S|: 2  | cost: 86.89991441210915  | time: 26  | check: 0\n",
      "|S|: 3  | cost: 79.01019332200723  | time: 23  | check: 0\n",
      "|S|: 4  | cost: 74.29211570540363  | time: 19  | check: 0\n",
      "|S|: 5  | cost: 72.09348569967294  | time: 17  | check: 0\n",
      "|S|: 6  | cost: 71.03140193971419  | time: 14  | check: 0\n",
      "|S|: 7  | cost: 70.44258597583075  | time: 14  | check: 0\n",
      "|S|: 8  | cost: 69.86249925447827  | time: 12  | check: 0\n"
     ]
    }
   ],
   "source": [
    "print(sys_model+'B')\n",
    "with warnings.catch_warnings():\n",
    "    warnings.simplefilter(action='ignore', category=FutureWarning)\n",
    "    for key in ret2_B:\n",
    "        if 'cost' in ret2_B[key]:\n",
    "            print('|S|:', key, ' | cost:', ret2_B[key]['cost'], ' | time:', ret2_B[key]['time'], ' | check:', ret2_B[key]['check'])"
   ]
  },
  {
   "cell_type": "markdown",
   "id": "3d828675-3348-4e26-bd6c-05f4ba1756ae",
   "metadata": {},
   "source": [
    "##### Actuator Selection"
   ]
  },
  {
   "cell_type": "code",
   "execution_count": 11,
   "id": "6e6c8455-c39c-47f7-af78-1c0440d38604",
   "metadata": {
    "jupyter": {
     "source_hidden": true
    },
    "tags": []
   },
   "outputs": [
    {
     "name": "stdout",
     "output_type": "stream",
     "text": [
      "Actuator sets are different\n"
     ]
    }
   ],
   "source": [
    "if np.allclose(ret2_A['B'], ret2_B['B']):\n",
    "    print('Both actuator sets are close/equal')\n",
    "else:\n",
    "    print('Actuator sets are different')"
   ]
  },
  {
   "cell_type": "code",
   "execution_count": 12,
   "id": "addbb6c4-b959-4def-8486-f1dc4d6cb485",
   "metadata": {
    "jupyter": {
     "source_hidden": true
    },
    "tags": []
   },
   "outputs": [
    {
     "name": "stdout",
     "output_type": "stream",
     "text": [
      "System Model 5A\n",
      "[[0. 0. 0. 0. 0. 0. 0. 1.]\n",
      " [0. 1. 0. 0. 0. 0. 0. 0.]\n",
      " [0. 0. 0. 1. 0. 0. 0. 0.]\n",
      " [0. 0. 0. 0. 0. 0. 1. 0.]\n",
      " [0. 0. 0. 0. 0. 1. 0. 0.]\n",
      " [0. 0. 1. 0. 0. 0. 0. 0.]\n",
      " [1. 0. 0. 0. 0. 0. 0. 0.]\n",
      " [0. 0. 0. 0. 1. 0. 0. 0.]]\n"
     ]
    }
   ],
   "source": [
    "print(sys_model+'A')\n",
    "print(ret2_A['B'])"
   ]
  },
  {
   "cell_type": "code",
   "execution_count": 13,
   "id": "a5a06f21-d2bd-4f83-ac52-6d58959f826c",
   "metadata": {
    "jupyter": {
     "source_hidden": true
    },
    "tags": []
   },
   "outputs": [
    {
     "name": "stdout",
     "output_type": "stream",
     "text": [
      "System Model 5B\n",
      "[[0. 0. 0. 0. 0. 0. 1. 0.]\n",
      " [0. 0. 0. 0. 1. 0. 0. 0.]\n",
      " [0. 1. 0. 0. 0. 0. 0. 0.]\n",
      " [0. 0. 0. 0. 0. 1. 0. 0.]\n",
      " [0. 0. 0. 0. 0. 0. 0. 1.]\n",
      " [0. 0. 1. 0. 0. 0. 0. 0.]\n",
      " [1. 0. 0. 0. 0. 0. 0. 0.]\n",
      " [0. 0. 0. 1. 0. 0. 0. 0.]]\n"
     ]
    }
   ],
   "source": [
    "print(sys_model+'B')\n",
    "print(ret2_B['B'])"
   ]
  },
  {
   "cell_type": "markdown",
   "id": "ea562805-7329-4819-becf-3d579c210f68",
   "metadata": {},
   "source": [
    "##### Comparison Plot"
   ]
  },
  {
   "cell_type": "code",
   "execution_count": 14,
   "id": "b2cdcf27-3810-448b-a747-40ec01472962",
   "metadata": {
    "jupyter": {
     "source_hidden": true
    },
    "tags": []
   },
   "outputs": [
    {
     "data": {
      "application/vnd.jupyter.widget-view+json": {
       "model_id": "f19556583f934db4a4154966a01e04a2",
       "version_major": 2,
       "version_minor": 0
      },
      "text/plain": [
       "Canvas(toolbar=Toolbar(toolitems=[('Home', 'Reset original view', 'home', 'home'), ('Back', 'Back to previous …"
      ]
     },
     "metadata": {},
     "output_type": "display_data"
    }
   ],
   "source": [
    "plot_actuator_selection_comparison_1(ret2_A, ret2_B)"
   ]
  }
 ],
 "metadata": {
  "kernelspec": {
   "display_name": "Python 3",
   "language": "python",
   "name": "python3"
  },
  "language_info": {
   "codemirror_mode": {
    "name": "ipython",
    "version": 3
   },
   "file_extension": ".py",
   "mimetype": "text/x-python",
   "name": "python",
   "nbconvert_exporter": "python",
   "pygments_lexer": "ipython3",
   "version": "3.9.6"
  }
 },
 "nbformat": 4,
 "nbformat_minor": 5
}
