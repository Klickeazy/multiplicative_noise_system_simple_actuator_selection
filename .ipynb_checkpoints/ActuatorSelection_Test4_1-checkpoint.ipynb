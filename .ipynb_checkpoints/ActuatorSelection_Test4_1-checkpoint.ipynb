{
 "cells": [
  {
   "cell_type": "markdown",
   "id": "d79564f8-88c6-457b-9b8d-ffd3d7da9951",
   "metadata": {
    "tags": []
   },
   "source": [
    "# Benefits of MPL Modeling for Actuator Selection - Random Graph analysis\n",
    "\n",
    "Statistics on the benefits of multiplicative noise modelling for actuator selection over N realizations of Erdos-Renyi (ER) or Barabasi-Albert (BA) random graphs"
   ]
  },
  {
   "cell_type": "markdown",
   "id": "589bddc2-af1a-4461-a8f5-d2b2d110b43f",
   "metadata": {
    "jp-MarkdownHeadingCollapsed": true,
    "tags": []
   },
   "source": [
    "##### Py Packages"
   ]
  },
  {
   "cell_type": "code",
   "execution_count": 1,
   "id": "671509d8-0cdb-4e16-952e-ad6fa8b88ff7",
   "metadata": {
    "tags": []
   },
   "outputs": [],
   "source": [
    "import numpy as np\n",
    "from copy import deepcopy as dc\n",
    "# %matplotlib widget\n",
    "\n",
    "from functionfile_system_definition import create_graph, system_package\n",
    "from functionfile_system_mplcost import random_graph_empirical_simulation, plot_random_graph_simulation, plot_random_graph_simulation2"
   ]
  },
  {
   "cell_type": "markdown",
   "id": "a5f1edf0-3933-4183-a1b9-b3ec8af4eca1",
   "metadata": {
    "tags": []
   },
   "source": [
    "### Test Parameters"
   ]
  },
  {
   "cell_type": "markdown",
   "id": "9631c98a-0fd5-4534-bce2-2288054e4abe",
   "metadata": {},
   "source": [
    "N_test: number of realizations\n",
    "\n",
    "Network_type\n",
    "- ER for Erdos-Renyi with network parameter for edge probability\n",
    "- BA for Barabasi-Albert with network parameter for initial network size\n",
    "\n",
    "System parameters\n",
    "- nx: number of nodes in the network\n",
    "- rho: stability scaling - sets $|\\lambda_{\\max}|$ of open-loop dynamics\n",
    "- alphai: covariance of state-dependent multiplicative noise - assumed constant across all MPL matrices $A_i$\n",
    "- X0_cov: covariance of initial state vector\n",
    "- X0_mean: mean of initial state vector"
   ]
  },
  {
   "cell_type": "code",
   "execution_count": 2,
   "id": "ed9c0ecb-b5df-47e7-9d5a-f783aa2476e5",
   "metadata": {
    "tags": []
   },
   "outputs": [],
   "source": [
    "# Number of test iterations\n",
    "N_test = 100\n",
    "\n",
    "# Network type and parameter\n",
    "# For type='ER': Parameter = edge probability\n",
    "# For type='BA': Parameter = initial network size\n",
    "Network_type = 'ER'\n",
    "Network_parameter = 0.4\n",
    "\n",
    "# System parameters\n",
    "nx = 20           # Number of nodes\n",
    "rho = 0.8        # Open-loop stability (unsigned magnitude of largest eigenvalue of dynamics matrix)\n",
    "alphai = [0.1]    # Covariance on state-dependent multiplicative noise\n",
    "\n",
    "# Initial state - realization of distribution given mean and covariance \n",
    "X0_cov = 10*np.identity(nx)\n",
    "X0_mean = np.zeros(nx)"
   ]
  },
  {
   "cell_type": "markdown",
   "id": "c841e9b1-940c-4a6f-9178-f4c59b024d86",
   "metadata": {
    "tags": []
   },
   "source": [
    "### Code"
   ]
  },
  {
   "cell_type": "code",
   "execution_count": 3,
   "id": "9cb35340-68ec-4af5-8460-5de48fc14292",
   "metadata": {
    "jupyter": {
     "source_hidden": true
    },
    "tags": []
   },
   "outputs": [],
   "source": [
    "X0 = np.random.default_rng().multivariate_normal(mean=X0_mean, cov=X0_cov)\n",
    "S_base_model = system_package(A_in=rho*create_graph(nx)['A'], alphai_in=alphai, Ai_in=create_graph(nx)['A'], X0_in=X0, label_in='System Model', print_check=False)"
   ]
  },
  {
   "cell_type": "code",
   "execution_count": 4,
   "id": "046d8fcc-1098-4d24-b0cd-2af3e708fc30",
   "metadata": {
    "jupyter": {
     "source_hidden": true
    },
    "tags": []
   },
   "outputs": [
    {
     "name": "stdout",
     "output_type": "stream",
     "text": [
      "Simulation start: Empirical study of random graphs\n",
      "ER model\n",
      "Realization: 1 / 100\n",
      "Simulation start: Comparison of actuator selection of A vs B on C\n",
      "====> Breaking current simulation at t= 41 as cumulative cost magnitude exceed 1e+08\n",
      "====> Breaking current simulation at t= 42 as cumulative cost magnitude exceed 1e+08\n",
      "====> Breaking current simulation at t= 44 as cumulative cost magnitude exceed 1e+08\n",
      "====> Breaking current simulation at t= 45 as cumulative cost magnitude exceed 1e+08\n",
      "====> Breaking current simulation at t= 50 as cumulative cost magnitude exceed 1e+08\n",
      "====> Breaking current simulation at t= 51 as cumulative cost magnitude exceed 1e+08\n",
      "====> Breaking current simulation at t= 51 as cumulative cost magnitude exceed 1e+08\n",
      "====> Breaking current simulation at t= 52 as cumulative cost magnitude exceed 1e+08\n",
      "====> Breaking current simulation at t= 66 as cumulative cost magnitude exceed 1e+08\n",
      "====> Breaking current simulation at t= 75 as cumulative cost magnitude exceed 1e+08\n",
      "====> Breaking current simulation at t= 80 as cumulative cost magnitude exceed 1e+08\n",
      "====> Breaking current simulation at t= 80 as cumulative cost magnitude exceed 1e+08\n",
      "====> Breaking current simulation at t= 83 as cumulative cost magnitude exceed 1e+08\n",
      "====> Breaking current simulation at t= 94 as cumulative cost magnitude exceed 1e+08\n",
      "====> Breaking current simulation at t= 96 as cumulative cost magnitude exceed 1e+08\n",
      "====> Breaking current simulation at t= 99 as cumulative cost magnitude exceed 1e+08\n",
      "====> Breaking current simulation at t= 166 as cumulative cost magnitude exceed 1e+08\n",
      "====> Breaking current simulation at t= 186 as cumulative cost magnitude exceed 1e+08\n",
      "====> Breaking current simulation at t= 182 as cumulative cost magnitude exceed 1e+08\n",
      "====> Breaking current simulation at t= 43 as cumulative cost magnitude exceed 1e+08\n",
      "====> Breaking current simulation at t= 50 as cumulative cost magnitude exceed 1e+08\n",
      "====> Breaking current simulation at t= 52 as cumulative cost magnitude exceed 1e+08\n",
      "====> Breaking current simulation at t= 66 as cumulative cost magnitude exceed 1e+08\n",
      "====> Breaking current simulation at t= 74 as cumulative cost magnitude exceed 1e+08\n",
      "====> Breaking current simulation at t= 81 as cumulative cost magnitude exceed 1e+08\n",
      "====> Breaking current simulation at t= 92 as cumulative cost magnitude exceed 1e+08\n",
      "====> Breaking current simulation at t= 93 as cumulative cost magnitude exceed 1e+08\n",
      "====> Breaking current simulation at t= 95 as cumulative cost magnitude exceed 1e+08\n",
      "Simulation end: Comparison of actuator selection of A vs B on C\n",
      "Realization: 2 / 100\n",
      "Simulation start: Comparison of actuator selection of A vs B on C\n",
      "====> Breaking current simulation at t= 48 as cumulative cost magnitude exceed 1e+08\n",
      "====> Breaking current simulation at t= 64 as cumulative cost magnitude exceed 1e+08\n",
      "====> Breaking current simulation at t= 68 as cumulative cost magnitude exceed 1e+08\n",
      "====> Breaking current simulation at t= 69 as cumulative cost magnitude exceed 1e+08\n",
      "====> Breaking current simulation at t= 76 as cumulative cost magnitude exceed 1e+08\n",
      "====> Breaking current simulation at t= 80 as cumulative cost magnitude exceed 1e+08\n",
      "====> Breaking current simulation at t= 81 as cumulative cost magnitude exceed 1e+08\n",
      "====> Breaking current simulation at t= 89 as cumulative cost magnitude exceed 1e+08\n",
      "====> Breaking current simulation at t= 144 as cumulative cost magnitude exceed 1e+08\n",
      "====> Breaking current simulation at t= 156 as cumulative cost magnitude exceed 1e+08\n",
      "====> Breaking current simulation at t= 156 as cumulative cost magnitude exceed 1e+08\n",
      "====> Breaking current simulation at t= 159 as cumulative cost magnitude exceed 1e+08\n",
      "====> Breaking current simulation at t= 162 as cumulative cost magnitude exceed 1e+08\n",
      "====> Breaking current simulation at t= 195 as cumulative cost magnitude exceed 1e+08\n",
      "====> Breaking current simulation at t= 42 as cumulative cost magnitude exceed 1e+08\n",
      "====> Breaking current simulation at t= 66 as cumulative cost magnitude exceed 1e+08\n",
      "====> Breaking current simulation at t= 69 as cumulative cost magnitude exceed 1e+08\n",
      "====> Breaking current simulation at t= 83 as cumulative cost magnitude exceed 1e+08\n",
      "====> Breaking current simulation at t= 149 as cumulative cost magnitude exceed 1e+08\n",
      "====> Breaking current simulation at t= 159 as cumulative cost magnitude exceed 1e+08\n",
      "====> Breaking current simulation at t= 186 as cumulative cost magnitude exceed 1e+08\n",
      "Simulation end: Comparison of actuator selection of A vs B on C\n",
      "Realization: 3 / 100\n",
      "Simulation start: Comparison of actuator selection of A vs B on C\n",
      "====> Breaking current simulation at t= 22 as cumulative cost magnitude exceed 1e+08\n",
      "====> Breaking current simulation at t= 31 as cumulative cost magnitude exceed 1e+08\n",
      "====> Breaking current simulation at t= 35 as cumulative cost magnitude exceed 1e+08\n",
      "====> Breaking current simulation at t= 36 as cumulative cost magnitude exceed 1e+08\n",
      "====> Breaking current simulation at t= 72 as cumulative cost magnitude exceed 1e+08\n",
      "====> Breaking current simulation at t= 74 as cumulative cost magnitude exceed 1e+08\n",
      "====> Breaking current simulation at t= 80 as cumulative cost magnitude exceed 1e+08\n",
      "====> Breaking current simulation at t= 83 as cumulative cost magnitude exceed 1e+08\n",
      "====> Breaking current simulation at t= 84 as cumulative cost magnitude exceed 1e+08\n",
      "====> Breaking current simulation at t= 88 as cumulative cost magnitude exceed 1e+08\n",
      "====> Breaking current simulation at t= 21 as cumulative cost magnitude exceed 1e+08\n",
      "====> Breaking current simulation at t= 28 as cumulative cost magnitude exceed 1e+08\n",
      "====> Breaking current simulation at t= 35 as cumulative cost magnitude exceed 1e+08\n",
      "====> Breaking current simulation at t= 36 as cumulative cost magnitude exceed 1e+08\n",
      "====> Breaking current simulation at t= 71 as cumulative cost magnitude exceed 1e+08\n",
      "====> Breaking current simulation at t= 82 as cumulative cost magnitude exceed 1e+08\n",
      "Simulation end: Comparison of actuator selection of A vs B on C\n",
      "Realization: 4 / 100\n",
      "Simulation start: Comparison of actuator selection of A vs B on C\n",
      "====> Breaking current simulation at t= 14 as cumulative cost magnitude exceed 1e+08\n",
      "====> Breaking current simulation at t= 15 as cumulative cost magnitude exceed 1e+08\n",
      "====> Breaking current simulation at t= 15 as cumulative cost magnitude exceed 1e+08\n",
      "====> Breaking current simulation at t= 16 as cumulative cost magnitude exceed 1e+08\n",
      "====> Breaking current simulation at t= 17 as cumulative cost magnitude exceed 1e+08\n",
      "====> Breaking current simulation at t= 17 as cumulative cost magnitude exceed 1e+08\n",
      "====> Breaking current simulation at t= 18 as cumulative cost magnitude exceed 1e+08\n",
      "====> Breaking current simulation at t= 18 as cumulative cost magnitude exceed 1e+08\n",
      "====> Breaking current simulation at t= 18 as cumulative cost magnitude exceed 1e+08\n",
      "====> Breaking current simulation at t= 18 as cumulative cost magnitude exceed 1e+08\n",
      "====> Breaking current simulation at t= 18 as cumulative cost magnitude exceed 1e+08\n",
      "====> Breaking current simulation at t= 19 as cumulative cost magnitude exceed 1e+08\n",
      "====> Breaking current simulation at t= 33 as cumulative cost magnitude exceed 1e+08\n",
      "====> Breaking current simulation at t= 33 as cumulative cost magnitude exceed 1e+08\n",
      "====> Breaking current simulation at t= 48 as cumulative cost magnitude exceed 1e+08\n",
      "====> Breaking current simulation at t= 51 as cumulative cost magnitude exceed 1e+08\n",
      "====> Breaking current simulation at t= 57 as cumulative cost magnitude exceed 1e+08\n",
      "====> Breaking current simulation at t= 61 as cumulative cost magnitude exceed 1e+08\n",
      "====> Breaking current simulation at t= 62 as cumulative cost magnitude exceed 1e+08\n",
      "====> Breaking current simulation at t= 63 as cumulative cost magnitude exceed 1e+08\n",
      "====> Breaking current simulation at t= 14 as cumulative cost magnitude exceed 1e+08\n",
      "====> Breaking current simulation at t= 15 as cumulative cost magnitude exceed 1e+08\n",
      "====> Breaking current simulation at t= 16 as cumulative cost magnitude exceed 1e+08\n",
      "====> Breaking current simulation at t= 17 as cumulative cost magnitude exceed 1e+08\n",
      "====> Breaking current simulation at t= 18 as cumulative cost magnitude exceed 1e+08\n",
      "====> Breaking current simulation at t= 33 as cumulative cost magnitude exceed 1e+08\n",
      "====> Breaking current simulation at t= 50 as cumulative cost magnitude exceed 1e+08\n",
      "====> Breaking current simulation at t= 62 as cumulative cost magnitude exceed 1e+08\n",
      "====> Breaking current simulation at t= 65 as cumulative cost magnitude exceed 1e+08\n",
      "Simulation end: Comparison of actuator selection of A vs B on C\n",
      "Realization: 5 / 100\n",
      "Simulation start: Comparison of actuator selection of A vs B on C\n",
      "====> Breaking current simulation at t= 19 as cumulative cost magnitude exceed 1e+08\n",
      "====> Breaking current simulation at t= 19 as cumulative cost magnitude exceed 1e+08\n",
      "====> Breaking current simulation at t= 19 as cumulative cost magnitude exceed 1e+08\n",
      "====> Breaking current simulation at t= 22 as cumulative cost magnitude exceed 1e+08\n",
      "====> Breaking current simulation at t= 22 as cumulative cost magnitude exceed 1e+08\n",
      "====> Breaking current simulation at t= 23 as cumulative cost magnitude exceed 1e+08\n",
      "====> Breaking current simulation at t= 23 as cumulative cost magnitude exceed 1e+08\n",
      "====> Breaking current simulation at t= 23 as cumulative cost magnitude exceed 1e+08\n",
      "====> Breaking current simulation at t= 23 as cumulative cost magnitude exceed 1e+08\n",
      "====> Breaking current simulation at t= 29 as cumulative cost magnitude exceed 1e+08\n",
      "====> Breaking current simulation at t= 29 as cumulative cost magnitude exceed 1e+08\n",
      "====> Breaking current simulation at t= 30 as cumulative cost magnitude exceed 1e+08\n",
      "====> Breaking current simulation at t= 31 as cumulative cost magnitude exceed 1e+08\n",
      "====> Breaking current simulation at t= 49 as cumulative cost magnitude exceed 1e+08\n",
      "====> Breaking current simulation at t= 56 as cumulative cost magnitude exceed 1e+08\n",
      "====> Breaking current simulation at t= 19 as cumulative cost magnitude exceed 1e+08\n",
      "====> Breaking current simulation at t= 20 as cumulative cost magnitude exceed 1e+08\n",
      "====> Breaking current simulation at t= 23 as cumulative cost magnitude exceed 1e+08\n",
      "====> Breaking current simulation at t= 23 as cumulative cost magnitude exceed 1e+08\n",
      "====> Breaking current simulation at t= 29 as cumulative cost magnitude exceed 1e+08\n",
      "====> Breaking current simulation at t= 30 as cumulative cost magnitude exceed 1e+08\n",
      "====> Breaking current simulation at t= 30 as cumulative cost magnitude exceed 1e+08\n",
      "====> Breaking current simulation at t= 51 as cumulative cost magnitude exceed 1e+08\n",
      "Simulation end: Comparison of actuator selection of A vs B on C\n",
      "Realization: 6 / 100\n",
      "Simulation start: Comparison of actuator selection of A vs B on C\n",
      "====> Breaking current simulation at t= 24 as cumulative cost magnitude exceed 1e+08\n",
      "====> Breaking current simulation at t= 25 as cumulative cost magnitude exceed 1e+08\n",
      "====> Breaking current simulation at t= 25 as cumulative cost magnitude exceed 1e+08\n",
      "====> Breaking current simulation at t= 28 as cumulative cost magnitude exceed 1e+08\n",
      "====> Breaking current simulation at t= 29 as cumulative cost magnitude exceed 1e+08\n",
      "====> Breaking current simulation at t= 34 as cumulative cost magnitude exceed 1e+08\n",
      "====> Breaking current simulation at t= 35 as cumulative cost magnitude exceed 1e+08\n",
      "====> Breaking current simulation at t= 54 as cumulative cost magnitude exceed 1e+08\n",
      "====> Breaking current simulation at t= 61 as cumulative cost magnitude exceed 1e+08\n",
      "====> Breaking current simulation at t= 62 as cumulative cost magnitude exceed 1e+08\n",
      "====> Breaking current simulation at t= 82 as cumulative cost magnitude exceed 1e+08\n",
      "====> Breaking current simulation at t= 170 as cumulative cost magnitude exceed 1e+08\n",
      "====> Breaking current simulation at t= 24 as cumulative cost magnitude exceed 1e+08\n",
      "====> Breaking current simulation at t= 25 as cumulative cost magnitude exceed 1e+08\n",
      "====> Breaking current simulation at t= 29 as cumulative cost magnitude exceed 1e+08\n",
      "====> Breaking current simulation at t= 35 as cumulative cost magnitude exceed 1e+08\n",
      "====> Breaking current simulation at t= 62 as cumulative cost magnitude exceed 1e+08\n",
      "====> Breaking current simulation at t= 65 as cumulative cost magnitude exceed 1e+08\n",
      "Simulation end: Comparison of actuator selection of A vs B on C\n",
      "Realization: 7 / 100\n",
      "Simulation start: Comparison of actuator selection of A vs B on C\n",
      "====> Breaking current simulation at t= 23 as cumulative cost magnitude exceed 1e+08\n",
      "====> Breaking current simulation at t= 26 as cumulative cost magnitude exceed 1e+08\n",
      "====> Breaking current simulation at t= 28 as cumulative cost magnitude exceed 1e+08\n",
      "====> Breaking current simulation at t= 29 as cumulative cost magnitude exceed 1e+08\n",
      "====> Breaking current simulation at t= 29 as cumulative cost magnitude exceed 1e+08\n",
      "====> Breaking current simulation at t= 30 as cumulative cost magnitude exceed 1e+08\n",
      "====> Breaking current simulation at t= 30 as cumulative cost magnitude exceed 1e+08\n",
      "====> Breaking current simulation at t= 30 as cumulative cost magnitude exceed 1e+08\n",
      "====> Breaking current simulation at t= 31 as cumulative cost magnitude exceed 1e+08\n",
      "====> Breaking current simulation at t= 35 as cumulative cost magnitude exceed 1e+08\n",
      "====> Breaking current simulation at t= 41 as cumulative cost magnitude exceed 1e+08\n",
      "====> Breaking current simulation at t= 42 as cumulative cost magnitude exceed 1e+08\n",
      "====> Breaking current simulation at t= 42 as cumulative cost magnitude exceed 1e+08\n",
      "====> Breaking current simulation at t= 43 as cumulative cost magnitude exceed 1e+08\n",
      "====> Breaking current simulation at t= 50 as cumulative cost magnitude exceed 1e+08\n",
      "====> Breaking current simulation at t= 59 as cumulative cost magnitude exceed 1e+08\n",
      "====> Breaking current simulation at t= 60 as cumulative cost magnitude exceed 1e+08\n",
      "====> Breaking current simulation at t= 65 as cumulative cost magnitude exceed 1e+08\n",
      "====> Breaking current simulation at t= 65 as cumulative cost magnitude exceed 1e+08\n",
      "====> Breaking current simulation at t= 68 as cumulative cost magnitude exceed 1e+08\n",
      "====> Breaking current simulation at t= 23 as cumulative cost magnitude exceed 1e+08\n",
      "====> Breaking current simulation at t= 28 as cumulative cost magnitude exceed 1e+08\n",
      "====> Breaking current simulation at t= 29 as cumulative cost magnitude exceed 1e+08\n",
      "====> Breaking current simulation at t= 30 as cumulative cost magnitude exceed 1e+08\n",
      "====> Breaking current simulation at t= 31 as cumulative cost magnitude exceed 1e+08\n",
      "====> Breaking current simulation at t= 41 as cumulative cost magnitude exceed 1e+08\n",
      "====> Breaking current simulation at t= 42 as cumulative cost magnitude exceed 1e+08\n",
      "====> Breaking current simulation at t= 43 as cumulative cost magnitude exceed 1e+08\n",
      "====> Breaking current simulation at t= 63 as cumulative cost magnitude exceed 1e+08\n",
      "====> Breaking current simulation at t= 62 as cumulative cost magnitude exceed 1e+08\n",
      "====> Breaking current simulation at t= 93 as cumulative cost magnitude exceed 1e+08\n",
      "Simulation end: Comparison of actuator selection of A vs B on C\n",
      "Realization: 8 / 100\n",
      "Simulation start: Comparison of actuator selection of A vs B on C\n",
      "====> Breaking current simulation at t= 12 as cumulative cost magnitude exceed 1e+08\n",
      "====> Breaking current simulation at t= 13 as cumulative cost magnitude exceed 1e+08\n",
      "====> Breaking current simulation at t= 13 as cumulative cost magnitude exceed 1e+08\n",
      "====> Breaking current simulation at t= 13 as cumulative cost magnitude exceed 1e+08\n",
      "====> Breaking current simulation at t= 13 as cumulative cost magnitude exceed 1e+08\n",
      "====> Breaking current simulation at t= 13 as cumulative cost magnitude exceed 1e+08\n",
      "====> Breaking current simulation at t= 14 as cumulative cost magnitude exceed 1e+08\n",
      "====> Breaking current simulation at t= 18 as cumulative cost magnitude exceed 1e+08\n",
      "====> Breaking current simulation at t= 19 as cumulative cost magnitude exceed 1e+08\n",
      "====> Breaking current simulation at t= 19 as cumulative cost magnitude exceed 1e+08\n",
      "====> Breaking current simulation at t= 25 as cumulative cost magnitude exceed 1e+08\n",
      "====> Breaking current simulation at t= 26 as cumulative cost magnitude exceed 1e+08\n",
      "====> Breaking current simulation at t= 27 as cumulative cost magnitude exceed 1e+08\n",
      "====> Breaking current simulation at t= 27 as cumulative cost magnitude exceed 1e+08\n",
      "====> Breaking current simulation at t= 27 as cumulative cost magnitude exceed 1e+08\n",
      "====> Breaking current simulation at t= 28 as cumulative cost magnitude exceed 1e+08\n",
      "====> Breaking current simulation at t= 28 as cumulative cost magnitude exceed 1e+08\n",
      "====> Breaking current simulation at t= 28 as cumulative cost magnitude exceed 1e+08\n",
      "====> Breaking current simulation at t= 28 as cumulative cost magnitude exceed 1e+08\n",
      "====> Breaking current simulation at t= 28 as cumulative cost magnitude exceed 1e+08\n",
      "====> Breaking current simulation at t= 13 as cumulative cost magnitude exceed 1e+08\n",
      "====> Breaking current simulation at t= 13 as cumulative cost magnitude exceed 1e+08\n",
      "====> Breaking current simulation at t= 13 as cumulative cost magnitude exceed 1e+08\n",
      "====> Breaking current simulation at t= 14 as cumulative cost magnitude exceed 1e+08\n",
      "====> Breaking current simulation at t= 18 as cumulative cost magnitude exceed 1e+08\n",
      "====> Breaking current simulation at t= 19 as cumulative cost magnitude exceed 1e+08\n",
      "====> Breaking current simulation at t= 20 as cumulative cost magnitude exceed 1e+08\n",
      "====> Breaking current simulation at t= 27 as cumulative cost magnitude exceed 1e+08\n",
      "====> Breaking current simulation at t= 29 as cumulative cost magnitude exceed 1e+08\n",
      "====> Breaking current simulation at t= 35 as cumulative cost magnitude exceed 1e+08\n",
      "====> Breaking current simulation at t= 41 as cumulative cost magnitude exceed 1e+08\n",
      "====> Breaking current simulation at t= 41 as cumulative cost magnitude exceed 1e+08\n",
      "====> Breaking current simulation at t= 43 as cumulative cost magnitude exceed 1e+08\n",
      "Simulation end: Comparison of actuator selection of A vs B on C\n",
      "Realization: 9 / 100\n",
      "Simulation start: Comparison of actuator selection of A vs B on C\n",
      "====> Breaking current simulation at t= 40 as cumulative cost magnitude exceed 1e+08\n",
      "====> Breaking current simulation at t= 47 as cumulative cost magnitude exceed 1e+08\n",
      "====> Breaking current simulation at t= 49 as cumulative cost magnitude exceed 1e+08\n",
      "====> Breaking current simulation at t= 62 as cumulative cost magnitude exceed 1e+08\n",
      "====> Breaking current simulation at t= 76 as cumulative cost magnitude exceed 1e+08\n",
      "====> Breaking current simulation at t= 80 as cumulative cost magnitude exceed 1e+08\n",
      "====> Breaking current simulation at t= 82 as cumulative cost magnitude exceed 1e+08\n",
      "====> Breaking current simulation at t= 85 as cumulative cost magnitude exceed 1e+08\n",
      "====> Breaking current simulation at t= 116 as cumulative cost magnitude exceed 1e+08\n",
      "====> Breaking current simulation at t= 40 as cumulative cost magnitude exceed 1e+08\n",
      "====> Breaking current simulation at t= 51 as cumulative cost magnitude exceed 1e+08\n",
      "====> Breaking current simulation at t= 83 as cumulative cost magnitude exceed 1e+08\n",
      "Simulation end: Comparison of actuator selection of A vs B on C\n",
      "Realization: 10 / 100\n",
      "Simulation start: Comparison of actuator selection of A vs B on C\n",
      "====> Breaking current simulation at t= 50 as cumulative cost magnitude exceed 1e+08\n",
      "====> Breaking current simulation at t= 54 as cumulative cost magnitude exceed 1e+08\n",
      "====> Breaking current simulation at t= 59 as cumulative cost magnitude exceed 1e+08\n",
      "====> Breaking current simulation at t= 78 as cumulative cost magnitude exceed 1e+08\n",
      "====> Breaking current simulation at t= 80 as cumulative cost magnitude exceed 1e+08\n",
      "====> Breaking current simulation at t= 81 as cumulative cost magnitude exceed 1e+08\n",
      "====> Breaking current simulation at t= 82 as cumulative cost magnitude exceed 1e+08\n",
      "====> Breaking current simulation at t= 84 as cumulative cost magnitude exceed 1e+08\n",
      "====> Breaking current simulation at t= 89 as cumulative cost magnitude exceed 1e+08\n",
      "====> Breaking current simulation at t= 92 as cumulative cost magnitude exceed 1e+08\n",
      "====> Breaking current simulation at t= 102 as cumulative cost magnitude exceed 1e+08\n",
      "====> Breaking current simulation at t= 109 as cumulative cost magnitude exceed 1e+08\n",
      "====> Breaking current simulation at t= 107 as cumulative cost magnitude exceed 1e+08\n",
      "====> Breaking current simulation at t= 120 as cumulative cost magnitude exceed 1e+08\n",
      "====> Breaking current simulation at t= 123 as cumulative cost magnitude exceed 1e+08\n",
      "====> Breaking current simulation at t= 57 as cumulative cost magnitude exceed 1e+08\n",
      "====> Breaking current simulation at t= 78 as cumulative cost magnitude exceed 1e+08\n",
      "====> Breaking current simulation at t= 80 as cumulative cost magnitude exceed 1e+08\n",
      "====> Breaking current simulation at t= 101 as cumulative cost magnitude exceed 1e+08\n",
      "====> Breaking current simulation at t= 102 as cumulative cost magnitude exceed 1e+08\n",
      "Simulation end: Comparison of actuator selection of A vs B on C\n",
      "Realization: 11 / 100\n",
      "Simulation start: Comparison of actuator selection of A vs B on C\n",
      "====> Breaking current simulation at t= 31 as cumulative cost magnitude exceed 1e+08\n",
      "====> Breaking current simulation at t= 31 as cumulative cost magnitude exceed 1e+08\n",
      "====> Breaking current simulation at t= 34 as cumulative cost magnitude exceed 1e+08\n",
      "====> Breaking current simulation at t= 46 as cumulative cost magnitude exceed 1e+08\n",
      "====> Breaking current simulation at t= 47 as cumulative cost magnitude exceed 1e+08\n",
      "====> Breaking current simulation at t= 47 as cumulative cost magnitude exceed 1e+08\n",
      "====> Breaking current simulation at t= 53 as cumulative cost magnitude exceed 1e+08\n",
      "====> Breaking current simulation at t= 59 as cumulative cost magnitude exceed 1e+08\n",
      "====> Breaking current simulation at t= 60 as cumulative cost magnitude exceed 1e+08\n",
      "====> Breaking current simulation at t= 62 as cumulative cost magnitude exceed 1e+08\n",
      "====> Breaking current simulation at t= 64 as cumulative cost magnitude exceed 1e+08\n",
      "====> Breaking current simulation at t= 65 as cumulative cost magnitude exceed 1e+08\n",
      "====> Breaking current simulation at t= 68 as cumulative cost magnitude exceed 1e+08\n",
      "====> Breaking current simulation at t= 71 as cumulative cost magnitude exceed 1e+08\n",
      "====> Breaking current simulation at t= 73 as cumulative cost magnitude exceed 1e+08\n",
      "====> Breaking current simulation at t= 74 as cumulative cost magnitude exceed 1e+08\n",
      "====> Breaking current simulation at t= 88 as cumulative cost magnitude exceed 1e+08\n",
      "====> Breaking current simulation at t= 106 as cumulative cost magnitude exceed 1e+08\n",
      "====> Breaking current simulation at t= 121 as cumulative cost magnitude exceed 1e+08\n",
      "====> Breaking current simulation at t= 31 as cumulative cost magnitude exceed 1e+08\n",
      "====> Breaking current simulation at t= 34 as cumulative cost magnitude exceed 1e+08\n",
      "====> Breaking current simulation at t= 48 as cumulative cost magnitude exceed 1e+08\n",
      "====> Breaking current simulation at t= 60 as cumulative cost magnitude exceed 1e+08\n",
      "====> Breaking current simulation at t= 63 as cumulative cost magnitude exceed 1e+08\n",
      "====> Breaking current simulation at t= 63 as cumulative cost magnitude exceed 1e+08\n",
      "====> Breaking current simulation at t= 66 as cumulative cost magnitude exceed 1e+08\n",
      "====> Breaking current simulation at t= 72 as cumulative cost magnitude exceed 1e+08\n",
      "====> Breaking current simulation at t= 86 as cumulative cost magnitude exceed 1e+08\n",
      "Simulation end: Comparison of actuator selection of A vs B on C\n",
      "Realization: 12 / 100\n",
      "Simulation start: Comparison of actuator selection of A vs B on C\n"
     ]
    },
    {
     "ename": "KeyboardInterrupt",
     "evalue": "",
     "output_type": "error",
     "traceback": [
      "\u001b[1;31m---------------------------------------------------------------------------\u001b[0m",
      "\u001b[1;31mKeyboardInterrupt\u001b[0m                         Traceback (most recent call last)",
      "\u001b[1;32m<ipython-input-4-9688cb2a0bec>\u001b[0m in \u001b[0;36m<module>\u001b[1;34m\u001b[0m\n\u001b[1;32m----> 1\u001b[1;33m \u001b[0msimulation_values\u001b[0m \u001b[1;33m=\u001b[0m \u001b[0mrandom_graph_empirical_simulation\u001b[0m\u001b[1;33m(\u001b[0m\u001b[0mS_base_model\u001b[0m\u001b[1;33m,\u001b[0m \u001b[0mNetwork_parameter\u001b[0m\u001b[1;33m,\u001b[0m \u001b[0mNetwork_type\u001b[0m\u001b[1;33m,\u001b[0m \u001b[0mN_test\u001b[0m\u001b[1;33m)\u001b[0m\u001b[1;33m\u001b[0m\u001b[1;33m\u001b[0m\u001b[0m\n\u001b[0m",
      "\u001b[1;32mD:\\Git\\multiplicative_noise_system\\functionfile_system_mplcost.py\u001b[0m in \u001b[0;36mrandom_graph_empirical_simulation\u001b[1;34m(sys_model, network_parameter, network_type, number_of_iterations)\u001b[0m\n\u001b[0;32m   1051\u001b[0m             \u001b[0mprint\u001b[0m\u001b[1;33m(\u001b[0m\u001b[1;34m'True System Error'\u001b[0m\u001b[1;33m)\u001b[0m\u001b[1;33m\u001b[0m\u001b[1;33m\u001b[0m\u001b[0m\n\u001b[0;32m   1052\u001b[0m \u001b[1;33m\u001b[0m\u001b[0m\n\u001b[1;32m-> 1053\u001b[1;33m         \u001b[0mret_sim\u001b[0m \u001b[1;33m=\u001b[0m \u001b[0msimulation_model_comparison\u001b[0m\u001b[1;33m(\u001b[0m\u001b[0mS_A\u001b[0m\u001b[1;33m,\u001b[0m \u001b[0mS_B\u001b[0m\u001b[1;33m,\u001b[0m \u001b[0mS_C\u001b[0m\u001b[1;33m)\u001b[0m\u001b[1;33m\u001b[0m\u001b[1;33m\u001b[0m\u001b[0m\n\u001b[0m\u001b[0;32m   1054\u001b[0m \u001b[1;33m\u001b[0m\u001b[0m\n\u001b[0;32m   1055\u001b[0m         \u001b[1;32mfor\u001b[0m \u001b[0mi\u001b[0m \u001b[1;32min\u001b[0m \u001b[0mret_sim\u001b[0m\u001b[1;33m[\u001b[0m\u001b[1;34m'T_A'\u001b[0m\u001b[1;33m]\u001b[0m\u001b[1;33m[\u001b[0m\u001b[1;34m'costs'\u001b[0m\u001b[1;33m]\u001b[0m\u001b[1;33m:\u001b[0m\u001b[1;33m\u001b[0m\u001b[1;33m\u001b[0m\u001b[0m\n",
      "\u001b[1;32mD:\\Git\\multiplicative_noise_system\\functionfile_system_mplcost.py\u001b[0m in \u001b[0;36msimulation_model_comparison\u001b[1;34m(sys_modelA_in, sys_modelB_in, sys_true_in, initial_values)\u001b[0m\n\u001b[0;32m    636\u001b[0m \u001b[1;33m\u001b[0m\u001b[0m\n\u001b[0;32m    637\u001b[0m     \u001b[0msys_modelA\u001b[0m \u001b[1;33m=\u001b[0m \u001b[0mdc\u001b[0m\u001b[1;33m(\u001b[0m\u001b[0mactuator_selection_cost_1\u001b[0m\u001b[1;33m(\u001b[0m\u001b[0msys_modelA\u001b[0m\u001b[1;33m,\u001b[0m \u001b[0minitial_values\u001b[0m\u001b[1;33m=\u001b[0m\u001b[0minitial_values\u001b[0m\u001b[1;33m)\u001b[0m\u001b[1;33m[\u001b[0m\u001b[1;34m'system'\u001b[0m\u001b[1;33m]\u001b[0m\u001b[1;33m)\u001b[0m\u001b[1;33m\u001b[0m\u001b[1;33m\u001b[0m\u001b[0m\n\u001b[1;32m--> 638\u001b[1;33m     \u001b[0msys_modelB\u001b[0m \u001b[1;33m=\u001b[0m \u001b[0mdc\u001b[0m\u001b[1;33m(\u001b[0m\u001b[0mactuator_selection_cost_1\u001b[0m\u001b[1;33m(\u001b[0m\u001b[0msys_modelB\u001b[0m\u001b[1;33m,\u001b[0m \u001b[0minitial_values\u001b[0m\u001b[1;33m=\u001b[0m\u001b[0minitial_values\u001b[0m\u001b[1;33m)\u001b[0m\u001b[1;33m[\u001b[0m\u001b[1;34m'system'\u001b[0m\u001b[1;33m]\u001b[0m\u001b[1;33m)\u001b[0m\u001b[1;33m\u001b[0m\u001b[1;33m\u001b[0m\u001b[0m\n\u001b[0m\u001b[0;32m    639\u001b[0m \u001b[1;33m\u001b[0m\u001b[0m\n\u001b[0;32m    640\u001b[0m     \u001b[0mret_A\u001b[0m \u001b[1;33m=\u001b[0m \u001b[0msimulation_actuator_selection\u001b[0m\u001b[1;33m(\u001b[0m\u001b[0msys_modelA\u001b[0m\u001b[1;33m,\u001b[0m \u001b[0msys_true\u001b[0m\u001b[1;33m,\u001b[0m \u001b[0minitial_values\u001b[0m\u001b[1;33m=\u001b[0m\u001b[0minitial_values\u001b[0m\u001b[1;33m)\u001b[0m\u001b[1;33m\u001b[0m\u001b[1;33m\u001b[0m\u001b[0m\n",
      "\u001b[1;32mD:\\Git\\multiplicative_noise_system\\functionfile_system_mplcost.py\u001b[0m in \u001b[0;36mactuator_selection_cost_1\u001b[1;34m(sys_in, nu_2, initial_values)\u001b[0m\n\u001b[0;32m    192\u001b[0m             \u001b[0mB_test\u001b[0m\u001b[1;33m[\u001b[0m\u001b[0mj\u001b[0m\u001b[1;33m,\u001b[0m \u001b[0mi\u001b[0m\u001b[1;33m]\u001b[0m \u001b[1;33m=\u001b[0m \u001b[1;36m1\u001b[0m\u001b[1;33m\u001b[0m\u001b[1;33m\u001b[0m\u001b[0m\n\u001b[0;32m    193\u001b[0m \u001b[1;33m\u001b[0m\u001b[0m\n\u001b[1;32m--> 194\u001b[1;33m             \u001b[0msys_test\u001b[0m \u001b[1;33m=\u001b[0m \u001b[0mdc\u001b[0m\u001b[1;33m(\u001b[0m\u001b[0msys\u001b[0m\u001b[1;33m)\u001b[0m\u001b[1;33m\u001b[0m\u001b[1;33m\u001b[0m\u001b[0m\n\u001b[0m\u001b[0;32m    195\u001b[0m             \u001b[0msys_test\u001b[0m\u001b[1;33m[\u001b[0m\u001b[1;34m'B'\u001b[0m\u001b[1;33m]\u001b[0m \u001b[1;33m=\u001b[0m \u001b[0mdc\u001b[0m\u001b[1;33m(\u001b[0m\u001b[0mB_test\u001b[0m\u001b[1;33m)\u001b[0m\u001b[1;33m\u001b[0m\u001b[1;33m\u001b[0m\u001b[0m\n\u001b[0;32m    196\u001b[0m             \u001b[1;32mif\u001b[0m \u001b[0mnp\u001b[0m\u001b[1;33m.\u001b[0m\u001b[0msum\u001b[0m\u001b[1;33m(\u001b[0m\u001b[0msys_test\u001b[0m\u001b[1;33m[\u001b[0m\u001b[1;34m'betaj'\u001b[0m\u001b[1;33m]\u001b[0m\u001b[1;33m)\u001b[0m\u001b[1;33m>\u001b[0m\u001b[1;36m0\u001b[0m\u001b[1;33m:\u001b[0m\u001b[1;33m\u001b[0m\u001b[1;33m\u001b[0m\u001b[0m\n",
      "\u001b[1;32mD:\\Anaconda\\envs\\work\\lib\\copy.py\u001b[0m in \u001b[0;36mdeepcopy\u001b[1;34m(x, memo, _nil)\u001b[0m\n\u001b[0;32m    144\u001b[0m     \u001b[0mcopier\u001b[0m \u001b[1;33m=\u001b[0m \u001b[0m_deepcopy_dispatch\u001b[0m\u001b[1;33m.\u001b[0m\u001b[0mget\u001b[0m\u001b[1;33m(\u001b[0m\u001b[0mcls\u001b[0m\u001b[1;33m)\u001b[0m\u001b[1;33m\u001b[0m\u001b[1;33m\u001b[0m\u001b[0m\n\u001b[0;32m    145\u001b[0m     \u001b[1;32mif\u001b[0m \u001b[0mcopier\u001b[0m \u001b[1;32mis\u001b[0m \u001b[1;32mnot\u001b[0m \u001b[1;32mNone\u001b[0m\u001b[1;33m:\u001b[0m\u001b[1;33m\u001b[0m\u001b[1;33m\u001b[0m\u001b[0m\n\u001b[1;32m--> 146\u001b[1;33m         \u001b[0my\u001b[0m \u001b[1;33m=\u001b[0m \u001b[0mcopier\u001b[0m\u001b[1;33m(\u001b[0m\u001b[0mx\u001b[0m\u001b[1;33m,\u001b[0m \u001b[0mmemo\u001b[0m\u001b[1;33m)\u001b[0m\u001b[1;33m\u001b[0m\u001b[1;33m\u001b[0m\u001b[0m\n\u001b[0m\u001b[0;32m    147\u001b[0m     \u001b[1;32melse\u001b[0m\u001b[1;33m:\u001b[0m\u001b[1;33m\u001b[0m\u001b[1;33m\u001b[0m\u001b[0m\n\u001b[0;32m    148\u001b[0m         \u001b[1;32mif\u001b[0m \u001b[0missubclass\u001b[0m\u001b[1;33m(\u001b[0m\u001b[0mcls\u001b[0m\u001b[1;33m,\u001b[0m \u001b[0mtype\u001b[0m\u001b[1;33m)\u001b[0m\u001b[1;33m:\u001b[0m\u001b[1;33m\u001b[0m\u001b[1;33m\u001b[0m\u001b[0m\n",
      "\u001b[1;32mD:\\Anaconda\\envs\\work\\lib\\copy.py\u001b[0m in \u001b[0;36m_deepcopy_dict\u001b[1;34m(x, memo, deepcopy)\u001b[0m\n\u001b[0;32m    228\u001b[0m     \u001b[0mmemo\u001b[0m\u001b[1;33m[\u001b[0m\u001b[0mid\u001b[0m\u001b[1;33m(\u001b[0m\u001b[0mx\u001b[0m\u001b[1;33m)\u001b[0m\u001b[1;33m]\u001b[0m \u001b[1;33m=\u001b[0m \u001b[0my\u001b[0m\u001b[1;33m\u001b[0m\u001b[1;33m\u001b[0m\u001b[0m\n\u001b[0;32m    229\u001b[0m     \u001b[1;32mfor\u001b[0m \u001b[0mkey\u001b[0m\u001b[1;33m,\u001b[0m \u001b[0mvalue\u001b[0m \u001b[1;32min\u001b[0m \u001b[0mx\u001b[0m\u001b[1;33m.\u001b[0m\u001b[0mitems\u001b[0m\u001b[1;33m(\u001b[0m\u001b[1;33m)\u001b[0m\u001b[1;33m:\u001b[0m\u001b[1;33m\u001b[0m\u001b[1;33m\u001b[0m\u001b[0m\n\u001b[1;32m--> 230\u001b[1;33m         \u001b[0my\u001b[0m\u001b[1;33m[\u001b[0m\u001b[0mdeepcopy\u001b[0m\u001b[1;33m(\u001b[0m\u001b[0mkey\u001b[0m\u001b[1;33m,\u001b[0m \u001b[0mmemo\u001b[0m\u001b[1;33m)\u001b[0m\u001b[1;33m]\u001b[0m \u001b[1;33m=\u001b[0m \u001b[0mdeepcopy\u001b[0m\u001b[1;33m(\u001b[0m\u001b[0mvalue\u001b[0m\u001b[1;33m,\u001b[0m \u001b[0mmemo\u001b[0m\u001b[1;33m)\u001b[0m\u001b[1;33m\u001b[0m\u001b[1;33m\u001b[0m\u001b[0m\n\u001b[0m\u001b[0;32m    231\u001b[0m     \u001b[1;32mreturn\u001b[0m \u001b[0my\u001b[0m\u001b[1;33m\u001b[0m\u001b[1;33m\u001b[0m\u001b[0m\n\u001b[0;32m    232\u001b[0m \u001b[0md\u001b[0m\u001b[1;33m[\u001b[0m\u001b[0mdict\u001b[0m\u001b[1;33m]\u001b[0m \u001b[1;33m=\u001b[0m \u001b[0m_deepcopy_dict\u001b[0m\u001b[1;33m\u001b[0m\u001b[1;33m\u001b[0m\u001b[0m\n",
      "\u001b[1;32mD:\\Anaconda\\envs\\work\\lib\\copy.py\u001b[0m in \u001b[0;36mdeepcopy\u001b[1;34m(x, memo, _nil)\u001b[0m\n\u001b[0;32m    151\u001b[0m             \u001b[0mcopier\u001b[0m \u001b[1;33m=\u001b[0m \u001b[0mgetattr\u001b[0m\u001b[1;33m(\u001b[0m\u001b[0mx\u001b[0m\u001b[1;33m,\u001b[0m \u001b[1;34m\"__deepcopy__\"\u001b[0m\u001b[1;33m,\u001b[0m \u001b[1;32mNone\u001b[0m\u001b[1;33m)\u001b[0m\u001b[1;33m\u001b[0m\u001b[1;33m\u001b[0m\u001b[0m\n\u001b[0;32m    152\u001b[0m             \u001b[1;32mif\u001b[0m \u001b[0mcopier\u001b[0m \u001b[1;32mis\u001b[0m \u001b[1;32mnot\u001b[0m \u001b[1;32mNone\u001b[0m\u001b[1;33m:\u001b[0m\u001b[1;33m\u001b[0m\u001b[1;33m\u001b[0m\u001b[0m\n\u001b[1;32m--> 153\u001b[1;33m                 \u001b[0my\u001b[0m \u001b[1;33m=\u001b[0m \u001b[0mcopier\u001b[0m\u001b[1;33m(\u001b[0m\u001b[0mmemo\u001b[0m\u001b[1;33m)\u001b[0m\u001b[1;33m\u001b[0m\u001b[1;33m\u001b[0m\u001b[0m\n\u001b[0m\u001b[0;32m    154\u001b[0m             \u001b[1;32melse\u001b[0m\u001b[1;33m:\u001b[0m\u001b[1;33m\u001b[0m\u001b[1;33m\u001b[0m\u001b[0m\n\u001b[0;32m    155\u001b[0m                 \u001b[0mreductor\u001b[0m \u001b[1;33m=\u001b[0m \u001b[0mdispatch_table\u001b[0m\u001b[1;33m.\u001b[0m\u001b[0mget\u001b[0m\u001b[1;33m(\u001b[0m\u001b[0mcls\u001b[0m\u001b[1;33m)\u001b[0m\u001b[1;33m\u001b[0m\u001b[1;33m\u001b[0m\u001b[0m\n",
      "\u001b[1;31mKeyboardInterrupt\u001b[0m: "
     ]
    }
   ],
   "source": [
    "simulation_values = random_graph_empirical_simulation(S_base_model, Network_parameter, Network_type, N_test)"
   ]
  },
  {
   "cell_type": "markdown",
   "id": "7018e198-2eae-41c1-aa2b-70593f76bbbd",
   "metadata": {
    "tags": []
   },
   "source": [
    "### Plot"
   ]
  },
  {
   "cell_type": "code",
   "execution_count": null,
   "id": "8ff30fca-0664-4ae2-a3f8-8a2de380f45e",
   "metadata": {
    "jupyter": {
     "source_hidden": true
    },
    "tags": []
   },
   "outputs": [],
   "source": [
    "plot_random_graph_simulation(simulation_values)"
   ]
  },
  {
   "cell_type": "code",
   "execution_count": null,
   "id": "2ac56860-a511-4771-b874-fe6a5cdbba49",
   "metadata": {
    "jupyter": {
     "source_hidden": true
    },
    "tags": []
   },
   "outputs": [],
   "source": [
    "plot_random_graph_simulation2(simulation_values)"
   ]
  },
  {
   "cell_type": "markdown",
   "id": "f93772b4-bfce-407b-aa24-b8c866669bb7",
   "metadata": {},
   "source": [
    "## Run Complete"
   ]
  },
  {
   "cell_type": "code",
   "execution_count": null,
   "id": "f36cb782-9478-403d-93fd-a71474868ce7",
   "metadata": {
    "tags": []
   },
   "outputs": [],
   "source": [
    "print('Run Complete')"
   ]
  }
 ],
 "metadata": {
  "kernelspec": {
   "display_name": "Python 3",
   "language": "python",
   "name": "python3"
  },
  "language_info": {
   "codemirror_mode": {
    "name": "ipython",
    "version": 3
   },
   "file_extension": ".py",
   "mimetype": "text/x-python",
   "name": "python",
   "nbconvert_exporter": "python",
   "pygments_lexer": "ipython3",
   "version": "3.9.6"
  }
 },
 "nbformat": 4,
 "nbformat_minor": 5
}
