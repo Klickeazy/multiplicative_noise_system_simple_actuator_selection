{
 "cells": [
  {
   "cell_type": "markdown",
   "id": "2caa3364-182e-4cc6-835c-142126c14c93",
   "metadata": {
    "tags": []
   },
   "source": [
    "# System Model Creation"
   ]
  },
  {
   "cell_type": "markdown",
   "id": "335b0ba8-b86f-4252-adb5-25e12b122a80",
   "metadata": {
    "jp-MarkdownHeadingCollapsed": true,
    "tags": []
   },
   "source": [
    "##### Py Packages"
   ]
  },
  {
   "cell_type": "code",
   "execution_count": 1,
   "id": "24a4dcf2-a1d4-4aff-9cf8-72af87b541e4",
   "metadata": {
    "tags": []
   },
   "outputs": [],
   "source": [
    "import numpy as np\n",
    "from copy import deepcopy as dc\n",
    "\n",
    "from functionfile_system_definition import system_package, actuator_random_selection, sys_to_file, create_graph, system_display_matrix"
   ]
  },
  {
   "cell_type": "markdown",
   "id": "919de8f1-f15d-44e1-ab92-e464579ab29a",
   "metadata": {},
   "source": [
    "## Model list\n",
    "- Standalone Models\n",
    "    - [Model 1](#System-Model-1)\n",
    "    - [Model 2](#System-Model-2)\n",
    "    - [Model 3](#System-Model-3)\n",
    "- Twin comparison Models\n",
    "    - [Model 1 A/B](#System-Model-1-A/B)\n",
    "    - [Model 2 A/B](#System-Model-2-A/B)\n",
    "    - [Model 3 A/B](#System-Model-3-A/B)\n",
    "    - [Model 4 A/B](#System-Model-4-A/B)\n",
    "- Triplet comparison Models\n",
    "    - [Model 1 A/B/C](#System-Model-1-A/B/C)\n",
    "    - [Model 2 A/B/C](#System-Model-2-A/B/C)"
   ]
  },
  {
   "cell_type": "markdown",
   "id": "d4ef8f5f-4b4e-44ec-bfde-f9411537e6f5",
   "metadata": {},
   "source": [
    "***"
   ]
  },
  {
   "cell_type": "markdown",
   "id": "444318ae-e238-4d24-9af4-d5dda8c2c83b",
   "metadata": {
    "jp-MarkdownHeadingCollapsed": true,
    "tags": []
   },
   "source": [
    "## Standalone System Models"
   ]
  },
  {
   "cell_type": "markdown",
   "id": "0fe5c7f9-f8ed-458c-b99c-34b34cc432c8",
   "metadata": {
    "tags": []
   },
   "source": [
    "### System Model 1\n",
    "- Cycle graph: $|\\lambda_{\\max}(A)|=1$\n",
    "- Randomly placed actuators\n",
    "- ER state-MPL noise\n",
    "- Initial states - vector of ones\n",
    "\n",
    "[Model List](#Model-list)"
   ]
  },
  {
   "cell_type": "code",
   "execution_count": 2,
   "id": "8757e02f-fb93-47b2-9d8b-2874adce72c8",
   "metadata": {
    "tags": []
   },
   "outputs": [
    {
     "name": "stdout",
     "output_type": "stream",
     "text": [
      "Control noise matrix not specified - assumed 0\n",
      "Initial state vector specified\n",
      "System saved to file @ system_model/System Model 1.pickle \n",
      "\n"
     ]
    }
   ],
   "source": [
    "nx = 10\n",
    "nu = 3\n",
    "\n",
    "A = create_graph(nx, type='cycle')['A']\n",
    "\n",
    "B = actuator_random_selection(10, 3)['B']\n",
    "\n",
    "alphai = [0.1]\n",
    "Ai = create_graph(nx, type='ER', p=0.4)['A']\n",
    "\n",
    "X0 = np.ones(nx)\n",
    "\n",
    "S = system_package(A_in=A, B_in=B, alphai_in=alphai, Ai_in=Ai, X0_in=X0, label_in='System Model 1')\n",
    "\n",
    "# system_display_matrix(S)\n",
    "sys_to_file(S)"
   ]
  },
  {
   "cell_type": "markdown",
   "id": "740fcae4-02f3-4671-aac3-7e8d2fa4f9c2",
   "metadata": {},
   "source": [
    "***"
   ]
  },
  {
   "cell_type": "markdown",
   "id": "209c1daf-ca15-4805-b568-360792f43975",
   "metadata": {
    "tags": []
   },
   "source": [
    "### System Model 2\n",
    "- Path graph: $|\\lambda_{\\max}(A)|=0.8$\n",
    "- No actuators\n",
    "- ER state-MPL noise\n",
    "- Initial states - vector of ones\n",
    "\n",
    "[Model List](#Model-list)"
   ]
  },
  {
   "cell_type": "code",
   "execution_count": 3,
   "id": "b149f01f-cea5-42bf-b6da-929698403f51",
   "metadata": {
    "tags": []
   },
   "outputs": [
    {
     "name": "stdout",
     "output_type": "stream",
     "text": [
      "Control input matrix not given - assumed no controller\n",
      "Control noise matrix not specified - assumed 0\n",
      "Initial state vector specified\n",
      "System saved to file @ system_model/System Model 2.pickle \n",
      "\n"
     ]
    }
   ],
   "source": [
    "nx = 10\n",
    "\n",
    "A = 0.8*create_graph(nx, type='path')['A']\n",
    "\n",
    "# B = actuator_random_selection(10, 3)['B']\n",
    "# B = np.random.rand(10,3)\n",
    "\n",
    "alphai = [0.1]\n",
    "Ai = create_graph(nx, type='ER', p=0.4)['A']\n",
    "\n",
    "X0 = np.ones(nx)\n",
    "\n",
    "S = system_package(A_in=A, alphai_in=alphai, Ai_in=Ai, X0_in=X0, label_in='System Model 2')\n",
    "\n",
    "# system_display_matrix(S)\n",
    "sys_to_file(S)"
   ]
  },
  {
   "cell_type": "markdown",
   "id": "d2819019-a05c-45f1-b831-589a86336add",
   "metadata": {},
   "source": [
    "***"
   ]
  },
  {
   "cell_type": "markdown",
   "id": "9c6c76ec-691f-4c31-ad75-ed1ac5bec509",
   "metadata": {
    "tags": []
   },
   "source": [
    "### System Model 3\n",
    "- Path graph: $|\\lambda_{\\max}(A)|=1$\n",
    "- No actuators\n",
    "- ER state-MPL noise\n",
    "- Initial state distribution - identity covariance\n",
    "\n",
    "[Model List](#Model-list)"
   ]
  },
  {
   "cell_type": "code",
   "execution_count": 4,
   "id": "f680368e-f47e-47d7-9246-00869fcba203",
   "metadata": {
    "tags": []
   },
   "outputs": [
    {
     "name": "stdout",
     "output_type": "stream",
     "text": [
      "Control input matrix not given - assumed no controller\n",
      "Control noise matrix not specified - assumed 0\n",
      "Initial state distribution specified\n",
      "System saved to file @ system_model/System Model 3.pickle \n",
      "\n"
     ]
    }
   ],
   "source": [
    "nx = 6\n",
    "\n",
    "A = create_graph(nx, type='path')['A']\n",
    "\n",
    "alphai = [0.1]\n",
    "Ai = create_graph(nx, type='ER', p=0.4)['A']\n",
    "\n",
    "X0 = np.identity(nx)\n",
    "\n",
    "S = system_package(A_in=A, alphai_in=alphai, Ai_in=Ai, X0_in=X0, label_in='System Model 3')\n",
    "\n",
    "# system_display_matrix(S)\n",
    "sys_to_file(S)"
   ]
  },
  {
   "cell_type": "markdown",
   "id": "4733cb58-9196-456b-abea-9784e8ca84c4",
   "metadata": {},
   "source": [
    "***"
   ]
  },
  {
   "cell_type": "markdown",
   "id": "9ff0f752-28f6-4cb9-8590-8734267fd328",
   "metadata": {
    "jp-MarkdownHeadingCollapsed": true,
    "tags": []
   },
   "source": [
    "## Pair Comparison System Models\n",
    "Comparison of two model types"
   ]
  },
  {
   "cell_type": "markdown",
   "id": "ebcd141b-7bdb-4da3-accc-6a800adb0f77",
   "metadata": {
    "tags": []
   },
   "source": [
    "### System Model 1 A/B\n",
    "- Path graph: $|\\lambda_{\\max}(A)|=0.8$\n",
    "- No actuators\n",
    "- Cycle (A), Biased-Cycle (B) state-MPL noise\n",
    "- Initial state distribution - identity covariance\n",
    "\n",
    "[Model List](#Model-list)"
   ]
  },
  {
   "cell_type": "code",
   "execution_count": 5,
   "id": "3bdcb7ec-a034-4c34-865c-38ad6c38fbb8",
   "metadata": {},
   "outputs": [
    {
     "name": "stdout",
     "output_type": "stream",
     "text": [
      "Control input matrix not given - assumed no controller\n",
      "Control noise matrix not specified - assumed 0\n",
      "Initial state distribution specified\n",
      "System saved to file @ system_model/System Model 1A.pickle \n",
      "\n",
      "Control input matrix not given - assumed no controller\n",
      "Control noise matrix not specified - assumed 0\n",
      "Initial state distribution specified\n",
      "System saved to file @ system_model/System Model 1B.pickle \n",
      "\n"
     ]
    }
   ],
   "source": [
    "nx = 8\n",
    "\n",
    "cycle = create_graph(nx, type='cycle')\n",
    "path = create_graph(nx, type='path')\n",
    "\n",
    "A = 0.9*path['A']\n",
    "\n",
    "alphai = [0.1]\n",
    "\n",
    "X0 = 5*np.identity(nx)\n",
    "\n",
    "\n",
    "S = system_package(A_in=A, alphai_in=alphai, Ai_in=cycle['Adj'], X0_in=X0, label_in='System Model 1A')\n",
    "sys_to_file(S)\n",
    "\n",
    "S = system_package(A_in=A, alphai_in=alphai, Ai_in=cycle['Adj'] + np.diag(np.linspace(1, 0, num=nx)), X0_in=X0, label_in='System Model 1B')\n",
    "sys_to_file(S)"
   ]
  },
  {
   "cell_type": "markdown",
   "id": "ca10afc6-ebd4-4de1-a592-fd0c57092a3e",
   "metadata": {},
   "source": [
    "***"
   ]
  },
  {
   "cell_type": "markdown",
   "id": "ddccc244-fb59-4e87-871c-a9c2682cf889",
   "metadata": {
    "tags": []
   },
   "source": [
    "### System Model 2 A/B\n",
    "- Cycle graph: $|\\lambda_{\\max}(A)|=0.99$\n",
    "- No actuators\n",
    "- Path (A), Biased-Path (B) state-MPL noise\n",
    "- Initial state distribution - identity covariance\n",
    "\n",
    "[Model List](#Model-list)"
   ]
  },
  {
   "cell_type": "code",
   "execution_count": 6,
   "id": "23f4eba6-2c72-426c-9e37-a1c845a5c69d",
   "metadata": {},
   "outputs": [
    {
     "name": "stdout",
     "output_type": "stream",
     "text": [
      "Control input matrix not given - assumed no controller\n",
      "Control noise matrix not specified - assumed 0\n",
      "Initial state distribution specified\n",
      "System saved to file @ system_model/System Model 2A.pickle \n",
      "\n",
      "Control input matrix not given - assumed no controller\n",
      "Control noise matrix not specified - assumed 0\n",
      "Initial state distribution specified\n",
      "System saved to file @ system_model/System Model 2B.pickle \n",
      "\n"
     ]
    }
   ],
   "source": [
    "nx = 8\n",
    "\n",
    "cycle = create_graph(nx, type='cycle')\n",
    "path = create_graph(nx, type='path')\n",
    "\n",
    "alphai = [0.1]\n",
    "\n",
    "X0 = 5*np.identity(nx)\n",
    "\n",
    "\n",
    "S = system_package(A_in=0.99*cycle['A'], alphai_in=alphai, Ai_in=path['Adj'], X0_in=X0, label_in='System Model 2A')\n",
    "sys_to_file(S)\n",
    "\n",
    "S = system_package(A_in=0.99*path['A'], alphai_in=alphai, Ai_in=path['Adj'] + np.diag(np.linspace(1, 0, num=nx)), X0_in=X0, label_in='System Model 2B')\n",
    "sys_to_file(S)"
   ]
  },
  {
   "cell_type": "markdown",
   "id": "529ec983-9eea-4e37-97ba-5db6108e6cb4",
   "metadata": {},
   "source": [
    "***"
   ]
  },
  {
   "cell_type": "markdown",
   "id": "0e29446b-d273-4af7-9e77-e6d53ce700e7",
   "metadata": {
    "tags": []
   },
   "source": [
    "### System Model 3 A/B\n",
    "- Cycle graph: $|\\lambda_{\\max}(A)|=0.99$\n",
    "- No actuators\n",
    "- Biased-Path state-MPL noise: A - front loaded, B - back loaded\n",
    "- Initial state vector - random generation from covariance\n",
    "\n",
    "[Model List](#Model-list)"
   ]
  },
  {
   "cell_type": "code",
   "execution_count": 7,
   "id": "eef5f558-e369-4bc5-bafc-ee264720ac90",
   "metadata": {},
   "outputs": [
    {
     "name": "stdout",
     "output_type": "stream",
     "text": [
      "Control input matrix not given - assumed no controller\n",
      "Control noise matrix not specified - assumed 0\n",
      "Initial state vector specified\n",
      "System saved to file @ system_model/System Model 3A.pickle \n",
      "\n",
      "Control input matrix not given - assumed no controller\n",
      "Control noise matrix not specified - assumed 0\n",
      "Initial state vector specified\n",
      "System saved to file @ system_model/System Model 3B.pickle \n",
      "\n"
     ]
    }
   ],
   "source": [
    "nx = 8\n",
    "\n",
    "cycle = create_graph(nx, type='cycle')\n",
    "path = create_graph(nx, type='path')\n",
    "\n",
    "A = 0.9*cycle['A']\n",
    "\n",
    "alphai = [0.1]\n",
    "\n",
    "X0 = 5*np.identity(nx)\n",
    "X0_vec = np.random.default_rng().multivariate_normal(mean=np.zeros(np.shape(A)[0]), cov=X0)\n",
    "\n",
    "\n",
    "S = system_package(A_in=A, alphai_in=alphai, Ai_in=path['Adj'] + np.diag(np.linspace(0, 1, num=nx)), X0_in=X0_vec, label_in='System Model 3A')\n",
    "sys_to_file(S)\n",
    "\n",
    "S = system_package(A_in=A, alphai_in=alphai, Ai_in=path['Adj'] + np.diag(np.linspace(1, 0, num=nx)), X0_in=X0_vec, label_in='System Model 3B')\n",
    "sys_to_file(S)"
   ]
  },
  {
   "cell_type": "markdown",
   "id": "f84139e9-6b00-4b8e-829c-cad2e418ed22",
   "metadata": {},
   "source": [
    "***"
   ]
  },
  {
   "cell_type": "markdown",
   "id": "729c0a06-58dc-46db-824d-9078782fde5c",
   "metadata": {
    "tags": []
   },
   "source": [
    "### System Model 4 A/B\n",
    "- Cycle graph: $|\\lambda_{\\max}(A)|=0.9$\n",
    "- Random actuator selection - same for both\n",
    "- Biased-Path state-MPL noise: A - front loaded, B - back loaded\n",
    "- Initial state vector - random generation from covariance\n",
    "\n",
    "[Model List](#Model-list)"
   ]
  },
  {
   "cell_type": "code",
   "execution_count": 8,
   "id": "3d1413f9-951c-4560-95a3-189a1b4585c7",
   "metadata": {},
   "outputs": [
    {
     "name": "stdout",
     "output_type": "stream",
     "text": [
      "Control noise matrix not specified - assumed 0\n",
      "Initial state vector specified\n",
      "System saved to file @ system_model/System Model 4A.pickle \n",
      "\n",
      "Control noise matrix not specified - assumed 0\n",
      "Initial state vector specified\n",
      "System saved to file @ system_model/System Model 4B.pickle \n",
      "\n"
     ]
    }
   ],
   "source": [
    "nx = 8\n",
    "\n",
    "cycle = create_graph(nx, type='cycle')\n",
    "path = create_graph(nx, type='path')\n",
    "\n",
    "A = 0.9*cycle['A']\n",
    "\n",
    "B = actuator_random_selection(nx, int(nx/2))['B']\n",
    "\n",
    "alphai = [0.1]\n",
    "\n",
    "X0 = 5*np.identity(nx)\n",
    "X0_vec = np.random.default_rng().multivariate_normal(mean=np.zeros(np.shape(A)[0]), cov=X0)\n",
    "\n",
    "\n",
    "S = system_package(A_in=A, B_in=B, alphai_in=alphai, Ai_in=path['Adj'] + np.diag(np.linspace(0, 1, num=nx)), X0_in=X0_vec, label_in='System Model 4A')\n",
    "sys_to_file(S)\n",
    "\n",
    "S = system_package(A_in=A, B_in=B, alphai_in=alphai, Ai_in=path['Adj'] + np.diag(np.linspace(1, 0, num=nx)), X0_in=X0_vec, label_in='System Model 4B')\n",
    "sys_to_file(S)"
   ]
  },
  {
   "cell_type": "markdown",
   "id": "409a05c7-34b1-4af0-9857-c0b26bc5f68e",
   "metadata": {},
   "source": [
    "***"
   ]
  },
  {
   "cell_type": "markdown",
   "id": "2fab6c88-097e-48d5-af76-793b19f3108e",
   "metadata": {
    "jp-MarkdownHeadingCollapsed": true,
    "tags": []
   },
   "source": [
    "## Triplet Comparison System Models\n",
    "Comparison of True, Nominal and Multiplicative noise models"
   ]
  },
  {
   "cell_type": "markdown",
   "id": "7ada0a90-ce42-4d6d-91de-413ad06c97fa",
   "metadata": {
    "tags": []
   },
   "source": [
    "### System Model 1 A/B/C\n",
    "- True System\n",
    "    - Cycle graph: $|\\lambda_{\\max}(A)|=0.99$\n",
    "    - No actuators\n",
    "    - No MPL noise\n",
    "    - Initial states - vector of ones\n",
    "- Nominal System\n",
    "    - Path graph\n",
    "    - No actuators\n",
    "    - No MPL noise\n",
    "    - Initial states - vector of ones\n",
    "- MPL System\n",
    "    - Path graph\n",
    "    - No actuators\n",
    "    - State-MPL noise - cycle\n",
    "    - Initial states - vector of ones\n",
    "\n",
    "[Model List](#Model-list)"
   ]
  },
  {
   "cell_type": "code",
   "execution_count": 9,
   "id": "6700c851-f6e3-4d4a-b1cf-b1f6db17f9ce",
   "metadata": {},
   "outputs": [
    {
     "name": "stdout",
     "output_type": "stream",
     "text": [
      "Control input matrix not given - assumed no controller\n",
      "Control noise matrix not specified - assumed 0\n",
      "Initial state distribution specified\n",
      "System saved to file @ system_model/System Model 1 MPL.pickle \n",
      "\n",
      "Control input matrix not given - assumed no controller\n",
      "Actuator noise matrix not specified - assumed 0\n",
      "Control noise matrix not specified - assumed 0\n",
      "Initial state distribution specified\n",
      "System saved to file @ system_model/System Model 1 Nominal.pickle \n",
      "\n",
      "Control input matrix not given - assumed no controller\n",
      "Actuator noise matrix not specified - assumed 0\n",
      "Control noise matrix not specified - assumed 0\n",
      "Initial state distribution specified\n",
      "System saved to file @ system_model/System Model 1 True.pickle \n",
      "\n"
     ]
    }
   ],
   "source": [
    "nx = 8\n",
    "\n",
    "cycle = create_graph(nx, type='cycle')\n",
    "path = create_graph(nx, type='path')\n",
    "\n",
    "alphai = [0.1]\n",
    "\n",
    "X0 = 5*np.identity(nx)\n",
    "\n",
    "\n",
    "S = system_package(A_in=path['A'], alphai_in=alphai, Ai_in=cycle['Adj'], X0_in=X0, label_in='System Model 1 MPL')\n",
    "sys_to_file(S)\n",
    "\n",
    "S = system_package(A_in=path['A'], X0_in=X0, label_in='System Model 1 Nominal')\n",
    "sys_to_file(S)\n",
    "\n",
    "S = system_package(A_in=0.99*cycle['A'], X0_in=X0, label_in='System Model 1 True')\n",
    "sys_to_file(S)"
   ]
  },
  {
   "cell_type": "markdown",
   "id": "d11017b4-db51-4c18-b364-6c6e18f47bfc",
   "metadata": {},
   "source": [
    "***"
   ]
  },
  {
   "cell_type": "markdown",
   "id": "62f5d61f-03a6-4bd2-8261-7bef462e908d",
   "metadata": {
    "tags": []
   },
   "source": [
    "### System Model 2 A/B/C\n",
    "- True System\n",
    "    - ER (1)\n",
    "    - No actuators\n",
    "    - State-MPL noise with ER (1)\n",
    "    - Initial state covariance - 10*identity\n",
    "- Nominal System\n",
    "    - Cycle graph\n",
    "    - No actuators\n",
    "    - No MPL noise\n",
    "    - Initial state covariance - 10*identity\n",
    "- MPL System\n",
    "    - Cycle graph\n",
    "    - No actuators\n",
    "    - State-MPL noise with ER (2)\n",
    "    - Initial state covariance - 10*identity\n",
    "\n",
    "[Model List](#Model-list)"
   ]
  },
  {
   "cell_type": "code",
   "execution_count": 10,
   "id": "c2a43ad2-6b2c-4aa0-b5ea-0bba4eacdd25",
   "metadata": {},
   "outputs": [
    {
     "name": "stdout",
     "output_type": "stream",
     "text": [
      "Control input matrix not given - assumed no controller\n",
      "Control noise matrix not specified - assumed 0\n",
      "Initial state vector specified\n",
      "System saved to file @ system_model/System Model 2 MPL.pickle \n",
      "\n",
      "Control input matrix not given - assumed no controller\n",
      "Actuator noise matrix not specified - assumed 0\n",
      "Control noise matrix not specified - assumed 0\n",
      "Initial state vector specified\n",
      "System saved to file @ system_model/System Model 2 Nominal.pickle \n",
      "\n",
      "Control input matrix not given - assumed no controller\n",
      "Control noise matrix not specified - assumed 0\n",
      "Initial state vector specified\n",
      "System saved to file @ system_model/System Model 2 True.pickle \n",
      "\n"
     ]
    }
   ],
   "source": [
    "nx = 8\n",
    "\n",
    "cycle = create_graph(nx, type='cycle')\n",
    "path = create_graph(nx, type='path')\n",
    "ER1 = create_graph(nx, type='ER', p=0.5)\n",
    "ER2 = create_graph(nx, type='ER', p=0.5)\n",
    "\n",
    "alphai = [0.1]\n",
    "X0 = 10*np.ones(nx)\n",
    "\n",
    "S = system_package(A_in=cycle['A'], alphai_in=alphai, Ai_in=ER2['A'], X0_in=X0, label_in='System Model 2 MPL')\n",
    "sys_to_file(S)\n",
    "\n",
    "S = system_package(A_in=cycle['A'], X0_in=X0, label_in='System Model 2 Nominal')\n",
    "sys_to_file(S)\n",
    "\n",
    "S = system_package(A_in=ER1['A'], alphai_in=alphai, Ai_in=ER1['A'], X0_in=X0, label_in='System Model 2 True')\n",
    "sys_to_file(S)"
   ]
  },
  {
   "cell_type": "markdown",
   "id": "83ca7c1f-8ab4-4871-9fa5-4953f6c229b4",
   "metadata": {
    "tags": []
   },
   "source": [
    "## Run Complete"
   ]
  },
  {
   "cell_type": "code",
   "execution_count": 11,
   "id": "1186c871-2f8f-4767-9edc-69abec75719c",
   "metadata": {},
   "outputs": [
    {
     "name": "stdout",
     "output_type": "stream",
     "text": [
      "Model Save - Completed\n"
     ]
    }
   ],
   "source": [
    "print('Model Save - Completed')"
   ]
  }
 ],
 "metadata": {
  "kernelspec": {
   "display_name": "Python 3",
   "language": "python",
   "name": "python3"
  },
  "language_info": {
   "codemirror_mode": {
    "name": "ipython",
    "version": 3
   },
   "file_extension": ".py",
   "mimetype": "text/x-python",
   "name": "python",
   "nbconvert_exporter": "python",
   "pygments_lexer": "ipython3",
   "version": "3.9.6"
  }
 },
 "nbformat": 4,
 "nbformat_minor": 5
}
