{
 "cells": [
  {
   "cell_type": "markdown",
   "id": "d15c0028-0931-4a86-98dc-fa140cd2f192",
   "metadata": {},
   "source": [
    "# Benefit of MPL System Modelling"
   ]
  },
  {
   "cell_type": "code",
   "execution_count": null,
   "id": "3f7cda21-fb90-4786-a674-eb1f07ad7870",
   "metadata": {},
   "outputs": [],
   "source": [
    "import numpy as np\n",
    "from copy import deepcopy as dc\n",
    "\n",
    "from functionfile_system_definition import sys_from_file, system_display_matrix\n",
    "from functionfile_system_mplcost import cost_function_1, initial_values_init, actuator_selection_cost_1, plot_actuator_selection_1, simulation_actuator_selection, plot_simulation"
   ]
  },
  {
   "cell_type": "code",
   "execution_count": null,
   "id": "ef074208-1882-4702-b019-2c94f78c5899",
   "metadata": {},
   "outputs": [],
   "source": [
    "test_set = 'Test1'\n",
    "S_True = sys_from_file('True System ' + test_set)\n",
    "# system_display_matrix(S_True)\n",
    "initial_values = initial_values_init(S_True, T=50)"
   ]
  },
  {
   "cell_type": "markdown",
   "id": "36b2a981-c3e0-4486-b121-7969926cef74",
   "metadata": {
    "tags": []
   },
   "source": [
    "## Control of True System based on Nominal System model"
   ]
  },
  {
   "cell_type": "markdown",
   "id": "a01a6935-6fbc-443c-80df-a942fad1b153",
   "metadata": {
    "tags": []
   },
   "source": [
    "##### Run Code"
   ]
  },
  {
   "cell_type": "code",
   "execution_count": null,
   "id": "7b381b1e-dcad-4966-a999-c03c5d8b8477",
   "metadata": {},
   "outputs": [],
   "source": [
    "S_Nominal = sys_from_file('Nominal System ' + test_set)"
   ]
  },
  {
   "cell_type": "code",
   "execution_count": null,
   "id": "5f29eaa8-2482-473d-8281-10cca0bb5109",
   "metadata": {},
   "outputs": [],
   "source": [
    "ret1_nom = actuator_selection_cost_1(S_Nominal, initial_values=initial_values)\n",
    "S_Nominal = dc(ret1_nom['system'])\n",
    "# system_display_matrix(S_Nominal)\n",
    "S_True['B'] = dc(S_Nominal['B'])\n",
    "ret2_nom = simulation_actuator_selection(S_Nominal, S_True, initial_values=initial_values)"
   ]
  },
  {
   "cell_type": "markdown",
   "id": "f8d14756-93a8-47bd-ac7c-018ce41fc04b",
   "metadata": {},
   "source": [
    "##### Display Output"
   ]
  },
  {
   "cell_type": "code",
   "execution_count": null,
   "id": "459866d3-04fe-4346-9fbd-9e8ee94de3cc",
   "metadata": {},
   "outputs": [],
   "source": [
    "print('Cost change with |S|:\\n')\n",
    "for i in ret2_nom['costs']:\n",
    "    print('|S|:',i, ' => ', ret2_nom['costs'][i][-1])"
   ]
  },
  {
   "cell_type": "code",
   "execution_count": null,
   "id": "6ccf2a8b-1423-4b67-b062-e98bbd7b761e",
   "metadata": {},
   "outputs": [],
   "source": [
    "plot_simulation(display_data=ret2_nom, fname='Nominal feedback on True System')"
   ]
  },
  {
   "cell_type": "markdown",
   "id": "d32b38d2-d97f-43ed-8237-1f18e4ee956b",
   "metadata": {
    "tags": []
   },
   "source": [
    "## Control of True System based on MPL System model"
   ]
  },
  {
   "cell_type": "markdown",
   "id": "2f95e649-c6c8-4810-8a78-8815b3a6dc4c",
   "metadata": {
    "tags": []
   },
   "source": [
    "##### Run Code"
   ]
  },
  {
   "cell_type": "code",
   "execution_count": null,
   "id": "ce0af870-8e81-4801-baa3-b8251d28174c",
   "metadata": {},
   "outputs": [],
   "source": [
    "S_MPL = sys_from_file('MPL System ' + test_set)"
   ]
  },
  {
   "cell_type": "code",
   "execution_count": null,
   "id": "1ce917eb-7618-48e6-891b-4725bcb2b0ea",
   "metadata": {},
   "outputs": [],
   "source": [
    "ret1_MPL = actuator_selection_cost_1(S_MPL, initial_values=initial_values)\n",
    "S_MPL = dc(ret1_MPL['system'])\n",
    "# system_display_matrix(S_MPL)\n",
    "S_True['B'] = dc(S_MPL['B'])\n",
    "ret2_MPL = simulation_actuator_selection(S_MPL, S_True, initial_values=initial_values)"
   ]
  },
  {
   "cell_type": "markdown",
   "id": "3c32c28d-acf4-4aef-9703-9b67db03c903",
   "metadata": {
    "tags": []
   },
   "source": [
    "##### Display Output"
   ]
  },
  {
   "cell_type": "code",
   "execution_count": null,
   "id": "ea8b25ae-5bb1-47ea-89c5-4e36efff155e",
   "metadata": {},
   "outputs": [],
   "source": [
    "print('Cost change with |S|:\\n')\n",
    "for i in ret2_MPL['costs']:\n",
    "    print('|S|:',i, ' => ', ret2_MPL['costs'][i][-1])"
   ]
  },
  {
   "cell_type": "code",
   "execution_count": null,
   "id": "41214423-9f97-4967-8f50-cf9b0cfb78a7",
   "metadata": {
    "tags": []
   },
   "outputs": [],
   "source": [
    "plot_simulation(display_data=ret2_MPL, fname='MPL feedback on True System')"
   ]
  },
  {
   "cell_type": "markdown",
   "id": "88154d5f-5b98-48d1-a62d-8de6acde9757",
   "metadata": {
    "tags": []
   },
   "source": [
    "## Self-Control Tests"
   ]
  },
  {
   "cell_type": "markdown",
   "id": "c908b000-e301-4b6f-b9f0-fc87d0ad1050",
   "metadata": {
    "tags": []
   },
   "source": [
    "### Testing Nominal control on itself"
   ]
  },
  {
   "cell_type": "markdown",
   "id": "798c8092-607e-49b4-95e0-aa7414ccd9d0",
   "metadata": {
    "tags": []
   },
   "source": [
    "##### Run Code"
   ]
  },
  {
   "cell_type": "code",
   "execution_count": null,
   "id": "dd0b4eb1-a6c5-4721-bc5c-52bd4ea6f6e4",
   "metadata": {},
   "outputs": [],
   "source": [
    "ret3_nom = simulation_actuator_selection(S_Nominal, S_Nominal)"
   ]
  },
  {
   "cell_type": "markdown",
   "id": "9a2ac2ba-e9da-4652-87f8-492184edf699",
   "metadata": {},
   "source": [
    "##### Display Output"
   ]
  },
  {
   "cell_type": "code",
   "execution_count": null,
   "id": "c717f2b2-48a8-4bf4-a88a-b61af3dfe043",
   "metadata": {},
   "outputs": [],
   "source": [
    "# plot_actuator_selection_1(S_Nominal['B'], ret1_nom['cost_trend'], ret1_nom['time_trend'], ret1_nom['check_trend'], fname='Nominal Actuator Selection')"
   ]
  },
  {
   "cell_type": "code",
   "execution_count": null,
   "id": "0dc23aa7-b3b1-47ce-92d6-2c2b9b6fd4e3",
   "metadata": {},
   "outputs": [],
   "source": [
    "plot_simulation(display_data=ret3_nom, fname='Nominal feedback on Nominal System')\n",
    "for i in ret3_nom['costs']:\n",
    "    print('|S|:',i, ' => ', ret3_nom['costs'][i][-1])"
   ]
  },
  {
   "cell_type": "markdown",
   "id": "0fdd0e2c-ea97-4c0d-bec3-b9d82ce36282",
   "metadata": {
    "tags": []
   },
   "source": [
    "### Testing MPL control on itself"
   ]
  },
  {
   "cell_type": "markdown",
   "id": "facf3752-4da7-4ecd-955d-32f78c5387de",
   "metadata": {
    "tags": []
   },
   "source": [
    "##### Run Code"
   ]
  },
  {
   "cell_type": "code",
   "execution_count": null,
   "id": "cc7b6d69-b1bd-4f60-849d-6f9526c81ffc",
   "metadata": {},
   "outputs": [],
   "source": [
    "ret3_MPL = simulation_actuator_selection(S_MPL, S_MPL)"
   ]
  },
  {
   "cell_type": "markdown",
   "id": "47b7e7c0-1b61-4b32-861a-7ca4a534bf38",
   "metadata": {},
   "source": [
    "##### Display Output"
   ]
  },
  {
   "cell_type": "code",
   "execution_count": null,
   "id": "6da67738-347b-4350-8dcc-77464c4fb105",
   "metadata": {},
   "outputs": [],
   "source": [
    "# plot_actuator_selection_1(S_MPL['B'], ret1_MPL['cost_trend'], ret1_MPL['time_trend'], ret1_MPL['check_trend'], fname='MPL Actuator Selection')"
   ]
  },
  {
   "cell_type": "code",
   "execution_count": null,
   "id": "e5d1e98b-ad3d-45c6-9d34-03a344549d95",
   "metadata": {},
   "outputs": [],
   "source": [
    "plot_simulation(display_data=ret3_MPL, fname='MPL feedback on MPL System')\n",
    "for i in ret3_MPL['costs']:\n",
    "    print('|S|:',i, ' => ', ret3_MPL['costs'][i][-1])"
   ]
  }
 ],
 "metadata": {
  "kernelspec": {
   "display_name": "Python 3",
   "language": "python",
   "name": "python3"
  },
  "language_info": {
   "codemirror_mode": {
    "name": "ipython",
    "version": 3
   },
   "file_extension": ".py",
   "mimetype": "text/x-python",
   "name": "python",
   "nbconvert_exporter": "python",
   "pygments_lexer": "ipython3",
   "version": "3.8.8"
  }
 },
 "nbformat": 4,
 "nbformat_minor": 5
}
