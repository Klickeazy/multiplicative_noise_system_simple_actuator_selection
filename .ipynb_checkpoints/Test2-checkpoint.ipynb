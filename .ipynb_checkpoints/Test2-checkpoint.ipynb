{
 "cells": [
  {
   "cell_type": "markdown",
   "id": "b8884add-8cba-4cce-9ef8-fefe3ca7a214",
   "metadata": {},
   "source": [
    "# Model - Actuator Selection"
   ]
  },
  {
   "cell_type": "code",
   "execution_count": null,
   "id": "f0b0ea71-696b-4c8d-bca0-a0f807e1b042",
   "metadata": {},
   "outputs": [],
   "source": [
    "import numpy as np\n",
    "from copy import deepcopy as dc\n",
    "\n",
    "from functionfile_system_definition import sys_from_file, system_display_matrix\n",
    "from functionfile_system_mplcost import cost_function_1, initial_values_init, actuator_selection_cost_1, plot_actuator_selection_1, simulation_core"
   ]
  },
  {
   "cell_type": "code",
   "execution_count": null,
   "id": "ee35a5f9-1ccb-47cd-ae2e-0d6dd03db657",
   "metadata": {},
   "outputs": [],
   "source": [
    "sys_model = 'System Model 2'\n",
    "S = sys_from_file(sys_model)"
   ]
  },
  {
   "cell_type": "code",
   "execution_count": null,
   "id": "f8d2ef1f-1bcc-4abb-b7d3-1220c842e734",
   "metadata": {},
   "outputs": [],
   "source": [
    "ret1 = cost_function_1(S)\n",
    "# print(ret1)"
   ]
  },
  {
   "cell_type": "code",
   "execution_count": null,
   "id": "145957cf-5171-40a8-af01-3570ba0e4025",
   "metadata": {},
   "outputs": [],
   "source": [
    "ret2 = actuator_selection_cost_1(S)\n",
    "system_display_matrix(ret2['system'])"
   ]
  },
  {
   "cell_type": "code",
   "execution_count": null,
   "id": "d4d06085-9d7a-4024-a6fe-d7d94e9f9a64",
   "metadata": {},
   "outputs": [],
   "source": [
    "B = np.pad(ret2['system']['B'], ((0,0),(1,0)), 'constant')\n",
    "if ret1['P_check'] != 0:\n",
    "    cost0 = np.nan\n",
    "else:\n",
    "    cost0 = ret1['J_trend'][-1]\n",
    "cost = np.insert(ret2['cost_trend'], 0, cost0, axis=0)\n",
    "time = np.insert(ret2['time_trend'], 0, ret1['t'], axis=0)\n",
    "check = np.insert(ret2['check_trend'], 0, ret1['P_check'], axis=0)\n",
    "\n",
    "plot_actuator_selection_1(B, cost, time, check, ret2['system']['label'])"
   ]
  },
  {
   "cell_type": "code",
   "execution_count": null,
   "id": "872370fe-1e91-40b5-b43d-0be1248af72f",
   "metadata": {},
   "outputs": [],
   "source": []
  }
 ],
 "metadata": {
  "kernelspec": {
   "display_name": "Python 3",
   "language": "python",
   "name": "python3"
  },
  "language_info": {
   "codemirror_mode": {
    "name": "ipython",
    "version": 3
   },
   "file_extension": ".py",
   "mimetype": "text/x-python",
   "name": "python",
   "nbconvert_exporter": "python",
   "pygments_lexer": "ipython3",
   "version": "3.8.8"
  }
 },
 "nbformat": 4,
 "nbformat_minor": 5
}
