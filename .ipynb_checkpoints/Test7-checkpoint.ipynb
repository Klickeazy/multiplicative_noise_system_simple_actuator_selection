{
 "cells": [
  {
   "cell_type": "markdown",
   "id": "5600a0aa-c019-424b-a725-cc09962ff3bf",
   "metadata": {},
   "source": [
    "# Comparison of actuator selection for different state-mpl models"
   ]
  },
  {
   "cell_type": "code",
   "execution_count": 1,
   "id": "fcf48fd3-49de-4744-b171-18313ad65507",
   "metadata": {},
   "outputs": [],
   "source": [
    "import numpy as np\n",
    "from copy import deepcopy as dc\n",
    "\n",
    "from functionfile_system_definition import sys_from_file, system_display_matrix\n",
    "from functionfile_system_mplcost import cost_function_1, initial_values_init, actuator_selection_cost_1, plot_actuator_selection_1, simulation_actuator_selection, plot_simulation"
   ]
  },
  {
   "cell_type": "code",
   "execution_count": 2,
   "id": "91097cb4-1054-4b28-ac6b-485637273ffe",
   "metadata": {},
   "outputs": [],
   "source": [
    "sys_model = 'System Model 5' # Comparing A and B"
   ]
  },
  {
   "cell_type": "markdown",
   "id": "8ea69214-6923-4f19-85f1-453a13dd81c8",
   "metadata": {
    "tags": []
   },
   "source": [
    "### Model A"
   ]
  },
  {
   "cell_type": "markdown",
   "id": "eea86a4f-6d3c-4808-8953-b8e133e00715",
   "metadata": {
    "tags": []
   },
   "source": [
    "##### Code"
   ]
  },
  {
   "cell_type": "code",
   "execution_count": 3,
   "id": "cd631126-f827-458f-bbbd-f4bafad7f2a5",
   "metadata": {
    "tags": []
   },
   "outputs": [
    {
     "name": "stdout",
     "output_type": "stream",
     "text": [
      "System read from file @ system_model/System Model 5A.pickle \n",
      "\n"
     ]
    }
   ],
   "source": [
    "S_A = sys_from_file(sys_model+'A')\n",
    "initial_values = initial_values_init(S_A)"
   ]
  },
  {
   "cell_type": "code",
   "execution_count": 4,
   "id": "fdfcaeb9-3968-4d7c-ad21-5afe8f24ec5a",
   "metadata": {},
   "outputs": [],
   "source": [
    "ret1_A = cost_function_1(S_A, initial_values)"
   ]
  },
  {
   "cell_type": "markdown",
   "id": "6c06a1f1-bbc6-4d46-9cd9-edd22280fead",
   "metadata": {
    "tags": []
   },
   "source": [
    "##### Output"
   ]
  },
  {
   "cell_type": "code",
   "execution_count": 5,
   "id": "ac1c51c1-c0e7-44aa-8f69-459a488f2225",
   "metadata": {},
   "outputs": [
    {
     "name": "stdout",
     "output_type": "stream",
     "text": [
      "\n",
      " P_mat:\n",
      " [[1.24209738 0.19599716 0.07530242 0.01505155 0.00405305 0.00604985\n",
      "  0.06469398 0.18622827]\n",
      " [0.19599716 1.30811513 0.19639019 0.13647561 0.01474006 0.00754352\n",
      "  0.01172935 0.1332639 ]\n",
      " [0.07530242 0.19639019 1.244573   0.19886538 0.08224434 0.02252899\n",
      "  0.01053447 0.01603694]\n",
      " [0.01505155 0.13647561 0.19886538 1.32443135 0.23589805 0.17613671\n",
      "  0.04159809 0.01320836]\n",
      " [0.00405305 0.01474006 0.08224434 0.23589805 1.37558085 0.32496299\n",
      "  0.1720568  0.01824767]\n",
      " [0.00604985 0.00754352 0.02252899 0.17613671 0.32496299 1.37386747\n",
      "  0.22542752 0.07159506]\n",
      " [0.06469398 0.01172935 0.01053447 0.04159809 0.1720568  0.22542752\n",
      "  1.24627316 0.12340695]\n",
      " [0.18622827 0.1332639  0.01603694 0.01320836 0.01824767 0.07159506\n",
      "  0.12340695 1.23082552]]\n",
      "\n",
      " Gain K:\n",
      " [[-0.19561675 -0.0315016  -0.00847901 -0.00175322 -0.00915548 -0.01636686\n",
      "  -0.17997267 -0.1952423 ]\n",
      " [-0.01474218 -0.00815325 -0.00326792 -0.02551828 -0.05397945 -0.21762529\n",
      "  -0.20265187 -0.18062214]\n",
      " [-0.20097252 -0.21726409 -0.20081944 -0.03166204 -0.00666372  0.00085907\n",
      "  -0.00694181 -0.03196461]\n",
      " [-0.00808619 -0.03214174 -0.20231908 -0.22472278 -0.22270566 -0.0546104\n",
      "  -0.02474949 -0.00279752]\n",
      " [ 0.          0.          0.          0.          0.          0.\n",
      "   0.          0.        ]\n",
      " [ 0.          0.          0.          0.          0.          0.\n",
      "   0.          0.        ]\n",
      " [ 0.          0.          0.          0.          0.          0.\n",
      "   0.          0.        ]\n",
      " [ 0.          0.          0.          0.          0.          0.\n",
      "   0.          0.        ]]\n"
     ]
    }
   ],
   "source": [
    "print('\\n P_mat:\\n', ret1_A['P_mat'])\n",
    "print('\\n Gain K:\\n', ret1_A['K'])"
   ]
  },
  {
   "cell_type": "markdown",
   "id": "b914d1c6-6e9a-4736-beb0-367e47a5b323",
   "metadata": {
    "tags": []
   },
   "source": [
    "### Model B"
   ]
  },
  {
   "cell_type": "markdown",
   "id": "9b7e56ea-4794-442d-914d-ebf20a42c62e",
   "metadata": {
    "tags": []
   },
   "source": [
    "##### Code"
   ]
  },
  {
   "cell_type": "code",
   "execution_count": 6,
   "id": "c8e25cba-0e9d-4ca5-b451-cfdf4a0e19dd",
   "metadata": {
    "tags": []
   },
   "outputs": [
    {
     "name": "stdout",
     "output_type": "stream",
     "text": [
      "System read from file @ system_model/System Model 5B.pickle \n",
      "\n"
     ]
    }
   ],
   "source": [
    "S_B = sys_from_file(sys_model+'B')\n",
    "initial_values = initial_values_init(S_B)"
   ]
  },
  {
   "cell_type": "code",
   "execution_count": 7,
   "id": "ef637fca-63bc-4fcb-8f5c-a58bdb64f3f8",
   "metadata": {},
   "outputs": [],
   "source": [
    "ret1_B = cost_function_1(S_B, initial_values)"
   ]
  },
  {
   "cell_type": "markdown",
   "id": "72be05b3-f6ec-4f8d-aa77-f5e18a96a413",
   "metadata": {},
   "source": [
    "##### Output"
   ]
  },
  {
   "cell_type": "code",
   "execution_count": 8,
   "id": "3508089e-c818-4de7-8837-a12bad385b5c",
   "metadata": {},
   "outputs": [
    {
     "name": "stdout",
     "output_type": "stream",
     "text": [
      "\n",
      " P_mat:\n",
      " [[1.24209738 0.19599716 0.07530242 0.01505155 0.00405305 0.00604985\n",
      "  0.06469398 0.18622827]\n",
      " [0.19599716 1.30811513 0.19639019 0.13647561 0.01474006 0.00754352\n",
      "  0.01172935 0.1332639 ]\n",
      " [0.07530242 0.19639019 1.244573   0.19886538 0.08224434 0.02252899\n",
      "  0.01053447 0.01603694]\n",
      " [0.01505155 0.13647561 0.19886538 1.32443135 0.23589805 0.17613671\n",
      "  0.04159809 0.01320836]\n",
      " [0.00405305 0.01474006 0.08224434 0.23589805 1.37558085 0.32496299\n",
      "  0.1720568  0.01824767]\n",
      " [0.00604985 0.00754352 0.02252899 0.17613671 0.32496299 1.37386747\n",
      "  0.22542752 0.07159506]\n",
      " [0.06469398 0.01172935 0.01053447 0.04159809 0.1720568  0.22542752\n",
      "  1.24627316 0.12340695]\n",
      " [0.18622827 0.1332639  0.01603694 0.01320836 0.01824767 0.07159506\n",
      "  0.12340695 1.23082552]]\n",
      "\n",
      " Gain K:\n",
      " [[-0.19561675 -0.0315016  -0.00847901 -0.00175322 -0.00915548 -0.01636686\n",
      "  -0.17997267 -0.1952423 ]\n",
      " [-0.01474218 -0.00815325 -0.00326792 -0.02551828 -0.05397945 -0.21762529\n",
      "  -0.20265187 -0.18062214]\n",
      " [-0.20097252 -0.21726409 -0.20081944 -0.03166204 -0.00666372  0.00085907\n",
      "  -0.00694181 -0.03196461]\n",
      " [-0.00808619 -0.03214174 -0.20231908 -0.22472278 -0.22270566 -0.0546104\n",
      "  -0.02474949 -0.00279752]\n",
      " [ 0.          0.          0.          0.          0.          0.\n",
      "   0.          0.        ]\n",
      " [ 0.          0.          0.          0.          0.          0.\n",
      "   0.          0.        ]\n",
      " [ 0.          0.          0.          0.          0.          0.\n",
      "   0.          0.        ]\n",
      " [ 0.          0.          0.          0.          0.          0.\n",
      "   0.          0.        ]]\n"
     ]
    }
   ],
   "source": [
    "print('\\n P_mat:\\n', ret1_B['P_mat'])\n",
    "print('\\n Gain K:\\n', ret1_B['K'])"
   ]
  },
  {
   "cell_type": "markdown",
   "id": "53e89057-7a4f-40c2-a70e-43853c32573c",
   "metadata": {
    "tags": []
   },
   "source": [
    "### Comparison"
   ]
  },
  {
   "cell_type": "code",
   "execution_count": 9,
   "id": "519754ef-6235-4efd-9b45-fe80e25858f2",
   "metadata": {},
   "outputs": [
    {
     "name": "stdout",
     "output_type": "stream",
     "text": [
      "Both cost matrices are close/equal\n",
      "Both gains are close/equal\n"
     ]
    }
   ],
   "source": [
    "if np.allclose(ret1_A['P_mat'], ret1_B['P_mat']):\n",
    "    print('Both cost matrices are close/equal')\n",
    "else:\n",
    "    print('Cost matrices are different')\n",
    "\n",
    "if np.allclose(ret1_A['K'], ret1_B['K']):\n",
    "    print('Both gains are close/equal')\n",
    "else:\n",
    "    print('Gains are different')\n"
   ]
  },
  {
   "cell_type": "code",
   "execution_count": null,
   "id": "987dcdbd-588b-4984-8cf4-23cc5160ffd0",
   "metadata": {},
   "outputs": [],
   "source": []
  }
 ],
 "metadata": {
  "kernelspec": {
   "display_name": "Python 3",
   "language": "python",
   "name": "python3"
  },
  "language_info": {
   "codemirror_mode": {
    "name": "ipython",
    "version": 3
   },
   "file_extension": ".py",
   "mimetype": "text/x-python",
   "name": "python",
   "nbconvert_exporter": "python",
   "pygments_lexer": "ipython3",
   "version": "3.9.6"
  }
 },
 "nbformat": 4,
 "nbformat_minor": 5
}
