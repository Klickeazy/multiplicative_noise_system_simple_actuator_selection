{
 "cells": [
  {
   "cell_type": "markdown",
   "id": "3db21af8-9605-4332-8bfb-6ca59fc60486",
   "metadata": {},
   "source": [
    "# Comparison of control gain 'K' for different state-mpl for same actuator set 'B'"
   ]
  },
  {
   "cell_type": "code",
   "execution_count": 1,
   "id": "daa81f34-6526-47f0-811d-2050ca92aa9e",
   "metadata": {},
   "outputs": [],
   "source": [
    "import numpy as np\n",
    "from copy import deepcopy as dc\n",
    "\n",
    "from functionfile_system_definition import sys_from_file, system_display_matrix\n",
    "from functionfile_system_mplcost import cost_function_1, initial_values_init, actuator_selection_cost_1, plot_actuator_selection_1, simulation_actuator_selection, plot_simulation"
   ]
  },
  {
   "cell_type": "code",
   "execution_count": 2,
   "id": "5073df09-5fe8-4fee-a754-4b2605c22d97",
   "metadata": {},
   "outputs": [],
   "source": [
    "sys_model = 'System Model 8' # Comparing A and B"
   ]
  },
  {
   "cell_type": "markdown",
   "id": "c674a362-6bae-4dde-8b99-91685ad35515",
   "metadata": {
    "tags": []
   },
   "source": [
    "### Model A"
   ]
  },
  {
   "cell_type": "markdown",
   "id": "34ab160a-0dac-4044-a37d-3ffbf7c83061",
   "metadata": {
    "jp-MarkdownHeadingCollapsed": true,
    "tags": []
   },
   "source": [
    "##### Code"
   ]
  },
  {
   "cell_type": "code",
   "execution_count": 3,
   "id": "69d1c7ff-e9cd-4d91-8909-7d81c9185fa3",
   "metadata": {
    "tags": []
   },
   "outputs": [
    {
     "name": "stdout",
     "output_type": "stream",
     "text": [
      "System read from file @ system_model/System Model 8A.pickle \n",
      "\n"
     ]
    }
   ],
   "source": [
    "S_A = sys_from_file(sys_model+'A')\n",
    "initial_values = initial_values_init(S_A)"
   ]
  },
  {
   "cell_type": "code",
   "execution_count": 4,
   "id": "b8e6aaf1-8dab-4317-8ad3-c45adb2ab48c",
   "metadata": {},
   "outputs": [],
   "source": [
    "ret1_A = cost_function_1(S_A, initial_values)"
   ]
  },
  {
   "cell_type": "markdown",
   "id": "d475b728-d18c-4834-a206-9e276b86d9ae",
   "metadata": {
    "tags": []
   },
   "source": [
    "##### Output"
   ]
  },
  {
   "cell_type": "code",
   "execution_count": 5,
   "id": "f87e640c-2e89-4e18-9df0-1b29d06c86c4",
   "metadata": {},
   "outputs": [
    {
     "name": "stdout",
     "output_type": "stream",
     "text": [
      "\n",
      " P_mat:\n",
      " [[1.23831782 0.14525922 0.09780711 0.00866085 0.01469493 0.03530029\n",
      "  0.13283791 0.17015171]\n",
      " [0.14525922 1.18039641 0.13803574 0.04747013 0.00475319 0.0064939\n",
      "  0.01453242 0.05843763]\n",
      " [0.09780711 0.13803574 1.17229372 0.0858836  0.04371513 0.00408291\n",
      "  0.0057695  0.01003999]\n",
      " [0.00866085 0.04747013 0.0858836  1.12060449 0.08715978 0.05142649\n",
      "  0.01239181 0.00736615]\n",
      " [0.01469493 0.00475319 0.04371513 0.08715978 1.18208528 0.16388672\n",
      "  0.13059608 0.03518652]\n",
      " [0.03530029 0.0064939  0.00408291 0.05142649 0.16388672 1.27885022\n",
      "  0.2601264  0.15270779]\n",
      " [0.13283791 0.01453242 0.0057695  0.01239181 0.13059608 0.2601264\n",
      "  1.36771602 0.26030572]\n",
      " [0.17015171 0.05843763 0.01003999 0.00736615 0.03518652 0.15270779\n",
      "  0.26030572 1.27996421]]\n",
      "\n",
      " Gain K:\n",
      " [[-0.18410974 -0.16922881 -0.0221811  -0.00628109 -0.00499671 -0.02048823\n",
      "  -0.04003361 -0.1832568 ]\n",
      " [-0.00616428 -0.01037628 -0.15064852 -0.15033161 -0.15110394 -0.01144692\n",
      "  -0.00717254 -0.00176558]\n",
      " [-0.00475884 -0.0028639  -0.00711646 -0.15139026 -0.1689334  -0.17982044\n",
      "  -0.03974078 -0.02064663]\n",
      " [-0.02155513 -0.16477282 -0.16429854 -0.15054498 -0.00681189 -0.00158211\n",
      "   0.00044387 -0.00521096]\n",
      " [ 0.          0.          0.          0.          0.          0.\n",
      "   0.          0.        ]\n",
      " [ 0.          0.          0.          0.          0.          0.\n",
      "   0.          0.        ]\n",
      " [ 0.          0.          0.          0.          0.          0.\n",
      "   0.          0.        ]\n",
      " [ 0.          0.          0.          0.          0.          0.\n",
      "   0.          0.        ]]\n"
     ]
    }
   ],
   "source": [
    "print('\\n P_mat:\\n', ret1_A['P_mat'])\n",
    "print('\\n Gain K:\\n', ret1_A['K'])"
   ]
  },
  {
   "cell_type": "markdown",
   "id": "a60f6594-adb5-4353-95d5-61a5598b4069",
   "metadata": {
    "tags": []
   },
   "source": [
    "### Model B"
   ]
  },
  {
   "cell_type": "markdown",
   "id": "c22fb428-ebe6-415c-a3ac-ea33fa4d3035",
   "metadata": {
    "jp-MarkdownHeadingCollapsed": true,
    "tags": []
   },
   "source": [
    "##### Code"
   ]
  },
  {
   "cell_type": "code",
   "execution_count": 6,
   "id": "95d130d0-0d9e-44cf-9a35-a721992b48c6",
   "metadata": {
    "tags": []
   },
   "outputs": [
    {
     "name": "stdout",
     "output_type": "stream",
     "text": [
      "System read from file @ system_model/System Model 8B.pickle \n",
      "\n"
     ]
    }
   ],
   "source": [
    "S_B = sys_from_file(sys_model+'B')\n",
    "initial_values = initial_values_init(S_B)"
   ]
  },
  {
   "cell_type": "code",
   "execution_count": 7,
   "id": "7907fc1f-88d1-4cec-923c-6224cd7a999f",
   "metadata": {},
   "outputs": [],
   "source": [
    "ret1_B = cost_function_1(S_B, initial_values)"
   ]
  },
  {
   "cell_type": "markdown",
   "id": "dd1b4557-3a96-4e49-9b9a-ccf8004b1c71",
   "metadata": {},
   "source": [
    "##### Output"
   ]
  },
  {
   "cell_type": "code",
   "execution_count": 8,
   "id": "97ce40c2-fc59-4c73-b034-5238e26658b8",
   "metadata": {},
   "outputs": [
    {
     "name": "stdout",
     "output_type": "stream",
     "text": [
      "\n",
      " P_mat:\n",
      " [[1.23831782 0.14525922 0.09780711 0.00866085 0.01469493 0.03530029\n",
      "  0.13283791 0.17015171]\n",
      " [0.14525922 1.18039641 0.13803574 0.04747013 0.00475319 0.0064939\n",
      "  0.01453242 0.05843763]\n",
      " [0.09780711 0.13803574 1.17229372 0.0858836  0.04371513 0.00408291\n",
      "  0.0057695  0.01003999]\n",
      " [0.00866085 0.04747013 0.0858836  1.12060449 0.08715978 0.05142649\n",
      "  0.01239181 0.00736615]\n",
      " [0.01469493 0.00475319 0.04371513 0.08715978 1.18208528 0.16388672\n",
      "  0.13059608 0.03518652]\n",
      " [0.03530029 0.0064939  0.00408291 0.05142649 0.16388672 1.27885022\n",
      "  0.2601264  0.15270779]\n",
      " [0.13283791 0.01453242 0.0057695  0.01239181 0.13059608 0.2601264\n",
      "  1.36771602 0.26030572]\n",
      " [0.17015171 0.05843763 0.01003999 0.00736615 0.03518652 0.15270779\n",
      "  0.26030572 1.27996421]]\n",
      "\n",
      " Gain K:\n",
      " [[-0.18410974 -0.16922881 -0.0221811  -0.00628109 -0.00499671 -0.02048823\n",
      "  -0.04003361 -0.1832568 ]\n",
      " [-0.00616428 -0.01037628 -0.15064852 -0.15033161 -0.15110394 -0.01144692\n",
      "  -0.00717254 -0.00176558]\n",
      " [-0.00475884 -0.0028639  -0.00711646 -0.15139026 -0.1689334  -0.17982044\n",
      "  -0.03974078 -0.02064663]\n",
      " [-0.02155513 -0.16477282 -0.16429854 -0.15054498 -0.00681189 -0.00158211\n",
      "   0.00044387 -0.00521096]\n",
      " [ 0.          0.          0.          0.          0.          0.\n",
      "   0.          0.        ]\n",
      " [ 0.          0.          0.          0.          0.          0.\n",
      "   0.          0.        ]\n",
      " [ 0.          0.          0.          0.          0.          0.\n",
      "   0.          0.        ]\n",
      " [ 0.          0.          0.          0.          0.          0.\n",
      "   0.          0.        ]]\n"
     ]
    }
   ],
   "source": [
    "print('\\n P_mat:\\n', ret1_B['P_mat'])\n",
    "print('\\n Gain K:\\n', ret1_B['K'])"
   ]
  },
  {
   "cell_type": "markdown",
   "id": "aa5f14be-1713-4498-b3ed-e0c5e504440e",
   "metadata": {
    "tags": []
   },
   "source": [
    "### Comparison"
   ]
  },
  {
   "cell_type": "code",
   "execution_count": 9,
   "id": "64da514a-7bbc-46e2-aa06-81f16b6f9642",
   "metadata": {},
   "outputs": [
    {
     "name": "stdout",
     "output_type": "stream",
     "text": [
      "Both cost matrices are close/equal\n",
      "Both gains are close/equal\n"
     ]
    }
   ],
   "source": [
    "if np.allclose(ret1_A['P_mat'], ret1_B['P_mat']):\n",
    "    print('Both cost matrices are close/equal')\n",
    "else:\n",
    "    print('Cost matrices are different')\n",
    "\n",
    "if np.allclose(ret1_A['K'], ret1_B['K']):\n",
    "    print('Both gains are close/equal')\n",
    "else:\n",
    "    print('Gains are different')\n"
   ]
  },
  {
   "cell_type": "code",
   "execution_count": null,
   "id": "6c22333e-8d19-41d7-9e4f-9fa549f3ed50",
   "metadata": {},
   "outputs": [],
   "source": []
  }
 ],
 "metadata": {
  "kernelspec": {
   "display_name": "Python 3",
   "language": "python",
   "name": "python3"
  },
  "language_info": {
   "codemirror_mode": {
    "name": "ipython",
    "version": 3
   },
   "file_extension": ".py",
   "mimetype": "text/x-python",
   "name": "python",
   "nbconvert_exporter": "python",
   "pygments_lexer": "ipython3",
   "version": "3.9.6"
  }
 },
 "nbformat": 4,
 "nbformat_minor": 5
}
