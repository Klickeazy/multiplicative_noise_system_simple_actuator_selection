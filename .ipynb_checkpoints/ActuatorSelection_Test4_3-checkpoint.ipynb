{
 "cells": [
  {
   "cell_type": "markdown",
   "id": "497ed8d0-cffc-496d-8bce-c5f9e2e4c508",
   "metadata": {
    "tags": []
   },
   "source": [
    "# Benefits of MPL Modeling for Actuator Selection - Random Graph analysis - Comparison Plot Run\n",
    "\n",
    "Statistics on the benefits of multiplicative noise modelling for actuator selection over N realizations of Erdos-Renyi (ER) or Barabasi-Albert (BA) random graphs"
   ]
  },
  {
   "cell_type": "markdown",
   "id": "b7ac06b9-099c-48db-aa1f-7e68f08c8529",
   "metadata": {
    "tags": []
   },
   "source": [
    "##### Py Packages"
   ]
  },
  {
   "cell_type": "code",
   "execution_count": 1,
   "id": "053aa0bb-9e9e-4d8c-8a14-721591e16776",
   "metadata": {
    "tags": []
   },
   "outputs": [],
   "source": [
    "import numpy as np\n",
    "from copy import deepcopy as dc\n",
    "# %matplotlib widget\n",
    "\n",
    "from functionfile_system_definition import create_graph, system_package\n",
    "from functionfile_system_mplcost import random_graph_empirical_simulation_comparison, plot_random_graph_simulation3, plot_random_graph_simulation4"
   ]
  },
  {
   "cell_type": "markdown",
   "id": "e94ef48e-bc74-48e4-b466-3af48c552ac8",
   "metadata": {
    "tags": []
   },
   "source": [
    "### Test Parameters - File Search Parameters"
   ]
  },
  {
   "cell_type": "markdown",
   "id": "2b391e8e-f45e-4dd7-b87e-ceeb84285acc",
   "metadata": {},
   "source": [
    "N_test: number of realizations\n",
    "\n",
    "Network_type\n",
    "- ER for Erdos-Renyi with network parameter for edge probability\n",
    "- BA for Barabasi-Albert with network parameter for initial network size\n",
    "\n",
    "System parameters\n",
    "- nx: number of nodes in the network\n",
    "- rho: stability scaling - sets $|\\lambda_{\\max}|$ of open-loop dynamics\n",
    "- alphai: covariance of state-dependent multiplicative noise - assumed constant across all MPL matrices $A_i$\n",
    "- X0_cov: covariance of initial state vector\n",
    "- X0_mean: mean of initial state vector"
   ]
  },
  {
   "cell_type": "code",
   "execution_count": 2,
   "id": "0f94b59d-2aef-46e7-9ad3-2b71fc110550",
   "metadata": {
    "tags": []
   },
   "outputs": [],
   "source": [
    "# Number of test iterations\n",
    "N_test = 100"
   ]
  },
  {
   "cell_type": "code",
   "execution_count": 3,
   "id": "76c9a1fd-5c51-4d1f-909e-4a729d7f31e6",
   "metadata": {},
   "outputs": [],
   "source": [
    "# Network type and parameter\n",
    "# For type='ER': Parameter = edge probability\n",
    "# For type='BA': Parameter = initial network size\n",
    "\n",
    "# Network_type = 'ER'\n",
    "Network_type = 'BA'\n",
    "\n",
    "# Network_parameter = [0.2, 0.4, 0.6]\n",
    "# Network_parameter = 0.4\n",
    "Network_parameter = [3, 5, 7]"
   ]
  },
  {
   "cell_type": "code",
   "execution_count": 4,
   "id": "301dbf90-e70e-4db2-b303-7fe64873c633",
   "metadata": {},
   "outputs": [],
   "source": [
    "# System parameters\n",
    "\n",
    "nx = 10           # Number of nodes\n",
    "# nx = [10, 20, 30]           # Number of nodes\n",
    "rho = 0.8        # Open-loop stability (unsigned magnitude of largest eigenvalue of dynamics matrix)\n",
    "alphai = [0.1]    # Covariance on state-dependent multiplicative noise"
   ]
  },
  {
   "cell_type": "markdown",
   "id": "d3197f1f-dce6-44fc-86ef-cfac09959f3f",
   "metadata": {
    "tags": []
   },
   "source": [
    "### Code"
   ]
  },
  {
   "cell_type": "code",
   "execution_count": 5,
   "id": "3857e6f3-162c-4a65-b2e5-11b33b5691db",
   "metadata": {
    "jupyter": {
     "source_hidden": true
    },
    "tags": []
   },
   "outputs": [
    {
     "name": "stdout",
     "output_type": "stream",
     "text": [
      "System read from file @ system_test/MPL_100_BA_3_10_0.8_0.1.pickle \n",
      "\n",
      "System read from file @ system_test/MPL_100_BA_5_10_0.8_0.1.pickle \n",
      "\n",
      "System read from file @ system_test/MPL_100_BA_7_10_0.8_0.1.pickle \n",
      "\n"
     ]
    }
   ],
   "source": [
    "simulation_values, parameter_list = random_graph_empirical_simulation_comparison(N_test, Network_type, Network_parameter, nx, alphai, rho)"
   ]
  },
  {
   "cell_type": "markdown",
   "id": "6cc486c4-c719-47f4-b3f1-5c06857a948f",
   "metadata": {
    "tags": []
   },
   "source": [
    "### Plot"
   ]
  },
  {
   "cell_type": "code",
   "execution_count": 6,
   "id": "f635daf5-ae51-4211-85b8-43efd9cdc26a",
   "metadata": {
    "jupyter": {
     "source_hidden": true
    },
    "tags": []
   },
   "outputs": [],
   "source": [
    "# plot_random_graph_simulation3(simulation_values, parameter_list)"
   ]
  },
  {
   "cell_type": "code",
   "execution_count": null,
   "id": "5b769898-f68b-49e3-ba33-a6649a558edc",
   "metadata": {
    "jupyter": {
     "source_hidden": true
    },
    "tags": []
   },
   "outputs": [],
   "source": [
    "plot_random_graph_simulation4(simulation_values, parameter_list)"
   ]
  },
  {
   "cell_type": "markdown",
   "id": "61781724-9d9a-4b87-a830-0eb8a5e3f294",
   "metadata": {},
   "source": [
    "## Run Complete"
   ]
  },
  {
   "cell_type": "code",
   "execution_count": null,
   "id": "a91182fc-374d-468f-9f8d-637b90a3f648",
   "metadata": {
    "jupyter": {
     "source_hidden": true
    },
    "tags": []
   },
   "outputs": [],
   "source": [
    "print('Run Complete')"
   ]
  }
 ],
 "metadata": {
  "kernelspec": {
   "display_name": "Python 3",
   "language": "python",
   "name": "python3"
  },
  "language_info": {
   "codemirror_mode": {
    "name": "ipython",
    "version": 3
   },
   "file_extension": ".py",
   "mimetype": "text/x-python",
   "name": "python",
   "nbconvert_exporter": "python",
   "pygments_lexer": "ipython3",
   "version": "3.9.6"
  }
 },
 "nbformat": 4,
 "nbformat_minor": 5
}
