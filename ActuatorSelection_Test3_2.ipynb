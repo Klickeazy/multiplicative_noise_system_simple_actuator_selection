{
 "cells": [
  {
   "cell_type": "markdown",
   "id": "d15c0028-0931-4a86-98dc-fa140cd2f192",
   "metadata": {},
   "source": [
    "# Benefit of MPL System Modelling\n",
    "True, Nominal, MPL model testing"
   ]
  },
  {
   "cell_type": "markdown",
   "id": "1d8fa32e-f769-4877-8c78-a500b0824240",
   "metadata": {
    "jp-MarkdownHeadingCollapsed": true,
    "tags": []
   },
   "source": [
    "##### Py Packages"
   ]
  },
  {
   "cell_type": "code",
   "execution_count": 1,
   "id": "3f7cda21-fb90-4786-a674-eb1f07ad7870",
   "metadata": {},
   "outputs": [],
   "source": [
    "import numpy as np\n",
    "from copy import deepcopy as dc\n",
    "%matplotlib widget\n",
    "\n",
    "from functionfile_system_definition import sys_from_file, system_display_matrix\n",
    "from functionfile_system_mplcost import simulation_nom_vs_mpl, plot_simulation_nom_vs_mpl_1, plot_simulation_nom_vs_mpl_2, actuator_comparison"
   ]
  },
  {
   "cell_type": "markdown",
   "id": "12c8fd3e-bcea-4fdc-ae00-4fee714c2f21",
   "metadata": {
    "jp-MarkdownHeadingCollapsed": true,
    "tags": []
   },
   "source": [
    "## Code"
   ]
  },
  {
   "cell_type": "code",
   "execution_count": 2,
   "id": "ef074208-1882-4702-b019-2c94f78c5899",
   "metadata": {
    "tags": []
   },
   "outputs": [
    {
     "name": "stdout",
     "output_type": "stream",
     "text": [
      "System read from file @ system_model/System Model 1 True.pickle \n",
      "\n",
      "System read from file @ system_model/System Model 1 MPL.pickle \n",
      "\n",
      "System read from file @ system_model/System Model 1 Nominal.pickle \n",
      "\n"
     ]
    }
   ],
   "source": [
    "test_set = 'System Model 1'\n",
    "S_True = sys_from_file(test_set + ' True')\n",
    "S_MPL = sys_from_file(test_set + ' MPL')\n",
    "S_Nom = sys_from_file(test_set + ' Nominal')"
   ]
  },
  {
   "cell_type": "code",
   "execution_count": 3,
   "id": "4bca6910-9d66-48ca-a466-a1e0780315e1",
   "metadata": {},
   "outputs": [],
   "source": [
    "ret_sim = simulation_nom_vs_mpl(S_Nom, S_MPL, S_True)"
   ]
  },
  {
   "cell_type": "markdown",
   "id": "63555e58-9444-4628-92b6-473c25d46c0b",
   "metadata": {
    "tags": []
   },
   "source": [
    "## Output"
   ]
  },
  {
   "cell_type": "markdown",
   "id": "71de3af0-3dc3-44b5-ab11-c2e70e23d954",
   "metadata": {
    "jp-MarkdownHeadingCollapsed": true,
    "tags": []
   },
   "source": [
    "#### System Models"
   ]
  },
  {
   "cell_type": "markdown",
   "id": "66b25313-55d6-468d-a12f-eb9681919d41",
   "metadata": {},
   "source": [
    "##### True System"
   ]
  },
  {
   "cell_type": "code",
   "execution_count": 4,
   "id": "61d0f1ea-a13e-4da1-ac02-4da3b60c9b20",
   "metadata": {
    "jupyter": {
     "source_hidden": true
    },
    "tags": []
   },
   "outputs": [
    {
     "name": "stdout",
     "output_type": "stream",
     "text": [
      "max(abs(eigvals(A)))= 0.9500\n"
     ]
    },
    {
     "data": {
      "application/vnd.jupyter.widget-view+json": {
       "model_id": "1ae054c1131f4c70845558e4d953862a",
       "version_major": 2,
       "version_minor": 0
      },
      "text/plain": [
       "Canvas(toolbar=Toolbar(toolitems=[('Home', 'Reset original view', 'home', 'home'), ('Back', 'Back to previous …"
      ]
     },
     "metadata": {},
     "output_type": "display_data"
    }
   ],
   "source": [
    "print('max(abs(eigvals(A)))= %.4f' % (np.max(np.abs(np.linalg.eigvals(S_True['A'])))))\n",
    "system_display_matrix(S_True)"
   ]
  },
  {
   "cell_type": "markdown",
   "id": "1bfd5b9b-d72d-42df-b275-e7abd45b56fa",
   "metadata": {},
   "source": [
    "##### Nominal Model"
   ]
  },
  {
   "cell_type": "code",
   "execution_count": 5,
   "id": "92cf2e95-5607-4fa5-863a-5ebc1f12a4fa",
   "metadata": {
    "jupyter": {
     "source_hidden": true
    },
    "tags": []
   },
   "outputs": [
    {
     "name": "stdout",
     "output_type": "stream",
     "text": [
      "max(abs(eigvals(A)))= 0.9500\n"
     ]
    },
    {
     "data": {
      "application/vnd.jupyter.widget-view+json": {
       "model_id": "e4db78e63c3d4635877b70fae4c55486",
       "version_major": 2,
       "version_minor": 0
      },
      "text/plain": [
       "Canvas(toolbar=Toolbar(toolitems=[('Home', 'Reset original view', 'home', 'home'), ('Back', 'Back to previous …"
      ]
     },
     "metadata": {},
     "output_type": "display_data"
    }
   ],
   "source": [
    "print('max(abs(eigvals(A)))= %.4f' % (np.max(np.abs(np.linalg.eigvals(ret_sim['system_nom']['A'])))))\n",
    "system_display_matrix(ret_sim['system_nom'])"
   ]
  },
  {
   "cell_type": "markdown",
   "id": "c71a5d78-44fb-4b98-8adc-3bd3e9ba5da6",
   "metadata": {},
   "source": [
    "##### Multiplicative Noise Model"
   ]
  },
  {
   "cell_type": "code",
   "execution_count": 6,
   "id": "4d1a6987-7a85-4ca0-9857-18a40a9f1c99",
   "metadata": {
    "jupyter": {
     "source_hidden": true
    },
    "tags": []
   },
   "outputs": [
    {
     "name": "stdout",
     "output_type": "stream",
     "text": [
      "max(abs(eigvals(A)))= 0.9500\n"
     ]
    },
    {
     "data": {
      "application/vnd.jupyter.widget-view+json": {
       "model_id": "d12270ddc9884d41889af1e8873fdcbd",
       "version_major": 2,
       "version_minor": 0
      },
      "text/plain": [
       "Canvas(toolbar=Toolbar(toolitems=[('Home', 'Reset original view', 'home', 'home'), ('Back', 'Back to previous …"
      ]
     },
     "metadata": {},
     "output_type": "display_data"
    }
   ],
   "source": [
    "print('max(abs(eigvals(A)))= %.4f' % (np.max(np.abs(np.linalg.eigvals(ret_sim['system_mpl']['A'])))))\n",
    "system_display_matrix(ret_sim['system_mpl'])"
   ]
  },
  {
   "cell_type": "markdown",
   "id": "dc54e575-6072-4d6b-beee-32dfd23bddd8",
   "metadata": {},
   "source": [
    "#### Simulation - Trajectory, Control Input and Costs"
   ]
  },
  {
   "cell_type": "code",
   "execution_count": 7,
   "id": "ad5cc482-d5f5-4d71-9bbe-3482fe5629f6",
   "metadata": {
    "jupyter": {
     "source_hidden": true
    },
    "tags": []
   },
   "outputs": [
    {
     "data": {
      "application/vnd.jupyter.widget-view+json": {
       "model_id": "1c2c461bf08c465b831b117e684855f0",
       "version_major": 2,
       "version_minor": 0
      },
      "text/plain": [
       "Canvas(toolbar=Toolbar(toolitems=[('Home', 'Reset original view', 'home', 'home'), ('Back', 'Back to previous …"
      ]
     },
     "metadata": {},
     "output_type": "display_data"
    }
   ],
   "source": [
    "plot_simulation_nom_vs_mpl_1(ret_sim)"
   ]
  },
  {
   "cell_type": "markdown",
   "id": "14f6a4cb-e89a-435d-8189-f3e1c7e10895",
   "metadata": {},
   "source": [
    "#### Actuator set comparison"
   ]
  },
  {
   "cell_type": "code",
   "execution_count": 8,
   "id": "d80ad9c5-be24-4bdd-9ca7-57ee3517b9c1",
   "metadata": {
    "jupyter": {
     "source_hidden": true
    },
    "tags": []
   },
   "outputs": [
    {
     "name": "stdout",
     "output_type": "stream",
     "text": [
      "Control sets are different\n"
     ]
    },
    {
     "data": {
      "application/vnd.jupyter.widget-view+json": {
       "model_id": "a9540c9938e04c5b9d02af43ba8f4bb5",
       "version_major": 2,
       "version_minor": 0
      },
      "text/plain": [
       "Canvas(toolbar=Toolbar(toolitems=[('Home', 'Reset original view', 'home', 'home'), ('Back', 'Back to previous …"
      ]
     },
     "metadata": {},
     "output_type": "display_data"
    }
   ],
   "source": [
    "actuator_comparison(ret_sim['system_mpl'], ret_sim['system_nom']);\n",
    "# if ret_sim['act_check']:\n",
    "#     print('Actuator sets are different')\n",
    "#     print('Nominal B:\\n', ret_sim['B_Nom'])\n",
    "#     print('MPL B:\\n', ret_sim['B_MPL'])\n",
    "#     print('B diff (Nom - MPL):\\n', ret_sim['B_Nom'] - ret_sim['B_MPL'])\n",
    "# else:\n",
    "#     print('Same actuator sets')\n",
    "#     print('Nominal B = MPL B:\\n', ret_sim['B_MPL'])"
   ]
  },
  {
   "cell_type": "markdown",
   "id": "d67e8565-745b-4fce-b61e-ad842a65983a",
   "metadata": {},
   "source": [
    "#### Simulated costs"
   ]
  },
  {
   "cell_type": "code",
   "execution_count": 9,
   "id": "992563af-292a-4b5d-9d0c-1e0cf3d9756b",
   "metadata": {
    "jupyter": {
     "source_hidden": true
    },
    "tags": []
   },
   "outputs": [
    {
     "name": "stdout",
     "output_type": "stream",
     "text": [
      "True simulation cost with <___> feedback (4decimal approx)\n",
      "|S|: 1 | Nom: 26291.6224 | MPL: 26277.5096 | Diff (Nom-MPL) 14.1129\n",
      "|S|: 2 | Nom: 19728.3951 | MPL: 19678.8618 | Diff (Nom-MPL) 49.5333\n",
      "|S|: 3 | Nom: 15758.2399 | MPL: 14833.1283 | Diff (Nom-MPL) 925.1116\n",
      "|S|: 4 | Nom: 15037.7818 | MPL: 13434.0968 | Diff (Nom-MPL) 1603.6850\n",
      "|S|: 5 | Nom: 13415.9116 | MPL: 12664.6753 | Diff (Nom-MPL) 751.2363\n",
      "|S|: 6 | Nom: 12206.0345 | MPL: 11895.9663 | Diff (Nom-MPL) 310.0682\n",
      "|S|: 7 | Nom: 11791.6587 | MPL: 11431.4561 | Diff (Nom-MPL) 360.2026\n",
      "|S|: 8 | Nom: 11410.6990 | MPL: 11018.8946 | Diff (Nom-MPL) 391.8044\n",
      "|S|: 9 | Nom: 10753.7986 | MPL: 10624.2851 | Diff (Nom-MPL) 129.5135\n",
      "|S|: 10 | Nom: 10298.4039 | MPL: 10220.3008 | Diff (Nom-MPL) 78.1031\n"
     ]
    }
   ],
   "source": [
    "print('True simulation cost with <___> feedback (4decimal approx)')\n",
    "for key in ret_sim['T_Nom']['costs']:\n",
    "    print (\"|S|: %s | Nom: %.4f | MPL: %.4f | Diff (Nom-MPL) %.4f\" % (key, ret_sim['T_Nom']['costs'][key][-1], ret_sim['T_MPL']['costs'][key][-1], ret_sim['T_Nom']['costs'][key][-1]-ret_sim['T_MPL']['costs'][key][-1]))\n",
    "#     print('|S|:', key, '| Nom:', ret_sim['T_Nom']['costs'][key][-1], '| MPL:', ret_sim['T_MPL']['costs'][key][-1], ' | Diff (Nom-MPL):', ret_sim['T_Nom']['costs'][key][-1]-ret_sim['T_MPL']['costs'][key][-1])"
   ]
  },
  {
   "cell_type": "code",
   "execution_count": 10,
   "id": "7b821fa4-d7b6-4435-9bee-fbebad72f7e8",
   "metadata": {
    "jupyter": {
     "source_hidden": true
    },
    "tags": []
   },
   "outputs": [
    {
     "data": {
      "application/vnd.jupyter.widget-view+json": {
       "model_id": "c10c30879bd64003a71dd198fd963954",
       "version_major": 2,
       "version_minor": 0
      },
      "text/plain": [
       "Canvas(toolbar=Toolbar(toolitems=[('Home', 'Reset original view', 'home', 'home'), ('Back', 'Back to previous …"
      ]
     },
     "metadata": {},
     "output_type": "display_data"
    }
   ],
   "source": [
    "plot_simulation_nom_vs_mpl_2(ret_sim)"
   ]
  },
  {
   "cell_type": "markdown",
   "id": "d422ae8f-819e-4b79-9a7b-655dbc346bbc",
   "metadata": {},
   "source": [
    "## Run Complete"
   ]
  },
  {
   "cell_type": "code",
   "execution_count": 11,
   "id": "969467ff-85a3-4c48-9b93-d7d27621d54d",
   "metadata": {
    "jupyter": {
     "source_hidden": true
    },
    "tags": []
   },
   "outputs": [
    {
     "name": "stdout",
     "output_type": "stream",
     "text": [
      "Run Complete\n"
     ]
    }
   ],
   "source": [
    "print('Run Complete')"
   ]
  }
 ],
 "metadata": {
  "kernelspec": {
   "display_name": "Python 3 (ipykernel)",
   "language": "python",
   "name": "python3"
  },
  "language_info": {
   "codemirror_mode": {
    "name": "ipython",
    "version": 3
   },
   "file_extension": ".py",
   "mimetype": "text/x-python",
   "name": "python",
   "nbconvert_exporter": "python",
   "pygments_lexer": "ipython3",
   "version": "3.9.6"
  }
 },
 "nbformat": 4,
 "nbformat_minor": 5
}
