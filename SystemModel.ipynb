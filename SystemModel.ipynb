{
 "cells": [
  {
   "cell_type": "markdown",
   "id": "2caa3364-182e-4cc6-835c-142126c14c93",
   "metadata": {
    "tags": []
   },
   "source": [
    "# System Model Creation"
   ]
  },
  {
   "cell_type": "markdown",
   "id": "335b0ba8-b86f-4252-adb5-25e12b122a80",
   "metadata": {
    "jp-MarkdownHeadingCollapsed": true,
    "tags": []
   },
   "source": [
    "##### Py Packages"
   ]
  },
  {
   "cell_type": "code",
   "execution_count": 1,
   "id": "24a4dcf2-a1d4-4aff-9cf8-72af87b541e4",
   "metadata": {},
   "outputs": [],
   "source": [
    "import numpy as np\n",
    "from copy import deepcopy as dc\n",
    "\n",
    "from functionfile_system_definition import system_package, actuator_random_selection, sys_to_file, create_graph, system_display_matrix"
   ]
  },
  {
   "cell_type": "markdown",
   "id": "0fe5c7f9-f8ed-458c-b99c-34b34cc432c8",
   "metadata": {
    "jp-MarkdownHeadingCollapsed": true,
    "tags": []
   },
   "source": [
    "##### System Model 1\n",
    "- Cycle graph\n",
    "- Random actuators\n",
    "- ER state-MPL noise\n",
    "- Initial states - vector of ones"
   ]
  },
  {
   "cell_type": "code",
   "execution_count": 2,
   "id": "8757e02f-fb93-47b2-9d8b-2874adce72c8",
   "metadata": {},
   "outputs": [
    {
     "name": "stdout",
     "output_type": "stream",
     "text": [
      "Control noise matrix not specified - assumed 0\n",
      "Initial state vector specified\n",
      "System saved to file @ system_model/System Model 1.pickle \n",
      "\n"
     ]
    }
   ],
   "source": [
    "nx = 10\n",
    "nu = 3\n",
    "\n",
    "A = create_graph(nx, type='cycle')['A']\n",
    "\n",
    "B = actuator_random_selection(10, 3)['B']\n",
    "# B = np.random.rand(10,3)\n",
    "\n",
    "alphai = [0.1]\n",
    "Ai = create_graph(nx, type='ER', p=0.4)['A']\n",
    "\n",
    "X0 = np.ones(nx)\n",
    "\n",
    "S = system_package(A_in=A, B_in=B, alphai_in=alphai, Ai_in=Ai, X0_in=X0, label_in='System Model 1')\n",
    "\n",
    "# system_display_matrix(S)\n",
    "sys_to_file(S)"
   ]
  },
  {
   "cell_type": "markdown",
   "id": "209c1daf-ca15-4805-b568-360792f43975",
   "metadata": {
    "jp-MarkdownHeadingCollapsed": true,
    "tags": []
   },
   "source": [
    "##### System Model 2\n",
    "- 0.8*Path graph\n",
    "- No actuators\n",
    "- ER state-MPL noise\n",
    "- Initial states - vector of ones"
   ]
  },
  {
   "cell_type": "code",
   "execution_count": 3,
   "id": "b149f01f-cea5-42bf-b6da-929698403f51",
   "metadata": {},
   "outputs": [
    {
     "name": "stdout",
     "output_type": "stream",
     "text": [
      "Control input matrix not given - assumed no controller\n",
      "Control noise matrix not specified - assumed 0\n",
      "Initial state vector specified\n",
      "System saved to file @ system_model/System Model 2.pickle \n",
      "\n"
     ]
    }
   ],
   "source": [
    "nx = 10\n",
    "\n",
    "A = 0.8*create_graph(nx, type='path')['A']\n",
    "\n",
    "# B = actuator_random_selection(10, 3)['B']\n",
    "# B = np.random.rand(10,3)\n",
    "\n",
    "alphai = [0.1]\n",
    "Ai = create_graph(nx, type='ER', p=0.4)['A']\n",
    "\n",
    "X0 = np.ones(nx)\n",
    "\n",
    "S = system_package(A_in=A, alphai_in=alphai, Ai_in=Ai, X0_in=X0, label_in='System Model 2')\n",
    "\n",
    "# system_display_matrix(S)\n",
    "sys_to_file(S)"
   ]
  },
  {
   "cell_type": "markdown",
   "id": "9c6c76ec-691f-4c31-ad75-ed1ac5bec509",
   "metadata": {
    "jp-MarkdownHeadingCollapsed": true,
    "tags": []
   },
   "source": [
    "##### System Model 3\n",
    "- Path graph\n",
    "- No actuators\n",
    "- ER state-MPL noise\n",
    "- Initial state distribution - identity covariance"
   ]
  },
  {
   "cell_type": "code",
   "execution_count": 4,
   "id": "f680368e-f47e-47d7-9246-00869fcba203",
   "metadata": {},
   "outputs": [
    {
     "name": "stdout",
     "output_type": "stream",
     "text": [
      "Control input matrix not given - assumed no controller\n",
      "Control noise matrix not specified - assumed 0\n",
      "Initial state distribution specified\n",
      "System saved to file @ system_model/System Model 3.pickle \n",
      "\n"
     ]
    }
   ],
   "source": [
    "nx = 6\n",
    "\n",
    "A = create_graph(nx, type='path')['A']\n",
    "\n",
    "# B = actuator_random_selection(10, 3)['B']\n",
    "# B = np.random.rand(10,3)\n",
    "\n",
    "alphai = [0.1]\n",
    "Ai = create_graph(nx, type='ER', p=0.4)['A']\n",
    "\n",
    "X0 = np.identity(nx)\n",
    "\n",
    "S = system_package(A_in=A, alphai_in=alphai, Ai_in=Ai, X0_in=X0, label_in='System Model 3')\n",
    "\n",
    "# system_display_matrix(S)\n",
    "sys_to_file(S)"
   ]
  },
  {
   "cell_type": "markdown",
   "id": "7ada0a90-ce42-4d6d-91de-413ad06c97fa",
   "metadata": {
    "tags": []
   },
   "source": [
    "##### System Models - True, Nominal, MPL comparison\n",
    "- True System\n",
    "    - 0.99*Cycle graph\n",
    "    - No actuators\n",
    "    - No MPL noise\n",
    "    - Initial states - vector of ones\n",
    "- Nominal System\n",
    "    - Path graph\n",
    "    - No actuators\n",
    "    - No MPL noise\n",
    "    - Initial states - vector of ones\n",
    "- MPL System\n",
    "    - Path graph\n",
    "    - No actuators\n",
    "    - State-MPL noise - cycle\n",
    "    - Initial states - vector of ones"
   ]
  },
  {
   "cell_type": "code",
   "execution_count": 8,
   "id": "6700c851-f6e3-4d4a-b1cf-b1f6db17f9ce",
   "metadata": {},
   "outputs": [
    {
     "name": "stdout",
     "output_type": "stream",
     "text": [
      "Control input matrix not given - assumed no controller\n",
      "Control noise matrix not specified - assumed 0\n",
      "Initial state distribution specified\n",
      "System saved to file @ system_model/MPL System.pickle \n",
      "\n",
      "Control input matrix not given - assumed no controller\n",
      "Actuator noise matrix not specified - assumed 0\n",
      "Control noise matrix not specified - assumed 0\n",
      "Initial state distribution specified\n",
      "System saved to file @ system_model/Nominal System.pickle \n",
      "\n",
      "Control input matrix not given - assumed no controller\n",
      "Actuator noise matrix not specified - assumed 0\n",
      "Control noise matrix not specified - assumed 0\n",
      "Initial state distribution specified\n",
      "System saved to file @ system_model/True System.pickle \n",
      "\n"
     ]
    }
   ],
   "source": [
    "nx = 8\n",
    "\n",
    "cycle = create_graph(nx, type='cycle')\n",
    "path = create_graph(nx, type='path')\n",
    "\n",
    "alphai = [0.1]\n",
    "\n",
    "X0 = 5*np.identity(nx)\n",
    "\n",
    "\n",
    "S = system_package(A_in=path['A'], alphai_in=alphai, Ai_in=cycle['Adj'], X0_in=X0, label_in='MPL System')\n",
    "sys_to_file(S)\n",
    "\n",
    "S = system_package(A_in=path['A'], X0_in=X0, label_in='Nominal System')\n",
    "sys_to_file(S)\n",
    "\n",
    "S = system_package(A_in=0.99*cycle['A'], X0_in=X0, label_in='True System')\n",
    "sys_to_file(S)"
   ]
  },
  {
   "cell_type": "markdown",
   "id": "62f5d61f-03a6-4bd2-8261-7bef462e908d",
   "metadata": {
    "jp-MarkdownHeadingCollapsed": true,
    "tags": []
   },
   "source": [
    "##### System Models - True, Nominal, MPL comparison\n",
    "- True System\n",
    "    - ER (1)\n",
    "    - No actuators\n",
    "    - State-MPL noise with ER (1)\n",
    "    - Initial state covariance - 10*identity\n",
    "- Nominal System\n",
    "    - Cycle graph\n",
    "    - No actuators\n",
    "    - No MPL noise\n",
    "    - Initial state covariance - 10*identity\n",
    "- MPL System\n",
    "    - Cycle graph\n",
    "    - No actuators\n",
    "    - State-MPL noise with ER (2)\n",
    "    - Initial state covariance - 10*identity"
   ]
  },
  {
   "cell_type": "code",
   "execution_count": 6,
   "id": "c2a43ad2-6b2c-4aa0-b5ea-0bba4eacdd25",
   "metadata": {},
   "outputs": [
    {
     "name": "stdout",
     "output_type": "stream",
     "text": [
      "Control input matrix not given - assumed no controller\n",
      "Control noise matrix not specified - assumed 0\n",
      "Initial state vector specified\n",
      "System saved to file @ system_model/MPL System.pickle \n",
      "\n",
      "Control input matrix not given - assumed no controller\n",
      "Actuator noise matrix not specified - assumed 0\n",
      "Control noise matrix not specified - assumed 0\n",
      "Initial state vector specified\n",
      "System saved to file @ system_model/Nominal System.pickle \n",
      "\n",
      "Control input matrix not given - assumed no controller\n",
      "Control noise matrix not specified - assumed 0\n",
      "Initial state vector specified\n",
      "System saved to file @ system_model/True System.pickle \n",
      "\n"
     ]
    }
   ],
   "source": [
    "nx = 8\n",
    "\n",
    "cycle = create_graph(nx, type='cycle')\n",
    "path = create_graph(nx, type='path')\n",
    "ER1 = create_graph(nx, type='ER', p=0.5)\n",
    "ER2 = create_graph(nx, type='ER', p=0.5)\n",
    "\n",
    "alphai = [0.1]\n",
    "X0 = 10*np.ones(nx)\n",
    "\n",
    "S = system_package(A_in=cycle['A'], alphai_in=alphai, Ai_in=ER2['A'], X0_in=X0, label_in='MPL System')\n",
    "sys_to_file(S)\n",
    "\n",
    "S = system_package(A_in=cycle['A'], X0_in=X0, label_in='Nominal System')\n",
    "sys_to_file(S)\n",
    "\n",
    "S = system_package(A_in=ER1['A'], alphai_in=alphai, Ai_in=ER1['A'], X0_in=X0, label_in='True System')\n",
    "sys_to_file(S)"
   ]
  },
  {
   "cell_type": "markdown",
   "id": "83ca7c1f-8ab4-4871-9fa5-4953f6c229b4",
   "metadata": {
    "tags": []
   },
   "source": [
    "##### Run Complete"
   ]
  },
  {
   "cell_type": "code",
   "execution_count": 7,
   "id": "1186c871-2f8f-4767-9edc-69abec75719c",
   "metadata": {},
   "outputs": [
    {
     "name": "stdout",
     "output_type": "stream",
     "text": [
      "Model Save - Completed\n"
     ]
    }
   ],
   "source": [
    "print('Model Save - Completed')"
   ]
  }
 ],
 "metadata": {
  "kernelspec": {
   "display_name": "Python 3",
   "language": "python",
   "name": "python3"
  },
  "language_info": {
   "codemirror_mode": {
    "name": "ipython",
    "version": 3
   },
   "file_extension": ".py",
   "mimetype": "text/x-python",
   "name": "python",
   "nbconvert_exporter": "python",
   "pygments_lexer": "ipython3",
   "version": "3.9.6"
  }
 },
 "nbformat": 4,
 "nbformat_minor": 5
}
