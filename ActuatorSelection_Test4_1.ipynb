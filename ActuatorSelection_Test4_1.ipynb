{
 "cells": [
  {
   "cell_type": "markdown",
   "id": "d79564f8-88c6-457b-9b8d-ffd3d7da9951",
   "metadata": {},
   "source": [
    "# Benefits of MPL Modeling for Actuator Selection - Random Graph (Erdos-Renyi) analysis\n",
    "\n",
    "Statistics on the benefits of multiplicative noise modelling for actuator selection over N realizations of Erdos-Renyi random graphs"
   ]
  },
  {
   "cell_type": "markdown",
   "id": "589bddc2-af1a-4461-a8f5-d2b2d110b43f",
   "metadata": {
    "tags": []
   },
   "source": [
    "##### Py Packages"
   ]
  },
  {
   "cell_type": "code",
   "execution_count": 1,
   "id": "671509d8-0cdb-4e16-952e-ad6fa8b88ff7",
   "metadata": {
    "tags": []
   },
   "outputs": [],
   "source": [
    "import numpy as np\n",
    "from copy import deepcopy as dc\n",
    "# %matplotlib widget\n",
    "\n",
    "from functionfile_system_definition import create_graph, system_package\n",
    "from functionfile_system_mplcost import random_graph_emperical_simulation, plot_random_graph_simulation"
   ]
  },
  {
   "cell_type": "markdown",
   "id": "a5f1edf0-3933-4183-a1b9-b3ec8af4eca1",
   "metadata": {
    "tags": []
   },
   "source": [
    "### Test Parameters"
   ]
  },
  {
   "cell_type": "code",
   "execution_count": 2,
   "id": "ed9c0ecb-b5df-47e7-9d5a-f783aa2476e5",
   "metadata": {
    "tags": []
   },
   "outputs": [],
   "source": [
    "# Number of test iterations\n",
    "N_test = 20\n",
    "\n",
    "# Edge probability\n",
    "edge_probability = 0.5\n",
    "\n",
    "# Network parameters\n",
    "nx = 10           # Number of nodes\n",
    "rho = 0.7        # Open-loop stability (unsigned magnitude of largest eigenvalue of dynamics matrix)\n",
    "alphai = [0.3]    # Covariance on state-dependent multiplicative noise\n",
    "\n",
    "# Initial state - realization of distribution given mean and covariance \n",
    "X0_cov = 10*np.identity(nx)\n",
    "X0_mean = np.zeros(nx)"
   ]
  },
  {
   "cell_type": "markdown",
   "id": "c841e9b1-940c-4a6f-9178-f4c59b024d86",
   "metadata": {},
   "source": [
    "### Code"
   ]
  },
  {
   "cell_type": "code",
   "execution_count": 3,
   "id": "9cb35340-68ec-4af5-8460-5de48fc14292",
   "metadata": {
    "tags": []
   },
   "outputs": [],
   "source": [
    "X0 = np.random.default_rng().multivariate_normal(mean=X0_mean, cov=X0_cov)\n",
    "S_base_model = system_package(A_in=rho*create_graph(nx)['A'], alphai_in=alphai, Ai_in=create_graph(nx)['A'], X0_in=X0, label_in='System Model', print_check=False)"
   ]
  },
  {
   "cell_type": "code",
   "execution_count": 4,
   "id": "046d8fcc-1098-4d24-b0cd-2af3e708fc30",
   "metadata": {
    "tags": []
   },
   "outputs": [
    {
     "name": "stdout",
     "output_type": "stream",
     "text": [
      "====> Breaking current simulation at t= 55 as cumulative cost magnitude exceed 1e+08\n",
      "Realization: 20 / 20\r"
     ]
    }
   ],
   "source": [
    "simulation_values = random_graph_emperical_simulation(S_base_model, edge_probability, N_test)"
   ]
  },
  {
   "cell_type": "markdown",
   "id": "7018e198-2eae-41c1-aa2b-70593f76bbbd",
   "metadata": {},
   "source": [
    "### Plot"
   ]
  },
  {
   "cell_type": "code",
   "execution_count": 5,
   "id": "8ff30fca-0664-4ae2-a3f8-8a2de380f45e",
   "metadata": {
    "tags": []
   },
   "outputs": [
    {
     "name": "stderr",
     "output_type": "stream",
     "text": [
      "C:\\Users\\kxg161630\\Anaconda3\\envs\\work\\lib\\site-packages\\numpy\\linalg\\linalg.py:2158: RuntimeWarning: invalid value encountered in det\n",
      "  r = _umath_linalg.det(a, signature=signature)\n"
     ]
    },
    {
     "data": {
      "image/png": "[encoded data removed]",
      "text/plain": [
       "<Figure size 432x288 with 1 Axes>"
      ]
     },
     "metadata": {
      "needs_background": "light"
     },
     "output_type": "display_data"
    }
   ],
   "source": [
    "plot_random_graph_simulation(simulation_values)"
   ]
  },
  {
   "cell_type": "code",
   "execution_count": 6,
   "id": "a5f7ab08-7730-478d-8da3-c2d8e7e4cb8d",
   "metadata": {},
   "outputs": [
    {
     "name": "stdout",
     "output_type": "stream",
     "text": [
      "[[ 791.5532609   704.04508978  870.88408521  673.33576773  750.26523255\n",
      "   624.70803366  668.11456902  728.94294023  686.60027016  871.39831419\n",
      "   710.98331762  648.1238367   780.83265552  704.06246787  870.3215537\n",
      "   623.4038345   597.32554254  797.55296291  608.05086081  617.17432596]\n",
      " [3572.50672639  683.99455621  923.46784813  621.04323335  965.24473671\n",
      "   614.15855193  715.02412724 2238.25942107  651.97039223  705.11954336\n",
      "   818.55223353 4483.09213812  801.02144104  785.37107323  651.39272101\n",
      "   590.80889254  623.14256201  705.39112468  776.34777552  617.44311714]\n",
      " [          nan  691.9299674   865.87719863  623.8937728  3301.05036025\n",
      "   610.9233003   605.70744189  713.45289064  640.94128408  820.89909266\n",
      "   844.20272649  687.24832788  939.35997606  797.33987239  684.00080725\n",
      "   579.64063642  606.99133939  704.77059688  620.35841056  618.07889777]\n",
      " [2064.30872522  596.35245745  877.30181622  609.22348767  626.07184859\n",
      "   599.00571506  597.08751313  699.75699714  615.74797344  755.87586804\n",
      "   852.52141891  686.71904791 1622.28080489  682.76337555  656.16077434\n",
      "   577.66548612  596.07318524  709.25931367  617.3553042   609.28327201]\n",
      " [2276.97646932  602.81026557  642.66131861  656.67792609  622.92838598\n",
      "   595.06575461  590.596417    693.60980519  627.66548582  757.64419292\n",
      "   613.7832411   608.60508814  657.17186814  632.15224259  637.64372484\n",
      "   576.74133945  598.20623153  627.28952822  617.0229123   644.67129636]\n",
      " [ 669.41951148  602.8129358   628.77340395  645.87635079  617.05725398\n",
      "   594.63168844  590.77489126  629.5713083   621.39478606  646.85247397\n",
      "   594.25775875  609.33691062  654.91706784  624.03525469  634.15078433\n",
      "   574.62358067  598.21562093  614.14977947  614.34579286  643.9100945 ]\n",
      " [ 598.40414771  601.71258548  618.60890774  711.79645966  614.36176338\n",
      "   589.75666839  587.16409491  625.01618823  605.12517224  635.58910608\n",
      "   599.73148609  589.88312747  654.34113241  608.174053    618.91782856\n",
      "   574.09827506  597.30707365  604.24128061  614.21582117  612.13394087]\n",
      " [ 597.3785273   606.18024911  613.21500937  603.13913497  616.0721675\n",
      "   595.21542832  586.74293895  597.88645396  599.61648652  617.86848299\n",
      "   595.64719088  590.68644839  650.54294951  607.85553581  605.79170831\n",
      "   574.30107115  596.69586201  605.14363365  600.15067333  608.27904832]\n",
      " [ 592.99477286  593.43751241  585.8993759   597.72275555  612.31655329\n",
      "   594.59806119  584.80062252  591.03967919  592.45863412  603.77222341\n",
      "   599.04763526  592.17173376  627.86618536  605.95333462  586.92686559\n",
      "   571.66336302  595.45610143  590.57817218  596.99070507  606.52399094]\n",
      " [ 592.83290652  593.57438643  583.35189397  598.10398464  607.72742501\n",
      "   594.79040836  586.97276815  588.29384154  590.91776704  603.78779789\n",
      "   596.15405068  591.50318183  612.28775993  598.74346486  586.61474475\n",
      "   571.44213346  597.37249762  587.09123254  598.54374914  602.89881107]]\n"
     ]
    }
   ],
   "source": [
    "print(simulation_values['MPL_costs'])"
   ]
  },
  {
   "cell_type": "markdown",
   "id": "f93772b4-bfce-407b-aa24-b8c866669bb7",
   "metadata": {},
   "source": [
    "## Run Complete"
   ]
  },
  {
   "cell_type": "code",
   "execution_count": 7,
   "id": "f36cb782-9478-403d-93fd-a71474868ce7",
   "metadata": {
    "tags": []
   },
   "outputs": [
    {
     "name": "stdout",
     "output_type": "stream",
     "text": [
      "Run Complete\n"
     ]
    }
   ],
   "source": [
    "print('Run Complete')"
   ]
  }
 ],
 "metadata": {
  "kernelspec": {
   "display_name": "Python 3 (ipykernel)",
   "language": "python",
   "name": "python3"
  },
  "language_info": {
   "codemirror_mode": {
    "name": "ipython",
    "version": 3
   },
   "file_extension": ".py",
   "mimetype": "text/x-python",
   "name": "python",
   "nbconvert_exporter": "python",
   "pygments_lexer": "ipython3",
   "version": "3.9.6"
  }
 },
 "nbformat": 4,
 "nbformat_minor": 5
}
