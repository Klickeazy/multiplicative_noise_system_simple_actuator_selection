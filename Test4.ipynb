{
 "cells": [
  {
   "cell_type": "markdown",
   "id": "d15c0028-0931-4a86-98dc-fa140cd2f192",
   "metadata": {},
   "source": [
    "# Benefit of MPL System Modelling"
   ]
  },
  {
   "cell_type": "code",
   "execution_count": 1,
   "id": "3f7cda21-fb90-4786-a674-eb1f07ad7870",
   "metadata": {},
   "outputs": [],
   "source": [
    "import numpy as np\n",
    "from copy import deepcopy as dc\n",
    "\n",
    "from functionfile_system_definition import sys_from_file, system_display_matrix\n",
    "from functionfile_system_mplcost import cost_function_1, initial_values_init, actuator_selection_cost_1, plot_actuator_selection_1, simulation_actuator_selection, plot_simulation"
   ]
  },
  {
   "cell_type": "code",
   "execution_count": 2,
   "id": "ef074208-1882-4702-b019-2c94f78c5899",
   "metadata": {},
   "outputs": [
    {
     "name": "stdout",
     "output_type": "stream",
     "text": [
      "System read from file @ system_model/True System.pickle \n",
      "\n"
     ]
    }
   ],
   "source": [
    "S_True = sys_from_file('True System')\n",
    "# system_display_matrix(S_True)\n",
    "initial_values = initial_values_init(S_True, T=50)"
   ]
  },
  {
   "cell_type": "markdown",
   "id": "36b2a981-c3e0-4486-b121-7969926cef74",
   "metadata": {
    "tags": []
   },
   "source": [
    "## Control of True System based on Nominal System model"
   ]
  },
  {
   "cell_type": "markdown",
   "id": "a01a6935-6fbc-443c-80df-a942fad1b153",
   "metadata": {
    "jp-MarkdownHeadingCollapsed": true,
    "tags": []
   },
   "source": [
    "##### Run Code"
   ]
  },
  {
   "cell_type": "code",
   "execution_count": 3,
   "id": "7b381b1e-dcad-4966-a999-c03c5d8b8477",
   "metadata": {},
   "outputs": [
    {
     "name": "stdout",
     "output_type": "stream",
     "text": [
      "System read from file @ system_model/Nominal System.pickle \n",
      "\n"
     ]
    }
   ],
   "source": [
    "S_Nominal = sys_from_file('Nominal System')"
   ]
  },
  {
   "cell_type": "code",
   "execution_count": 4,
   "id": "5f29eaa8-2482-473d-8281-10cca0bb5109",
   "metadata": {},
   "outputs": [
    {
     "name": "stdout",
     "output_type": "stream",
     "text": [
      "Gain (K):\n",
      " [[-0.32210696 -0.32447691 -0.16961602 -0.15784406 -0.1437966  -0.15784406\n",
      "  -0.16961602 -0.32447691]\n",
      " [ 0.          0.          0.          0.          0.          0.\n",
      "   0.          0.        ]\n",
      " [ 0.          0.          0.          0.          0.          0.\n",
      "   0.          0.        ]\n",
      " [ 0.          0.          0.          0.          0.          0.\n",
      "   0.          0.        ]\n",
      " [ 0.          0.          0.          0.          0.          0.\n",
      "   0.          0.        ]\n",
      " [ 0.          0.          0.          0.          0.          0.\n",
      "   0.          0.        ]\n",
      " [ 0.          0.          0.          0.          0.          0.\n",
      "   0.          0.        ]\n",
      " [ 0.          0.          0.          0.          0.          0.\n",
      "   0.          0.        ]]\n",
      "Gain (K):\n",
      " [[-0.29676762 -0.28849755 -0.10457624 -0.06132668 -0.03631819 -0.06132668\n",
      "  -0.10457624 -0.28849755]\n",
      " [-0.03631819 -0.06132668 -0.10457624 -0.28849755 -0.29676762 -0.28849755\n",
      "  -0.10457624 -0.06132668]\n",
      " [ 0.          0.          0.          0.          0.          0.\n",
      "   0.          0.        ]\n",
      " [ 0.          0.          0.          0.          0.          0.\n",
      "   0.          0.        ]\n",
      " [ 0.          0.          0.          0.          0.          0.\n",
      "   0.          0.        ]\n",
      " [ 0.          0.          0.          0.          0.          0.\n",
      "   0.          0.        ]\n",
      " [ 0.          0.          0.          0.          0.          0.\n",
      "   0.          0.        ]\n",
      " [ 0.          0.          0.          0.          0.          0.\n",
      "   0.          0.        ]]\n",
      "Gain (K):\n",
      " [[-0.28106904 -0.29081024 -0.11126102 -0.06363936 -0.02061962 -0.01372485\n",
      "  -0.04488385 -0.24089573]\n",
      " [-0.02061962 -0.06363936 -0.11126102 -0.29081024 -0.28106904 -0.24089573\n",
      "  -0.04488385 -0.01372485]\n",
      " [-0.04213548 -0.00438973  0.00761533 -0.00438973 -0.04213548 -0.23720439\n",
      "  -0.26060384 -0.23720439]\n",
      " [ 0.          0.          0.          0.          0.          0.\n",
      "   0.          0.        ]\n",
      " [ 0.          0.          0.          0.          0.          0.\n",
      "   0.          0.        ]\n",
      " [ 0.          0.          0.          0.          0.          0.\n",
      "   0.          0.        ]\n",
      " [ 0.          0.          0.          0.          0.          0.\n",
      "   0.          0.        ]\n",
      " [ 0.          0.          0.          0.          0.          0.\n",
      "   0.          0.        ]]\n",
      "Gain (K):\n",
      " [[-2.60626008e-01 -2.37602115e-01 -4.47549348e-02 -1.04312435e-02\n",
      "  -1.76590812e-04 -1.04312435e-02 -4.47549348e-02 -2.37602115e-01]\n",
      " [-1.76590812e-04 -1.04312435e-02 -4.47549348e-02 -2.37602115e-01\n",
      "  -2.60626008e-01 -2.37602115e-01 -4.47549348e-02 -1.04312435e-02]\n",
      " [-4.47549348e-02 -1.04312435e-02 -1.76590812e-04 -1.04312435e-02\n",
      "  -4.47549348e-02 -2.37602115e-01 -2.60626008e-01 -2.37602115e-01]\n",
      " [-4.47549348e-02 -2.37602115e-01 -2.60626008e-01 -2.37602115e-01\n",
      "  -4.47549348e-02 -1.04312435e-02 -1.76590812e-04 -1.04312435e-02]\n",
      " [ 0.00000000e+00  0.00000000e+00  0.00000000e+00  0.00000000e+00\n",
      "   0.00000000e+00  0.00000000e+00  0.00000000e+00  0.00000000e+00]\n",
      " [ 0.00000000e+00  0.00000000e+00  0.00000000e+00  0.00000000e+00\n",
      "   0.00000000e+00  0.00000000e+00  0.00000000e+00  0.00000000e+00]\n",
      " [ 0.00000000e+00  0.00000000e+00  0.00000000e+00  0.00000000e+00\n",
      "   0.00000000e+00  0.00000000e+00  0.00000000e+00  0.00000000e+00]\n",
      " [ 0.00000000e+00  0.00000000e+00  0.00000000e+00  0.00000000e+00\n",
      "   0.00000000e+00  0.00000000e+00  0.00000000e+00  0.00000000e+00]]\n",
      "Gain (K):\n",
      " [[-0.22858758 -0.20025583 -0.01271651 -0.00277303  0.0007537  -0.01089794\n",
      "  -0.04382464 -0.2299439 ]\n",
      " [-0.00030172 -0.0106952  -0.04488007 -0.23774875 -0.26061876 -0.23757553\n",
      "  -0.04474769 -0.01057788]\n",
      " [-0.04488007 -0.0106952  -0.00030172 -0.01057788 -0.04474769 -0.23757553\n",
      "  -0.26061876 -0.23774875]\n",
      " [-0.01271651 -0.20025583 -0.22858758 -0.2299439  -0.04382464 -0.01089794\n",
      "   0.0007537  -0.00277303]\n",
      " [-0.20037804 -0.19945279 -0.20037804 -0.0202076  -0.01128766 -0.00128441\n",
      "  -0.01128766 -0.0202076 ]\n",
      " [ 0.          0.          0.          0.          0.          0.\n",
      "   0.          0.        ]\n",
      " [ 0.          0.          0.          0.          0.          0.\n",
      "   0.          0.        ]\n",
      " [ 0.          0.          0.          0.          0.          0.\n",
      "   0.          0.        ]]\n",
      "Gain (K):\n",
      " [[-0.22857201 -0.20023217 -0.01270095 -0.002881    0.00078385 -0.01099135\n",
      "  -0.04379448 -0.23005186]\n",
      " [ 0.00078385 -0.01099135 -0.04379448 -0.23005186 -0.22857201 -0.20023217\n",
      "  -0.01270095 -0.002881  ]\n",
      " [-0.04379448 -0.01099135  0.00078385 -0.002881   -0.01270095 -0.20023217\n",
      "  -0.22857201 -0.23005186]\n",
      " [-0.01270095 -0.20023217 -0.22857201 -0.23005186 -0.04379448 -0.01099135\n",
      "   0.00078385 -0.002881  ]\n",
      " [-0.20037221 -0.19944504 -0.20037221 -0.02025863 -0.01113139 -0.0011827\n",
      "  -0.01113139 -0.02025863]\n",
      " [-0.01113139 -0.0011827  -0.01113139 -0.02025863 -0.20037221 -0.19944504\n",
      "  -0.20037221 -0.02025863]\n",
      " [ 0.          0.          0.          0.          0.          0.\n",
      "   0.          0.        ]\n",
      " [ 0.          0.          0.          0.          0.          0.\n",
      "   0.          0.        ]]\n",
      "Gain (K):\n",
      " [[-1.97784446e-01 -1.93166850e-01 -1.24686004e-02 -3.40667252e-03\n",
      "   1.01620075e-03 -3.92602865e-03 -1.30069152e-02 -1.93294479e-01]\n",
      " [ 2.67741894e-05 -1.11510398e-02 -4.38071687e-02 -2.30035732e-01\n",
      "  -2.28584699e-01 -2.00391861e-01 -1.34580270e-02 -3.75409348e-03]\n",
      " [-1.30069152e-02 -3.92602865e-03  1.01620075e-03 -3.40667252e-03\n",
      "  -1.24686004e-02 -1.93166850e-01 -1.97784446e-01 -1.93294479e-01]\n",
      " [-1.34580270e-02 -2.00391861e-01 -2.28584699e-01 -2.30035732e-01\n",
      "  -4.38071687e-02 -1.11510398e-02  2.67741894e-05 -3.75409348e-03]\n",
      " [-1.93478044e-01 -1.98629157e-01 -2.00222104e-01 -2.03548816e-02\n",
      "  -1.09812828e-02 -3.66825321e-04 -4.23722296e-03 -1.29688161e-02]\n",
      " [-4.23722296e-03 -3.66825321e-04 -1.09812828e-02 -2.03548816e-02\n",
      "  -2.00222104e-01 -1.98629157e-01 -1.93478044e-01 -1.29688161e-02]\n",
      " [-1.93273995e-01 -1.29245100e-02 -3.62928579e-03  9.46382232e-04\n",
      "  -3.62928579e-03 -1.29245100e-02 -1.93273995e-01 -1.97802061e-01]\n",
      " [ 0.00000000e+00  0.00000000e+00  0.00000000e+00  0.00000000e+00\n",
      "   0.00000000e+00  0.00000000e+00  0.00000000e+00  0.00000000e+00]]\n",
      "Gain (K):\n",
      " [[-0.197797   -0.19328625 -0.01301947 -0.00404543  0.00046533 -0.00404543\n",
      "  -0.01301947 -0.19328625]\n",
      " [ 0.00046533 -0.00404543 -0.01301947 -0.19328625 -0.197797   -0.19328625\n",
      "  -0.01301947 -0.00404543]\n",
      " [-0.01301947 -0.00404543  0.00046533 -0.00404543 -0.01301947 -0.19328625\n",
      "  -0.197797   -0.19328625]\n",
      " [-0.01301947 -0.19328625 -0.197797   -0.19328625 -0.01301947 -0.00404543\n",
      "   0.00046533 -0.00404543]\n",
      " [-0.19328625 -0.197797   -0.19328625 -0.01301947 -0.00404543  0.00046533\n",
      "  -0.00404543 -0.01301947]\n",
      " [-0.00404543  0.00046533 -0.00404543 -0.01301947 -0.19328625 -0.197797\n",
      "  -0.19328625 -0.01301947]\n",
      " [-0.19328625 -0.01301947 -0.00404543  0.00046533 -0.00404543 -0.01301947\n",
      "  -0.19328625 -0.197797  ]\n",
      " [-0.00404543 -0.01301947 -0.19328625 -0.197797   -0.19328625 -0.01301947\n",
      "  -0.00404543  0.00046533]]\n"
     ]
    }
   ],
   "source": [
    "ret1_nom = actuator_selection_cost_1(S_Nominal, initial_values=initial_values)\n",
    "S_Nominal = dc(ret1_nom['system'])\n",
    "# system_display_matrix(S_Nominal)\n",
    "S_True['B'] = dc(S_Nominal['B'])\n",
    "ret2_nom = simulation_actuator_selection(S_Nominal, S_True, initial_values=initial_values)"
   ]
  },
  {
   "cell_type": "markdown",
   "id": "f8d14756-93a8-47bd-ac7c-018ce41fc04b",
   "metadata": {},
   "source": [
    "##### Display Output"
   ]
  },
  {
   "cell_type": "code",
   "execution_count": 5,
   "id": "459866d3-04fe-4346-9fbd-9e8ee94de3cc",
   "metadata": {},
   "outputs": [
    {
     "name": "stdout",
     "output_type": "stream",
     "text": [
      "Cost change with |S|:\n",
      "\n",
      "|S|: 1  =>  187584.93988931284\n",
      "|S|: 2  =>  35280.83302344065\n",
      "|S|: 3  =>  4690.601656646062\n",
      "|S|: 4  =>  3108.1439339826443\n",
      "|S|: 5  =>  2961.1817954713338\n",
      "|S|: 6  =>  2699.3775370662456\n",
      "|S|: 7  =>  2517.626710308789\n",
      "|S|: 8  =>  2210.4860815840507\n"
     ]
    }
   ],
   "source": [
    "print('Cost change with |S|:\\n')\n",
    "for i in ret2_nom['costs']:\n",
    "    print('|S|:',i, ' => ', ret2_nom['costs'][i][-1])"
   ]
  },
  {
   "cell_type": "code",
   "execution_count": 6,
   "id": "6ccf2a8b-1423-4b67-b062-e98bbd7b761e",
   "metadata": {},
   "outputs": [
    {
     "data": {
      "text/plain": "<Figure size 432x288 with 3 Axes>",
      "image/png": "[encoded data removed]"
     },
     "metadata": {
      "needs_background": "light"
     },
     "output_type": "display_data"
    }
   ],
   "source": [
    "plot_simulation(display_data=ret2_nom, fname='Nominal feedback on True System')"
   ]
  },
  {
   "cell_type": "markdown",
   "id": "d32b38d2-d97f-43ed-8237-1f18e4ee956b",
   "metadata": {
    "tags": []
   },
   "source": [
    "## Control of True System based on MPL System model"
   ]
  },
  {
   "cell_type": "markdown",
   "id": "2f95e649-c6c8-4810-8a78-8815b3a6dc4c",
   "metadata": {
    "jp-MarkdownHeadingCollapsed": true,
    "tags": []
   },
   "source": [
    "##### Run Code"
   ]
  },
  {
   "cell_type": "code",
   "execution_count": 7,
   "id": "ce0af870-8e81-4801-baa3-b8251d28174c",
   "metadata": {},
   "outputs": [
    {
     "name": "stdout",
     "output_type": "stream",
     "text": [
      "System read from file @ system_model/MPL System.pickle \n",
      "\n"
     ]
    }
   ],
   "source": [
    "S_MPL = sys_from_file('MPL System')"
   ]
  },
  {
   "cell_type": "code",
   "execution_count": 8,
   "id": "1ce917eb-7618-48e6-891b-4725bcb2b0ea",
   "metadata": {},
   "outputs": [
    {
     "name": "stdout",
     "output_type": "stream",
     "text": [
      "Gain (K):\n",
      " [[-0.32210696 -0.32447691 -0.16961602 -0.15784406 -0.1437966  -0.15784406\n",
      "  -0.16961602 -0.32447691]\n",
      " [ 0.          0.          0.          0.          0.          0.\n",
      "   0.          0.        ]\n",
      " [ 0.          0.          0.          0.          0.          0.\n",
      "   0.          0.        ]\n",
      " [ 0.          0.          0.          0.          0.          0.\n",
      "   0.          0.        ]\n",
      " [ 0.          0.          0.          0.          0.          0.\n",
      "   0.          0.        ]\n",
      " [ 0.          0.          0.          0.          0.          0.\n",
      "   0.          0.        ]\n",
      " [ 0.          0.          0.          0.          0.          0.\n",
      "   0.          0.        ]\n",
      " [ 0.          0.          0.          0.          0.          0.\n",
      "   0.          0.        ]]\n",
      "Gain (K):\n",
      " [[-0.29676762 -0.28849755 -0.10457624 -0.06132668 -0.03631819 -0.06132668\n",
      "  -0.10457624 -0.28849755]\n",
      " [-0.03631819 -0.06132668 -0.10457624 -0.28849755 -0.29676762 -0.28849755\n",
      "  -0.10457624 -0.06132668]\n",
      " [ 0.          0.          0.          0.          0.          0.\n",
      "   0.          0.        ]\n",
      " [ 0.          0.          0.          0.          0.          0.\n",
      "   0.          0.        ]\n",
      " [ 0.          0.          0.          0.          0.          0.\n",
      "   0.          0.        ]\n",
      " [ 0.          0.          0.          0.          0.          0.\n",
      "   0.          0.        ]\n",
      " [ 0.          0.          0.          0.          0.          0.\n",
      "   0.          0.        ]\n",
      " [ 0.          0.          0.          0.          0.          0.\n",
      "   0.          0.        ]]\n",
      "Gain (K):\n",
      " [[-0.28106904 -0.29081024 -0.11126102 -0.06363936 -0.02061962 -0.01372485\n",
      "  -0.04488385 -0.24089573]\n",
      " [-0.02061962 -0.06363936 -0.11126102 -0.29081024 -0.28106904 -0.24089573\n",
      "  -0.04488385 -0.01372485]\n",
      " [-0.04213548 -0.00438973  0.00761533 -0.00438973 -0.04213548 -0.23720439\n",
      "  -0.26060384 -0.23720439]\n",
      " [ 0.          0.          0.          0.          0.          0.\n",
      "   0.          0.        ]\n",
      " [ 0.          0.          0.          0.          0.          0.\n",
      "   0.          0.        ]\n",
      " [ 0.          0.          0.          0.          0.          0.\n",
      "   0.          0.        ]\n",
      " [ 0.          0.          0.          0.          0.          0.\n",
      "   0.          0.        ]\n",
      " [ 0.          0.          0.          0.          0.          0.\n",
      "   0.          0.        ]]\n",
      "Gain (K):\n",
      " [[-2.60626008e-01 -2.37602115e-01 -4.47549348e-02 -1.04312435e-02\n",
      "  -1.76590812e-04 -1.04312435e-02 -4.47549348e-02 -2.37602115e-01]\n",
      " [-1.76590812e-04 -1.04312435e-02 -4.47549348e-02 -2.37602115e-01\n",
      "  -2.60626008e-01 -2.37602115e-01 -4.47549348e-02 -1.04312435e-02]\n",
      " [-4.47549348e-02 -1.04312435e-02 -1.76590812e-04 -1.04312435e-02\n",
      "  -4.47549348e-02 -2.37602115e-01 -2.60626008e-01 -2.37602115e-01]\n",
      " [-4.47549348e-02 -2.37602115e-01 -2.60626008e-01 -2.37602115e-01\n",
      "  -4.47549348e-02 -1.04312435e-02 -1.76590812e-04 -1.04312435e-02]\n",
      " [ 0.00000000e+00  0.00000000e+00  0.00000000e+00  0.00000000e+00\n",
      "   0.00000000e+00  0.00000000e+00  0.00000000e+00  0.00000000e+00]\n",
      " [ 0.00000000e+00  0.00000000e+00  0.00000000e+00  0.00000000e+00\n",
      "   0.00000000e+00  0.00000000e+00  0.00000000e+00  0.00000000e+00]\n",
      " [ 0.00000000e+00  0.00000000e+00  0.00000000e+00  0.00000000e+00\n",
      "   0.00000000e+00  0.00000000e+00  0.00000000e+00  0.00000000e+00]\n",
      " [ 0.00000000e+00  0.00000000e+00  0.00000000e+00  0.00000000e+00\n",
      "   0.00000000e+00  0.00000000e+00  0.00000000e+00  0.00000000e+00]]\n",
      "Gain (K):\n",
      " [[-0.22858758 -0.20025583 -0.01271651 -0.00277303  0.0007537  -0.01089794\n",
      "  -0.04382464 -0.2299439 ]\n",
      " [-0.00030172 -0.0106952  -0.04488007 -0.23774875 -0.26061876 -0.23757553\n",
      "  -0.04474769 -0.01057788]\n",
      " [-0.04488007 -0.0106952  -0.00030172 -0.01057788 -0.04474769 -0.23757553\n",
      "  -0.26061876 -0.23774875]\n",
      " [-0.01271651 -0.20025583 -0.22858758 -0.2299439  -0.04382464 -0.01089794\n",
      "   0.0007537  -0.00277303]\n",
      " [-0.20037804 -0.19945279 -0.20037804 -0.0202076  -0.01128766 -0.00128441\n",
      "  -0.01128766 -0.0202076 ]\n",
      " [ 0.          0.          0.          0.          0.          0.\n",
      "   0.          0.        ]\n",
      " [ 0.          0.          0.          0.          0.          0.\n",
      "   0.          0.        ]\n",
      " [ 0.          0.          0.          0.          0.          0.\n",
      "   0.          0.        ]]\n",
      "Gain (K):\n",
      " [[-0.22857201 -0.20023217 -0.01270095 -0.002881    0.00078385 -0.01099135\n",
      "  -0.04379448 -0.23005186]\n",
      " [ 0.00078385 -0.01099135 -0.04379448 -0.23005186 -0.22857201 -0.20023217\n",
      "  -0.01270095 -0.002881  ]\n",
      " [-0.04379448 -0.01099135  0.00078385 -0.002881   -0.01270095 -0.20023217\n",
      "  -0.22857201 -0.23005186]\n",
      " [-0.01270095 -0.20023217 -0.22857201 -0.23005186 -0.04379448 -0.01099135\n",
      "   0.00078385 -0.002881  ]\n",
      " [-0.20037221 -0.19944504 -0.20037221 -0.02025863 -0.01113139 -0.0011827\n",
      "  -0.01113139 -0.02025863]\n",
      " [-0.01113139 -0.0011827  -0.01113139 -0.02025863 -0.20037221 -0.19944504\n",
      "  -0.20037221 -0.02025863]\n",
      " [ 0.          0.          0.          0.          0.          0.\n",
      "   0.          0.        ]\n",
      " [ 0.          0.          0.          0.          0.          0.\n",
      "   0.          0.        ]]\n",
      "Gain (K):\n",
      " [[-1.97784446e-01 -1.93166850e-01 -1.24686004e-02 -3.40667252e-03\n",
      "   1.01620075e-03 -3.92602865e-03 -1.30069152e-02 -1.93294479e-01]\n",
      " [ 2.67741894e-05 -1.11510398e-02 -4.38071687e-02 -2.30035732e-01\n",
      "  -2.28584699e-01 -2.00391861e-01 -1.34580270e-02 -3.75409348e-03]\n",
      " [-1.30069152e-02 -3.92602865e-03  1.01620075e-03 -3.40667252e-03\n",
      "  -1.24686004e-02 -1.93166850e-01 -1.97784446e-01 -1.93294479e-01]\n",
      " [-1.34580270e-02 -2.00391861e-01 -2.28584699e-01 -2.30035732e-01\n",
      "  -4.38071687e-02 -1.11510398e-02  2.67741894e-05 -3.75409348e-03]\n",
      " [-1.93478044e-01 -1.98629157e-01 -2.00222104e-01 -2.03548816e-02\n",
      "  -1.09812828e-02 -3.66825321e-04 -4.23722296e-03 -1.29688161e-02]\n",
      " [-4.23722296e-03 -3.66825321e-04 -1.09812828e-02 -2.03548816e-02\n",
      "  -2.00222104e-01 -1.98629157e-01 -1.93478044e-01 -1.29688161e-02]\n",
      " [-1.93273995e-01 -1.29245100e-02 -3.62928579e-03  9.46382232e-04\n",
      "  -3.62928579e-03 -1.29245100e-02 -1.93273995e-01 -1.97802061e-01]\n",
      " [ 0.00000000e+00  0.00000000e+00  0.00000000e+00  0.00000000e+00\n",
      "   0.00000000e+00  0.00000000e+00  0.00000000e+00  0.00000000e+00]]\n",
      "Gain (K):\n",
      " [[-0.197797   -0.19328625 -0.01301947 -0.00404543  0.00046533 -0.00404543\n",
      "  -0.01301947 -0.19328625]\n",
      " [ 0.00046533 -0.00404543 -0.01301947 -0.19328625 -0.197797   -0.19328625\n",
      "  -0.01301947 -0.00404543]\n",
      " [-0.01301947 -0.00404543  0.00046533 -0.00404543 -0.01301947 -0.19328625\n",
      "  -0.197797   -0.19328625]\n",
      " [-0.01301947 -0.19328625 -0.197797   -0.19328625 -0.01301947 -0.00404543\n",
      "   0.00046533 -0.00404543]\n",
      " [-0.19328625 -0.197797   -0.19328625 -0.01301947 -0.00404543  0.00046533\n",
      "  -0.00404543 -0.01301947]\n",
      " [-0.00404543  0.00046533 -0.00404543 -0.01301947 -0.19328625 -0.197797\n",
      "  -0.19328625 -0.01301947]\n",
      " [-0.19328625 -0.01301947 -0.00404543  0.00046533 -0.00404543 -0.01301947\n",
      "  -0.19328625 -0.197797  ]\n",
      " [-0.00404543 -0.01301947 -0.19328625 -0.197797   -0.19328625 -0.01301947\n",
      "  -0.00404543  0.00046533]]\n"
     ]
    }
   ],
   "source": [
    "ret1_MPL = actuator_selection_cost_1(S_MPL, initial_values=initial_values)\n",
    "S_MPL = dc(ret1_MPL['system'])\n",
    "# system_display_matrix(S_MPL)\n",
    "S_True['B'] = dc(S_MPL['B'])\n",
    "ret2_MPL = simulation_actuator_selection(S_MPL, S_True, initial_values=initial_values)"
   ]
  },
  {
   "cell_type": "markdown",
   "id": "3c32c28d-acf4-4aef-9703-9b67db03c903",
   "metadata": {
    "tags": []
   },
   "source": [
    "##### Display Output"
   ]
  },
  {
   "cell_type": "code",
   "execution_count": 9,
   "id": "ea8b25ae-5bb1-47ea-89c5-4e36efff155e",
   "metadata": {},
   "outputs": [
    {
     "name": "stdout",
     "output_type": "stream",
     "text": [
      "Cost change with |S|:\n",
      "\n",
      "|S|: 1  =>  187584.93988931284\n",
      "|S|: 2  =>  35280.83302344065\n",
      "|S|: 3  =>  4690.601656646062\n",
      "|S|: 4  =>  3108.1439339826443\n",
      "|S|: 5  =>  2961.1817954713338\n",
      "|S|: 6  =>  2699.3775370662456\n",
      "|S|: 7  =>  2517.626710308789\n",
      "|S|: 8  =>  2210.4860815840507\n"
     ]
    }
   ],
   "source": [
    "print('Cost change with |S|:\\n')\n",
    "for i in ret2_MPL['costs']:\n",
    "    print('|S|:',i, ' => ', ret2_MPL['costs'][i][-1])"
   ]
  },
  {
   "cell_type": "code",
   "execution_count": 10,
   "id": "41214423-9f97-4967-8f50-cf9b0cfb78a7",
   "metadata": {
    "tags": []
   },
   "outputs": [
    {
     "data": {
      "text/plain": "<Figure size 432x288 with 3 Axes>",
      "image/png": "[encoded data removed]"
     },
     "metadata": {
      "needs_background": "light"
     },
     "output_type": "display_data"
    }
   ],
   "source": [
    "plot_simulation(display_data=ret2_MPL, fname='MPL feedback on True System')"
   ]
  },
  {
   "cell_type": "markdown",
   "id": "88154d5f-5b98-48d1-a62d-8de6acde9757",
   "metadata": {
    "tags": []
   },
   "source": [
    "## Self-Control Tests"
   ]
  },
  {
   "cell_type": "markdown",
   "id": "c908b000-e301-4b6f-b9f0-fc87d0ad1050",
   "metadata": {
    "tags": []
   },
   "source": [
    "### Testing Nominal control on itself"
   ]
  },
  {
   "cell_type": "markdown",
   "id": "798c8092-607e-49b4-95e0-aa7414ccd9d0",
   "metadata": {
    "jp-MarkdownHeadingCollapsed": true,
    "tags": []
   },
   "source": [
    "##### Run Code"
   ]
  },
  {
   "cell_type": "code",
   "execution_count": 11,
   "id": "dd0b4eb1-a6c5-4721-bc5c-52bd4ea6f6e4",
   "metadata": {},
   "outputs": [
    {
     "name": "stdout",
     "output_type": "stream",
     "text": [
      "Gain (K):\n",
      " [[-0.32210726 -0.32447731 -0.16961668 -0.15784493 -0.14379756 -0.15784493\n",
      "  -0.16961668 -0.32447731]\n",
      " [ 0.          0.          0.          0.          0.          0.\n",
      "   0.          0.        ]\n",
      " [ 0.          0.          0.          0.          0.          0.\n",
      "   0.          0.        ]\n",
      " [ 0.          0.          0.          0.          0.          0.\n",
      "   0.          0.        ]\n",
      " [ 0.          0.          0.          0.          0.          0.\n",
      "   0.          0.        ]\n",
      " [ 0.          0.          0.          0.          0.          0.\n",
      "   0.          0.        ]\n",
      " [ 0.          0.          0.          0.          0.          0.\n",
      "   0.          0.        ]\n",
      " [ 0.          0.          0.          0.          0.          0.\n",
      "   0.          0.        ]]\n",
      "Gain (K):\n",
      " [[-0.29676762 -0.28849755 -0.10457624 -0.06132668 -0.03631819 -0.06132668\n",
      "  -0.10457624 -0.28849755]\n",
      " [-0.03631819 -0.06132668 -0.10457624 -0.28849755 -0.29676762 -0.28849755\n",
      "  -0.10457624 -0.06132668]\n",
      " [ 0.          0.          0.          0.          0.          0.\n",
      "   0.          0.        ]\n",
      " [ 0.          0.          0.          0.          0.          0.\n",
      "   0.          0.        ]\n",
      " [ 0.          0.          0.          0.          0.          0.\n",
      "   0.          0.        ]\n",
      " [ 0.          0.          0.          0.          0.          0.\n",
      "   0.          0.        ]\n",
      " [ 0.          0.          0.          0.          0.          0.\n",
      "   0.          0.        ]\n",
      " [ 0.          0.          0.          0.          0.          0.\n",
      "   0.          0.        ]]\n",
      "Gain (K):\n",
      " [[-0.28106904 -0.29081024 -0.11126102 -0.06363936 -0.02061962 -0.01372485\n",
      "  -0.04488385 -0.24089573]\n",
      " [-0.02061962 -0.06363936 -0.11126102 -0.29081024 -0.28106904 -0.24089573\n",
      "  -0.04488385 -0.01372485]\n",
      " [-0.04213548 -0.00438973  0.00761533 -0.00438973 -0.04213548 -0.23720439\n",
      "  -0.26060384 -0.23720439]\n",
      " [ 0.          0.          0.          0.          0.          0.\n",
      "   0.          0.        ]\n",
      " [ 0.          0.          0.          0.          0.          0.\n",
      "   0.          0.        ]\n",
      " [ 0.          0.          0.          0.          0.          0.\n",
      "   0.          0.        ]\n",
      " [ 0.          0.          0.          0.          0.          0.\n",
      "   0.          0.        ]\n",
      " [ 0.          0.          0.          0.          0.          0.\n",
      "   0.          0.        ]]\n",
      "Gain (K):\n",
      " [[-2.60626008e-01 -2.37602115e-01 -4.47549348e-02 -1.04312435e-02\n",
      "  -1.76590812e-04 -1.04312435e-02 -4.47549348e-02 -2.37602115e-01]\n",
      " [-1.76590812e-04 -1.04312435e-02 -4.47549348e-02 -2.37602115e-01\n",
      "  -2.60626008e-01 -2.37602115e-01 -4.47549348e-02 -1.04312435e-02]\n",
      " [-4.47549348e-02 -1.04312435e-02 -1.76590812e-04 -1.04312435e-02\n",
      "  -4.47549348e-02 -2.37602115e-01 -2.60626008e-01 -2.37602115e-01]\n",
      " [-4.47549348e-02 -2.37602115e-01 -2.60626008e-01 -2.37602115e-01\n",
      "  -4.47549348e-02 -1.04312435e-02 -1.76590812e-04 -1.04312435e-02]\n",
      " [ 0.00000000e+00  0.00000000e+00  0.00000000e+00  0.00000000e+00\n",
      "   0.00000000e+00  0.00000000e+00  0.00000000e+00  0.00000000e+00]\n",
      " [ 0.00000000e+00  0.00000000e+00  0.00000000e+00  0.00000000e+00\n",
      "   0.00000000e+00  0.00000000e+00  0.00000000e+00  0.00000000e+00]\n",
      " [ 0.00000000e+00  0.00000000e+00  0.00000000e+00  0.00000000e+00\n",
      "   0.00000000e+00  0.00000000e+00  0.00000000e+00  0.00000000e+00]\n",
      " [ 0.00000000e+00  0.00000000e+00  0.00000000e+00  0.00000000e+00\n",
      "   0.00000000e+00  0.00000000e+00  0.00000000e+00  0.00000000e+00]]\n",
      "Gain (K):\n",
      " [[-0.22858758 -0.20025583 -0.01271651 -0.00277303  0.0007537  -0.01089794\n",
      "  -0.04382464 -0.2299439 ]\n",
      " [-0.00030172 -0.0106952  -0.04488007 -0.23774875 -0.26061876 -0.23757553\n",
      "  -0.04474769 -0.01057788]\n",
      " [-0.04488007 -0.0106952  -0.00030172 -0.01057788 -0.04474769 -0.23757553\n",
      "  -0.26061876 -0.23774875]\n",
      " [-0.01271651 -0.20025583 -0.22858758 -0.2299439  -0.04382464 -0.01089794\n",
      "   0.0007537  -0.00277303]\n",
      " [-0.20037804 -0.19945279 -0.20037804 -0.0202076  -0.01128766 -0.00128441\n",
      "  -0.01128766 -0.0202076 ]\n",
      " [ 0.          0.          0.          0.          0.          0.\n",
      "   0.          0.        ]\n",
      " [ 0.          0.          0.          0.          0.          0.\n",
      "   0.          0.        ]\n",
      " [ 0.          0.          0.          0.          0.          0.\n",
      "   0.          0.        ]]\n",
      "Gain (K):\n",
      " [[-0.22857201 -0.20023217 -0.01270095 -0.002881    0.00078385 -0.01099135\n",
      "  -0.04379448 -0.23005186]\n",
      " [ 0.00078385 -0.01099135 -0.04379448 -0.23005186 -0.22857201 -0.20023217\n",
      "  -0.01270095 -0.002881  ]\n",
      " [-0.04379448 -0.01099135  0.00078385 -0.002881   -0.01270095 -0.20023217\n",
      "  -0.22857201 -0.23005186]\n",
      " [-0.01270095 -0.20023217 -0.22857201 -0.23005186 -0.04379448 -0.01099135\n",
      "   0.00078385 -0.002881  ]\n",
      " [-0.20037221 -0.19944504 -0.20037221 -0.02025863 -0.01113139 -0.0011827\n",
      "  -0.01113139 -0.02025863]\n",
      " [-0.01113139 -0.0011827  -0.01113139 -0.02025863 -0.20037221 -0.19944504\n",
      "  -0.20037221 -0.02025863]\n",
      " [ 0.          0.          0.          0.          0.          0.\n",
      "   0.          0.        ]\n",
      " [ 0.          0.          0.          0.          0.          0.\n",
      "   0.          0.        ]]\n",
      "Gain (K):\n",
      " [[-1.97784446e-01 -1.93166850e-01 -1.24686004e-02 -3.40667252e-03\n",
      "   1.01620075e-03 -3.92602865e-03 -1.30069152e-02 -1.93294479e-01]\n",
      " [ 2.67741894e-05 -1.11510398e-02 -4.38071687e-02 -2.30035732e-01\n",
      "  -2.28584699e-01 -2.00391861e-01 -1.34580270e-02 -3.75409348e-03]\n",
      " [-1.30069152e-02 -3.92602865e-03  1.01620075e-03 -3.40667252e-03\n",
      "  -1.24686004e-02 -1.93166850e-01 -1.97784446e-01 -1.93294479e-01]\n",
      " [-1.34580270e-02 -2.00391861e-01 -2.28584699e-01 -2.30035732e-01\n",
      "  -4.38071687e-02 -1.11510398e-02  2.67741894e-05 -3.75409348e-03]\n",
      " [-1.93478044e-01 -1.98629157e-01 -2.00222104e-01 -2.03548816e-02\n",
      "  -1.09812828e-02 -3.66825321e-04 -4.23722296e-03 -1.29688161e-02]\n",
      " [-4.23722296e-03 -3.66825321e-04 -1.09812828e-02 -2.03548816e-02\n",
      "  -2.00222104e-01 -1.98629157e-01 -1.93478044e-01 -1.29688161e-02]\n",
      " [-1.93273995e-01 -1.29245100e-02 -3.62928579e-03  9.46382232e-04\n",
      "  -3.62928579e-03 -1.29245100e-02 -1.93273995e-01 -1.97802061e-01]\n",
      " [ 0.00000000e+00  0.00000000e+00  0.00000000e+00  0.00000000e+00\n",
      "   0.00000000e+00  0.00000000e+00  0.00000000e+00  0.00000000e+00]]\n",
      "Gain (K):\n",
      " [[-0.197797   -0.19328625 -0.01301947 -0.00404543  0.00046533 -0.00404543\n",
      "  -0.01301947 -0.19328625]\n",
      " [ 0.00046533 -0.00404543 -0.01301947 -0.19328625 -0.197797   -0.19328625\n",
      "  -0.01301947 -0.00404543]\n",
      " [-0.01301947 -0.00404543  0.00046533 -0.00404543 -0.01301947 -0.19328625\n",
      "  -0.197797   -0.19328625]\n",
      " [-0.01301947 -0.19328625 -0.197797   -0.19328625 -0.01301947 -0.00404543\n",
      "   0.00046533 -0.00404543]\n",
      " [-0.19328625 -0.197797   -0.19328625 -0.01301947 -0.00404543  0.00046533\n",
      "  -0.00404543 -0.01301947]\n",
      " [-0.00404543  0.00046533 -0.00404543 -0.01301947 -0.19328625 -0.197797\n",
      "  -0.19328625 -0.01301947]\n",
      " [-0.19328625 -0.01301947 -0.00404543  0.00046533 -0.00404543 -0.01301947\n",
      "  -0.19328625 -0.197797  ]\n",
      " [-0.00404543 -0.01301947 -0.19328625 -0.197797   -0.19328625 -0.01301947\n",
      "  -0.00404543  0.00046533]]\n"
     ]
    }
   ],
   "source": [
    "ret3_nom = simulation_actuator_selection(S_Nominal, S_Nominal)"
   ]
  },
  {
   "cell_type": "markdown",
   "id": "9a2ac2ba-e9da-4652-87f8-492184edf699",
   "metadata": {},
   "source": [
    "##### Display Output"
   ]
  },
  {
   "cell_type": "code",
   "execution_count": 12,
   "id": "c717f2b2-48a8-4bf4-a88a-b61af3dfe043",
   "metadata": {},
   "outputs": [],
   "source": [
    "# plot_actuator_selection_1(S_Nominal['B'], ret1_nom['cost_trend'], ret1_nom['time_trend'], ret1_nom['check_trend'], fname='Nominal Actuator Selection')"
   ]
  },
  {
   "cell_type": "code",
   "execution_count": 13,
   "id": "0dc23aa7-b3b1-47ce-92d6-2c2b9b6fd4e3",
   "metadata": {},
   "outputs": [
    {
     "data": {
      "text/plain": "<Figure size 432x288 with 3 Axes>",
      "image/png": "[encoded data removed]"
     },
     "metadata": {
      "needs_background": "light"
     },
     "output_type": "display_data"
    },
    {
     "name": "stdout",
     "output_type": "stream",
     "text": [
      "|S|: 1  =>  6404.975838744458\n",
      "|S|: 2  =>  3540.180525746849\n",
      "|S|: 3  =>  3108.422013070836\n",
      "|S|: 4  =>  2587.079868796522\n",
      "|S|: 5  =>  2456.8490504038004\n",
      "|S|: 6  =>  2326.1359450454806\n",
      "|S|: 7  =>  2210.7801403999583\n",
      "|S|: 8  =>  2094.427190999917\n"
     ]
    }
   ],
   "source": [
    "plot_simulation(display_data=ret3_nom, fname='Nominal feedback on Nominal System')\n",
    "for i in ret3_nom['costs']:\n",
    "    print('|S|:',i, ' => ', ret3_nom['costs'][i][-1])"
   ]
  },
  {
   "cell_type": "markdown",
   "id": "0fdd0e2c-ea97-4c0d-bec3-b9d82ce36282",
   "metadata": {
    "tags": []
   },
   "source": [
    "### Testing MPL control on itself"
   ]
  },
  {
   "cell_type": "markdown",
   "id": "facf3752-4da7-4ecd-955d-32f78c5387de",
   "metadata": {
    "jp-MarkdownHeadingCollapsed": true,
    "tags": []
   },
   "source": [
    "##### Run Code"
   ]
  },
  {
   "cell_type": "code",
   "execution_count": 14,
   "id": "cc7b6d69-b1bd-4f60-849d-6f9526c81ffc",
   "metadata": {},
   "outputs": [
    {
     "name": "stdout",
     "output_type": "stream",
     "text": [
      "Gain (K):\n",
      " [[-0.32210726 -0.32447731 -0.16961668 -0.15784493 -0.14379756 -0.15784493\n",
      "  -0.16961668 -0.32447731]\n",
      " [ 0.          0.          0.          0.          0.          0.\n",
      "   0.          0.        ]\n",
      " [ 0.          0.          0.          0.          0.          0.\n",
      "   0.          0.        ]\n",
      " [ 0.          0.          0.          0.          0.          0.\n",
      "   0.          0.        ]\n",
      " [ 0.          0.          0.          0.          0.          0.\n",
      "   0.          0.        ]\n",
      " [ 0.          0.          0.          0.          0.          0.\n",
      "   0.          0.        ]\n",
      " [ 0.          0.          0.          0.          0.          0.\n",
      "   0.          0.        ]\n",
      " [ 0.          0.          0.          0.          0.          0.\n",
      "   0.          0.        ]]\n",
      "Gain (K):\n",
      " [[-0.29676762 -0.28849755 -0.10457624 -0.06132668 -0.03631819 -0.06132668\n",
      "  -0.10457624 -0.28849755]\n",
      " [-0.03631819 -0.06132668 -0.10457624 -0.28849755 -0.29676762 -0.28849755\n",
      "  -0.10457624 -0.06132668]\n",
      " [ 0.          0.          0.          0.          0.          0.\n",
      "   0.          0.        ]\n",
      " [ 0.          0.          0.          0.          0.          0.\n",
      "   0.          0.        ]\n",
      " [ 0.          0.          0.          0.          0.          0.\n",
      "   0.          0.        ]\n",
      " [ 0.          0.          0.          0.          0.          0.\n",
      "   0.          0.        ]\n",
      " [ 0.          0.          0.          0.          0.          0.\n",
      "   0.          0.        ]\n",
      " [ 0.          0.          0.          0.          0.          0.\n",
      "   0.          0.        ]]\n",
      "Gain (K):\n",
      " [[-0.28106904 -0.29081024 -0.11126102 -0.06363936 -0.02061962 -0.01372485\n",
      "  -0.04488385 -0.24089573]\n",
      " [-0.02061962 -0.06363936 -0.11126102 -0.29081024 -0.28106904 -0.24089573\n",
      "  -0.04488385 -0.01372485]\n",
      " [-0.04213548 -0.00438973  0.00761533 -0.00438973 -0.04213548 -0.23720439\n",
      "  -0.26060384 -0.23720439]\n",
      " [ 0.          0.          0.          0.          0.          0.\n",
      "   0.          0.        ]\n",
      " [ 0.          0.          0.          0.          0.          0.\n",
      "   0.          0.        ]\n",
      " [ 0.          0.          0.          0.          0.          0.\n",
      "   0.          0.        ]\n",
      " [ 0.          0.          0.          0.          0.          0.\n",
      "   0.          0.        ]\n",
      " [ 0.          0.          0.          0.          0.          0.\n",
      "   0.          0.        ]]\n",
      "Gain (K):\n",
      " [[-2.60626008e-01 -2.37602115e-01 -4.47549348e-02 -1.04312435e-02\n",
      "  -1.76590812e-04 -1.04312435e-02 -4.47549348e-02 -2.37602115e-01]\n",
      " [-1.76590812e-04 -1.04312435e-02 -4.47549348e-02 -2.37602115e-01\n",
      "  -2.60626008e-01 -2.37602115e-01 -4.47549348e-02 -1.04312435e-02]\n",
      " [-4.47549348e-02 -1.04312435e-02 -1.76590812e-04 -1.04312435e-02\n",
      "  -4.47549348e-02 -2.37602115e-01 -2.60626008e-01 -2.37602115e-01]\n",
      " [-4.47549348e-02 -2.37602115e-01 -2.60626008e-01 -2.37602115e-01\n",
      "  -4.47549348e-02 -1.04312435e-02 -1.76590812e-04 -1.04312435e-02]\n",
      " [ 0.00000000e+00  0.00000000e+00  0.00000000e+00  0.00000000e+00\n",
      "   0.00000000e+00  0.00000000e+00  0.00000000e+00  0.00000000e+00]\n",
      " [ 0.00000000e+00  0.00000000e+00  0.00000000e+00  0.00000000e+00\n",
      "   0.00000000e+00  0.00000000e+00  0.00000000e+00  0.00000000e+00]\n",
      " [ 0.00000000e+00  0.00000000e+00  0.00000000e+00  0.00000000e+00\n",
      "   0.00000000e+00  0.00000000e+00  0.00000000e+00  0.00000000e+00]\n",
      " [ 0.00000000e+00  0.00000000e+00  0.00000000e+00  0.00000000e+00\n",
      "   0.00000000e+00  0.00000000e+00  0.00000000e+00  0.00000000e+00]]\n",
      "Gain (K):\n",
      " [[-0.22858758 -0.20025583 -0.01271651 -0.00277303  0.0007537  -0.01089794\n",
      "  -0.04382464 -0.2299439 ]\n",
      " [-0.00030172 -0.0106952  -0.04488007 -0.23774875 -0.26061876 -0.23757553\n",
      "  -0.04474769 -0.01057788]\n",
      " [-0.04488007 -0.0106952  -0.00030172 -0.01057788 -0.04474769 -0.23757553\n",
      "  -0.26061876 -0.23774875]\n",
      " [-0.01271651 -0.20025583 -0.22858758 -0.2299439  -0.04382464 -0.01089794\n",
      "   0.0007537  -0.00277303]\n",
      " [-0.20037804 -0.19945279 -0.20037804 -0.0202076  -0.01128766 -0.00128441\n",
      "  -0.01128766 -0.0202076 ]\n",
      " [ 0.          0.          0.          0.          0.          0.\n",
      "   0.          0.        ]\n",
      " [ 0.          0.          0.          0.          0.          0.\n",
      "   0.          0.        ]\n",
      " [ 0.          0.          0.          0.          0.          0.\n",
      "   0.          0.        ]]\n",
      "Gain (K):\n",
      " [[-0.22857201 -0.20023217 -0.01270095 -0.002881    0.00078385 -0.01099135\n",
      "  -0.04379448 -0.23005186]\n",
      " [ 0.00078385 -0.01099135 -0.04379448 -0.23005186 -0.22857201 -0.20023217\n",
      "  -0.01270095 -0.002881  ]\n",
      " [-0.04379448 -0.01099135  0.00078385 -0.002881   -0.01270095 -0.20023217\n",
      "  -0.22857201 -0.23005186]\n",
      " [-0.01270095 -0.20023217 -0.22857201 -0.23005186 -0.04379448 -0.01099135\n",
      "   0.00078385 -0.002881  ]\n",
      " [-0.20037221 -0.19944504 -0.20037221 -0.02025863 -0.01113139 -0.0011827\n",
      "  -0.01113139 -0.02025863]\n",
      " [-0.01113139 -0.0011827  -0.01113139 -0.02025863 -0.20037221 -0.19944504\n",
      "  -0.20037221 -0.02025863]\n",
      " [ 0.          0.          0.          0.          0.          0.\n",
      "   0.          0.        ]\n",
      " [ 0.          0.          0.          0.          0.          0.\n",
      "   0.          0.        ]]\n",
      "Gain (K):\n",
      " [[-1.97784446e-01 -1.93166850e-01 -1.24686004e-02 -3.40667252e-03\n",
      "   1.01620075e-03 -3.92602865e-03 -1.30069152e-02 -1.93294479e-01]\n",
      " [ 2.67741894e-05 -1.11510398e-02 -4.38071687e-02 -2.30035732e-01\n",
      "  -2.28584699e-01 -2.00391861e-01 -1.34580270e-02 -3.75409348e-03]\n",
      " [-1.30069152e-02 -3.92602865e-03  1.01620075e-03 -3.40667252e-03\n",
      "  -1.24686004e-02 -1.93166850e-01 -1.97784446e-01 -1.93294479e-01]\n",
      " [-1.34580270e-02 -2.00391861e-01 -2.28584699e-01 -2.30035732e-01\n",
      "  -4.38071687e-02 -1.11510398e-02  2.67741894e-05 -3.75409348e-03]\n",
      " [-1.93478044e-01 -1.98629157e-01 -2.00222104e-01 -2.03548816e-02\n",
      "  -1.09812828e-02 -3.66825321e-04 -4.23722296e-03 -1.29688161e-02]\n",
      " [-4.23722296e-03 -3.66825321e-04 -1.09812828e-02 -2.03548816e-02\n",
      "  -2.00222104e-01 -1.98629157e-01 -1.93478044e-01 -1.29688161e-02]\n",
      " [-1.93273995e-01 -1.29245100e-02 -3.62928579e-03  9.46382232e-04\n",
      "  -3.62928579e-03 -1.29245100e-02 -1.93273995e-01 -1.97802061e-01]\n",
      " [ 0.00000000e+00  0.00000000e+00  0.00000000e+00  0.00000000e+00\n",
      "   0.00000000e+00  0.00000000e+00  0.00000000e+00  0.00000000e+00]]\n",
      "Gain (K):\n",
      " [[-0.197797   -0.19328625 -0.01301947 -0.00404543  0.00046533 -0.00404543\n",
      "  -0.01301947 -0.19328625]\n",
      " [ 0.00046533 -0.00404543 -0.01301947 -0.19328625 -0.197797   -0.19328625\n",
      "  -0.01301947 -0.00404543]\n",
      " [-0.01301947 -0.00404543  0.00046533 -0.00404543 -0.01301947 -0.19328625\n",
      "  -0.197797   -0.19328625]\n",
      " [-0.01301947 -0.19328625 -0.197797   -0.19328625 -0.01301947 -0.00404543\n",
      "   0.00046533 -0.00404543]\n",
      " [-0.19328625 -0.197797   -0.19328625 -0.01301947 -0.00404543  0.00046533\n",
      "  -0.00404543 -0.01301947]\n",
      " [-0.00404543  0.00046533 -0.00404543 -0.01301947 -0.19328625 -0.197797\n",
      "  -0.19328625 -0.01301947]\n",
      " [-0.19328625 -0.01301947 -0.00404543  0.00046533 -0.00404543 -0.01301947\n",
      "  -0.19328625 -0.197797  ]\n",
      " [-0.00404543 -0.01301947 -0.19328625 -0.197797   -0.19328625 -0.01301947\n",
      "  -0.00404543  0.00046533]]\n"
     ]
    }
   ],
   "source": [
    "ret3_MPL = simulation_actuator_selection(S_MPL, S_MPL)"
   ]
  },
  {
   "cell_type": "markdown",
   "id": "47b7e7c0-1b61-4b32-861a-7ca4a534bf38",
   "metadata": {},
   "source": [
    "##### Display Output"
   ]
  },
  {
   "cell_type": "code",
   "execution_count": 15,
   "id": "6da67738-347b-4350-8dcc-77464c4fb105",
   "metadata": {},
   "outputs": [],
   "source": [
    "# plot_actuator_selection_1(S_MPL['B'], ret1_MPL['cost_trend'], ret1_MPL['time_trend'], ret1_MPL['check_trend'], fname='MPL Actuator Selection')"
   ]
  },
  {
   "cell_type": "code",
   "execution_count": 16,
   "id": "e5d1e98b-ad3d-45c6-9d34-03a344549d95",
   "metadata": {},
   "outputs": [
    {
     "data": {
      "text/plain": "<Figure size 432x288 with 3 Axes>",
      "image/png": "[encoded data removed]"
     },
     "metadata": {
      "needs_background": "light"
     },
     "output_type": "display_data"
    },
    {
     "name": "stdout",
     "output_type": "stream",
     "text": [
      "|S|: 1  =>  33222.87935562452\n",
      "|S|: 2  =>  5111.225359834884\n",
      "|S|: 3  =>  4278.875331013486\n",
      "|S|: 4  =>  3403.2558378524745\n",
      "|S|: 5  =>  3194.5488535945588\n",
      "|S|: 6  =>  2969.346114221745\n",
      "|S|: 7  =>  2765.4119184611855\n",
      "|S|: 8  =>  2558.2303117240235\n"
     ]
    }
   ],
   "source": [
    "plot_simulation(display_data=ret3_MPL, fname='MPL feedback on MPL System')\n",
    "for i in ret3_MPL['costs']:\n",
    "    print('|S|:',i, ' => ', ret3_MPL['costs'][i][-1])"
   ]
  }
 ],
 "metadata": {
  "kernelspec": {
   "name": "python3",
   "language": "python",
   "display_name": "Python 3"
  },
  "language_info": {
   "codemirror_mode": {
    "name": "ipython",
    "version": 3
   },
   "file_extension": ".py",
   "mimetype": "text/x-python",
   "name": "python",
   "nbconvert_exporter": "python",
   "pygments_lexer": "ipython3",
   "version": "3.8.8"
  }
 },
 "nbformat": 4,
 "nbformat_minor": 5
}