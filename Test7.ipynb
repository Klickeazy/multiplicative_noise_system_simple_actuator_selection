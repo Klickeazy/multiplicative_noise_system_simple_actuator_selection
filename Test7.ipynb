{
 "cells": [
  {
   "cell_type": "markdown",
   "id": "5600a0aa-c019-424b-a725-cc09962ff3bf",
   "metadata": {},
   "source": [
    "# Comparison of actuator selection for different state-mpl models"
   ]
  },
  {
   "cell_type": "code",
   "execution_count": 1,
   "id": "fcf48fd3-49de-4744-b171-18313ad65507",
   "metadata": {},
   "outputs": [],
   "source": [
    "import numpy as np\n",
    "from copy import deepcopy as dc\n",
    "\n",
    "from functionfile_system_definition import sys_from_file, system_display_matrix\n",
    "from functionfile_system_mplcost import cost_function_1, initial_values_init, actuator_selection_cost_1, plot_actuator_selection_1, simulation_actuator_selection, plot_simulation"
   ]
  },
  {
   "cell_type": "code",
   "execution_count": 2,
   "id": "91097cb4-1054-4b28-ac6b-485637273ffe",
   "metadata": {},
   "outputs": [],
   "source": [
    "sys_model = 'System Model 9' # Comparing A and B"
   ]
  },
  {
   "cell_type": "markdown",
   "id": "8ea69214-6923-4f19-85f1-453a13dd81c8",
   "metadata": {
    "tags": []
   },
   "source": [
    "### Model A"
   ]
  },
  {
   "cell_type": "markdown",
   "id": "eea86a4f-6d3c-4808-8953-b8e133e00715",
   "metadata": {
    "tags": []
   },
   "source": [
    "##### Code"
   ]
  },
  {
   "cell_type": "code",
   "execution_count": 3,
   "id": "cd631126-f827-458f-bbbd-f4bafad7f2a5",
   "metadata": {
    "tags": []
   },
   "outputs": [
    {
     "name": "stdout",
     "output_type": "stream",
     "text": [
      "System read from file @ system_model/System Model 9A.pickle \n",
      "\n"
     ]
    }
   ],
   "source": [
    "S_A = sys_from_file(sys_model+'A')\n",
    "initial_values = initial_values_init(S_A)"
   ]
  },
  {
   "cell_type": "code",
   "execution_count": 4,
   "id": "fdfcaeb9-3968-4d7c-ad21-5afe8f24ec5a",
   "metadata": {},
   "outputs": [],
   "source": [
    "ret1_A = cost_function_1(S_A, initial_values)"
   ]
  },
  {
   "cell_type": "markdown",
   "id": "6c06a1f1-bbc6-4d46-9cd9-edd22280fead",
   "metadata": {
    "tags": []
   },
   "source": [
    "##### Output"
   ]
  },
  {
   "cell_type": "code",
   "execution_count": 5,
   "id": "ac1c51c1-c0e7-44aa-8f69-459a488f2225",
   "metadata": {},
   "outputs": [
    {
     "name": "stdout",
     "output_type": "stream",
     "text": [
      "\n",
      " P_mat:\n",
      " [[1.36372628 0.25870709 0.13206986 0.01360068 0.00399673 0.00651314\n",
      "  0.12280006 0.25220704]\n",
      " [0.25870709 1.27936539 0.17077914 0.06128971 0.01277046 0.00732351\n",
      "  0.03220967 0.14919721]\n",
      " [0.13206986 0.17077914 1.24609403 0.16590074 0.12011056 0.02384542\n",
      "  0.01654047 0.03416666]\n",
      " [0.01360068 0.06128971 0.16590074 1.26380649 0.22459523 0.11729036\n",
      "  0.01108486 0.00580174]\n",
      " [0.00399673 0.01277046 0.12011056 0.22459523 1.26236249 0.15706159\n",
      "  0.04934518 0.00203762]\n",
      " [0.00651314 0.00732351 0.02384542 0.11729036 0.15706159 1.16489754\n",
      "  0.0738969  0.03203152]\n",
      " [0.12280006 0.03220967 0.01654047 0.01108486 0.04934518 0.0738969\n",
      "  1.16042898 0.14031157]\n",
      " [0.25220704 0.14919721 0.03416666 0.00580174 0.00203762 0.03203152\n",
      "  0.14031157 1.25421204]]\n",
      "\n",
      " Gain K:\n",
      " [[-0.02343667 -0.01282187 -0.00351434 -0.0045109  -0.00668684 -0.09932932\n",
      "  -0.10703645 -0.11408166]\n",
      " [-0.02343667 -0.01282187 -0.00351434 -0.0045109  -0.00668684 -0.09932932\n",
      "  -0.10703645 -0.11408166]\n",
      " [-0.03962852 -0.18369033 -0.18769283 -0.18146673 -0.03481595 -0.01584042\n",
      "  -0.00569115 -0.01995789]\n",
      " [-0.00361345 -0.00174299 -0.01597957 -0.03442448 -0.17644317 -0.16498254\n",
      "  -0.14916729 -0.00584229]\n",
      " [ 0.          0.          0.          0.          0.          0.\n",
      "   0.          0.        ]\n",
      " [ 0.          0.          0.          0.          0.          0.\n",
      "   0.          0.        ]\n",
      " [ 0.          0.          0.          0.          0.          0.\n",
      "   0.          0.        ]\n",
      " [ 0.          0.          0.          0.          0.          0.\n",
      "   0.          0.        ]]\n"
     ]
    }
   ],
   "source": [
    "print('\\n P_mat:\\n', ret1_A['P_mat'])\n",
    "print('\\n Gain K:\\n', ret1_A['K'])"
   ]
  },
  {
   "cell_type": "markdown",
   "id": "b914d1c6-6e9a-4736-beb0-367e47a5b323",
   "metadata": {
    "tags": []
   },
   "source": [
    "### Model B"
   ]
  },
  {
   "cell_type": "markdown",
   "id": "9b7e56ea-4794-442d-914d-ebf20a42c62e",
   "metadata": {
    "tags": []
   },
   "source": [
    "##### Code"
   ]
  },
  {
   "cell_type": "code",
   "execution_count": 6,
   "id": "c8e25cba-0e9d-4ca5-b451-cfdf4a0e19dd",
   "metadata": {
    "tags": []
   },
   "outputs": [
    {
     "name": "stdout",
     "output_type": "stream",
     "text": [
      "System read from file @ system_model/System Model 9B.pickle \n",
      "\n"
     ]
    }
   ],
   "source": [
    "S_B = sys_from_file(sys_model+'B')\n",
    "initial_values = initial_values_init(S_B)"
   ]
  },
  {
   "cell_type": "code",
   "execution_count": 7,
   "id": "ef637fca-63bc-4fcb-8f5c-a58bdb64f3f8",
   "metadata": {},
   "outputs": [],
   "source": [
    "ret1_B = cost_function_1(S_B, initial_values)"
   ]
  },
  {
   "cell_type": "markdown",
   "id": "72be05b3-f6ec-4f8d-aa77-f5e18a96a413",
   "metadata": {},
   "source": [
    "##### Output"
   ]
  },
  {
   "cell_type": "code",
   "execution_count": 8,
   "id": "3508089e-c818-4de7-8837-a12bad385b5c",
   "metadata": {},
   "outputs": [
    {
     "name": "stdout",
     "output_type": "stream",
     "text": [
      "\n",
      " P_mat:\n",
      " [[1.36372628 0.25870709 0.13206986 0.01360068 0.00399673 0.00651314\n",
      "  0.12280006 0.25220704]\n",
      " [0.25870709 1.27936539 0.17077914 0.06128971 0.01277046 0.00732351\n",
      "  0.03220967 0.14919721]\n",
      " [0.13206986 0.17077914 1.24609403 0.16590074 0.12011056 0.02384542\n",
      "  0.01654047 0.03416666]\n",
      " [0.01360068 0.06128971 0.16590074 1.26380649 0.22459523 0.11729036\n",
      "  0.01108486 0.00580174]\n",
      " [0.00399673 0.01277046 0.12011056 0.22459523 1.26236249 0.15706159\n",
      "  0.04934518 0.00203762]\n",
      " [0.00651314 0.00732351 0.02384542 0.11729036 0.15706159 1.16489754\n",
      "  0.0738969  0.03203152]\n",
      " [0.12280006 0.03220967 0.01654047 0.01108486 0.04934518 0.0738969\n",
      "  1.16042898 0.14031157]\n",
      " [0.25220704 0.14919721 0.03416666 0.00580174 0.00203762 0.03203152\n",
      "  0.14031157 1.25421204]]\n",
      "\n",
      " Gain K:\n",
      " [[-0.02343667 -0.01282187 -0.00351434 -0.0045109  -0.00668684 -0.09932932\n",
      "  -0.10703645 -0.11408166]\n",
      " [-0.02343667 -0.01282187 -0.00351434 -0.0045109  -0.00668684 -0.09932932\n",
      "  -0.10703645 -0.11408166]\n",
      " [-0.03962852 -0.18369033 -0.18769283 -0.18146673 -0.03481595 -0.01584042\n",
      "  -0.00569115 -0.01995789]\n",
      " [-0.00361345 -0.00174299 -0.01597957 -0.03442448 -0.17644317 -0.16498254\n",
      "  -0.14916729 -0.00584229]\n",
      " [ 0.          0.          0.          0.          0.          0.\n",
      "   0.          0.        ]\n",
      " [ 0.          0.          0.          0.          0.          0.\n",
      "   0.          0.        ]\n",
      " [ 0.          0.          0.          0.          0.          0.\n",
      "   0.          0.        ]\n",
      " [ 0.          0.          0.          0.          0.          0.\n",
      "   0.          0.        ]]\n"
     ]
    }
   ],
   "source": [
    "print('\\n P_mat:\\n', ret1_B['P_mat'])\n",
    "print('\\n Gain K:\\n', ret1_B['K'])"
   ]
  },
  {
   "cell_type": "markdown",
   "id": "53e89057-7a4f-40c2-a70e-43853c32573c",
   "metadata": {
    "tags": []
   },
   "source": [
    "### Comparison"
   ]
  },
  {
   "cell_type": "code",
   "execution_count": 9,
   "id": "519754ef-6235-4efd-9b45-fe80e25858f2",
   "metadata": {},
   "outputs": [
    {
     "name": "stdout",
     "output_type": "stream",
     "text": [
      "Both cost matrices are close/equal\n",
      "Both gains are close/equal\n"
     ]
    }
   ],
   "source": [
    "if np.allclose(ret1_A['P_mat'], ret1_B['P_mat']):\n",
    "    print('Both cost matrices are close/equal')\n",
    "else:\n",
    "    print('Cost matrices are different')\n",
    "\n",
    "if np.allclose(ret1_A['K'], ret1_B['K']):\n",
    "    print('Both gains are close/equal')\n",
    "else:\n",
    "    print('Gains are different')\n"
   ]
  },
  {
   "cell_type": "code",
   "execution_count": null,
   "id": "987dcdbd-588b-4984-8cf4-23cc5160ffd0",
   "metadata": {},
   "outputs": [],
   "source": []
  }
 ],
 "metadata": {
  "kernelspec": {
   "display_name": "Python 3",
   "language": "python",
   "name": "python3"
  },
  "language_info": {
   "codemirror_mode": {
    "name": "ipython",
    "version": 3
   },
   "file_extension": ".py",
   "mimetype": "text/x-python",
   "name": "python",
   "nbconvert_exporter": "python",
   "pygments_lexer": "ipython3",
   "version": "3.9.6"
  }
 },
 "nbformat": 4,
 "nbformat_minor": 5
}
