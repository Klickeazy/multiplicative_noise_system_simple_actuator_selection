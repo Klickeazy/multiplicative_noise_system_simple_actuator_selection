{
 "cells": [
  {
   "cell_type": "markdown",
   "id": "b8884add-8cba-4cce-9ef8-fefe3ca7a214",
   "metadata": {},
   "source": [
    "# Model and Code Test"
   ]
  },
  {
   "cell_type": "code",
   "execution_count": 1,
   "id": "f0b0ea71-696b-4c8d-bca0-a0f807e1b042",
   "metadata": {},
   "outputs": [],
   "source": [
    "import numpy as np\n",
    "from copy import deepcopy as dc\n",
    "\n",
    "from functionfile_system_definition import sys_from_file\n",
    "from functionfile_system_mplcost import cost_function_1, initial_values_init"
   ]
  },
  {
   "cell_type": "code",
   "execution_count": 2,
   "id": "ee35a5f9-1ccb-47cd-ae2e-0d6dd03db657",
   "metadata": {},
   "outputs": [
    {
     "name": "stdout",
     "output_type": "stream",
     "text": [
      "System read from file @ system_model/System Model 1.pickle\n"
     ]
    }
   ],
   "source": [
    "sys_model = 'System Model 1'\n",
    "S = sys_from_file(sys_model)"
   ]
  },
  {
   "cell_type": "code",
   "execution_count": 3,
   "id": "f8d2ef1f-1bcc-4abb-b7d3-1220c842e734",
   "metadata": {},
   "outputs": [
    {
     "ename": "KeyError",
     "evalue": "'metric'",
     "output_type": "error",
     "traceback": [
      "\u001b[1;31m---------------------------------------------------------------------------\u001b[0m",
      "\u001b[1;31mKeyError\u001b[0m                                  Traceback (most recent call last)",
      "\u001b[1;32m<ipython-input-3-398b3e35ab9b>\u001b[0m in \u001b[0;36m<module>\u001b[1;34m\u001b[0m\n\u001b[1;32m----> 1\u001b[1;33m \u001b[0mret1\u001b[0m \u001b[1;33m=\u001b[0m \u001b[0mcost_function_1\u001b[0m\u001b[1;33m(\u001b[0m\u001b[0mS\u001b[0m\u001b[1;33m)\u001b[0m\u001b[1;33m\u001b[0m\u001b[1;33m\u001b[0m\u001b[0m\n\u001b[0m\u001b[0;32m      2\u001b[0m \u001b[0mprint\u001b[0m\u001b[1;33m(\u001b[0m\u001b[0mret1\u001b[0m\u001b[1;33m)\u001b[0m\u001b[1;33m\u001b[0m\u001b[1;33m\u001b[0m\u001b[0m\n",
      "\u001b[1;32m~\\Documents\\GitDrop\\multiplicative_noise_system\\functionfile_system_mplcost.py\u001b[0m in \u001b[0;36mcost_function_1\u001b[1;34m(sys_in, initial_values)\u001b[0m\n\u001b[0;32m     90\u001b[0m \u001b[1;33m\u001b[0m\u001b[0m\n\u001b[0;32m     91\u001b[0m     \u001b[0mJ\u001b[0m \u001b[1;33m=\u001b[0m \u001b[1;32mNone\u001b[0m\u001b[1;33m\u001b[0m\u001b[1;33m\u001b[0m\u001b[0m\n\u001b[1;32m---> 92\u001b[1;33m     \u001b[1;32mif\u001b[0m \u001b[0msys\u001b[0m\u001b[1;33m[\u001b[0m\u001b[1;34m'metric'\u001b[0m\u001b[1;33m]\u001b[0m \u001b[1;33m==\u001b[0m \u001b[1;36m0\u001b[0m\u001b[1;33m:\u001b[0m\u001b[1;33m\u001b[0m\u001b[1;33m\u001b[0m\u001b[0m\n\u001b[0m\u001b[0;32m     93\u001b[0m         \u001b[0mJ\u001b[0m \u001b[1;33m=\u001b[0m \u001b[0mnp\u001b[0m\u001b[1;33m.\u001b[0m\u001b[0mtrace\u001b[0m\u001b[1;33m(\u001b[0m\u001b[0mP\u001b[0m\u001b[1;33m)\u001b[0m\u001b[1;33m\u001b[0m\u001b[1;33m\u001b[0m\u001b[0m\n\u001b[0;32m     94\u001b[0m     \u001b[1;32melif\u001b[0m \u001b[0msys\u001b[0m\u001b[1;33m[\u001b[0m\u001b[1;34m'metric'\u001b[0m\u001b[1;33m]\u001b[0m \u001b[1;33m==\u001b[0m \u001b[1;36m1\u001b[0m\u001b[1;33m:\u001b[0m\u001b[1;33m\u001b[0m\u001b[1;33m\u001b[0m\u001b[0m\n",
      "\u001b[1;31mKeyError\u001b[0m: 'metric'"
     ]
    }
   ],
   "source": [
    "ret1 = cost_function_1(S)\n",
    "print(ret1)"
   ]
  },
  {
   "cell_type": "code",
   "execution_count": null,
   "id": "145957cf-5171-40a8-af01-3570ba0e4025",
   "metadata": {},
   "outputs": [],
   "source": []
  }
 ],
 "metadata": {
  "kernelspec": {
   "display_name": "Python 3",
   "language": "python",
   "name": "python3"
  },
  "language_info": {
   "codemirror_mode": {
    "name": "ipython",
    "version": 3
   },
   "file_extension": ".py",
   "mimetype": "text/x-python",
   "name": "python",
   "nbconvert_exporter": "python",
   "pygments_lexer": "ipython3",
   "version": "3.8.8"
  }
 },
 "nbformat": 4,
 "nbformat_minor": 5
}
