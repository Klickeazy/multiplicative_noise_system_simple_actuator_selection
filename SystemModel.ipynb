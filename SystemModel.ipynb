{
 "cells": [
  {
   "cell_type": "markdown",
   "id": "2caa3364-182e-4cc6-835c-142126c14c93",
   "metadata": {
    "tags": []
   },
   "source": [
    "# System Model Creation"
   ]
  },
  {
   "cell_type": "markdown",
   "id": "335b0ba8-b86f-4252-adb5-25e12b122a80",
   "metadata": {
    "jp-MarkdownHeadingCollapsed": true,
    "tags": []
   },
   "source": [
    "##### Py Packages"
   ]
  },
  {
   "cell_type": "code",
   "execution_count": 1,
   "id": "24a4dcf2-a1d4-4aff-9cf8-72af87b541e4",
   "metadata": {
    "tags": []
   },
   "outputs": [],
   "source": [
    "import numpy as np\n",
    "from copy import deepcopy as dc\n",
    "\n",
    "from functionfile_system_definition import system_package, actuator_random_selection, sys_to_file, create_graph, system_display_matrix"
   ]
  },
  {
   "cell_type": "markdown",
   "id": "919de8f1-f15d-44e1-ab92-e464579ab29a",
   "metadata": {},
   "source": [
    "##### Model list\n",
    "- [Model 1](#System-Model-1)\n",
    "- [Model 2](#System-Model-2)\n",
    "- [Model 3](#System-Model-3)\n",
    "- [Model 4 A/B](#System-Model-4-A/B)\n",
    "- [Model 5 A/B](#System-Model-5-A/B)\n",
    "- [Model 7 A/B](#System-Model-7-A/B)\n",
    "- [Model 8 A/B](#System-Model-8-A/B)\n",
    "- [Model 9 A/B](#System-Model-9-A/B)\n",
    "- [Comparison 1](#Comparison-Model-1)\n",
    "- [Comparison 2](#Comparison-Model-2)"
   ]
  },
  {
   "cell_type": "markdown",
   "id": "0fe5c7f9-f8ed-458c-b99c-34b34cc432c8",
   "metadata": {
    "tags": []
   },
   "source": [
    "***\n",
    "## System Model 1\n",
    "- Cycle graph: $|\\lambda_{\\max}(A)|=1$\n",
    "- Randomly placed actuators\n",
    "- ER state-MPL noise\n",
    "- Initial states - vector of ones\n",
    "\n",
    "[Model List](#Model-list)"
   ]
  },
  {
   "cell_type": "code",
   "execution_count": 2,
   "id": "8757e02f-fb93-47b2-9d8b-2874adce72c8",
   "metadata": {
    "tags": []
   },
   "outputs": [
    {
     "name": "stdout",
     "output_type": "stream",
     "text": [
      "Control noise matrix not specified - assumed 0\n",
      "Initial state vector specified\n",
      "System saved to file @ system_model/System Model 1.pickle \n",
      "\n"
     ]
    }
   ],
   "source": [
    "nx = 10\n",
    "nu = 3\n",
    "\n",
    "A = create_graph(nx, type='cycle')['A']\n",
    "\n",
    "B = actuator_random_selection(10, 3)['B']\n",
    "\n",
    "alphai = [0.1]\n",
    "Ai = create_graph(nx, type='ER', p=0.4)['A']\n",
    "\n",
    "X0 = np.ones(nx)\n",
    "\n",
    "S = system_package(A_in=A, B_in=B, alphai_in=alphai, Ai_in=Ai, X0_in=X0, label_in='System Model 1')\n",
    "\n",
    "# system_display_matrix(S)\n",
    "sys_to_file(S)"
   ]
  },
  {
   "cell_type": "markdown",
   "id": "209c1daf-ca15-4805-b568-360792f43975",
   "metadata": {
    "tags": []
   },
   "source": [
    "***\n",
    "## System Model 2\n",
    "- Path graph: $|\\lambda_{\\max}(A)|=0.8$\n",
    "- No actuators\n",
    "- ER state-MPL noise\n",
    "- Initial states - vector of ones\n",
    "\n",
    "[Model List](#Model-list)"
   ]
  },
  {
   "cell_type": "code",
   "execution_count": 3,
   "id": "b149f01f-cea5-42bf-b6da-929698403f51",
   "metadata": {
    "tags": []
   },
   "outputs": [
    {
     "name": "stdout",
     "output_type": "stream",
     "text": [
      "Control input matrix not given - assumed no controller\n",
      "Control noise matrix not specified - assumed 0\n",
      "Initial state vector specified\n",
      "System saved to file @ system_model/System Model 2.pickle \n",
      "\n"
     ]
    }
   ],
   "source": [
    "nx = 10\n",
    "\n",
    "A = 0.8*create_graph(nx, type='path')['A']\n",
    "\n",
    "# B = actuator_random_selection(10, 3)['B']\n",
    "# B = np.random.rand(10,3)\n",
    "\n",
    "alphai = [0.1]\n",
    "Ai = create_graph(nx, type='ER', p=0.4)['A']\n",
    "\n",
    "X0 = np.ones(nx)\n",
    "\n",
    "S = system_package(A_in=A, alphai_in=alphai, Ai_in=Ai, X0_in=X0, label_in='System Model 2')\n",
    "\n",
    "# system_display_matrix(S)\n",
    "sys_to_file(S)"
   ]
  },
  {
   "cell_type": "markdown",
   "id": "9c6c76ec-691f-4c31-ad75-ed1ac5bec509",
   "metadata": {
    "tags": []
   },
   "source": [
    "***\n",
    "## System Model 3\n",
    "- Path graph: $|\\lambda_{\\max}(A)|=1$\n",
    "- No actuators\n",
    "- ER state-MPL noise\n",
    "- Initial state distribution - identity covariance\n",
    "\n",
    "[Model List](#Model-list)"
   ]
  },
  {
   "cell_type": "code",
   "execution_count": 4,
   "id": "f680368e-f47e-47d7-9246-00869fcba203",
   "metadata": {
    "tags": []
   },
   "outputs": [
    {
     "name": "stdout",
     "output_type": "stream",
     "text": [
      "Control input matrix not given - assumed no controller\n",
      "Control noise matrix not specified - assumed 0\n",
      "Initial state distribution specified\n",
      "System saved to file @ system_model/System Model 3.pickle \n",
      "\n"
     ]
    }
   ],
   "source": [
    "nx = 6\n",
    "\n",
    "A = create_graph(nx, type='path')['A']\n",
    "\n",
    "alphai = [0.1]\n",
    "Ai = create_graph(nx, type='ER', p=0.4)['A']\n",
    "\n",
    "X0 = np.identity(nx)\n",
    "\n",
    "S = system_package(A_in=A, alphai_in=alphai, Ai_in=Ai, X0_in=X0, label_in='System Model 3')\n",
    "\n",
    "# system_display_matrix(S)\n",
    "sys_to_file(S)"
   ]
  },
  {
   "cell_type": "markdown",
   "id": "ebcd141b-7bdb-4da3-accc-6a800adb0f77",
   "metadata": {
    "tags": []
   },
   "source": [
    "***\n",
    "## System Model 4 A/B\n",
    "- Path graph: $|\\lambda_{\\max}(A)|=0.8$\n",
    "- No actuators\n",
    "- Cycle (A), Biased-Cycle (B) state-MPL noise\n",
    "- Initial state distribution - identity covariance\n",
    "\n",
    "[Model List](#Model-list)"
   ]
  },
  {
   "cell_type": "code",
   "execution_count": 5,
   "id": "3bdcb7ec-a034-4c34-865c-38ad6c38fbb8",
   "metadata": {},
   "outputs": [
    {
     "name": "stdout",
     "output_type": "stream",
     "text": [
      "Control input matrix not given - assumed no controller\n",
      "Control noise matrix not specified - assumed 0\n",
      "Initial state distribution specified\n",
      "System saved to file @ system_model/System Model 4A.pickle \n",
      "\n",
      "Control input matrix not given - assumed no controller\n",
      "Control noise matrix not specified - assumed 0\n",
      "Initial state distribution specified\n",
      "System saved to file @ system_model/System Model 4B.pickle \n",
      "\n"
     ]
    }
   ],
   "source": [
    "nx = 8\n",
    "\n",
    "cycle = create_graph(nx, type='cycle')\n",
    "path = create_graph(nx, type='path')\n",
    "\n",
    "A = 0.9*path['A']\n",
    "\n",
    "alphai = [0.1]\n",
    "\n",
    "X0 = 5*np.identity(nx)\n",
    "\n",
    "\n",
    "S = system_package(A_in=A, alphai_in=alphai, Ai_in=cycle['Adj'], X0_in=X0, label_in='System Model 4A')\n",
    "sys_to_file(S)\n",
    "\n",
    "S = system_package(A_in=A, alphai_in=alphai, Ai_in=cycle['Adj'] + np.diag(np.linspace(1, 0, num=nx)), X0_in=X0, label_in='System Model 4B')\n",
    "sys_to_file(S)"
   ]
  },
  {
   "cell_type": "markdown",
   "id": "ddccc244-fb59-4e87-871c-a9c2682cf889",
   "metadata": {
    "tags": []
   },
   "source": [
    "***\n",
    "## System Model 5 A/B\n",
    "- Cycle graph: $|\\lambda_{\\max}(A)|=0.99$\n",
    "- No actuators\n",
    "- Path (A), Biased-Path (B) state-MPL noise\n",
    "- Initial state distribution - identity covariance\n",
    "\n",
    "[Model List](#Model-list)"
   ]
  },
  {
   "cell_type": "code",
   "execution_count": 6,
   "id": "23f4eba6-2c72-426c-9e37-a1c845a5c69d",
   "metadata": {},
   "outputs": [
    {
     "name": "stdout",
     "output_type": "stream",
     "text": [
      "Control input matrix not given - assumed no controller\n",
      "Control noise matrix not specified - assumed 0\n",
      "Initial state distribution specified\n",
      "System saved to file @ system_model/System Model 5A.pickle \n",
      "\n",
      "Control input matrix not given - assumed no controller\n",
      "Control noise matrix not specified - assumed 0\n",
      "Initial state distribution specified\n",
      "System saved to file @ system_model/System Model 5B.pickle \n",
      "\n"
     ]
    }
   ],
   "source": [
    "nx = 8\n",
    "\n",
    "cycle = create_graph(nx, type='cycle')\n",
    "path = create_graph(nx, type='path')\n",
    "\n",
    "alphai = [0.1]\n",
    "\n",
    "X0 = 5*np.identity(nx)\n",
    "\n",
    "\n",
    "S = system_package(A_in=0.99*cycle['A'], alphai_in=alphai, Ai_in=path['Adj'], X0_in=X0, label_in='System Model 5A')\n",
    "sys_to_file(S)\n",
    "\n",
    "S = system_package(A_in=0.99*path['A'], alphai_in=alphai, Ai_in=path['Adj'] + np.diag(np.linspace(1, 0, num=nx)), X0_in=X0, label_in='System Model 5B')\n",
    "sys_to_file(S)"
   ]
  },
  {
   "cell_type": "markdown",
   "id": "0e29446b-d273-4af7-9e77-e6d53ce700e7",
   "metadata": {
    "tags": []
   },
   "source": [
    "***\n",
    "## System Model 7 A/B\n",
    "- Cycle graph: $|\\lambda_{\\max}(A)|=0.99$\n",
    "- No actuators\n",
    "- Biased-Path state-MPL noise: A - front loaded, B - back loaded\n",
    "- Initial state vector - random generation from covariance\n",
    "\n",
    "[Model List](#Model-list)"
   ]
  },
  {
   "cell_type": "code",
   "execution_count": 10,
   "id": "eef5f558-e369-4bc5-bafc-ee264720ac90",
   "metadata": {},
   "outputs": [
    {
     "name": "stdout",
     "output_type": "stream",
     "text": [
      "Control input matrix not given - assumed no controller\n",
      "Control noise matrix not specified - assumed 0\n",
      "Initial state vector specified\n",
      "System saved to file @ system_model/System Model 7A.pickle \n",
      "\n",
      "Control input matrix not given - assumed no controller\n",
      "Control noise matrix not specified - assumed 0\n",
      "Initial state vector specified\n",
      "System saved to file @ system_model/System Model 7B.pickle \n",
      "\n"
     ]
    }
   ],
   "source": [
    "nx = 8\n",
    "\n",
    "cycle = create_graph(nx, type='cycle')\n",
    "path = create_graph(nx, type='path')\n",
    "\n",
    "A = 0.9*cycle['A']\n",
    "\n",
    "alphai = [0.1]\n",
    "\n",
    "X0 = 5*np.identity(nx)\n",
    "X0_vec = np.random.default_rng().multivariate_normal(mean=np.zeros(np.shape(A)[0]), cov=X0)\n",
    "\n",
    "\n",
    "S = system_package(A_in=A, alphai_in=alphai, Ai_in=path['Adj'] + np.diag(np.linspace(0, 1, num=nx)), X0_in=X0_vec, label_in='System Model 7A')\n",
    "sys_to_file(S)\n",
    "\n",
    "S = system_package(A_in=A, alphai_in=alphai, Ai_in=path['Adj'] + np.diag(np.linspace(1, 0, num=nx)), X0_in=X0_vec, label_in='System Model 7B')\n",
    "sys_to_file(S)"
   ]
  },
  {
   "cell_type": "markdown",
   "id": "729c0a06-58dc-46db-824d-9078782fde5c",
   "metadata": {
    "tags": []
   },
   "source": [
    "***\n",
    "## System Model 8 A/B\n",
    "- Cycle graph: $|\\lambda_{\\max}(A)|=0.9$\n",
    "- Random actuator selection - same for both\n",
    "- Biased-Path state-MPL noise: A - front loaded, B - back loaded\n",
    "- Initial state vector - random generation from covariance\n",
    "\n",
    "[Model List](#Model-list)"
   ]
  },
  {
   "cell_type": "code",
   "execution_count": 11,
   "id": "3d1413f9-951c-4560-95a3-189a1b4585c7",
   "metadata": {},
   "outputs": [
    {
     "name": "stdout",
     "output_type": "stream",
     "text": [
      "Control noise matrix not specified - assumed 0\n",
      "Initial state vector specified\n",
      "System saved to file @ system_model/System Model 8A.pickle \n",
      "\n",
      "Control noise matrix not specified - assumed 0\n",
      "Initial state vector specified\n",
      "System saved to file @ system_model/System Model 8B.pickle \n",
      "\n"
     ]
    }
   ],
   "source": [
    "nx = 8\n",
    "\n",
    "cycle = create_graph(nx, type='cycle')\n",
    "path = create_graph(nx, type='path')\n",
    "\n",
    "A = 0.9*cycle['A']\n",
    "\n",
    "B = actuator_random_selection(nx, int(nx/2))['B']\n",
    "\n",
    "alphai = [0.1]\n",
    "\n",
    "X0 = 5*np.identity(nx)\n",
    "X0_vec = np.random.default_rng().multivariate_normal(mean=np.zeros(np.shape(A)[0]), cov=X0)\n",
    "\n",
    "\n",
    "S = system_package(A_in=A, B_in=B, alphai_in=alphai, Ai_in=path['Adj'] + np.diag(np.linspace(0, 1, num=nx)), X0_in=X0_vec, label_in='System Model 8A')\n",
    "sys_to_file(S)\n",
    "\n",
    "S = system_package(A_in=A, B_in=B, alphai_in=alphai, Ai_in=path['Adj'] + np.diag(np.linspace(1, 0, num=nx)), X0_in=X0_vec, label_in='System Model 8B')\n",
    "sys_to_file(S)"
   ]
  },
  {
   "cell_type": "markdown",
   "id": "e9860615-ed2c-4203-bf71-a792884c0aa5",
   "metadata": {
    "tags": []
   },
   "source": [
    "***\n",
    "## System Model 9 A/B\n",
    "- Cycle graph: $|\\lambda_{\\max}(A)|=0.9$\n",
    "- Random actuator selection - same for both\n",
    "- Path-MPL\n",
    "    - A: all edges have same MPL disturbance\n",
    "    - B: each edge has separate MPL disturbance\n",
    "- Initial state vector - random generation from covariance\n",
    "\n",
    "[Model List](#Model-list)"
   ]
  },
  {
   "cell_type": "code",
   "execution_count": 9,
   "id": "a3cef92b-3c57-4c21-9e3c-0096caff439b",
   "metadata": {},
   "outputs": [
    {
     "ename": "NameError",
     "evalue": "name 'count' is not defined",
     "output_type": "error",
     "traceback": [
      "\u001b[1;31m---------------------------------------------------------------------------\u001b[0m",
      "\u001b[1;31mNameError\u001b[0m                                 Traceback (most recent call last)",
      "\u001b[1;32m<ipython-input-9-02606584fc46>\u001b[0m in \u001b[0;36m<module>\u001b[1;34m\u001b[0m\n\u001b[0;32m     22\u001b[0m             \u001b[0mAi_temp\u001b[0m\u001b[1;33m[\u001b[0m\u001b[0mj\u001b[0m\u001b[1;33m,\u001b[0m \u001b[0mi\u001b[0m\u001b[1;33m]\u001b[0m \u001b[1;33m=\u001b[0m \u001b[1;36m1\u001b[0m\u001b[1;33m\u001b[0m\u001b[1;33m\u001b[0m\u001b[0m\n\u001b[0;32m     23\u001b[0m             \u001b[0mAi2\u001b[0m \u001b[1;33m=\u001b[0m \u001b[0mnp\u001b[0m\u001b[1;33m.\u001b[0m\u001b[0mappend\u001b[0m\u001b[1;33m(\u001b[0m\u001b[0mAi2\u001b[0m\u001b[1;33m,\u001b[0m \u001b[0mnp\u001b[0m\u001b[1;33m.\u001b[0m\u001b[0mexpand_dims\u001b[0m\u001b[1;33m(\u001b[0m\u001b[0mAi_temp\u001b[0m\u001b[1;33m,\u001b[0m \u001b[0maxis\u001b[0m\u001b[1;33m=\u001b[0m\u001b[1;36m0\u001b[0m\u001b[1;33m)\u001b[0m\u001b[1;33m,\u001b[0m \u001b[0maxis\u001b[0m\u001b[1;33m=\u001b[0m\u001b[1;36m0\u001b[0m\u001b[1;33m)\u001b[0m\u001b[1;33m\u001b[0m\u001b[1;33m\u001b[0m\u001b[0m\n\u001b[1;32m---> 24\u001b[1;33m             \u001b[0mcount\u001b[0m\u001b[1;33m+=\u001b[0m\u001b[1;36m1\u001b[0m\u001b[1;33m\u001b[0m\u001b[1;33m\u001b[0m\u001b[0m\n\u001b[0m\u001b[0;32m     25\u001b[0m \u001b[1;33m\u001b[0m\u001b[0m\n\u001b[0;32m     26\u001b[0m \u001b[1;31m# print(len(alphai2))\u001b[0m\u001b[1;33m\u001b[0m\u001b[1;33m\u001b[0m\u001b[1;33m\u001b[0m\u001b[0m\n",
      "\u001b[1;31mNameError\u001b[0m: name 'count' is not defined"
     ]
    }
   ],
   "source": [
    "nx = 8\n",
    "\n",
    "cycle = create_graph(nx, type='cycle')\n",
    "path = create_graph(nx, type='path')\n",
    "\n",
    "A = 0.8*cycle['A']\n",
    "\n",
    "B = actuator_random_selection(nx, int(nx/2))['B']\n",
    "\n",
    "alphai1 = [0.1]\n",
    "Ai1 = path['Adj']\n",
    "\n",
    "alphai2 = []\n",
    "# Ai2 = np.zeros((int(np.count_nonzero(Ai1)/2), nx, nx))\n",
    "Ai2 = np.empty((1, nx, nx))\n",
    "for i in range(0, nx):\n",
    "    for j in range(i, nx):\n",
    "        if Ai1[i,j] > 0:\n",
    "            alphai2.append(0.1)\n",
    "            Ai_temp = np.zeros_like(Ai1)\n",
    "            Ai_temp[i, j] = 1\n",
    "            Ai_temp[j, i] = 1\n",
    "            Ai2 = np.append(Ai2, np.expand_dims(Ai_temp, axis=0), axis=0)\n",
    "            count+=1\n",
    "\n",
    "# print(len(alphai2))\n",
    "# print(np.shape(Ai2))\n",
    "Ai2 = np.delete(Ai2, (nx, nx), axis=0)\n",
    "# print(np.shape(Ai2))\n",
    "\n",
    "\n",
    "X0 = 5*np.identity(nx)\n",
    "X0_vec = np.random.default_rng().multivariate_normal(mean=np.zeros(np.shape(A)[0]), cov=X0)\n",
    "\n",
    "\n",
    "S = system_package(A_in=A, B_in=B, alphai_in=alphai1, Ai_in=Ai1, X0_in=X0_vec, label_in='System Model 9A')\n",
    "sys_to_file(S)\n",
    "\n",
    "S = system_package(A_in=A, B_in=B, alphai_in=alphai2, Ai_in=Ai2, X0_in=X0_vec, label_in='System Model 9B')\n",
    "sys_to_file(S)"
   ]
  },
  {
   "cell_type": "markdown",
   "id": "7ada0a90-ce42-4d6d-91de-413ad06c97fa",
   "metadata": {
    "tags": []
   },
   "source": [
    "***\n",
    "## Comparison Model 1\n",
    "- True System\n",
    "    - Cycle graph: $|\\lambda_{\\max}(A)|=0.99$\n",
    "    - No actuators\n",
    "    - No MPL noise\n",
    "    - Initial states - vector of ones\n",
    "- Nominal System\n",
    "    - Path graph\n",
    "    - No actuators\n",
    "    - No MPL noise\n",
    "    - Initial states - vector of ones\n",
    "- MPL System\n",
    "    - Path graph\n",
    "    - No actuators\n",
    "    - State-MPL noise - cycle\n",
    "    - Initial states - vector of ones\n",
    "\n",
    "[Model List](#Model-list)"
   ]
  },
  {
   "cell_type": "code",
   "execution_count": null,
   "id": "6700c851-f6e3-4d4a-b1cf-b1f6db17f9ce",
   "metadata": {},
   "outputs": [],
   "source": [
    "nx = 8\n",
    "\n",
    "cycle = create_graph(nx, type='cycle')\n",
    "path = create_graph(nx, type='path')\n",
    "\n",
    "alphai = [0.1]\n",
    "\n",
    "X0 = 5*np.identity(nx)\n",
    "\n",
    "\n",
    "S = system_package(A_in=path['A'], alphai_in=alphai, Ai_in=cycle['Adj'], X0_in=X0, label_in='MPL System Test1')\n",
    "sys_to_file(S)\n",
    "\n",
    "S = system_package(A_in=path['A'], X0_in=X0, label_in='Nominal System Test1')\n",
    "sys_to_file(S)\n",
    "\n",
    "S = system_package(A_in=0.99*cycle['A'], X0_in=X0, label_in='True System Test1')\n",
    "sys_to_file(S)"
   ]
  },
  {
   "cell_type": "markdown",
   "id": "62f5d61f-03a6-4bd2-8261-7bef462e908d",
   "metadata": {
    "tags": []
   },
   "source": [
    "***\n",
    "## Comparison Model 2\n",
    "- True System\n",
    "    - ER (1)\n",
    "    - No actuators\n",
    "    - State-MPL noise with ER (1)\n",
    "    - Initial state covariance - 10*identity\n",
    "- Nominal System\n",
    "    - Cycle graph\n",
    "    - No actuators\n",
    "    - No MPL noise\n",
    "    - Initial state covariance - 10*identity\n",
    "- MPL System\n",
    "    - Cycle graph\n",
    "    - No actuators\n",
    "    - State-MPL noise with ER (2)\n",
    "    - Initial state covariance - 10*identity\n",
    "\n",
    "[Model List](#Model-list)"
   ]
  },
  {
   "cell_type": "code",
   "execution_count": null,
   "id": "c2a43ad2-6b2c-4aa0-b5ea-0bba4eacdd25",
   "metadata": {},
   "outputs": [],
   "source": [
    "nx = 8\n",
    "\n",
    "cycle = create_graph(nx, type='cycle')\n",
    "path = create_graph(nx, type='path')\n",
    "ER1 = create_graph(nx, type='ER', p=0.5)\n",
    "ER2 = create_graph(nx, type='ER', p=0.5)\n",
    "\n",
    "alphai = [0.1]\n",
    "X0 = 10*np.ones(nx)\n",
    "\n",
    "S = system_package(A_in=cycle['A'], alphai_in=alphai, Ai_in=ER2['A'], X0_in=X0, label_in='MPL System Test2')\n",
    "sys_to_file(S)\n",
    "\n",
    "S = system_package(A_in=cycle['A'], X0_in=X0, label_in='Nominal System Test2')\n",
    "sys_to_file(S)\n",
    "\n",
    "S = system_package(A_in=ER1['A'], alphai_in=alphai, Ai_in=ER1['A'], X0_in=X0, label_in='True System Test2')\n",
    "sys_to_file(S)"
   ]
  },
  {
   "cell_type": "markdown",
   "id": "83ca7c1f-8ab4-4871-9fa5-4953f6c229b4",
   "metadata": {
    "tags": []
   },
   "source": [
    "##### Run Complete"
   ]
  },
  {
   "cell_type": "code",
   "execution_count": null,
   "id": "1186c871-2f8f-4767-9edc-69abec75719c",
   "metadata": {},
   "outputs": [],
   "source": [
    "print('Model Save - Completed')"
   ]
  }
 ],
 "metadata": {
  "kernelspec": {
   "display_name": "Python 3",
   "language": "python",
   "name": "python3"
  },
  "language_info": {
   "codemirror_mode": {
    "name": "ipython",
    "version": 3
   },
   "file_extension": ".py",
   "mimetype": "text/x-python",
   "name": "python",
   "nbconvert_exporter": "python",
   "pygments_lexer": "ipython3",
   "version": "3.9.6"
  }
 },
 "nbformat": 4,
 "nbformat_minor": 5
}
