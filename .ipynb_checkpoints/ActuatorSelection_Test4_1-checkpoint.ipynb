{
 "cells": [
  {
   "cell_type": "markdown",
   "id": "d79564f8-88c6-457b-9b8d-ffd3d7da9951",
   "metadata": {},
   "source": [
    "# Benefits of MPL Modeling for Actuator Selection - Random Graph (Erdos-Renyi) analysis\n",
    "\n",
    "Statistics on the benefits of multiplicative noise modelling for actuator selection over N realizations of Erdos-Renyi random graphs"
   ]
  },
  {
   "cell_type": "markdown",
   "id": "589bddc2-af1a-4461-a8f5-d2b2d110b43f",
   "metadata": {
    "tags": []
   },
   "source": [
    "##### Py Packages"
   ]
  },
  {
   "cell_type": "code",
   "execution_count": 1,
   "id": "671509d8-0cdb-4e16-952e-ad6fa8b88ff7",
   "metadata": {
    "tags": []
   },
   "outputs": [],
   "source": [
    "import numpy as np\n",
    "from copy import deepcopy as dc\n",
    "import matplotlib.pyplot as plt\n",
    "from matplotlib.gridspec import GridSpec\n",
    "# %matplotlib widget\n",
    "\n",
    "from functionfile_system_definition import create_graph, system_package, system_check\n",
    "from functionfile_system_mplcost import random_graph_emperical_simulation, plot_random_graph_simulation"
   ]
  },
  {
   "cell_type": "markdown",
   "id": "a5f1edf0-3933-4183-a1b9-b3ec8af4eca1",
   "metadata": {},
   "source": [
    "### Test Parameters"
   ]
  },
  {
   "cell_type": "code",
   "execution_count": 2,
   "id": "ed9c0ecb-b5df-47e7-9d5a-f783aa2476e5",
   "metadata": {},
   "outputs": [],
   "source": [
    "# Number of test iterations\n",
    "N_test = 10\n",
    "\n",
    "# Edge probability\n",
    "edge_probability = 0.3\n",
    "\n",
    "# Network parameters\n",
    "nx = 20           # Number of nodes\n",
    "rho = 0.95        # Open-loop stability (unsigned magnitude of largest eigenvalue of dynamics matrix)\n",
    "alphai = [0.3]    # Covariance on state-dependent multiplicative noise\n",
    "\n",
    "# Initial state - realization of distribution given mean and covariance \n",
    "X0_cov = 10*np.identity(nx)\n",
    "X0_mean = np.zeros(nx)\n",
    "X0 = np.random.default_rng().multivariate_normal(mean=X0_mean, cov=X0_cov)\n",
    "\n",
    "S_base_model = system_package(A_in=rho*create_graph(nx)['A'], alphai_in=alphai, Ai_in=create_graph(nx)['A'], X0_in=X0, label_in='System Model', print_check=False)\n"
   ]
  },
  {
   "cell_type": "code",
   "execution_count": null,
   "id": "046d8fcc-1098-4d24-b0cd-2af3e708fc30",
   "metadata": {},
   "outputs": [],
   "source": [
    "simulation_values = random_graph_emperical_simulation(S_base_model, edge_probability, N_test)"
   ]
  },
  {
   "cell_type": "code",
   "execution_count": null,
   "id": "8ff30fca-0664-4ae2-a3f8-8a2de380f45e",
   "metadata": {},
   "outputs": [],
   "source": [
    "plot_random_graph_simulation(simulation_values)"
   ]
  },
  {
   "cell_type": "code",
   "execution_count": 3,
   "id": "567f73b5-854f-438b-baa1-b52138f8c1ea",
   "metadata": {},
   "outputs": [],
   "source": [
    "# cost_record_nom = np.nan*np.zeros((nx, N_test))\n",
    "# cost_record_mpl = np.nan*np.zeros((nx, N_test))\n",
    "\n",
    "# for iter in range(0, N_test):\n",
    "    \n",
    "#     print(\"Realization: %s / %s\" %(iter+1, N_test))\n",
    "\n",
    "#     ER1 = create_graph(nx, type='ER', p=edge_probability)\n",
    "#     ER2 = create_graph(nx, type='ER', p=edge_probability)\n",
    "#     ER3 = create_graph(nx, type='ER', p=edge_probability)\n",
    "\n",
    "#     S_MPL = system_package(A_in=rho*ER1['A'], alphai_in=alphai, Ai_in=ER2['A'], X0_in=X0, label_in='System MPL', print_check=False)\n",
    "#     if not system_check(S_MPL)['check']:\n",
    "#         print('MPL System Error')\n",
    "\n",
    "#     S_Nom = system_package(A_in=rho*ER1['A'], X0_in=X0, label_in='System Nominal', print_check=False)\n",
    "#     if not system_check(S_Nom)['check']:\n",
    "#         print('Nominal System Error')\n",
    "\n",
    "#     S_True = system_package(A_in=rho*ER3['A'], X0_in=X0, label_in='System True', print_check=False)\n",
    "#     if not system_check(S_True)['check']:\n",
    "#         print('True System Error')\n",
    "    \n",
    "#     ret_sim = simulation_nom_vs_mpl(S_Nom, S_MPL, S_True)\n",
    "    \n",
    "#     # print(ret_sim)\n",
    "    \n",
    "#     for i in ret_sim['T_Nom']['costs']:\n",
    "#         cost_record_nom[int(i)-1, iter] = ret_sim['T_Nom']['costs'][i][-1]\n",
    "#     for i in ret_sim['T_MPL']['costs']:\n",
    "#         cost_record_mpl[int(i)-1, iter] = ret_sim['T_MPL']['costs'][i][-1]\n",
    "\n",
    "\n",
    "# # print(cost_record_nom)\n",
    "# # print(cost_record_mpl)\n",
    "\n",
    "# fig1 = plt.figure(constrained_layout=True)\n",
    "# gs1 = GridSpec(2, 1, figure=fig1)\n",
    "\n",
    "# ax1 = fig1.add_subplot(gs1[0, 0])\n",
    "# ax1.violinplot(cost_record_nom.T, showmeans=True)\n",
    "\n",
    "# ax2 = fig1.add_subplot(gs1[1, 0])\n",
    "# ax2.violinplot(cost_record_mpl.T, showmeans=True)\n",
    "\n",
    "# plt.show()\n",
    "\n",
    "# fig1 = plt.figure(constrained_layout=True)\n",
    "# gs1 = GridSpec(1, 1, figure=fig1)\n",
    "\n",
    "# ax1 = fig1.add_subplot(gs1[0, 0])\n",
    "# ax1.violinplot(cost_record_nom.T, showmeans=True)\n",
    "# ax1.violinplot(cost_record_mpl.T, showmeans=True)\n",
    "\n",
    "# plt.show()"
   ]
  },
  {
   "cell_type": "code",
   "execution_count": null,
   "id": "58d7b28a-4492-45aa-8d8f-c43881d56452",
   "metadata": {},
   "outputs": [],
   "source": []
  },
  {
   "cell_type": "code",
   "execution_count": null,
   "id": "5813c103-90b0-4c19-93e5-08d7ba0fa8e4",
   "metadata": {},
   "outputs": [],
   "source": []
  }
 ],
 "metadata": {
  "kernelspec": {
   "display_name": "Python 3 (ipykernel)",
   "language": "python",
   "name": "python3"
  },
  "language_info": {
   "codemirror_mode": {
    "name": "ipython",
    "version": 3
   },
   "file_extension": ".py",
   "mimetype": "text/x-python",
   "name": "python",
   "nbconvert_exporter": "python",
   "pygments_lexer": "ipython3",
   "version": "3.9.6"
  }
 },
 "nbformat": 4,
 "nbformat_minor": 5
}
