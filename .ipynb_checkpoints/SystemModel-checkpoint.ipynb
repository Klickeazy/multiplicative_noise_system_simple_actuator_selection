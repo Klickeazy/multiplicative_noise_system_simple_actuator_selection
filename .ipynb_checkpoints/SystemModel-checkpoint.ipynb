{
 "cells": [
  {
   "cell_type": "markdown",
   "id": "2caa3364-182e-4cc6-835c-142126c14c93",
   "metadata": {},
   "source": [
    "# System Model Creation"
   ]
  },
  {
   "cell_type": "code",
   "execution_count": 1,
   "id": "24a4dcf2-a1d4-4aff-9cf8-72af87b541e4",
   "metadata": {},
   "outputs": [],
   "source": [
    "import numpy as np\n",
    "from copy import deepcopy as dc\n",
    "\n",
    "from functionfile_system_definition import system_package, actuator_random_selection, sys_to_file, create_graph, system_display_matrix"
   ]
  },
  {
   "cell_type": "code",
   "execution_count": 2,
   "id": "8757e02f-fb93-47b2-9d8b-2874adce72c8",
   "metadata": {},
   "outputs": [
    {
     "name": "stdout",
     "output_type": "stream",
     "text": [
      "Control noise matrix not specified - assumed 0\n",
      "No initial state specified\n",
      "No additive noise\n",
      "System saved to file @ system_model/System Model 1.pickle\n"
     ]
    }
   ],
   "source": [
    "nx = 10\n",
    "nu = 3\n",
    "\n",
    "A = create_graph(nx, type='cycle')['A']\n",
    "\n",
    "B = actuator_random_selection(10, 3)['B']\n",
    "# B = np.random.rand(10,3)\n",
    "\n",
    "alphai = [0.1]\n",
    "Ai = create_graph(nx, type='ER', p=0.4)['A']\n",
    "\n",
    "X0 = np.identity(nx)\n",
    "\n",
    "S = system_package(A_in=A, B_in=B, alphai_in=alphai, Ai_in=Ai, X0_in=X0, label_in='System Model 1')\n",
    "\n",
    "# system_display_matrix(S)\n",
    "sys_to_file(S)"
   ]
  },
  {
   "cell_type": "code",
   "execution_count": 3,
   "id": "b149f01f-cea5-42bf-b6da-929698403f51",
   "metadata": {},
   "outputs": [
    {
     "name": "stdout",
     "output_type": "stream",
     "text": [
      "Control input matrix not given - assumed no controller\n",
      "Control noise matrix not specified - assumed 0\n",
      "No initial state specified\n",
      "No additive noise\n",
      "System saved to file @ system_model/System Model 2.pickle\n"
     ]
    }
   ],
   "source": [
    "nx = 10\n",
    "\n",
    "A = 0.8*create_graph(nx, type='path')['A']\n",
    "\n",
    "# B = actuator_random_selection(10, 3)['B']\n",
    "# B = np.random.rand(10,3)\n",
    "\n",
    "alphai = [0.1]\n",
    "Ai = create_graph(nx, type='ER', p=0.4)['A']\n",
    "\n",
    "S = system_package(A_in=A, alphai_in=alphai, Ai_in=Ai, X0_in=X0, label_in='System Model 2')\n",
    "\n",
    "# system_display_matrix(S)\n",
    "sys_to_file(S)"
   ]
  },
  {
   "cell_type": "code",
   "execution_count": 4,
   "id": "f680368e-f47e-47d7-9246-00869fcba203",
   "metadata": {},
   "outputs": [
    {
     "name": "stdout",
     "output_type": "stream",
     "text": [
      "Control input matrix not given - assumed no controller\n",
      "Control noise matrix not specified - assumed 0\n",
      "No initial state specified\n",
      "No additive noise\n",
      "System saved to file @ system_model/System Model 3.pickle\n"
     ]
    }
   ],
   "source": [
    "nx = 10\n",
    "\n",
    "A = 1*create_graph(nx, type='path')['A']\n",
    "\n",
    "# B = actuator_random_selection(10, 3)['B']\n",
    "# B = np.random.rand(10,3)\n",
    "\n",
    "alphai = [0.1]\n",
    "Ai = create_graph(nx, type='ER', p=0.4)['A']\n",
    "\n",
    "S = system_package(A_in=A, alphai_in=alphai, Ai_in=Ai, X0_in=X0, label_in='System Model 3')\n",
    "\n",
    "# system_display_matrix(S)\n",
    "sys_to_file(S)"
   ]
  }
 ],
 "metadata": {
  "kernelspec": {
   "display_name": "Python 3",
   "language": "python",
   "name": "python3"
  },
  "language_info": {
   "codemirror_mode": {
    "name": "ipython",
    "version": 3
   },
   "file_extension": ".py",
   "mimetype": "text/x-python",
   "name": "python",
   "nbconvert_exporter": "python",
   "pygments_lexer": "ipython3",
   "version": "3.9.6"
  }
 },
 "nbformat": 4,
 "nbformat_minor": 5
}
