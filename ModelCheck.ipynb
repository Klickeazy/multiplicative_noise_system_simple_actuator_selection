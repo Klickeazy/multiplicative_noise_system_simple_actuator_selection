{
 "cells": [
  {
   "cell_type": "markdown",
   "id": "35eb8c86-b2d9-48bc-97b3-71a2682928ca",
   "metadata": {},
   "source": [
    "# System Checker Test"
   ]
  },
  {
   "cell_type": "markdown",
   "id": "6a554f15-fced-4fa1-a29a-cb58324e835e",
   "metadata": {},
   "source": [
    "###### Py Packages"
   ]
  },
  {
   "cell_type": "code",
   "execution_count": 1,
   "id": "74378765-9b88-4405-8f2a-f0656e481588",
   "metadata": {},
   "outputs": [],
   "source": [
    "import numpy as np\n",
    "from copy import deepcopy as dc\n",
    "\n",
    "from functionfile_system_definition import sys_to_file, sys_from_file, system_display_matrix, system_check"
   ]
  },
  {
   "cell_type": "code",
   "execution_count": 2,
   "id": "1158748d-da02-4a2b-a656-5ab6635d0735",
   "metadata": {},
   "outputs": [
    {
     "name": "stdout",
     "output_type": "stream",
     "text": [
      "System read from file @ system_model/System Model 1.pickle \n",
      "\n",
      "System check - OKAY\n"
     ]
    },
    {
     "data": {
      "text/plain": [
       "{'check': 1}"
      ]
     },
     "execution_count": 2,
     "metadata": {},
     "output_type": "execute_result"
    }
   ],
   "source": [
    "sys_model = 'System Model 1'\n",
    "S = sys_from_file(sys_model)\n",
    "system_check(S, print_message=True)"
   ]
  },
  {
   "cell_type": "code",
   "execution_count": 3,
   "id": "0ec82185-c805-4183-8392-43f9d423e39f",
   "metadata": {},
   "outputs": [],
   "source": [
    "# a = np.ones(5)\n",
    "# print(a)\n",
    "# print(np.shape(a))\n",
    "# if np.shape(a) == (5,):\n",
    "#     print(1)\n",
    "# else:\n",
    "#     print(2)"
   ]
  },
  {
   "cell_type": "code",
   "execution_count": null,
   "id": "272f7a24-b186-4f38-826e-dea2fc80be03",
   "metadata": {},
   "outputs": [],
   "source": []
  }
 ],
 "metadata": {
  "kernelspec": {
   "display_name": "Python 3 (ipykernel)",
   "language": "python",
   "name": "python3"
  },
  "language_info": {
   "codemirror_mode": {
    "name": "ipython",
    "version": 3
   },
   "file_extension": ".py",
   "mimetype": "text/x-python",
   "name": "python",
   "nbconvert_exporter": "python",
   "pygments_lexer": "ipython3",
   "version": "3.9.6"
  }
 },
 "nbformat": 4,
 "nbformat_minor": 5
}
