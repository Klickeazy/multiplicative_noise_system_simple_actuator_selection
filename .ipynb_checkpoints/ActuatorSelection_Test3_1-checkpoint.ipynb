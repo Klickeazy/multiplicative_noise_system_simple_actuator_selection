{
 "cells": [
  {
   "cell_type": "markdown",
   "id": "d15c0028-0931-4a86-98dc-fa140cd2f192",
   "metadata": {},
   "source": [
    "# Benefit of MPL System Modelling\n",
    "True, Nominal, MPL model testing - comparison of actuator sets"
   ]
  },
  {
   "cell_type": "markdown",
   "id": "1d8fa32e-f769-4877-8c78-a500b0824240",
   "metadata": {
    "tags": []
   },
   "source": [
    "##### Py Packages"
   ]
  },
  {
   "cell_type": "code",
   "execution_count": 1,
   "id": "3f7cda21-fb90-4786-a674-eb1f07ad7870",
   "metadata": {},
   "outputs": [],
   "source": [
    "import numpy as np\n",
    "from copy import deepcopy as dc\n",
    "%matplotlib widget\n",
    "\n",
    "from functionfile_system_definition import sys_from_file, system_display_matrix\n",
    "from functionfile_system_mplcost import cost_function_1, initial_values_init, actuator_selection_cost_1, plot_actuator_selection_2, simulation_actuator_selection, plot_simulation"
   ]
  },
  {
   "cell_type": "markdown",
   "id": "12c8fd3e-bcea-4fdc-ae00-4fee714c2f21",
   "metadata": {
    "tags": []
   },
   "source": [
    "## Code"
   ]
  },
  {
   "cell_type": "code",
   "execution_count": 2,
   "id": "ef074208-1882-4702-b019-2c94f78c5899",
   "metadata": {},
   "outputs": [
    {
     "name": "stdout",
     "output_type": "stream",
     "text": [
      "System read from file @ system_model/System Model 1 C.pickle \n",
      "\n"
     ]
    }
   ],
   "source": [
    "test_set = 'System Model 1'\n",
    "S_True = sys_from_file(test_set + ' C')\n",
    "# system_display_matrix(S_True)\n",
    "initial_values = initial_values_init(S_True)"
   ]
  },
  {
   "cell_type": "markdown",
   "id": "36b2a981-c3e0-4486-b121-7969926cef74",
   "metadata": {
    "tags": []
   },
   "source": [
    "## Control of True System based on Nominal System model"
   ]
  },
  {
   "cell_type": "markdown",
   "id": "a01a6935-6fbc-443c-80df-a942fad1b153",
   "metadata": {
    "tags": []
   },
   "source": [
    "##### Run Code"
   ]
  },
  {
   "cell_type": "code",
   "execution_count": 3,
   "id": "7b381b1e-dcad-4966-a999-c03c5d8b8477",
   "metadata": {},
   "outputs": [
    {
     "name": "stdout",
     "output_type": "stream",
     "text": [
      "System read from file @ system_model/System Model 1 A.pickle \n",
      "\n"
     ]
    }
   ],
   "source": [
    "S_Nominal = sys_from_file(test_set + ' A')"
   ]
  },
  {
   "cell_type": "code",
   "execution_count": 4,
   "id": "5f29eaa8-2482-473d-8281-10cca0bb5109",
   "metadata": {},
   "outputs": [],
   "source": [
    "ret1_nom = actuator_selection_cost_1(S_Nominal, initial_values=initial_values)\n",
    "S_Nominal = dc(ret1_nom['system'])\n",
    "S_True1 = dc(S_True)\n",
    "S_True1['B'] = dc(S_Nominal['B'])\n",
    "ret2_nom = simulation_actuator_selection(S_Nominal, S_True1, initial_values=initial_values)"
   ]
  },
  {
   "cell_type": "markdown",
   "id": "f8d14756-93a8-47bd-ac7c-018ce41fc04b",
   "metadata": {},
   "source": [
    "##### Display Output"
   ]
  },
  {
   "cell_type": "code",
   "execution_count": 5,
   "id": "6ccf2a8b-1423-4b67-b062-e98bbd7b761e",
   "metadata": {},
   "outputs": [
    {
     "data": {
      "application/vnd.jupyter.widget-view+json": {
       "model_id": "83b296be0f734f0cb1cb426abc4bc2f6",
       "version_major": 2,
       "version_minor": 0
      },
      "text/plain": [
       "Canvas(toolbar=Toolbar(toolitems=[('Home', 'Reset original view', 'home', 'home'), ('Back', 'Back to previous …"
      ]
     },
     "metadata": {},
     "output_type": "display_data"
    }
   ],
   "source": [
    "plot_simulation(display_data=ret2_nom, fname='Nominal feedback on True System')"
   ]
  },
  {
   "cell_type": "markdown",
   "id": "d32b38d2-d97f-43ed-8237-1f18e4ee956b",
   "metadata": {
    "tags": []
   },
   "source": [
    "## Control of True System based on MPL System model"
   ]
  },
  {
   "cell_type": "markdown",
   "id": "2f95e649-c6c8-4810-8a78-8815b3a6dc4c",
   "metadata": {
    "tags": []
   },
   "source": [
    "##### Run Code"
   ]
  },
  {
   "cell_type": "code",
   "execution_count": 6,
   "id": "ce0af870-8e81-4801-baa3-b8251d28174c",
   "metadata": {},
   "outputs": [
    {
     "name": "stdout",
     "output_type": "stream",
     "text": [
      "System read from file @ system_model/System Model 1 B.pickle \n",
      "\n"
     ]
    }
   ],
   "source": [
    "S_MPL = sys_from_file(test_set + ' B')"
   ]
  },
  {
   "cell_type": "code",
   "execution_count": 7,
   "id": "1ce917eb-7618-48e6-891b-4725bcb2b0ea",
   "metadata": {},
   "outputs": [],
   "source": [
    "ret1_MPL = actuator_selection_cost_1(S_MPL, initial_values=initial_values)\n",
    "S_MPL = dc(ret1_MPL['system'])\n",
    "S_True2 = dc(S_True)\n",
    "S_True2['B'] = dc(S_MPL['B'])\n",
    "ret2_MPL = simulation_actuator_selection(S_MPL, S_True2, initial_values=initial_values)"
   ]
  },
  {
   "cell_type": "markdown",
   "id": "3c32c28d-acf4-4aef-9703-9b67db03c903",
   "metadata": {
    "tags": []
   },
   "source": [
    "##### Display Output"
   ]
  },
  {
   "cell_type": "code",
   "execution_count": 8,
   "id": "41214423-9f97-4967-8f50-cf9b0cfb78a7",
   "metadata": {
    "tags": []
   },
   "outputs": [
    {
     "data": {
      "application/vnd.jupyter.widget-view+json": {
       "model_id": "836ac8f707274d43968935cb58b1b291",
       "version_major": 2,
       "version_minor": 0
      },
      "text/plain": [
       "Canvas(toolbar=Toolbar(toolitems=[('Home', 'Reset original view', 'home', 'home'), ('Back', 'Back to previous …"
      ]
     },
     "metadata": {},
     "output_type": "display_data"
    }
   ],
   "source": [
    "plot_simulation(display_data=ret2_MPL, fname='MPL feedback on True System')"
   ]
  },
  {
   "cell_type": "markdown",
   "id": "3380b133-e950-4633-9bf1-04243fd0d096",
   "metadata": {},
   "source": [
    "## Comparisons"
   ]
  },
  {
   "cell_type": "code",
   "execution_count": 9,
   "id": "632cd3b1-3a62-4297-8fab-3af08c309e1a",
   "metadata": {
    "tags": []
   },
   "outputs": [
    {
     "name": "stdout",
     "output_type": "stream",
     "text": [
      "Control sets are different\n",
      "Nominal B:\n",
      " [[0. 0. 0. 0. 0. 0. 0. 0. 1. 0.]\n",
      " [0. 0. 0. 0. 1. 0. 0. 0. 0. 0.]\n",
      " [0. 0. 1. 0. 0. 0. 0. 0. 0. 0.]\n",
      " [0. 0. 0. 0. 0. 0. 0. 1. 0. 0.]\n",
      " [1. 0. 0. 0. 0. 0. 0. 0. 0. 0.]\n",
      " [0. 0. 0. 0. 0. 0. 1. 0. 0. 0.]\n",
      " [0. 0. 0. 1. 0. 0. 0. 0. 0. 0.]\n",
      " [0. 1. 0. 0. 0. 0. 0. 0. 0. 0.]\n",
      " [0. 0. 0. 0. 0. 1. 0. 0. 0. 0.]\n",
      " [0. 0. 0. 0. 0. 0. 0. 0. 0. 1.]]\n",
      "MPL B:\n",
      " [[0. 0. 0. 0. 0. 0. 1. 0. 0. 0.]\n",
      " [0. 0. 1. 0. 0. 0. 0. 0. 0. 0.]\n",
      " [0. 0. 0. 0. 0. 1. 0. 0. 0. 0.]\n",
      " [0. 0. 0. 0. 0. 0. 0. 0. 1. 0.]\n",
      " [1. 0. 0. 0. 0. 0. 0. 0. 0. 0.]\n",
      " [0. 0. 0. 0. 1. 0. 0. 0. 0. 0.]\n",
      " [0. 0. 0. 0. 0. 0. 0. 1. 0. 0.]\n",
      " [0. 1. 0. 0. 0. 0. 0. 0. 0. 0.]\n",
      " [0. 0. 0. 0. 0. 0. 0. 0. 0. 1.]\n",
      " [0. 0. 0. 1. 0. 0. 0. 0. 0. 0.]]\n",
      "\n",
      "\n",
      "Cost change with |S|:\n",
      "\n",
      "|S|: 1  => Nom: 26291.62242943204  | MPL: 26277.509576623488  | Nom-MPL: 14.112852808550088\n",
      "|S|: 2  => Nom: 19728.395106475327  | MPL: 19678.861831358034  | Nom-MPL: 49.53327511729367\n",
      "|S|: 3  => Nom: 15758.239948443026  | MPL: 14833.128300969829  | Nom-MPL: 925.1116474731971\n",
      "|S|: 4  => Nom: 15037.781788073695  | MPL: 13434.096836314071  | Nom-MPL: 1603.6849517596238\n",
      "|S|: 5  => Nom: 13415.911551800564  | MPL: 12664.675256960852  | Nom-MPL: 751.2362948397113\n",
      "|S|: 6  => Nom: 12206.034460294995  | MPL: 11895.966295995111  | Nom-MPL: 310.0681642998843\n",
      "|S|: 7  => Nom: 11791.658714527373  | MPL: 11431.45612083109  | Nom-MPL: 360.20259369628366\n",
      "|S|: 8  => Nom: 11410.699007800713  | MPL: 11018.894649090655  | Nom-MPL: 391.8043587100583\n",
      "|S|: 9  => Nom: 10753.798575859497  | MPL: 10624.28510726364  | Nom-MPL: 129.51346859585647\n",
      "|S|: 10  => Nom: 10298.403909709761  | MPL: 10220.300842380952  | Nom-MPL: 78.10306732880963\n"
     ]
    }
   ],
   "source": [
    "if np.allclose(S_Nominal['B'], S_MPL['B']):\n",
    "    print('Both control sets are close/equal')\n",
    "else:\n",
    "    print('Control sets are different')\n",
    "\n",
    "print('Nominal B:\\n', S_Nominal['B'])\n",
    "print('MPL B:\\n', S_MPL['B'])\n",
    "    \n",
    "print('\\n')\n",
    "\n",
    "print('Cost change with |S|:\\n')\n",
    "for i in ret2_nom['costs']:\n",
    "    print('|S|:',i, ' => Nom:', ret2_nom['costs'][i][-1], ' | MPL:', ret2_MPL['costs'][i][-1], ' | Nom-MPL:', ret2_nom['costs'][i][-1]-ret2_MPL['costs'][i][-1])"
   ]
  },
  {
   "cell_type": "markdown",
   "id": "88154d5f-5b98-48d1-a62d-8de6acde9757",
   "metadata": {
    "tags": []
   },
   "source": [
    "## Self-Control Tests"
   ]
  },
  {
   "cell_type": "markdown",
   "id": "c908b000-e301-4b6f-b9f0-fc87d0ad1050",
   "metadata": {
    "tags": []
   },
   "source": [
    "### Testing Nominal control on itself"
   ]
  },
  {
   "cell_type": "markdown",
   "id": "798c8092-607e-49b4-95e0-aa7414ccd9d0",
   "metadata": {
    "tags": []
   },
   "source": [
    "##### Run Code"
   ]
  },
  {
   "cell_type": "code",
   "execution_count": 10,
   "id": "dd0b4eb1-a6c5-4721-bc5c-52bd4ea6f6e4",
   "metadata": {},
   "outputs": [],
   "source": [
    "ret3_nom = simulation_actuator_selection(S_Nominal, S_Nominal)"
   ]
  },
  {
   "cell_type": "markdown",
   "id": "9a2ac2ba-e9da-4652-87f8-492184edf699",
   "metadata": {},
   "source": [
    "##### Display Output"
   ]
  },
  {
   "cell_type": "code",
   "execution_count": 11,
   "id": "c717f2b2-48a8-4bf4-a88a-b61af3dfe043",
   "metadata": {},
   "outputs": [],
   "source": [
    "# plot_actuator_selection_1(S_Nominal['B'], ret1_nom['cost_trend'], ret1_nom['time_trend'], ret1_nom['check_trend'], fname='Nominal Actuator Selection')"
   ]
  },
  {
   "cell_type": "code",
   "execution_count": 12,
   "id": "0dc23aa7-b3b1-47ce-92d6-2c2b9b6fd4e3",
   "metadata": {},
   "outputs": [
    {
     "data": {
      "application/vnd.jupyter.widget-view+json": {
       "model_id": "98414b91cb4b4dcbb5c1a6807c6bd852",
       "version_major": 2,
       "version_minor": 0
      },
      "text/plain": [
       "Canvas(toolbar=Toolbar(toolitems=[('Home', 'Reset original view', 'home', 'home'), ('Back', 'Back to previous …"
      ]
     },
     "metadata": {},
     "output_type": "display_data"
    },
    {
     "name": "stdout",
     "output_type": "stream",
     "text": [
      "|S|: 1  =>  20360.94949012015\n",
      "|S|: 2  =>  16110.831424403208\n",
      "|S|: 3  =>  13426.746524493445\n",
      "|S|: 4  =>  12558.180303181423\n",
      "|S|: 5  =>  11887.174706387626\n",
      "|S|: 6  =>  11254.394143464173\n",
      "|S|: 7  =>  10799.398505180347\n",
      "|S|: 8  =>  10371.159908398913\n",
      "|S|: 9  =>  10210.764552001445\n",
      "|S|: 10  =>  10050.368971427117\n"
     ]
    }
   ],
   "source": [
    "plot_simulation(display_data=ret3_nom, fname='Nominal feedback on Nominal System')\n",
    "for i in ret3_nom['costs']:\n",
    "    print('|S|:',i, ' => ', ret3_nom['costs'][i][-1])"
   ]
  },
  {
   "cell_type": "markdown",
   "id": "0fdd0e2c-ea97-4c0d-bec3-b9d82ce36282",
   "metadata": {
    "tags": []
   },
   "source": [
    "### Testing MPL control on itself"
   ]
  },
  {
   "cell_type": "markdown",
   "id": "facf3752-4da7-4ecd-955d-32f78c5387de",
   "metadata": {
    "tags": []
   },
   "source": [
    "##### Run Code"
   ]
  },
  {
   "cell_type": "code",
   "execution_count": 13,
   "id": "cc7b6d69-b1bd-4f60-849d-6f9526c81ffc",
   "metadata": {},
   "outputs": [],
   "source": [
    "ret3_MPL = simulation_actuator_selection(S_MPL, S_MPL)"
   ]
  },
  {
   "cell_type": "markdown",
   "id": "47b7e7c0-1b61-4b32-861a-7ca4a534bf38",
   "metadata": {},
   "source": [
    "##### Display Output"
   ]
  },
  {
   "cell_type": "code",
   "execution_count": 14,
   "id": "6da67738-347b-4350-8dcc-77464c4fb105",
   "metadata": {},
   "outputs": [],
   "source": [
    "# plot_actuator_selection_1(S_MPL['B'], ret1_MPL['cost_trend'], ret1_MPL['time_trend'], ret1_MPL['check_trend'], fname='MPL Actuator Selection')"
   ]
  },
  {
   "cell_type": "code",
   "execution_count": 15,
   "id": "e5d1e98b-ad3d-45c6-9d34-03a344549d95",
   "metadata": {},
   "outputs": [
    {
     "data": {
      "application/vnd.jupyter.widget-view+json": {
       "model_id": "b5b3b8e5cf0f4f97a2cb34ec201318bc",
       "version_major": 2,
       "version_minor": 0
      },
      "text/plain": [
       "Canvas(toolbar=Toolbar(toolitems=[('Home', 'Reset original view', 'home', 'home'), ('Back', 'Back to previous …"
      ]
     },
     "metadata": {},
     "output_type": "display_data"
    },
    {
     "name": "stdout",
     "output_type": "stream",
     "text": [
      "|S|: 1  =>  50189.46093286503\n",
      "|S|: 2  =>  33074.88834510555\n",
      "|S|: 3  =>  19923.167843970314\n",
      "|S|: 4  =>  16469.252909526138\n",
      "|S|: 5  =>  15616.253561857624\n",
      "|S|: 6  =>  14700.432290152343\n",
      "|S|: 7  =>  13492.265790316213\n",
      "|S|: 8  =>  13041.030117661667\n",
      "|S|: 9  =>  12612.250509570169\n",
      "|S|: 10  =>  12002.277795597101\n"
     ]
    }
   ],
   "source": [
    "plot_simulation(display_data=ret3_MPL, fname='MPL feedback on MPL System')\n",
    "for i in ret3_MPL['costs']:\n",
    "    print('|S|:',i, ' => ', ret3_MPL['costs'][i][-1])"
   ]
  },
  {
   "cell_type": "markdown",
   "id": "ec44b7d7-cd02-4b04-8758-3755fc6d662f",
   "metadata": {},
   "source": [
    "## Run Complete"
   ]
  },
  {
   "cell_type": "code",
   "execution_count": 16,
   "id": "4ff170bb-a309-46f1-9317-db39840e54c6",
   "metadata": {},
   "outputs": [
    {
     "name": "stdout",
     "output_type": "stream",
     "text": [
      "Run Complete\n"
     ]
    }
   ],
   "source": [
    "print('Run Complete')"
   ]
  }
 ],
 "metadata": {
  "kernelspec": {
   "display_name": "Python 3 (ipykernel)",
   "language": "python",
   "name": "python3"
  },
  "language_info": {
   "codemirror_mode": {
    "name": "ipython",
    "version": 3
   },
   "file_extension": ".py",
   "mimetype": "text/x-python",
   "name": "python",
   "nbconvert_exporter": "python",
   "pygments_lexer": "ipython3",
   "version": "3.9.6"
  }
 },
 "nbformat": 4,
 "nbformat_minor": 5
}
