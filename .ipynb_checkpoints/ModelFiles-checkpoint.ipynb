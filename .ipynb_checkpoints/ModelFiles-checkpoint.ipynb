{
 "cells": [
  {
   "cell_type": "markdown",
   "id": "2caa3364-182e-4cc6-835c-142126c14c93",
   "metadata": {
    "tags": []
   },
   "source": [
    "# System Model Creation"
   ]
  },
  {
   "cell_type": "markdown",
   "id": "335b0ba8-b86f-4252-adb5-25e12b122a80",
   "metadata": {
    "jp-MarkdownHeadingCollapsed": true,
    "tags": []
   },
   "source": [
    "##### Py Packages"
   ]
  },
  {
   "cell_type": "code",
   "execution_count": 1,
   "id": "24a4dcf2-a1d4-4aff-9cf8-72af87b541e4",
   "metadata": {
    "tags": []
   },
   "outputs": [],
   "source": [
    "import numpy as np\n",
    "from copy import deepcopy as dc\n",
    "\n",
    "from functionfile_system_definition import system_package, actuator_random_selection, sys_to_file, create_graph, system_display_matrix, system_check, matrix_splitter\n",
    "\n",
    "error_list = []"
   ]
  },
  {
   "cell_type": "markdown",
   "id": "919de8f1-f15d-44e1-ab92-e464579ab29a",
   "metadata": {
    "tags": []
   },
   "source": [
    "## Model list"
   ]
  },
  {
   "cell_type": "markdown",
   "id": "1f329d07-e1e4-4e94-94e1-46d1d46b7e30",
   "metadata": {},
   "source": [
    "- Standalone Models\n",
    "    - [Model 1](#System-Model-1)\n",
    "    - [Model 2](#System-Model-2)\n",
    "    - [Model 3](#System-Model-3)\n",
    "- Twin comparison Models\n",
    "    - [Model 1 A/B](#System-Model-1-A/B)\n",
    "    - [Model 2 A/B](#System-Model-2-A/B)\n",
    "    - [Model 3 A/B](#System-Model-3-A/B)\n",
    "    - [Model 4 A/B](#System-Model-4-A/B)\n",
    "    - [Model 5 A/B](#System-Model-5-A/B)\n",
    "    - [Model 6 A/B](#System-Model-6-A/B)\n",
    "    - [Model 7 A/B](#System-Model-7-A/B)\n",
    "    - [Model 8 A/B](#System-Model-8-A/B)\n",
    "    - [Model 9 A/B](#System-Model-9-A/B)\n",
    "- Triplet comparison Models\n",
    "    - [Model 1 A/B/C](#System-Model-1-A/B/C)\n",
    "    - [Model 2 A/B/C](#System-Model-2-A/B/C)\n",
    "    - [Model 3 A/B/C](#System-Model-3-A/B/C)\n",
    "    - [Model 4 A/B/C](#System-Model-4-A/B/C)\n",
    "    - [Model 5 A/B/C](#System-Model-5-A/B/C)\n",
    "    - [Model 6 A/B/C](#System-Model-6-A/B/C)\n",
    "    - [Model 7 A/B/C](#System-Model-7-A/B/C)\n",
    "    - [Model 8 A/B/C](#System-Model-8-A/B/C)\n",
    "    - [Model 9 A/B/C](#System-Model-9-A/B/C)\n",
    "    - [Model 10 A/B/C](#System-Model-10-A/B/C)\n",
    "    - [Model 11 A/B/C](#System-Model-11-A/B/C)"
   ]
  },
  {
   "cell_type": "markdown",
   "id": "d4ef8f5f-4b4e-44ec-bfde-f9411537e6f5",
   "metadata": {},
   "source": [
    "***"
   ]
  },
  {
   "cell_type": "markdown",
   "id": "444318ae-e238-4d24-9af4-d5dda8c2c83b",
   "metadata": {
    "jp-MarkdownHeadingCollapsed": true,
    "tags": []
   },
   "source": [
    "## Standalone System Models"
   ]
  },
  {
   "cell_type": "markdown",
   "id": "0fe5c7f9-f8ed-458c-b99c-34b34cc432c8",
   "metadata": {
    "tags": []
   },
   "source": [
    "### System Model 1\n",
    "- Cycle graph: $|\\lambda_{\\max}(A)|=1$\n",
    "- Randomly placed actuators\n",
    "- ER state-MPL noise\n",
    "- Initial states - vector of ones\n",
    "\n",
    "[Model List](#Model-list)"
   ]
  },
  {
   "cell_type": "code",
   "execution_count": 2,
   "id": "8757e02f-fb93-47b2-9d8b-2874adce72c8",
   "metadata": {
    "jupyter": {
     "source_hidden": true
    },
    "tags": []
   },
   "outputs": [
    {
     "name": "stdout",
     "output_type": "stream",
     "text": [
      "Control noise matrix not specified - assumed 0\n",
      "Initial state vector specified\n",
      "System saved to file @ system_model/System Model 1.pickle \n",
      "\n"
     ]
    }
   ],
   "source": [
    "nx = 10\n",
    "nu = 3\n",
    "\n",
    "A = create_graph(nx, type='cycle')['A']\n",
    "\n",
    "B = actuator_random_selection(10, 3)['B']\n",
    "\n",
    "alphai = [0.1]\n",
    "Ai = create_graph(nx, type='ER', p=0.4)['A']\n",
    "\n",
    "X0 = np.ones(nx)\n",
    "\n",
    "S = system_package(A_in=A, B_in=B, alphai_in=alphai, Ai_in=Ai, X0_in=X0, label_in='System Model 1')\n",
    "\n",
    "# system_display_matrix(S)\n",
    "if system_check(S)['check']:\n",
    "    sys_to_file(S)\n",
    "else:\n",
    "    print('System Error')\n",
    "    error_list.append('System Model 1')"
   ]
  },
  {
   "cell_type": "markdown",
   "id": "740fcae4-02f3-4671-aac3-7e8d2fa4f9c2",
   "metadata": {},
   "source": [
    "***"
   ]
  },
  {
   "cell_type": "markdown",
   "id": "209c1daf-ca15-4805-b568-360792f43975",
   "metadata": {
    "tags": []
   },
   "source": [
    "### System Model 2\n",
    "- Path graph: $|\\lambda_{\\max}(A)|=0.8$\n",
    "- No actuators\n",
    "- ER state-MPL noise\n",
    "- Initial states - vector of ones\n",
    "\n",
    "[Model List](#Model-list)"
   ]
  },
  {
   "cell_type": "code",
   "execution_count": 3,
   "id": "b149f01f-cea5-42bf-b6da-929698403f51",
   "metadata": {
    "jupyter": {
     "source_hidden": true
    },
    "tags": []
   },
   "outputs": [
    {
     "name": "stdout",
     "output_type": "stream",
     "text": [
      "Control input matrix not given - assumed no controller\n",
      "Control noise matrix not specified - assumed 0\n",
      "Initial state vector specified\n",
      "System saved to file @ system_model/System Model 2.pickle \n",
      "\n"
     ]
    }
   ],
   "source": [
    "nx = 10\n",
    "\n",
    "A = 0.8*create_graph(nx, type='path')['A']\n",
    "\n",
    "# B = actuator_random_selection(10, 3)['B']\n",
    "# B = np.random.rand(10,3)\n",
    "\n",
    "alphai = [0.1]\n",
    "Ai = create_graph(nx, type='ER', p=0.4)['A']\n",
    "\n",
    "X0 = np.ones(nx)\n",
    "\n",
    "S = system_package(A_in=A, alphai_in=alphai, Ai_in=Ai, X0_in=X0, label_in='System Model 2')\n",
    "\n",
    "# system_display_matrix(S)\n",
    "if system_check(S)['check']:\n",
    "    sys_to_file(S)\n",
    "else:\n",
    "    print('System Error')\n",
    "    error_list.append('System Model 2')"
   ]
  },
  {
   "cell_type": "markdown",
   "id": "d2819019-a05c-45f1-b831-589a86336add",
   "metadata": {},
   "source": [
    "***"
   ]
  },
  {
   "cell_type": "markdown",
   "id": "9c6c76ec-691f-4c31-ad75-ed1ac5bec509",
   "metadata": {
    "tags": []
   },
   "source": [
    "### System Model 3\n",
    "- Path graph: $|\\lambda_{\\max}(A)|=1$\n",
    "- No actuators\n",
    "- ER state-MPL noise\n",
    "- Initial states - vector of ones\n",
    "<!-- - Initial state distribution - identity covariance -->\n",
    "\n",
    "[Model List](#Model-list)"
   ]
  },
  {
   "cell_type": "code",
   "execution_count": 4,
   "id": "f680368e-f47e-47d7-9246-00869fcba203",
   "metadata": {
    "jupyter": {
     "source_hidden": true
    },
    "tags": []
   },
   "outputs": [
    {
     "name": "stdout",
     "output_type": "stream",
     "text": [
      "Control input matrix not given - assumed no controller\n",
      "Control noise matrix not specified - assumed 0\n",
      "Initial state vector specified\n",
      "System saved to file @ system_model/System Model 3.pickle \n",
      "\n"
     ]
    }
   ],
   "source": [
    "nx = 6\n",
    "\n",
    "A = create_graph(nx, type='path')['A']\n",
    "\n",
    "alphai = [0.5]\n",
    "Ai = create_graph(nx, type='ER', p=0.4)['A']\n",
    "\n",
    "# X0 = np.identity(nx)\n",
    "X0 = np.ones(nx)\n",
    "\n",
    "S = system_package(A_in=A, alphai_in=alphai, Ai_in=Ai, X0_in=X0, label_in='System Model 3')\n",
    "\n",
    "# system_display_matrix(S)\n",
    "if system_check(S)['check']:\n",
    "    sys_to_file(S)\n",
    "else:\n",
    "    print('System Error')\n",
    "    error_list.append('System Model 3')"
   ]
  },
  {
   "cell_type": "markdown",
   "id": "4733cb58-9196-456b-abea-9784e8ca84c4",
   "metadata": {},
   "source": [
    "***"
   ]
  },
  {
   "cell_type": "markdown",
   "id": "0edb630a-de4c-4582-b521-62451e14511a",
   "metadata": {
    "tags": []
   },
   "source": [
    "### System Model 4\n",
    "- Path graph: $|\\lambda_{\\max}(A)|=1$\n",
    "- No actuators\n",
    "- ER state-MPL noise - with matrix splitter\n",
    "- Initial states - vector of ones\n",
    "<!-- - Initial state distribution - identity covariance -->\n",
    "\n",
    "[Model List](#Model-list)"
   ]
  },
  {
   "cell_type": "code",
   "execution_count": 5,
   "id": "65c2ee4b-c3d8-4143-8ef2-09423c066a6c",
   "metadata": {
    "jupyter": {
     "source_hidden": true
    },
    "tags": []
   },
   "outputs": [
    {
     "name": "stdout",
     "output_type": "stream",
     "text": [
      "Control input matrix not given - assumed no controller\n",
      "Control noise matrix not specified - assumed 0\n",
      "Initial state vector specified\n",
      "System saved to file @ system_model/System Model 4.pickle \n",
      "\n"
     ]
    }
   ],
   "source": [
    "nx = 6\n",
    "\n",
    "A = create_graph(nx, type='path')['A']\n",
    "\n",
    "Ai = matrix_splitter(create_graph(nx, type='ER', p=0.4)['A'])\n",
    "alphai = 0.5*np.ones(np.shape(Ai)[0])\n",
    "\n",
    "# X0 = np.identity(nx)\n",
    "X0 = np.ones(nx)\n",
    "\n",
    "S = system_package(A_in=A, alphai_in=alphai, Ai_in=Ai, X0_in=X0, label_in='System Model 4')\n",
    "\n",
    "# system_display_matrix(S)\n",
    "if system_check(S)['check']:\n",
    "    sys_to_file(S)\n",
    "else:\n",
    "    print('System Error')\n",
    "    error_list.append('System Model 4')"
   ]
  },
  {
   "cell_type": "markdown",
   "id": "fbac809f-ab87-469e-96e0-fe1c91a8be72",
   "metadata": {},
   "source": [
    "***"
   ]
  },
  {
   "cell_type": "markdown",
   "id": "9ff0f752-28f6-4cb9-8590-8734267fd328",
   "metadata": {
    "tags": []
   },
   "source": [
    "## Pair Comparison System Models\n",
    "Comparison of two model types"
   ]
  },
  {
   "cell_type": "markdown",
   "id": "ebcd141b-7bdb-4da3-accc-6a800adb0f77",
   "metadata": {
    "tags": []
   },
   "source": [
    "### System Model 1 A/B\n",
    "- Path graph: $|\\lambda_{\\max}(A)|=0.5$\n",
    "- No actuators\n",
    "- Cycle (A), Biased-Cycle (B) state-MPL noise\n",
    "- Initial state distribution - identity-scaled covariance\n",
    "\n",
    "[Model List](#Model-list)"
   ]
  },
  {
   "cell_type": "code",
   "execution_count": 6,
   "id": "3bdcb7ec-a034-4c34-865c-38ad6c38fbb8",
   "metadata": {
    "jupyter": {
     "source_hidden": true
    },
    "tags": []
   },
   "outputs": [
    {
     "name": "stdout",
     "output_type": "stream",
     "text": [
      "Control input matrix not given - assumed no controller\n",
      "Control noise matrix not specified - assumed 0\n",
      "Initial state distribution specified\n",
      "System saved to file @ system_model/System Model 1A.pickle \n",
      "\n",
      "Control input matrix not given - assumed no controller\n",
      "Control noise matrix not specified - assumed 0\n",
      "Initial state distribution specified\n",
      "System saved to file @ system_model/System Model 1B.pickle \n",
      "\n"
     ]
    }
   ],
   "source": [
    "nx = 8\n",
    "\n",
    "cycle = create_graph(nx, type='cycle')\n",
    "path = create_graph(nx, type='path')\n",
    "\n",
    "A = 0.5*path['A']\n",
    "\n",
    "alphai = [0.01]\n",
    "\n",
    "X0 = 5*np.identity(nx)\n",
    "\n",
    "\n",
    "S = system_package(A_in=A, alphai_in=alphai, Ai_in=cycle['Adj'], X0_in=X0, label_in='System Model 1A')\n",
    "if system_check(S)['check']:\n",
    "    sys_to_file(S)\n",
    "else:\n",
    "    print('System Error')\n",
    "    error_list.append('System Model 1A')\n",
    "\n",
    "S = system_package(A_in=A, alphai_in=alphai, Ai_in=cycle['Adj'] + np.diag(np.linspace(1, 0, num=nx)), X0_in=X0, label_in='System Model 1B')\n",
    "if system_check(S)['check']:\n",
    "    sys_to_file(S)\n",
    "else:\n",
    "    print('System Error')\n",
    "    error_list.append('System Model 1B')"
   ]
  },
  {
   "cell_type": "markdown",
   "id": "ca10afc6-ebd4-4de1-a592-fd0c57092a3e",
   "metadata": {},
   "source": [
    "***"
   ]
  },
  {
   "cell_type": "markdown",
   "id": "ddccc244-fb59-4e87-871c-a9c2682cf889",
   "metadata": {
    "tags": []
   },
   "source": [
    "### System Model 2 A/B\n",
    "- Cycle graph: $|\\lambda_{\\max}(A)|=0.99$\n",
    "- No actuators\n",
    "- Path (A), Biased-Path (B) state-MPL noise\n",
    "- Initial state distribution - identity covariance\n",
    "\n",
    "[Model List](#Model-list)"
   ]
  },
  {
   "cell_type": "code",
   "execution_count": 7,
   "id": "23f4eba6-2c72-426c-9e37-a1c845a5c69d",
   "metadata": {
    "jupyter": {
     "source_hidden": true
    },
    "tags": []
   },
   "outputs": [
    {
     "name": "stdout",
     "output_type": "stream",
     "text": [
      "Control input matrix not given - assumed no controller\n",
      "Control noise matrix not specified - assumed 0\n",
      "Initial state distribution specified\n",
      "System saved to file @ system_model/System Model 2A.pickle \n",
      "\n",
      "Control input matrix not given - assumed no controller\n",
      "Control noise matrix not specified - assumed 0\n",
      "Initial state distribution specified\n",
      "System saved to file @ system_model/System Model 2B.pickle \n",
      "\n"
     ]
    }
   ],
   "source": [
    "nx = 8\n",
    "\n",
    "cycle = create_graph(nx, type='cycle')\n",
    "path = create_graph(nx, type='path')\n",
    "\n",
    "A = 0.99*cycle['A']\n",
    "\n",
    "alphai = [0.01]\n",
    "\n",
    "X0 = 5*np.identity(nx)\n",
    "\n",
    "\n",
    "S = system_package(A_in=A, alphai_in=alphai, Ai_in=path['Adj'], X0_in=X0, label_in='System Model 2A')\n",
    "if system_check(S)['check']:\n",
    "    sys_to_file(S)\n",
    "else:\n",
    "    print('System Error')\n",
    "    error_list.append('System Model 2A')\n",
    "\n",
    "S = system_package(A_in=A, alphai_in=alphai, Ai_in=path['Adj'] + np.diag(np.linspace(1, 0, num=nx)), X0_in=X0, label_in='System Model 2B')\n",
    "if system_check(S)['check']:\n",
    "    sys_to_file(S)\n",
    "else:\n",
    "    print('System Error')\n",
    "    error_list.append('System Model 2B')"
   ]
  },
  {
   "cell_type": "markdown",
   "id": "529ec983-9eea-4e37-97ba-5db6108e6cb4",
   "metadata": {},
   "source": [
    "***"
   ]
  },
  {
   "cell_type": "markdown",
   "id": "0e29446b-d273-4af7-9e77-e6d53ce700e7",
   "metadata": {
    "tags": []
   },
   "source": [
    "### System Model 3 A/B\n",
    "- Cycle graph: $|\\lambda_{\\max}(A)|=0.8$\n",
    "- No actuators\n",
    "- Biased-Path state-MPL noise: A - front loaded, B - back loaded\n",
    "- Initial state vector - random generation from identity-scaled covariance\n",
    "\n",
    "[Model List](#Model-list)"
   ]
  },
  {
   "cell_type": "code",
   "execution_count": 8,
   "id": "eef5f558-e369-4bc5-bafc-ee264720ac90",
   "metadata": {
    "jupyter": {
     "source_hidden": true
    },
    "tags": []
   },
   "outputs": [
    {
     "name": "stdout",
     "output_type": "stream",
     "text": [
      "Control input matrix not given - assumed no controller\n",
      "Control noise matrix not specified - assumed 0\n",
      "Initial state vector specified\n",
      "System saved to file @ system_model/System Model 3A.pickle \n",
      "\n",
      "Control input matrix not given - assumed no controller\n",
      "Control noise matrix not specified - assumed 0\n",
      "Initial state vector specified\n",
      "System saved to file @ system_model/System Model 3B.pickle \n",
      "\n"
     ]
    }
   ],
   "source": [
    "nx = 8\n",
    "\n",
    "cycle = create_graph(nx, type='cycle')\n",
    "path = create_graph(nx, type='path')\n",
    "\n",
    "A = 0.8*cycle['A']\n",
    "\n",
    "alphai = [0.05]\n",
    "\n",
    "X0 = 5*np.identity(nx)\n",
    "X0_vec = np.random.default_rng().multivariate_normal(mean=np.zeros(np.shape(A)[0]), cov=X0)\n",
    "\n",
    "\n",
    "S = system_package(A_in=A, alphai_in=alphai, Ai_in=path['Adj'] + np.diag(np.linspace(0, 1, num=nx)), X0_in=X0_vec, label_in='System Model 3A')\n",
    "if system_check(S)['check']:\n",
    "    sys_to_file(S)\n",
    "else:\n",
    "    print('System Error')\n",
    "    error_list.append('System Model 3A')\n",
    "\n",
    "S = system_package(A_in=A, alphai_in=alphai, Ai_in=path['Adj'] + np.diag(np.linspace(1, 0, num=nx)), X0_in=X0_vec, label_in='System Model 3B')\n",
    "if system_check(S)['check']:\n",
    "    sys_to_file(S)\n",
    "else:\n",
    "    print('System Error')\n",
    "    error_list.append('System Model 3B')"
   ]
  },
  {
   "cell_type": "markdown",
   "id": "f84139e9-6b00-4b8e-829c-cad2e418ed22",
   "metadata": {},
   "source": [
    "***"
   ]
  },
  {
   "cell_type": "markdown",
   "id": "729c0a06-58dc-46db-824d-9078782fde5c",
   "metadata": {
    "tags": []
   },
   "source": [
    "### System Model 4 A/B\n",
    "- Cycle graph: $|\\lambda_{\\max}(A)|=0.9$\n",
    "- Random actuator selection - same for both\n",
    "- Biased-Path state-MPL noise: A - front loaded, B - back loaded\n",
    "- Initial state vector - random generation from covariance\n",
    "\n",
    "[Model List](#Model-list)"
   ]
  },
  {
   "cell_type": "code",
   "execution_count": 9,
   "id": "3d1413f9-951c-4560-95a3-189a1b4585c7",
   "metadata": {
    "jupyter": {
     "source_hidden": true
    },
    "tags": []
   },
   "outputs": [
    {
     "name": "stdout",
     "output_type": "stream",
     "text": [
      "Control noise matrix not specified - assumed 0\n",
      "Initial state vector specified\n",
      "System saved to file @ system_model/System Model 4A.pickle \n",
      "\n",
      "Control noise matrix not specified - assumed 0\n",
      "Initial state vector specified\n",
      "System saved to file @ system_model/System Model 4B.pickle \n",
      "\n"
     ]
    }
   ],
   "source": [
    "nx = 8\n",
    "\n",
    "cycle = create_graph(nx, type='cycle')\n",
    "path = create_graph(nx, type='path')\n",
    "\n",
    "A = 0.9*cycle['A']\n",
    "\n",
    "B = actuator_random_selection(nx, int(nx/2))['B']\n",
    "\n",
    "alphai = [0.1]\n",
    "\n",
    "X0 = 5*np.identity(nx)\n",
    "X0_vec = np.random.default_rng().multivariate_normal(mean=np.zeros(np.shape(A)[0]), cov=X0)\n",
    "\n",
    "\n",
    "S = system_package(A_in=A, B_in=B, alphai_in=alphai, Ai_in=path['Adj'] + np.diag(np.linspace(0, 1, num=nx)), X0_in=X0_vec, label_in='System Model 4A')\n",
    "if system_check(S)['check']:\n",
    "    sys_to_file(S)\n",
    "else:\n",
    "    print('System Error')\n",
    "    error_list.append('System Model 4A')\n",
    "\n",
    "S = system_package(A_in=A, B_in=B, alphai_in=alphai, Ai_in=path['Adj'] + np.diag(np.linspace(1, 0, num=nx)), X0_in=X0_vec, label_in='System Model 4B')\n",
    "if system_check(S)['check']:\n",
    "    sys_to_file(S)\n",
    "else:\n",
    "    print('System Error')\n",
    "    error_list.append('System Model 4B')"
   ]
  },
  {
   "cell_type": "markdown",
   "id": "c8ae0d84-e829-4c0e-bd37-2930a08bd6ef",
   "metadata": {},
   "source": [
    "***"
   ]
  },
  {
   "cell_type": "markdown",
   "id": "7fdbd4e5-5392-42da-84e8-6358791e7c96",
   "metadata": {
    "tags": []
   },
   "source": [
    "### System Model 5 A/B\n",
    "- Cycle graph: $|\\lambda_{\\max}(A)|=0.8$\n",
    "- No actuators\n",
    "- Path-MPL\n",
    "    - A: all edges have same MPL disturbance\n",
    "    - B: each edge has separate MPL disturbance\n",
    "- Initial state vector - random generation from covariance\n",
    "\n",
    "[Model List](#Model-list)"
   ]
  },
  {
   "cell_type": "code",
   "execution_count": 10,
   "id": "2c9353f3-2e1c-4f85-8150-8debae2745a0",
   "metadata": {
    "jupyter": {
     "source_hidden": true
    },
    "tags": []
   },
   "outputs": [
    {
     "name": "stdout",
     "output_type": "stream",
     "text": [
      "Control input matrix not given - assumed no controller\n",
      "Control noise matrix not specified - assumed 0\n",
      "Initial state vector specified\n",
      "System saved to file @ system_model/System Model 5A.pickle \n",
      "\n",
      "Control input matrix not given - assumed no controller\n",
      "Control noise matrix not specified - assumed 0\n",
      "Initial state vector specified\n",
      "System saved to file @ system_model/System Model 5B.pickle \n",
      "\n"
     ]
    }
   ],
   "source": [
    "nx = 8\n",
    "\n",
    "cycle = create_graph(nx, type='cycle')\n",
    "path = create_graph(nx, type='path')\n",
    "\n",
    "A = 0.8*cycle['A']\n",
    "\n",
    "alphai = 0.1\n",
    "\n",
    "alphai1 = [alphai]\n",
    "Ai1 = path['Adj']\n",
    "\n",
    "alphai2 = []\n",
    "Ai2 = np.empty((1, nx, nx))\n",
    "for i in range(0, nx):\n",
    "    for j in range(i, nx):\n",
    "        if Ai1[i,j] > 0:\n",
    "            alphai2.append(alphai)\n",
    "            Ai_temp = np.zeros_like(Ai1)\n",
    "            Ai_temp[i, j] = 1\n",
    "            Ai_temp[j, i] = 1\n",
    "            Ai2 = np.append(Ai2, np.expand_dims(Ai_temp, axis=0), axis=0)\n",
    "Ai2 = np.delete(Ai2, (nx, nx), axis=0)\n",
    "\n",
    "\n",
    "X0 = 5*np.identity(nx)\n",
    "X0_vec = np.random.default_rng().multivariate_normal(mean=np.zeros(np.shape(A)[0]), cov=X0)\n",
    "\n",
    "\n",
    "S = system_package(A_in=A, alphai_in=alphai1, Ai_in=Ai1, X0_in=X0_vec, label_in='System Model 5A')\n",
    "if system_check(S)['check']:\n",
    "    sys_to_file(S)\n",
    "else:\n",
    "    print('System Error')\n",
    "    error_list.append('System Model 5A')\n",
    "\n",
    "S = system_package(A_in=A, alphai_in=alphai2, Ai_in=Ai2, X0_in=X0_vec, label_in='System Model 5B')\n",
    "if system_check(S)['check']:\n",
    "    sys_to_file(S)\n",
    "else:\n",
    "    print('System Error')\n",
    "    error_list.append('System Model 5B')"
   ]
  },
  {
   "cell_type": "markdown",
   "id": "da634c8f-17c5-4606-965d-54b138beec21",
   "metadata": {},
   "source": [
    "***"
   ]
  },
  {
   "cell_type": "markdown",
   "id": "6dc2663d-12de-4903-9810-54e07530a514",
   "metadata": {
    "tags": []
   },
   "source": [
    "### System Model 6 A/B\n",
    "- ER graph: $|\\lambda_{\\max}(A)|=0.99$, $p=0.5$\n",
    "- No actuators\n",
    "- No MPL vs MPL\n",
    "    - A: no MPL\n",
    "    - B: in the middle\n",
    "- Initial state vector - random generation from covariance\n",
    "\n",
    "[Model List](#Model-list)"
   ]
  },
  {
   "cell_type": "code",
   "execution_count": 11,
   "id": "74ce3fe9-6faf-46df-a851-33eab9c816c2",
   "metadata": {
    "jupyter": {
     "source_hidden": true
    },
    "tags": []
   },
   "outputs": [
    {
     "name": "stdout",
     "output_type": "stream",
     "text": [
      "Control input matrix not given - assumed no controller\n",
      "Actuator noise matrix not specified - assumed 0\n",
      "Control noise matrix not specified - assumed 0\n",
      "Initial state vector specified\n",
      "System saved to file @ system_model/System Model 6A.pickle \n",
      "\n",
      "Control input matrix not given - assumed no controller\n",
      "Control noise matrix not specified - assumed 0\n",
      "Initial state vector specified\n",
      "System saved to file @ system_model/System Model 6B.pickle \n",
      "\n"
     ]
    }
   ],
   "source": [
    "nx = 8\n",
    "\n",
    "ER = create_graph(nx, type='ER', p=0.5)\n",
    "\n",
    "A = 0.99*ER['A']\n",
    "\n",
    "alphai = [0.8]\n",
    "\n",
    "Ai2 = np.zeros_like(A)\n",
    "Ai2[int(nx/2), int(nx/2)-+1]=1\n",
    "Ai2[int(nx/2)-1, int(nx/2)]=1\n",
    "\n",
    "X0 = 5*np.identity(nx)\n",
    "X0_vec = np.random.default_rng().multivariate_normal(mean=np.zeros(np.shape(A)[0]), cov=X0)\n",
    "\n",
    "\n",
    "S = system_package(A_in=A, X0_in=X0_vec, label_in='System Model 6A')\n",
    "if system_check(S)['check']:\n",
    "    sys_to_file(S)\n",
    "else:\n",
    "    print('System Error')\n",
    "    error_list.append('System Model 6A')\n",
    "\n",
    "S = system_package(A_in=A, alphai_in=alphai, Ai_in=Ai2, X0_in=X0_vec, label_in='System Model 6B')\n",
    "if system_check(S)['check']:\n",
    "    sys_to_file(S)\n",
    "else:\n",
    "    print('System Error')\n",
    "    error_list.append('System Model 6B')"
   ]
  },
  {
   "cell_type": "markdown",
   "id": "ed48d243-39f1-4b66-9610-7357b17f3664",
   "metadata": {},
   "source": [
    "***"
   ]
  },
  {
   "cell_type": "markdown",
   "id": "c32b57a3-df88-49c3-a826-3ffe2fb35202",
   "metadata": {
    "tags": []
   },
   "source": [
    "### System Model 7 A/B\n",
    "- Random graph: $|\\lambda_{\\max}(A)|=0.99$, $p=0.5$\n",
    "- No actuators\n",
    "- Single edge biased\n",
    "    - A: between first and last node\n",
    "    - B: in the middle\n",
    "- Initial state vector - random generation from covariance\n",
    "\n",
    "[Model List](#Model-list)"
   ]
  },
  {
   "cell_type": "code",
   "execution_count": 12,
   "id": "d252548e-f5c7-40d6-9562-228d5aff8e87",
   "metadata": {
    "jupyter": {
     "source_hidden": true
    },
    "tags": []
   },
   "outputs": [
    {
     "name": "stdout",
     "output_type": "stream",
     "text": [
      "Control noise matrix not specified - assumed 0\n",
      "Initial state vector specified\n",
      "System saved to file @ system_model/System Model 7A.pickle \n",
      "\n",
      "Control noise matrix not specified - assumed 0\n",
      "Initial state vector specified\n",
      "System saved to file @ system_model/System Model 7B.pickle \n",
      "\n"
     ]
    }
   ],
   "source": [
    "nx = 8\n",
    "\n",
    "ER = create_graph(nx, type='ER', p=0.5)\n",
    "\n",
    "A = 0.99*ER['A']\n",
    "\n",
    "alphai = [0.8]\n",
    "\n",
    "Ai1 = np.zeros_like(A)\n",
    "Ai1[0, nx-1] = 1\n",
    "Ai1[nx-1, 0] = 1\n",
    "\n",
    "Ai2 = np.zeros_like(A)\n",
    "Ai2[int(nx/2), int(nx/2)-+1]=1\n",
    "Ai2[int(nx/2)-1, int(nx/2)]=1\n",
    "\n",
    "X0 = 5*np.identity(nx)\n",
    "X0_vec = np.random.default_rng().multivariate_normal(mean=np.zeros(np.shape(A)[0]), cov=X0)\n",
    "\n",
    "\n",
    "S = system_package(A_in=A, B_in=B, alphai_in=alphai, Ai_in=Ai1, X0_in=X0_vec, label_in='System Model 7A')\n",
    "if system_check(S)['check']:\n",
    "    sys_to_file(S)\n",
    "else:\n",
    "    print('System Error')\n",
    "    error_list.append('System Model 7A')\n",
    "\n",
    "S = system_package(A_in=A, B_in=B, alphai_in=alphai, Ai_in = Ai2, X0_in=X0_vec, label_in='System Model 7B')\n",
    "if system_check(S)['check']:\n",
    "    sys_to_file(S)\n",
    "else:\n",
    "    print('System Error')\n",
    "    error_list.append('System Model 7B')"
   ]
  },
  {
   "cell_type": "markdown",
   "id": "905f9103-7e25-4b91-bf5c-d384eb5af16a",
   "metadata": {},
   "source": [
    "***"
   ]
  },
  {
   "cell_type": "markdown",
   "id": "9f356895-7f90-4eeb-af18-c4a0370affa7",
   "metadata": {
    "tags": []
   },
   "source": [
    "### System Model 8 A/B\n",
    "- Random graph: $|\\lambda_{\\max}(A)|=0.99$\n",
    "- No actuators\n",
    "- Single edge biased\n",
    "    - A: between first and last node\n",
    "    - B: in the middle\n",
    "- Initial state vector - random generation from covariance\n",
    "\n",
    "[Model List](#Model-list)"
   ]
  },
  {
   "cell_type": "code",
   "execution_count": 13,
   "id": "ef2286ec-bcaa-4b1f-b0db-0d1512126987",
   "metadata": {
    "jupyter": {
     "source_hidden": true
    },
    "tags": []
   },
   "outputs": [
    {
     "name": "stdout",
     "output_type": "stream",
     "text": [
      "Actuator noise matrix not specified - assumed 0\n",
      "Control noise matrix not specified - assumed 0\n",
      "Initial state vector specified\n",
      "System saved to file @ system_model/System Model 8A.pickle \n",
      "\n",
      "Control noise matrix not specified - assumed 0\n",
      "Initial state vector specified\n",
      "System saved to file @ system_model/System Model 8B.pickle \n",
      "\n"
     ]
    }
   ],
   "source": [
    "nx = 8\n",
    "\n",
    "cycle = create_graph(nx, type='cycle')\n",
    "\n",
    "A = 0.95*cycle['A']\n",
    "\n",
    "alphai = [0.8]\n",
    "Ai = np.zeros_like(A)\n",
    "Ai[0, nx-1] = 1\n",
    "Ai[nx-1, 0] = 1\n",
    "\n",
    "X0 = 5*np.identity(nx)\n",
    "X0_vec = np.random.default_rng().multivariate_normal(mean=np.zeros(np.shape(A)[0]), cov=X0)\n",
    "\n",
    "\n",
    "S = system_package(A_in=A, B_in=B, X0_in=X0_vec, label_in='System Model 8A')\n",
    "if system_check(S)['check']:\n",
    "    sys_to_file(S)\n",
    "else:\n",
    "    print('System Error')\n",
    "    error_list.append('System Model 8A')\n",
    "\n",
    "S = system_package(A_in=A, B_in=B, alphai_in=alphai, Ai_in = Ai, X0_in=X0_vec, label_in='System Model 8B')\n",
    "if system_check(S)['check']:\n",
    "    sys_to_file(S)\n",
    "else:\n",
    "    print('System Error')\n",
    "    error_list.append('System Model 8B')"
   ]
  },
  {
   "cell_type": "markdown",
   "id": "409a05c7-34b1-4af0-9857-c0b26bc5f68e",
   "metadata": {},
   "source": [
    "***"
   ]
  },
  {
   "cell_type": "markdown",
   "id": "f3dca76c-7134-4d4b-91e2-a98088103c14",
   "metadata": {
    "tags": []
   },
   "source": [
    "### System Model 9 A/B\n",
    "- Random graph: $|\\lambda_{\\max}(A)|=0.8$\n",
    "- No actuators - pre-initialize noises associated with each actuator\n",
    "- No state-dependent multiplicative noise\n",
    "- Initial state vector - random generation from covariance\n",
    "\n",
    "[Model List](#Model-list)"
   ]
  },
  {
   "cell_type": "code",
   "execution_count": 14,
   "id": "bddcd1cd-7142-4a29-bd96-f2f96da6847e",
   "metadata": {
    "jupyter": {
     "source_hidden": true
    },
    "tags": []
   },
   "outputs": [
    {
     "name": "stdout",
     "output_type": "stream",
     "text": [
      "Control input matrix not given - assumed no controller\n",
      "Actuator noise matrix not specified - assumed 0\n",
      "Control noise matrix not specified - assumed 0\n",
      "Initial state vector specified\n",
      "System saved to file @ system_model/System Model 9A.pickle \n",
      "\n",
      "Control input matrix not given - assumed no controller\n",
      "Actuator noise matrix not specified - assumed 0\n",
      "Initial state vector specified\n",
      "System saved to file @ system_model/System Model 9B.pickle \n",
      "\n"
     ]
    }
   ],
   "source": [
    "nx = 10\n",
    "p=0.4\n",
    "\n",
    "ER1 = create_graph(nx, type='ER', p=p)\n",
    "# ER2 = create_graph(nx, type='ER', p=p)\n",
    "\n",
    "rho = 0.8\n",
    "\n",
    "A = rho*ER1['A']\n",
    "\n",
    "betaj = np.linspace(1, 2, num=nx)\n",
    "\n",
    "\n",
    "X0 = 5*np.identity(nx)\n",
    "X0_vec = np.random.default_rng().multivariate_normal(mean=np.zeros(np.shape(A)[0]), cov=X0)\n",
    "\n",
    "\n",
    "S = system_package(A_in=A, X0_in=X0_vec, label_in='System Model 9A')\n",
    "if system_check(S)['check']:\n",
    "    sys_to_file(S)\n",
    "else:\n",
    "    print('System Error')\n",
    "    error_list.append('System Model 9A')\n",
    "\n",
    "S = system_package(A_in=A, betaj_in=betaj, Bj_in=np.zeros((len(betaj), nx, nx)), X0_in=X0_vec, label_in='System Model 9B')\n",
    "if system_check(S)['check']:\n",
    "    sys_to_file(S)\n",
    "else:\n",
    "    print('System Error')\n",
    "    error_list.append('System Model 9B')"
   ]
  },
  {
   "cell_type": "markdown",
   "id": "429ad7c1-c41a-4a26-b6ea-8f724f263ad5",
   "metadata": {},
   "source": [
    "***"
   ]
  },
  {
   "cell_type": "markdown",
   "id": "2fab6c88-097e-48d5-af76-793b19f3108e",
   "metadata": {
    "tags": []
   },
   "source": [
    "## Triplet Comparison System Models\n",
    "\n",
    "Comparison of A, B models on system C\n",
    "- Nominal vs MPL model actuator selection & feedback on True system\n",
    "- Different types of MPL models"
   ]
  },
  {
   "cell_type": "markdown",
   "id": "7ada0a90-ce42-4d6d-91de-413ad06c97fa",
   "metadata": {
    "tags": []
   },
   "source": [
    "### System Model 1 A/B/C\n",
    "\n",
    "Example of when MPL is better than Nominal model\n",
    "\n",
    "- Model A (Nominal)\n",
    "    - Path graph: $|\\lambda_{\\max}(A)|=0.95$\n",
    "    - No actuators\n",
    "    - No MPL noise\n",
    "    - Initial states - scaled vector of ones\n",
    "- Model B (MPL)\n",
    "    - Path graph: $|\\lambda_{\\max}(A)|=0.95$\n",
    "    - No actuators\n",
    "    - State-MPL noise - Cycle-Path Adj\n",
    "    - Initial states - scaled vector of ones\n",
    "- Model C (True System)\n",
    "    - Cycle graph: $|\\lambda_{\\max}(A)|=0.95$\n",
    "    - No actuators\n",
    "    - No MPL noise\n",
    "    - Initial states - scaled vector of ones\n",
    "\n",
    "[Model List](#Model-list)"
   ]
  },
  {
   "cell_type": "code",
   "execution_count": 15,
   "id": "6700c851-f6e3-4d4a-b1cf-b1f6db17f9ce",
   "metadata": {
    "jupyter": {
     "source_hidden": true
    },
    "tags": []
   },
   "outputs": [
    {
     "name": "stdout",
     "output_type": "stream",
     "text": [
      "Control input matrix not given - assumed no controller\n",
      "Actuator noise matrix not specified - assumed 0\n",
      "Control noise matrix not specified - assumed 0\n",
      "Initial state vector specified\n",
      "System saved to file @ system_model/System Model 1 A.pickle \n",
      "\n",
      "Control input matrix not given - assumed no controller\n",
      "Control noise matrix not specified - assumed 0\n",
      "Initial state vector specified\n",
      "System saved to file @ system_model/System Model 1 B.pickle \n",
      "\n",
      "Control input matrix not given - assumed no controller\n",
      "Actuator noise matrix not specified - assumed 0\n",
      "Control noise matrix not specified - assumed 0\n",
      "Initial state vector specified\n",
      "System saved to file @ system_model/System Model 1 C.pickle \n",
      "\n"
     ]
    }
   ],
   "source": [
    "nx = 10\n",
    "\n",
    "cycle = create_graph(nx, type='cycle')\n",
    "path = create_graph(nx, type='path')\n",
    "\n",
    "alphai = [0.5]\n",
    "\n",
    "# X0 = 20*np.identity(nx)\n",
    "# X0_vec = np.random.default_rng().multivariate_normal(mean=np.zeros(nx), cov=X0)\n",
    "X0 = 20*np.ones(nx)\n",
    "\n",
    "rho = 0.95\n",
    "\n",
    "S = system_package(A_in=rho*path['A'], X0_in=X0, label_in='System Model 1 A')\n",
    "if system_check(S)['check']:\n",
    "    sys_to_file(S)\n",
    "else:\n",
    "    print('System Error')\n",
    "    error_list.append('System Model 1 A')\n",
    "\n",
    "S = system_package(A_in=rho*path['A'], alphai_in=alphai, Ai_in=cycle['Adj']-path['Adj'], X0_in=X0, label_in='System Model 1 B')\n",
    "if system_check(S)['check']:\n",
    "    sys_to_file(S)\n",
    "else:\n",
    "    print('System Error')\n",
    "    error_list.append('System Model 1 B')\n",
    "\n",
    "S = system_package(A_in=rho*cycle['A'], X0_in=X0, label_in='System Model 1 C')\n",
    "if system_check(S)['check']:\n",
    "    sys_to_file(S)\n",
    "else:\n",
    "    print('System Error')\n",
    "    error_list.append('System Model 1 C')"
   ]
  },
  {
   "cell_type": "markdown",
   "id": "d11017b4-db51-4c18-b364-6c6e18f47bfc",
   "metadata": {},
   "source": [
    "***"
   ]
  },
  {
   "cell_type": "markdown",
   "id": "62f5d61f-03a6-4bd2-8261-7bef462e908d",
   "metadata": {
    "tags": []
   },
   "source": [
    "### System Model 2 A/B/C\n",
    "ER Networks - control using nominal vs mpl models\n",
    "- Model A (Nominal)\n",
    "    - ER1 $|\\lambda_{\\max}(A)|=0.95$\n",
    "    - No actuators\n",
    "    - No MPL noise\n",
    "    - Initial state covariance - 10*identity\n",
    "- Model B (MPL System)\n",
    "    - ER1 $|\\lambda_{\\max}(A)|=0.95$\n",
    "    - No actuators\n",
    "    - State-MPL noise with ER2\n",
    "    - Initial state covariance - 10*identity\n",
    "- Model C (True System)\n",
    "    - ER3 $|\\lambda_{\\max}(A)|=0.95$\n",
    "    - No actuators\n",
    "    - No MPL noise\n",
    "    - Initial state covariance - 10*identity\n",
    "\n",
    "[Model List](#Model-list)"
   ]
  },
  {
   "cell_type": "code",
   "execution_count": 16,
   "id": "c2a43ad2-6b2c-4aa0-b5ea-0bba4eacdd25",
   "metadata": {
    "jupyter": {
     "source_hidden": true
    },
    "tags": []
   },
   "outputs": [
    {
     "name": "stdout",
     "output_type": "stream",
     "text": [
      "Control input matrix not given - assumed no controller\n",
      "Actuator noise matrix not specified - assumed 0\n",
      "Control noise matrix not specified - assumed 0\n",
      "Initial state vector specified\n",
      "System saved to file @ system_model/System Model 2 A.pickle \n",
      "\n",
      "Control input matrix not given - assumed no controller\n",
      "Control noise matrix not specified - assumed 0\n",
      "Initial state vector specified\n",
      "System saved to file @ system_model/System Model 2 B.pickle \n",
      "\n",
      "Control input matrix not given - assumed no controller\n",
      "Actuator noise matrix not specified - assumed 0\n",
      "Control noise matrix not specified - assumed 0\n",
      "Initial state vector specified\n",
      "System saved to file @ system_model/System Model 2 C.pickle \n",
      "\n"
     ]
    }
   ],
   "source": [
    "nx = 8\n",
    "p = 0.5\n",
    "# cycle = create_graph(nx, type='cycle')\n",
    "# path = create_graph(nx, type='path')\n",
    "ER1 = create_graph(nx, type='ER', p=p)\n",
    "ER2 = create_graph(nx, type='ER', p=p)\n",
    "ER3 = create_graph(nx, type='ER', p=p)\n",
    "\n",
    "rho = 0.95\n",
    "\n",
    "alphai = [0.1]\n",
    "X0 = 10*np.ones(nx)\n",
    "\n",
    "S = system_package(A_in=rho*ER1['A'], X0_in=X0, label_in='System Model 2 A')\n",
    "if system_check(S)['check']:\n",
    "    sys_to_file(S)\n",
    "else:\n",
    "    print('System Error')\n",
    "    error_list.append('System Model 2 A')\n",
    "\n",
    "S = system_package(A_in=rho*ER1['A'], alphai_in=alphai, Ai_in=ER2['A'], X0_in=X0, label_in='System Model 2 B')\n",
    "if system_check(S)['check']:\n",
    "    sys_to_file(S)\n",
    "else:\n",
    "    print('System Error')\n",
    "    error_list.append('System Model 2 B')\n",
    "\n",
    "S = system_package(A_in=rho*ER3['A'], X0_in=X0, label_in='System Model 2 C')\n",
    "if system_check(S)['check']:\n",
    "    sys_to_file(S)\n",
    "else:\n",
    "    print('System Error')\n",
    "    error_list.append('System Model 2 C')"
   ]
  },
  {
   "cell_type": "markdown",
   "id": "049b627e-bfcf-4f27-9f05-5ef860a3ee75",
   "metadata": {},
   "source": [
    "***"
   ]
  },
  {
   "cell_type": "markdown",
   "id": "947a64ac-de1c-488a-8188-e030fd5c2146",
   "metadata": {
    "tags": []
   },
   "source": [
    "### System Model 3 A/B/C\n",
    "Example of when MPL is worse than Nominal model\n",
    "- Model A (Nominal)\n",
    "    - Cycle graph\n",
    "    - No actuators\n",
    "    - No MPL noise\n",
    "    - Initial states - scaled vector of ones\n",
    "- Model B (MPL)\n",
    "    - Cycle graph\n",
    "    - No actuators\n",
    "    - State-MPL noise - Path\n",
    "    - Initial states - scaled vector of ones\n",
    "- Model C (True System)\n",
    "    - Path graph: $|\\lambda_{\\max}(A)|=0.95$\n",
    "    - No actuators\n",
    "    - No MPL noise\n",
    "    - Initial states - scaled vector of ones\n",
    "\n",
    "[Model List](#Model-list)"
   ]
  },
  {
   "cell_type": "code",
   "execution_count": 17,
   "id": "7f62a54e-f93f-4753-b89c-eb1b662a829e",
   "metadata": {
    "jupyter": {
     "source_hidden": true
    },
    "tags": []
   },
   "outputs": [
    {
     "name": "stdout",
     "output_type": "stream",
     "text": [
      "Control input matrix not given - assumed no controller\n",
      "Actuator noise matrix not specified - assumed 0\n",
      "Control noise matrix not specified - assumed 0\n",
      "Initial state vector specified\n",
      "System saved to file @ system_model/System Model 3 A.pickle \n",
      "\n",
      "Control input matrix not given - assumed no controller\n",
      "Control noise matrix not specified - assumed 0\n",
      "Initial state vector specified\n",
      "System saved to file @ system_model/System Model 3 B.pickle \n",
      "\n",
      "Control input matrix not given - assumed no controller\n",
      "Actuator noise matrix not specified - assumed 0\n",
      "Control noise matrix not specified - assumed 0\n",
      "Initial state vector specified\n",
      "System saved to file @ system_model/System Model 3 C.pickle \n",
      "\n"
     ]
    }
   ],
   "source": [
    "nx = 10\n",
    "\n",
    "cycle = create_graph(nx, type='cycle')\n",
    "path = create_graph(nx, type='path')\n",
    "\n",
    "alphai = [0.5]\n",
    "\n",
    "# X0 = 20*np.identity(nx)\n",
    "# X0_vec = np.random.default_rng().multivariate_normal(mean=np.zeros(nx), cov=X0)\n",
    "X0 = 20*np.ones(nx)\n",
    "\n",
    "rho = 0.95\n",
    "\n",
    "S = system_package(A_in=rho*cycle['A'], X0_in=X0, label_in='System Model 3 A')\n",
    "if system_check(S)['check']:\n",
    "    sys_to_file(S)\n",
    "else:\n",
    "    print('System Error')\n",
    "    error_list.append('System Model 3 A')\n",
    "    \n",
    "S = system_package(A_in=rho*cycle['A'], alphai_in=alphai, Ai_in=cycle['Adj']-path['Adj'], X0_in=X0, label_in='System Model 3 B')\n",
    "if system_check(S)['check']:\n",
    "    sys_to_file(S)\n",
    "else:\n",
    "    print('System Error')\n",
    "    error_list.append('System Model 3 B')\n",
    "\n",
    "S = system_package(A_in=rho*path['A'], X0_in=X0, label_in='System Model 3 C')\n",
    "if system_check(S)['check']:\n",
    "    sys_to_file(S)\n",
    "else:\n",
    "    print('System Error')\n",
    "    error_list.append('System Model 3 C')"
   ]
  },
  {
   "cell_type": "markdown",
   "id": "e56c897b-6db7-4185-a250-d57ae414e403",
   "metadata": {},
   "source": [
    "***"
   ]
  },
  {
   "cell_type": "markdown",
   "id": "4a95e126-f4d5-46bd-9870-211685bf428c",
   "metadata": {
    "tags": []
   },
   "source": [
    "### System Model 4 A/B/C\n",
    "\n",
    "Increased network size of [Model 1 A/B/C](#System-Model-1-A/B/C)\n",
    "\n",
    "- Model A (Nominal)\n",
    "    - Path graph: $|\\lambda_{\\max}(A)|=0.95$\n",
    "    - No actuators\n",
    "    - No MPL noise\n",
    "    - Initial states - scaled vector of ones\n",
    "- Model B (MPL)\n",
    "    - Path graph: $|\\lambda_{\\max}(A)|=0.95$\n",
    "    - No actuators\n",
    "    - State-MPL noise - Cycle-Path Adj\n",
    "    - Initial states - scaled vector of ones\n",
    "- Model C (True System)\n",
    "    - Cycle graph: $|\\lambda_{\\max}(A)|=0.95$\n",
    "    - No actuators\n",
    "    - No MPL noise\n",
    "    - Initial states - scaled vector of ones\n",
    "\n",
    "[Model List](#Model-list)"
   ]
  },
  {
   "cell_type": "code",
   "execution_count": 18,
   "id": "b10d41ca-3f14-46b9-94b3-887ab1d65c05",
   "metadata": {
    "jupyter": {
     "source_hidden": true
    },
    "tags": []
   },
   "outputs": [
    {
     "name": "stdout",
     "output_type": "stream",
     "text": [
      "Control input matrix not given - assumed no controller\n",
      "Actuator noise matrix not specified - assumed 0\n",
      "Control noise matrix not specified - assumed 0\n",
      "Initial state vector specified\n",
      "System saved to file @ system_model/System Model 4 A.pickle \n",
      "\n",
      "Control input matrix not given - assumed no controller\n",
      "Control noise matrix not specified - assumed 0\n",
      "Initial state vector specified\n",
      "System saved to file @ system_model/System Model 4 B.pickle \n",
      "\n",
      "Control input matrix not given - assumed no controller\n",
      "Actuator noise matrix not specified - assumed 0\n",
      "Control noise matrix not specified - assumed 0\n",
      "Initial state vector specified\n",
      "System saved to file @ system_model/System Model 4 C.pickle \n",
      "\n"
     ]
    }
   ],
   "source": [
    "nx = 30\n",
    "\n",
    "cycle = create_graph(nx, type='cycle')\n",
    "path = create_graph(nx, type='path')\n",
    "\n",
    "alphai = [0.5]\n",
    "\n",
    "X0_cov = 20*np.identity(nx)\n",
    "X0 = np.random.default_rng().multivariate_normal(mean=np.zeros(nx), cov=X0_cov)\n",
    "# X0 = 20*np.ones(nx)\n",
    "\n",
    "rho = 0.95\n",
    "\n",
    "S = system_package(A_in=rho*path['A'], X0_in=X0, label_in='System Model 4 A')\n",
    "if system_check(S)['check']:\n",
    "    sys_to_file(S)\n",
    "else:\n",
    "    print('System Error')\n",
    "    error_list.append('System Model 4 A')\n",
    "    \n",
    "S = system_package(A_in=rho*path['A'], alphai_in=alphai, Ai_in=cycle['Adj']-path['Adj'], X0_in=X0, label_in='System Model 4 B')\n",
    "if system_check(S)['check']:\n",
    "    sys_to_file(S)\n",
    "else:\n",
    "    print('System Error')\n",
    "    error_list.append('System Model 4 B')\n",
    "\n",
    "S = system_package(A_in=rho*cycle['A'], X0_in=X0, label_in='System Model 4 C')\n",
    "if system_check(S)['check']:\n",
    "    sys_to_file(S)\n",
    "else:\n",
    "    print('System Error')\n",
    "    error_list.append('System Model 4 C')"
   ]
  },
  {
   "cell_type": "markdown",
   "id": "80181483-39b0-45d8-a923-0a1573cbc9c9",
   "metadata": {},
   "source": [
    "***"
   ]
  },
  {
   "cell_type": "markdown",
   "id": "0a5edd61-f832-482e-83d5-492ab555ca91",
   "metadata": {
    "tags": []
   },
   "source": [
    "### System Model 5 A/B/C\n",
    "\n",
    "Example of when Nominal feedback fails on MPL system\n",
    "\n",
    "- Model A (Nominal)\n",
    "    - Path graph\n",
    "    - No actuators\n",
    "    - No MPL noise\n",
    "    - Initial states - scaled vector of ones\n",
    "- Model B (MPL System)\n",
    "    - Path graph\n",
    "    - No actuators\n",
    "    - State-MPL noise - Cycle-Path Adj\n",
    "    - Initial states - scaled vector of ones\n",
    "- Model C (True System = MPL System)\n",
    "    - Path graph: $|\\lambda_{\\max}(A)|=0.95$\n",
    "    - No actuators\n",
    "    - State-MPL noise - Cycle-Path Adj\n",
    "    - Initial states - scaled vector of ones\n",
    "\n",
    "[Model List](#Model-list)"
   ]
  },
  {
   "cell_type": "code",
   "execution_count": 19,
   "id": "6b615d77-bfed-403c-95dc-23ba71c083b6",
   "metadata": {
    "jupyter": {
     "source_hidden": true
    },
    "tags": []
   },
   "outputs": [
    {
     "name": "stdout",
     "output_type": "stream",
     "text": [
      "Control input matrix not given - assumed no controller\n",
      "Actuator noise matrix not specified - assumed 0\n",
      "Control noise matrix not specified - assumed 0\n",
      "Initial state vector specified\n",
      "System saved to file @ system_model/System Model 5 A.pickle \n",
      "\n",
      "Control input matrix not given - assumed no controller\n",
      "Control noise matrix not specified - assumed 0\n",
      "Initial state vector specified\n",
      "System saved to file @ system_model/System Model 5 B.pickle \n",
      "\n",
      "Control input matrix not given - assumed no controller\n",
      "Control noise matrix not specified - assumed 0\n",
      "Initial state vector specified\n",
      "System saved to file @ system_model/System Model 5 C.pickle \n",
      "\n"
     ]
    }
   ],
   "source": [
    "nx = 10\n",
    "\n",
    "cycle = create_graph(nx, type='cycle')\n",
    "path = create_graph(nx, type='path')\n",
    "\n",
    "alphai = [0.1]\n",
    "\n",
    "# X0 = 20*np.identity(nx)\n",
    "# X0_vec = np.random.default_rng().multivariate_normal(mean=np.zeros(nx), cov=X0)\n",
    "X0 = 20*np.ones(nx)\n",
    "\n",
    "rho = 0.95\n",
    "\n",
    "S = system_package(A_in=rho*path['A'], X0_in=X0, label_in='System Model 5 A')\n",
    "if system_check(S)['check']:\n",
    "    sys_to_file(S)\n",
    "else:\n",
    "    print('System Error')\n",
    "    error_list.append('System Model 5 A')\n",
    "\n",
    "S = system_package(A_in=rho*path['A'], alphai_in=alphai, Ai_in=cycle['Adj']-path['Adj'], X0_in=X0, label_in='System Model 5 B')\n",
    "if system_check(S)['check']:\n",
    "    sys_to_file(S)\n",
    "else:\n",
    "    print('System Error')\n",
    "    error_list.append('System Model 5 B')\n",
    "\n",
    "S = system_package(A_in=rho*path['A'], alphai_in=alphai, Ai_in=cycle['Adj']-path['Adj'], X0_in=X0, label_in='System Model 5 C')\n",
    "if system_check(S)['check']:\n",
    "    sys_to_file(S)\n",
    "else:\n",
    "    print('System Error')\n",
    "    error_list.append('System Model 5 C')"
   ]
  },
  {
   "cell_type": "markdown",
   "id": "2a085457-4f93-455d-a66a-dc8a6ef22fd0",
   "metadata": {},
   "source": [
    "***"
   ]
  },
  {
   "cell_type": "markdown",
   "id": "807a4870-84de-4c11-aadd-9624fac07667",
   "metadata": {
    "tags": []
   },
   "source": [
    "### System Model 6 A/B/C\n",
    "\n",
    "- Model A (MPL 1)\n",
    "    - Path graph\n",
    "    - No actuators\n",
    "    - State-MPL noise - Cycle Adj\n",
    "    - Initial states - scaled vector of ones\n",
    "- Model B (MPL 2)\n",
    "    - Path graph\n",
    "    - No actuators\n",
    "    - State-MPL noise - Cycle Adj - Matrix Splitter\n",
    "    - Initial states - scaled vector of ones\n",
    "- Model C (True System)\n",
    "    - Cycle graph: $|\\lambda_{\\max}(A)|=0.95$\n",
    "    - No actuators\n",
    "    - No MPL noise\n",
    "    - Initial states - scaled vector of ones\n",
    "\n",
    "[Model List](#Model-list)"
   ]
  },
  {
   "cell_type": "code",
   "execution_count": 20,
   "id": "2a482ff2-09df-48f9-97dd-cb6f0c088745",
   "metadata": {
    "jupyter": {
     "source_hidden": true
    },
    "tags": []
   },
   "outputs": [
    {
     "name": "stdout",
     "output_type": "stream",
     "text": [
      "Control input matrix not given - assumed no controller\n",
      "Control noise matrix not specified - assumed 0\n",
      "Initial state vector specified\n",
      "System saved to file @ system_model/System Model 6 A.pickle \n",
      "\n",
      "Control input matrix not given - assumed no controller\n",
      "Control noise matrix not specified - assumed 0\n",
      "Initial state vector specified\n",
      "System saved to file @ system_model/System Model 6 B.pickle \n",
      "\n",
      "Control input matrix not given - assumed no controller\n",
      "Actuator noise matrix not specified - assumed 0\n",
      "Control noise matrix not specified - assumed 0\n",
      "Initial state vector specified\n",
      "System saved to file @ system_model/System Model 6 C.pickle \n",
      "\n"
     ]
    }
   ],
   "source": [
    "nx = 10\n",
    "\n",
    "cycle = create_graph(nx, type='cycle')\n",
    "path = create_graph(nx, type='path')\n",
    "\n",
    "alphai = [0.5]\n",
    "\n",
    "# X0 = 20*np.identity(nx)\n",
    "# X0_vec = np.random.default_rng().multivariate_normal(mean=np.zeros(nx), cov=X0)\n",
    "X0 = 20*np.ones(nx)\n",
    "\n",
    "Ai_2 = matrix_splitter(cycle['Adj'])\n",
    "alphai2 = alphai*np.ones(np.shape(Ai_2)[0])\n",
    "\n",
    "rho = 0.95\n",
    "\n",
    "S = system_package(A_in=rho*path['A'], alphai_in=alphai, Ai_in=cycle['Adj'], X0_in=X0, label_in='System Model 6 A')\n",
    "if system_check(S)['check']:\n",
    "    sys_to_file(S)\n",
    "else:\n",
    "    print('System Error')\n",
    "    error_list.append('System Model 6 A')\n",
    "\n",
    "S = system_package(A_in=rho*path['A'], alphai_in=alphai2, Ai_in=Ai_2, X0_in=X0, label_in='System Model 6 B')\n",
    "if system_check(S)['check']:\n",
    "    sys_to_file(S)\n",
    "else:\n",
    "    print('System Error')\n",
    "    error_list.append('System Model 6 B')\n",
    "\n",
    "S = system_package(A_in=rho*cycle['A'], X0_in=X0, label_in='System Model 6 C')\n",
    "if system_check(S)['check']:\n",
    "    sys_to_file(S)\n",
    "else:\n",
    "    print('System Error')\n",
    "    error_list.append('System Model 6 C')"
   ]
  },
  {
   "cell_type": "markdown",
   "id": "00eece09-012b-4ee1-a745-f07509107859",
   "metadata": {},
   "source": [
    "***"
   ]
  },
  {
   "cell_type": "markdown",
   "id": "190dde9e-023d-4033-a26d-6f92884a1ce1",
   "metadata": {
    "tags": []
   },
   "source": [
    "### System Model 7 A/B/C\n",
    "\n",
    "DO NOT CHANGE\n",
    "\n",
    "ER Networks - control using nominal vs mpl models\n",
    "\n",
    "- Model A (Nominal)\n",
    "    - ER2 $|\\lambda_{\\max}(A)|=0.8$\n",
    "    - No actuators\n",
    "    - No MPL noise\n",
    "    - Initial state covariance - 10*identity\n",
    "- Model B (MPL System)\n",
    "    - ER2 $|\\lambda_{\\max}(A)|=0.8$\n",
    "    - No actuators\n",
    "    - State-MPL noise with matrix-split ER1-ER2\n",
    "    - Initial state covariance - 10*identity\n",
    "- Model C (True System)\n",
    "    - ER1 $|\\lambda_{\\max}(A)|=0.8$\n",
    "    - No actuators\n",
    "    - State-MPL noise - ER3\n",
    "    - Initial state covariance - 10*identity\n",
    "\n",
    "[Model List](#Model-list)"
   ]
  },
  {
   "cell_type": "code",
   "execution_count": 21,
   "id": "29e22562-de3f-426e-8402-adbcf39b03de",
   "metadata": {
    "jupyter": {
     "source_hidden": true
    },
    "tags": []
   },
   "outputs": [
    {
     "name": "stdout",
     "output_type": "stream",
     "text": [
      "Control input matrix not given - assumed no controller\n",
      "Actuator noise matrix not specified - assumed 0\n",
      "Control noise matrix not specified - assumed 0\n",
      "Initial state vector specified\n",
      "System saved to file @ system_model/System Model 7 A.pickle \n",
      "\n",
      "Control input matrix not given - assumed no controller\n",
      "Control noise matrix not specified - assumed 0\n",
      "Initial state vector specified\n",
      "System saved to file @ system_model/System Model 7 B.pickle \n",
      "\n",
      "Control input matrix not given - assumed no controller\n",
      "Control noise matrix not specified - assumed 0\n",
      "Initial state vector specified\n",
      "System saved to file @ system_model/System Model 7 C.pickle \n",
      "\n"
     ]
    }
   ],
   "source": [
    "nx = 8\n",
    "p = 0.4\n",
    "# cycle = create_graph(nx, type='cycle')\n",
    "# path = create_graph(nx, type='path')\n",
    "ER1 = create_graph(nx, type='ER', p=p)\n",
    "ER2 = create_graph(nx, type='ER', p=p)\n",
    "ER3 = create_graph(nx, type='ER', p=p)\n",
    "\n",
    "rho = 0.8\n",
    "\n",
    "alphai = [0.3]\n",
    "X0 = 10*np.ones(nx)\n",
    "\n",
    "S = system_package(A_in=rho*ER2['A'], X0_in=X0, label_in='System Model 7 A')\n",
    "if system_check(S)['check']:\n",
    "    sys_to_file(S)\n",
    "else:\n",
    "    print('System Error')\n",
    "    error_list.append('System Model 7 A')\n",
    "\n",
    "Ai_2 = matrix_splitter(np.abs(ER1['Adj'])) #- ER2['Adj']))\n",
    "alphai_2 = alphai*np.ones(np.shape(Ai_2)[0])\n",
    "\n",
    "S = system_package(A_in=rho*ER2['A'], alphai_in=alphai_2, Ai_in=Ai_2, X0_in=X0, label_in='System Model 7 B')\n",
    "if system_check(S)['check']:\n",
    "    sys_to_file(S)\n",
    "else:\n",
    "    print('System Error')\n",
    "    error_list.append('System Model 7 B')\n",
    "\n",
    "S = system_package(A_in=rho*ER1['A'], X0_in=X0, alphai_in=alphai, Ai_in=ER3['Adj'], label_in='System Model 7 C')\n",
    "if system_check(S)['check']:\n",
    "    sys_to_file(S)\n",
    "else:\n",
    "    print('System Error')\n",
    "    error_list.append('System Model 7 C')"
   ]
  },
  {
   "cell_type": "markdown",
   "id": "67fd37a2-9a06-4695-823e-c1c604619c59",
   "metadata": {},
   "source": [
    "***"
   ]
  },
  {
   "cell_type": "markdown",
   "id": "ccdc5448-dc09-42fe-839c-9162ff5f35c4",
   "metadata": {
    "tags": []
   },
   "source": [
    "### System Model 8 A/B/C\n",
    "\n",
    "ER Networks - control using nominal vs mpl models\n",
    "\n",
    "- Model A (MPL1)\n",
    "    - ER2 $|\\lambda_{\\max}(A)|=0.95$\n",
    "    - No actuators\n",
    "    - State-MPL noise with unified ER2 - ER1\n",
    "    - Initial state covariance - 10*identity\n",
    "- Model B (MPL2)\n",
    "    - ER2 $|\\lambda_{\\max}(A)|=0.95$\n",
    "    - No actuators\n",
    "    - State-MPL noise with matrix-split ER2 - ER1\n",
    "    - Initial state covariance - 10*identity\n",
    "- Model C (True System)\n",
    "    - ER1 $|\\lambda_{\\max}(A)|=0.95$\n",
    "    - No actuators\n",
    "    - No MPL noise\n",
    "    - Initial state covariance - 10*identity\n",
    "\n",
    "[Model List](#Model-list)"
   ]
  },
  {
   "cell_type": "code",
   "execution_count": 22,
   "id": "0f7742c1-e3fa-4e37-8793-01d7eaf6a3f6",
   "metadata": {
    "jupyter": {
     "source_hidden": true
    },
    "tags": []
   },
   "outputs": [
    {
     "name": "stdout",
     "output_type": "stream",
     "text": [
      "Control input matrix not given - assumed no controller\n",
      "Control noise matrix not specified - assumed 0\n",
      "Initial state vector specified\n",
      "System saved to file @ system_model/System Model 8 A.pickle \n",
      "\n",
      "Control input matrix not given - assumed no controller\n",
      "Control noise matrix not specified - assumed 0\n",
      "Initial state vector specified\n",
      "System saved to file @ system_model/System Model 8 B.pickle \n",
      "\n",
      "Control input matrix not given - assumed no controller\n",
      "Actuator noise matrix not specified - assumed 0\n",
      "Control noise matrix not specified - assumed 0\n",
      "Initial state vector specified\n",
      "System saved to file @ system_model/System Model 8 C.pickle \n",
      "\n"
     ]
    }
   ],
   "source": [
    "nx = 8\n",
    "p = 0.2\n",
    "# cycle = create_graph(nx, type='cycle')\n",
    "# path = create_graph(nx, type='path')\n",
    "ER1 = create_graph(nx, type='ER', p=p)\n",
    "ER2 = create_graph(nx, type='ER', p=p)\n",
    "ER3 = create_graph(nx, type='ER', p=p)\n",
    "\n",
    "rho = 0.95\n",
    "\n",
    "alphai = [0.1]\n",
    "X0 = 10*np.ones(nx)\n",
    "\n",
    "S = system_package(A_in=rho*ER2['A'], alphai_in=alphai, Ai_in=np.abs(ER1['Adj']-ER2['Adj']), X0_in=X0, label_in='System Model 8 A')\n",
    "if system_check(S)['check']:\n",
    "    sys_to_file(S)\n",
    "else:\n",
    "    print('System Error')\n",
    "    error_list.append('System Model 8 A')\n",
    "\n",
    "Ai_2 = matrix_splitter(np.abs(ER1['Adj']-ER2['Adj']))\n",
    "alphai_2 = alphai*np.ones(np.shape(Ai_2)[0])\n",
    "\n",
    "S = system_package(A_in=rho*ER2['A'], alphai_in=alphai_2, Ai_in=Ai_2, X0_in=X0, label_in='System Model 8 B')\n",
    "if system_check(S)['check']:\n",
    "    sys_to_file(S)\n",
    "else:\n",
    "    print('System Error')\n",
    "    error_list.append('System Model 8 B')\n",
    "\n",
    "S = system_package(A_in=rho*ER1['A'], X0_in=X0, label_in='System Model 8 C')\n",
    "if system_check(S)['check']:\n",
    "    sys_to_file(S)\n",
    "else:\n",
    "    print('System Error')\n",
    "    error_list.append('System Model 8 C')"
   ]
  },
  {
   "cell_type": "markdown",
   "id": "61f2af48-8a7d-4b31-bf57-ff90f6255a83",
   "metadata": {
    "tags": []
   },
   "source": [
    "***"
   ]
  },
  {
   "cell_type": "markdown",
   "id": "03c9bf3c-8186-46ac-8b52-1a2553547bf0",
   "metadata": {
    "tags": []
   },
   "source": [
    "### System Model 9 A/B/C\n",
    "\n",
    "ER Networks - control comparing mpl models\n",
    "\n",
    "- Model A (MPL1 - single matrix)\n",
    "    - ER2 $|\\lambda_{\\max}(A)|=0.8$\n",
    "    - No actuators\n",
    "    - State-MPL noise with ER1\n",
    "    - Initial state covariance - 10*identity\n",
    "- Model B (MPL2 - individual edges)\n",
    "    - ER2 $|\\lambda_{\\max}(A)|=0.8$\n",
    "    - No actuators\n",
    "    - State-MPL noise with matrix-split ER1\n",
    "    - Initial state covariance - 10*identity\n",
    "- Model C (True System)\n",
    "    - ER1 $|\\lambda_{\\max}(A)|=0.8$\n",
    "    - No actuators\n",
    "    - State-MPL noise - ER3\n",
    "    - Initial state covariance - 10*identity\n",
    "\n",
    "[Model List](#Model-list)"
   ]
  },
  {
   "cell_type": "code",
   "execution_count": 23,
   "id": "531aba0d-c39e-455c-b38e-d0467225ac35",
   "metadata": {
    "jupyter": {
     "source_hidden": true
    },
    "tags": []
   },
   "outputs": [
    {
     "name": "stdout",
     "output_type": "stream",
     "text": [
      "Control input matrix not given - assumed no controller\n",
      "Control noise matrix not specified - assumed 0\n",
      "Initial state vector specified\n",
      "System saved to file @ system_model/System Model 9 A.pickle \n",
      "\n",
      "Control input matrix not given - assumed no controller\n",
      "Control noise matrix not specified - assumed 0\n",
      "Initial state vector specified\n",
      "System saved to file @ system_model/System Model 9 B.pickle \n",
      "\n",
      "Control input matrix not given - assumed no controller\n",
      "Control noise matrix not specified - assumed 0\n",
      "Initial state vector specified\n",
      "System saved to file @ system_model/System Model 9 C.pickle \n",
      "\n"
     ]
    }
   ],
   "source": [
    "nx = 8\n",
    "p = 0.4\n",
    "# cycle = create_graph(nx, type='cycle')\n",
    "# path = create_graph(nx, type='path')\n",
    "ER1 = create_graph(nx, type='ER', p=p)\n",
    "ER2 = create_graph(nx, type='ER', p=p)\n",
    "ER3 = create_graph(nx, type='ER', p=p)\n",
    "\n",
    "rho = 0.8\n",
    "\n",
    "alphai = [0.3]\n",
    "X0 = 10*np.ones(nx)\n",
    "\n",
    "S = system_package(A_in=rho*ER2['A'], X0_in=X0, alphai_in=alphai, Ai_in=ER1['Adj'], label_in='System Model 9 A')\n",
    "if system_check(S)['check']:\n",
    "    sys_to_file(S)\n",
    "else:\n",
    "    print('System Error')\n",
    "    error_list.append('System Model 9 A')\n",
    "\n",
    "Ai_2 = matrix_splitter(np.abs(ER1['Adj']))\n",
    "alphai_2 = alphai*np.ones(np.shape(Ai_2)[0])\n",
    "\n",
    "S = system_package(A_in=rho*ER2['A'], alphai_in=alphai_2, Ai_in=Ai_2, X0_in=X0, label_in='System Model 9 B')\n",
    "if system_check(S)['check']:\n",
    "    sys_to_file(S)\n",
    "else:\n",
    "    print('System Error')\n",
    "    error_list.append('System Model 9 B')\n",
    "\n",
    "S = system_package(A_in=rho*ER1['A'], X0_in=X0, alphai_in=alphai, Ai_in=ER3['Adj'], label_in='System Model 9 C')\n",
    "if system_check(S)['check']:\n",
    "    sys_to_file(S)\n",
    "else:\n",
    "    print('System Error')\n",
    "    error_list.append('System Model 9 C')"
   ]
  },
  {
   "cell_type": "markdown",
   "id": "d640b636-0531-4a3f-a4bd-7b45d714ebe1",
   "metadata": {},
   "source": [
    "***"
   ]
  },
  {
   "cell_type": "markdown",
   "id": "4a765b96-55f7-49b1-ad8d-e34402e3e0c9",
   "metadata": {
    "tags": []
   },
   "source": [
    "### System Model 10 A/B/C\n",
    "\n",
    "ER Networks - control using nominal vs mpl models\n",
    "\n",
    "- Model A (Nominal)\n",
    "    - ER2 $|\\lambda_{\\max}(A)|=0.8$\n",
    "    - No actuators\n",
    "    - No MPL noise\n",
    "    - Initial state covariance - 10*identity\n",
    "- Model B (MPL System)\n",
    "    - ER2 $|\\lambda_{\\max}(A)|=0.8$\n",
    "    - No actuators\n",
    "    - State-MPL noise matrices partially estimating ER1 links not in ER2\n",
    "    - Initial state covariance - 10*identity\n",
    "- Model C (True System)\n",
    "    - ER1 $|\\lambda_{\\max}(A)|=0.8$\n",
    "    - No actuators\n",
    "    - State-MPL noise - ER3\n",
    "    - Initial state covariance - 10*identity\n",
    "\n",
    "[Model List](#Model-list)"
   ]
  },
  {
   "cell_type": "code",
   "execution_count": 24,
   "id": "c39d9529-41c0-4a73-afb7-e61c0eab365d",
   "metadata": {
    "jupyter": {
     "source_hidden": true
    },
    "tags": []
   },
   "outputs": [
    {
     "name": "stdout",
     "output_type": "stream",
     "text": [
      "Control input matrix not given - assumed no controller\n",
      "Actuator noise matrix not specified - assumed 0\n",
      "Control noise matrix not specified - assumed 0\n",
      "Initial state vector specified\n",
      "System saved to file @ system_model/System Model 10 A.pickle \n",
      "\n",
      "Control input matrix not given - assumed no controller\n",
      "Control noise matrix not specified - assumed 0\n",
      "Initial state vector specified\n",
      "System saved to file @ system_model/System Model 10 B.pickle \n",
      "\n",
      "Control input matrix not given - assumed no controller\n",
      "Control noise matrix not specified - assumed 0\n",
      "Initial state vector specified\n",
      "System saved to file @ system_model/System Model 10 C.pickle \n",
      "\n"
     ]
    }
   ],
   "source": [
    "nx = 10\n",
    "p = 0.3\n",
    "# cycle = create_graph(nx, type='cycle')\n",
    "# path = create_graph(nx, type='path')\n",
    "ER1 = create_graph(nx, type='ER', p=p)\n",
    "ER2 = create_graph(nx, type='ER', p=p)\n",
    "ER3 = create_graph(nx, type='ER', p=p)\n",
    "\n",
    "rho = 0.8\n",
    "\n",
    "alphai = [0.1]\n",
    "X0 = 10*np.ones(nx)\n",
    "\n",
    "S = system_package(A_in=rho*ER2['A'], X0_in=X0, label_in='System Model 10 A')\n",
    "if system_check(S)['check']:\n",
    "    sys_to_file(S)\n",
    "else:\n",
    "    print('System Error')\n",
    "    error_list.append('System Model 10 A')\n",
    "    \n",
    "\n",
    "Ai_2 = ER1['Adj']- ER2['Adj']\n",
    "Ai_2 = np.where(Ai_2 > 0, Ai_2, 0)\n",
    "Ai_2 = matrix_splitter(Ai_2)\n",
    "alphai_2 = alphai*np.ones(np.shape(Ai_2)[0])\n",
    "\n",
    "S = system_package(A_in=rho*ER2['A'], alphai_in=alphai_2, Ai_in=Ai_2, X0_in=X0, label_in='System Model 10 B')\n",
    "if system_check(S)['check']:\n",
    "    sys_to_file(S)\n",
    "else:\n",
    "    print('System Error')\n",
    "    error_list.append('System Model 10 B')\n",
    "\n",
    "S = system_package(A_in=rho*ER1['A'], X0_in=X0, alphai_in=alphai, Ai_in=ER3['Adj'], label_in='System Model 10 C')\n",
    "if system_check(S)['check']:\n",
    "    sys_to_file(S)\n",
    "else:\n",
    "    print('System Error')\n",
    "    error_list.append('System Model 10 C')"
   ]
  },
  {
   "cell_type": "markdown",
   "id": "58b7d06e-0e42-43a0-bf75-dab1be69ffcb",
   "metadata": {},
   "source": [
    "***"
   ]
  },
  {
   "cell_type": "markdown",
   "id": "aaaaffd7-93a0-456a-9a5b-bc7ff3d14bf8",
   "metadata": {
    "tags": []
   },
   "source": [
    "### System Model 11 A/B/C\n",
    "\n",
    "UPDATE FROM CODE\n",
    "\n",
    "ER Networks - control using nominal vs mpl models\n",
    "\n",
    "- Model A (Nominal)\n",
    "    - ER1 $|\\lambda_{\\max}(A)|=0.8$\n",
    "    - No actuators\n",
    "    - No MPL noise\n",
    "    - Initial state covariance - 10*identity\n",
    "- Model B (MPL System)\n",
    "    - ER1 $|\\lambda_{\\max}(A)|=0.8$\n",
    "    - No actuators\n",
    "    - Input MPL-noise covariance\n",
    "    - Initial state covariance - 10*identity\n",
    "- Model C (True System)\n",
    "    - ER1 $|\\lambda_{\\max}(A)|=0.8$\n",
    "    - No actuators\n",
    "    - Input MPL-noise covariance\n",
    "    - Initial state covariance - 10*identity\n",
    "\n",
    "[Model List](#Model-list)"
   ]
  },
  {
   "cell_type": "code",
   "execution_count": 31,
   "id": "c7dffa57-85e6-408c-af2b-cdc9ac0c40f2",
   "metadata": {
    "tags": []
   },
   "outputs": [
    {
     "name": "stdout",
     "output_type": "stream",
     "text": [
      "Control input matrix not given - assumed no controller\n",
      "Actuator noise matrix not specified - assumed 0\n",
      "Control noise matrix not specified - assumed 0\n",
      "Initial state vector specified\n",
      "System saved to file @ system_model/System Model 11 A.pickle \n",
      "\n",
      "Control input matrix not given - assumed no controller\n",
      "Actuator noise matrix not specified - assumed 0\n",
      "Initial state vector specified\n",
      "System saved to file @ system_model/System Model 11 B.pickle \n",
      "\n",
      "Control input matrix not given - assumed no controller\n",
      "Actuator noise matrix not specified - assumed 0\n",
      "Initial state vector specified\n",
      "System saved to file @ system_model/System Model 11 C.pickle \n",
      "\n"
     ]
    }
   ],
   "source": [
    "nx = 10\n",
    "p = 0.4\n",
    "\n",
    "ER1 = create_graph(nx, type='ER', p=p)\n",
    "# ER2 = create_graph(nx, type='ER', p=p)\n",
    "\n",
    "rho = 0.8\n",
    "\n",
    "alphai = [0.1]\n",
    "\n",
    "betaj = np.linspace(1, 5, nx)\n",
    "\n",
    "X0 = 20*np.identity(nx)\n",
    "X0_vec = np.random.default_rng().multivariate_normal(mean=np.zeros(nx), cov=X0)\n",
    "\n",
    "S = system_package(A_in=rho*ER1['A'], X0_in=X0_vec, label_in='System Model 11 A')\n",
    "if system_check(S)['check']:\n",
    "    sys_to_file(S)\n",
    "else:\n",
    "    print('System Error')\n",
    "    error_list.append('System Model 11 A')\n",
    "\n",
    "np.random.default_rng().shuffle(betaj)\n",
    "S = system_package(A_in=rho*ER1['A'], betaj_in=betaj, Bj_in=np.zeros((len(betaj), nx, nx)), X0_in=X0_vec, label_in='System Model 11 B')\n",
    "if system_check(S)['check']:\n",
    "    sys_to_file(S)\n",
    "else:\n",
    "    print('System Error')\n",
    "    error_list.append('System Model 11 B')\n",
    "\n",
    "np.random.default_rng().shuffle(betaj)\n",
    "S = system_package(A_in=rho*ER1['A'], betaj_in=betaj, Bj_in=np.zeros((len(betaj), nx, nx)), X0_in=X0_vec, label_in='System Model 11 C')\n",
    "if system_check(S)['check']:\n",
    "    sys_to_file(S)\n",
    "else:\n",
    "    print('System Error')\n",
    "    error_list.append('System Model 11 C')"
   ]
  },
  {
   "cell_type": "markdown",
   "id": "79e9a1fa-5aee-443b-ab27-bd6fd7377b0a",
   "metadata": {},
   "source": [
    "***"
   ]
  },
  {
   "cell_type": "markdown",
   "id": "83ca7c1f-8ab4-4871-9fa5-4953f6c229b4",
   "metadata": {
    "tags": []
   },
   "source": [
    "## Run Complete"
   ]
  },
  {
   "cell_type": "code",
   "execution_count": 27,
   "id": "ae766ce3-a600-45f8-b504-a6cbfece1313",
   "metadata": {
    "jupyter": {
     "source_hidden": true
    },
    "tags": []
   },
   "outputs": [
    {
     "name": "stdout",
     "output_type": "stream",
     "text": [
      "No save errors\n",
      "Model Save - Completed\n"
     ]
    }
   ],
   "source": [
    "if len(error_list) == 0:\n",
    "    print('No save errors')\n",
    "else:\n",
    "    print('Error system list:', error_list)\n",
    "\n",
    "print('Model Save - Completed')"
   ]
  }
 ],
 "metadata": {
  "kernelspec": {
   "display_name": "Python 3",
   "language": "python",
   "name": "python3"
  },
  "language_info": {
   "codemirror_mode": {
    "name": "ipython",
    "version": 3
   },
   "file_extension": ".py",
   "mimetype": "text/x-python",
   "name": "python",
   "nbconvert_exporter": "python",
   "pygments_lexer": "ipython3",
   "version": "3.9.6"
  }
 },
 "nbformat": 4,
 "nbformat_minor": 5
}
