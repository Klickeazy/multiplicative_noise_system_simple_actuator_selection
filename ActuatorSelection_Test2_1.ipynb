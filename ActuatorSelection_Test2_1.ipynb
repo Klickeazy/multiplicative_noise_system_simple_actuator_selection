{
 "cells": [
  {
   "cell_type": "markdown",
   "id": "9e99fa4b-617b-4b79-8611-bed47c87d00f",
   "metadata": {},
   "source": [
    "# Model - Actuator Selection - Comparison based on state-mpl bias\n",
    "Model A vs B testing"
   ]
  },
  {
   "cell_type": "markdown",
   "id": "44f38131-adfd-4bb9-b3c6-c11babbb9460",
   "metadata": {
    "tags": []
   },
   "source": [
    "##### Py Packages"
   ]
  },
  {
   "cell_type": "code",
   "execution_count": null,
   "id": "c0bab3cb-840a-40e6-85f2-adcf47440ee4",
   "metadata": {
    "tags": []
   },
   "outputs": [],
   "source": [
    "import numpy as np\n",
    "from copy import deepcopy as dc\n",
    "\n",
    "from functionfile_system_definition import sys_from_file, system_display_matrix\n",
    "from functionfile_system_mplcost import cost_function_1, initial_values_init, actuator_selection_cost_1, plot_actuator_selection_1, simulation_actuator_selection, plot_simulation"
   ]
  },
  {
   "cell_type": "markdown",
   "id": "9ed13d90-42eb-4647-8a22-899d9dca3708",
   "metadata": {
    "tags": []
   },
   "source": [
    "## Code"
   ]
  },
  {
   "cell_type": "code",
   "execution_count": null,
   "id": "0be0249e-179a-44cb-9fb7-513d232b5a66",
   "metadata": {},
   "outputs": [],
   "source": [
    "sys_model = 'System Model 3' # Comparing A and B"
   ]
  },
  {
   "cell_type": "markdown",
   "id": "fabde72d-e81e-4226-9a44-0aa07d964448",
   "metadata": {
    "tags": []
   },
   "source": [
    "***\n",
    "### Model A"
   ]
  },
  {
   "cell_type": "markdown",
   "id": "b1c56793-343a-495b-a39c-7729e7657691",
   "metadata": {
    "jp-MarkdownHeadingCollapsed": true,
    "tags": []
   },
   "source": [
    "##### Code"
   ]
  },
  {
   "cell_type": "code",
   "execution_count": null,
   "id": "4117eefe-4195-45d6-9092-2c5070edc55b",
   "metadata": {
    "tags": []
   },
   "outputs": [],
   "source": [
    "S_A = sys_from_file(sys_model+'A')\n",
    "initial_values = initial_values_init(S_A)"
   ]
  },
  {
   "cell_type": "code",
   "execution_count": null,
   "id": "98e3496b-714a-4bd4-a523-9787364af3f3",
   "metadata": {
    "tags": []
   },
   "outputs": [],
   "source": [
    "ret1_A = cost_function_1(S_A, initial_values=initial_values)\n",
    "# print(ret1_A)\n",
    "\n",
    "ret2_A = actuator_selection_cost_1(S_A)\n",
    "S1_A = ret2_A['system']\n",
    "# system_display_matrix(S1_A)\n",
    "\n",
    "B_A = np.pad(S1_A['B'], ((0,0),(1,0)), 'constant')\n",
    "if ret1_A['P_check'] != 0:\n",
    "    cost_A0 = np.nan\n",
    "else:\n",
    "    cost_A0 = ret1_A['J_trend'][-1]\n",
    "cost_A = np.insert(ret2_A['cost_trend'], 0, cost_A0, axis=0)\n",
    "time_A = np.insert(ret2_A['time_trend'], 0, ret1_A['t'], axis=0)\n",
    "check_A = np.insert(ret2_A['check_trend'], 0, ret1_A['P_check'], axis=0)\n",
    "\n",
    "# plot_actuator_selection_1(B_A, cost_A, time_A, check_A, S1_A['label'])\n",
    "\n",
    "ret3_A = simulation_actuator_selection(S1_A, S1_A)\n",
    "# print(ret3)\n",
    "# print('cost_A change with |S|:\\n')\n",
    "# for i in ret3_A['costs']:\n",
    "#     print('|S|:',i, ' => ', ret3_A['costs'][i][-1])\n",
    "# plot_simulation(ret3_A, fname=S1_A['label'])"
   ]
  },
  {
   "cell_type": "markdown",
   "id": "3b3da282-1564-4df7-a200-49708b59658d",
   "metadata": {},
   "source": [
    "##### Output"
   ]
  },
  {
   "cell_type": "code",
   "execution_count": null,
   "id": "9001beae-0b94-48eb-9c91-83382515f016",
   "metadata": {},
   "outputs": [],
   "source": [
    "system_display_matrix(S1_A)\n",
    "plot_actuator_selection_1(B_A, cost_A, time_A, check_A, S1_A['label'])\n",
    "print('cost_A change with |S|:\\n')\n",
    "for i in ret3_A['costs']:\n",
    "    print('|S|:',i, ' => ', ret3_A['costs'][i][-1])\n",
    "plot_simulation(ret3_A, fname=S1_A['label'])"
   ]
  },
  {
   "cell_type": "markdown",
   "id": "da75f119-5c03-40c9-9b47-3d852b537529",
   "metadata": {},
   "source": [
    "***\n",
    "### Model B"
   ]
  },
  {
   "cell_type": "markdown",
   "id": "5a1c0cc4-80fa-4f22-b614-d7875cd6f838",
   "metadata": {
    "jp-MarkdownHeadingCollapsed": true,
    "tags": []
   },
   "source": [
    "##### Code"
   ]
  },
  {
   "cell_type": "code",
   "execution_count": null,
   "id": "464dbfbf-ef0c-4f45-bcbe-e1a7a66fc51c",
   "metadata": {
    "tags": []
   },
   "outputs": [],
   "source": [
    "S_B = sys_from_file(sys_model+'B')\n",
    "initial_values = initial_values_init(S_B)"
   ]
  },
  {
   "cell_type": "code",
   "execution_count": null,
   "id": "9bf7a847-7183-4d2b-877a-bedca1650fe2",
   "metadata": {
    "tags": []
   },
   "outputs": [],
   "source": [
    "ret1_B = cost_function_1(S_B, initial_values=initial_values)\n",
    "# print(ret1_B)\n",
    "\n",
    "ret2_B = actuator_selection_cost_1(S_B)\n",
    "S1_B = ret2_B['system']\n",
    "# system_display_matrix(S1_B)\n",
    "\n",
    "B_B = np.pad(S1_B['B'], ((0,0),(1,0)), 'constant')\n",
    "if ret1_B['P_check'] != 0:\n",
    "    cost_B0 = np.nan\n",
    "else:\n",
    "    cost_B0 = ret1_B['J_trend'][-1]\n",
    "cost_B = np.insert(ret2_B['cost_trend'], 0, cost_B0, axis=0)\n",
    "time_B = np.insert(ret2_B['time_trend'], 0, ret1_B['t'], axis=0)\n",
    "check_B = np.insert(ret2_B['check_trend'], 0, ret1_B['P_check'], axis=0)\n",
    "\n",
    "# plot_actuator_selection_1(B_B, cost_B, time_B, check_B, S1_B['label'])\n",
    "\n",
    "ret3_B = simulation_actuator_selection(S1_B, S1_B)\n",
    "# print(ret3)\n",
    "# print('cost_B change with |S|:\\n')\n",
    "# for i in ret3_B['costs']:\n",
    "#     print('|S|:',i, ' => ', ret3_B['costs'][i][-1])\n",
    "# plot_simulation(ret3_B, fname=S1_B['label'])"
   ]
  },
  {
   "cell_type": "markdown",
   "id": "5051aa56-81a8-4c5b-b3f7-f50f75884020",
   "metadata": {},
   "source": [
    "##### Output"
   ]
  },
  {
   "cell_type": "code",
   "execution_count": null,
   "id": "57832881-e3b3-48f7-8ba4-de82de5e762d",
   "metadata": {},
   "outputs": [],
   "source": [
    "system_display_matrix(S1_B)\n",
    "plot_actuator_selection_1(B_B, cost_B, time_B, check_B, S1_B['label'])\n",
    "print('cost_B change with |S|:\\n')\n",
    "for i in ret3_B['costs']:\n",
    "    print('|S|:',i, ' => ', ret3_B['costs'][i][-1])\n",
    "plot_simulation(ret3_B, fname=S1_B['label'])"
   ]
  }
 ],
 "metadata": {
  "kernelspec": {
   "display_name": "Python 3",
   "language": "python",
   "name": "python3"
  },
  "language_info": {
   "codemirror_mode": {
    "name": "ipython",
    "version": 3
   },
   "file_extension": ".py",
   "mimetype": "text/x-python",
   "name": "python",
   "nbconvert_exporter": "python",
   "pygments_lexer": "ipython3",
   "version": "3.9.6"
  }
 },
 "nbformat": 4,
 "nbformat_minor": 5
}
